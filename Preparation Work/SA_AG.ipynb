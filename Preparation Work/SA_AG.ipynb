{
 "cells": [
  {
   "cell_type": "markdown",
   "id": "35129e2f-3089-46f6-885c-e0c8d6a98c79",
   "metadata": {},
   "source": [
    "# Population, Agricultural Production, and the Green Revolution\n",
    "### *This file contains all data cleaning and visualisations for agriculutral production in South Asia*\n",
    "\n",
    "**South Asian countries:** Bangladesh, Bhutan, India, Maldives, Nepal, Pakistan, Sri Lanka"
   ]
  },
  {
   "cell_type": "code",
   "execution_count": 1,
   "id": "332e6a91-745e-4e92-a88b-bc4de4c219e9",
   "metadata": {
    "collapsed": true,
    "jupyter": {
     "outputs_hidden": true
    }
   },
   "outputs": [
    {
     "name": "stdout",
     "output_type": "stream",
     "text": [
      "Collecting wbdata\n",
      "  Using cached wbdata-1.0.0-py3-none-any.whl.metadata (2.6 kB)\n",
      "Collecting appdirs<2.0,>=1.4 (from wbdata)\n",
      "  Using cached appdirs-1.4.4-py2.py3-none-any.whl.metadata (9.0 kB)\n",
      "Collecting backoff<3.0.0,>=2.2.1 (from wbdata)\n",
      "  Using cached backoff-2.2.1-py3-none-any.whl.metadata (14 kB)\n",
      "Requirement already satisfied: cachetools<6.0.0,>=5.3.2 in /srv/conda/lib/python3.11/site-packages (from wbdata) (5.5.1)\n",
      "Collecting dateparser<2.0.0,>=1.2.0 (from wbdata)\n",
      "  Using cached dateparser-1.2.0-py2.py3-none-any.whl.metadata (28 kB)\n",
      "Requirement already satisfied: decorator<6.0.0,>=5.1.1 in /srv/conda/lib/python3.11/site-packages (from wbdata) (5.1.1)\n",
      "Requirement already satisfied: requests<3.0,>=2.0 in /srv/conda/lib/python3.11/site-packages (from wbdata) (2.32.3)\n",
      "Collecting shelved-cache<0.4.0,>=0.3.1 (from wbdata)\n",
      "  Using cached shelved_cache-0.3.1-py3-none-any.whl.metadata (4.7 kB)\n",
      "Collecting tabulate<0.9.0,>=0.8.5 (from wbdata)\n",
      "  Using cached tabulate-0.8.10-py3-none-any.whl.metadata (25 kB)\n",
      "Requirement already satisfied: python-dateutil in /srv/conda/lib/python3.11/site-packages (from dateparser<2.0.0,>=1.2.0->wbdata) (2.9.0.post0)\n",
      "Requirement already satisfied: pytz in /srv/conda/lib/python3.11/site-packages (from dateparser<2.0.0,>=1.2.0->wbdata) (2024.1)\n",
      "Requirement already satisfied: regex!=2019.02.19,!=2021.8.27 in /srv/conda/lib/python3.11/site-packages (from dateparser<2.0.0,>=1.2.0->wbdata) (2024.11.6)\n",
      "Collecting tzlocal (from dateparser<2.0.0,>=1.2.0->wbdata)\n",
      "  Using cached tzlocal-5.2-py3-none-any.whl.metadata (7.8 kB)\n",
      "Requirement already satisfied: charset_normalizer<4,>=2 in /srv/conda/lib/python3.11/site-packages (from requests<3.0,>=2.0->wbdata) (3.4.0)\n",
      "Requirement already satisfied: idna<4,>=2.5 in /srv/conda/lib/python3.11/site-packages (from requests<3.0,>=2.0->wbdata) (3.10)\n",
      "Requirement already satisfied: urllib3<3,>=1.21.1 in /srv/conda/lib/python3.11/site-packages (from requests<3.0,>=2.0->wbdata) (2.3.0)\n",
      "Requirement already satisfied: certifi>=2017.4.17 in /srv/conda/lib/python3.11/site-packages (from requests<3.0,>=2.0->wbdata) (2024.12.14)\n",
      "Requirement already satisfied: six>=1.5 in /srv/conda/lib/python3.11/site-packages (from python-dateutil->dateparser<2.0.0,>=1.2.0->wbdata) (1.17.0)\n",
      "Using cached wbdata-1.0.0-py3-none-any.whl (18 kB)\n",
      "Using cached appdirs-1.4.4-py2.py3-none-any.whl (9.6 kB)\n",
      "Using cached backoff-2.2.1-py3-none-any.whl (15 kB)\n",
      "Using cached dateparser-1.2.0-py2.py3-none-any.whl (294 kB)\n",
      "Using cached shelved_cache-0.3.1-py3-none-any.whl (7.8 kB)\n",
      "Using cached tabulate-0.8.10-py3-none-any.whl (29 kB)\n",
      "Using cached tzlocal-5.2-py3-none-any.whl (17 kB)\n",
      "Installing collected packages: appdirs, tzlocal, tabulate, shelved-cache, backoff, dateparser, wbdata\n",
      "Successfully installed appdirs-1.4.4 backoff-2.2.1 dateparser-1.2.0 shelved-cache-0.3.1 tabulate-0.8.10 tzlocal-5.2 wbdata-1.0.0\n",
      "Note: you may need to restart the kernel to use updated packages.\n"
     ]
    },
    {
     "name": "stderr",
     "output_type": "stream",
     "text": [
      "Key '-8551624839639902780' not in persistent cache.\n",
      "Key '-1342264069138248685' not in persistent cache.\n",
      "Key '8300603334170868901' not in persistent cache.\n",
      "Key '4798972857496365594' not in persistent cache.\n",
      "Key '5416133053844435203' not in persistent cache.\n",
      "Key '-4563025058676194049' not in persistent cache.\n",
      "Key '3951291392009506186' not in persistent cache.\n",
      "Key '-8089984832763166605' not in persistent cache.\n",
      "Key '2914012134343638985' not in persistent cache.\n",
      "Key '-5247375042296256187' not in persistent cache.\n",
      "Key '6184620909564606516' not in persistent cache.\n",
      "Key '-7020138423947866392' not in persistent cache.\n",
      "Key '4660318267239913049' not in persistent cache.\n",
      "Key '-3501068909399982123' not in persistent cache.\n",
      "Key '1190294193515034193' not in persistent cache.\n",
      "Key '2611850866069099732' not in persistent cache.\n",
      "Key '-6735022963556306491' not in persistent cache.\n",
      "Key '-915108908017872824' not in persistent cache.\n",
      "Key '2349723193980685482' not in persistent cache.\n",
      "Key '-8887660109227212039' not in persistent cache.\n",
      "Key '755207294081905547' not in persistent cache.\n",
      "Key '1651934200391770368' not in persistent cache.\n",
      "Key '4916766302390328674' not in persistent cache.\n",
      "Key '6338322974944394213' not in persistent cache.\n",
      "Key '804252734904910960' not in persistent cache.\n",
      "Key '2811363200857421657' not in persistent cache.\n",
      "Key '-4631383905745324369' not in persistent cache.\n",
      "Key '-5746741793750362716' not in persistent cache.\n",
      "Key '8586588262692702746' not in persistent cache.\n",
      "Key '-4618171070819770162' not in persistent cache.\n",
      "Key '16256331733152454' not in persistent cache.\n",
      "Key '-1099101556271885893' not in persistent cache.\n",
      "Key '-7852125124976094530' not in persistent cache.\n",
      "Key '5013818219197195962' not in persistent cache.\n",
      "Key '-4333055610428210261' not in persistent cache.\n",
      "Key '1486858445110223406' not in persistent cache.\n",
      "Key '4751690547108781712' not in persistent cache.\n",
      "Key '-6485692756099115809' not in persistent cache.\n",
      "Key '3157174647210001777' not in persistent cache.\n",
      "Key '4053901553519866598' not in persistent cache.\n",
      "Key '272704366883568079' not in persistent cache.\n",
      "Key '8740290328072490443' not in persistent cache.\n",
      "Key '3206220088033007190' not in persistent cache.\n",
      "Key '5213330553985517887' not in persistent cache.\n",
      "Key '-2229416552617228139' not in persistent cache.\n",
      "Key '8055940344452428305' not in persistent cache.\n",
      "Key '3701074300319228718' not in persistent cache.\n",
      "Key '8943059040516307426' not in persistent cache.\n",
      "Key '2176771657994535251' not in persistent cache.\n",
      "Key '-5984615518645359921' not in persistent cache.\n",
      "Key '-5691609798714711733' not in persistent cache.\n",
      "Key '128304256823721934' not in persistent cache.\n",
      "Key '-2172540284166827464' not in persistent cache.\n",
      "Key '3647373771371606203' not in persistent cache.\n",
      "Key '-133823415264692316' not in persistent cache.\n",
      "Key '7075537355236961779' not in persistent cache.\n",
      "Key '5317689973471384574' not in persistent cache.\n",
      "Key '-5229969791837975558' not in persistent cache.\n",
      "Key '2433219693144950876' not in persistent cache.\n",
      "Key '3854776365699016415' not in persistent cache.\n",
      "Key '-6077651257324834966' not in persistent cache.\n",
      "Key '7373845880246900684' not in persistent cache.\n",
      "Key '-68901226355845342' not in persistent cache.\n",
      "Key '-8230288402995740514' not in persistent cache.\n",
      "Key '3749682792050996668' not in persistent cache.\n",
      "Key '8991667532248075376' not in persistent cache.\n",
      "Key '-4820649138908553624' not in persistent cache.\n",
      "Key '-5936007026913591971' not in persistent cache.\n",
      "Key '5757713478091751008' not in persistent cache.\n",
      "Key '176912748555489884' not in persistent cache.\n",
      "Key '-9169961081069916339' not in persistent cache.\n",
      "Key '-3350047025531482672' not in persistent cache.\n",
      "Key '-85214923532924366' not in persistent cache.\n",
      "Key '7124145846968729729' not in persistent cache.\n",
      "Key '-1679730823431704301' not in persistent cache.\n",
      "Key '-783003917121839480' not in persistent cache.\n",
      "Key '-4564201103758137999' not in persistent cache.\n",
      "Key '-3142644431204072460' not in persistent cache.\n",
      "Key '-1630685382608698888' not in persistent cache.\n",
      "Key '376425083343811809' not in persistent cache.\n",
      "Key '-7066322023258934217' not in persistent cache.\n",
      "Key '3219034873810722227' not in persistent cache.\n",
      "Key '8242666736344002115' not in persistent cache.\n",
      "Key '-4962092597168470793' not in persistent cache.\n",
      "Key '-327665194615548177' not in persistent cache.\n",
      "Key '-8489052371255443349' not in persistent cache.\n",
      "Key '-8196046651324795161' not in persistent cache.\n",
      "Key '-2376132595786361494' not in persistent cache.\n",
      "Key '-4676977136776910892' not in persistent cache.\n",
      "Key '1142936918761522775' not in persistent cache.\n",
      "Key '4407769020760081081' not in persistent cache.\n",
      "Key '4571100502626878351' not in persistent cache.\n",
      "Key '2813253120861301146' not in persistent cache.\n",
      "Key '-3336049261463690858' not in persistent cache.\n",
      "Key '-71217159465132552' not in persistent cache.\n",
      "Key '1350339513088932987' not in persistent cache.\n",
      "Key '2862298561684306559' not in persistent cache.\n",
      "Key '4869409027636817256' not in persistent cache.\n",
      "Key '-2573338078965928770' not in persistent cache.\n",
      "Key '7712018818103727674' not in persistent cache.\n",
      "Key '-4971507029668551729' not in persistent cache.\n",
      "Key '-6822190235317244139' not in persistent cache.\n",
      "Key '-8131205490803625673' not in persistent cache.\n",
      "Key '-2641805835168236893' not in persistent cache.\n",
      "Key '2600178905028841815' not in persistent cache.\n",
      "Key '-6935549143136545454' not in persistent cache.\n",
      "Key '1124888184973507767' not in persistent cache.\n",
      "Key '6366872925170586475' not in persistent cache.\n",
      "Key '-399414457351185700' not in persistent cache.\n",
      "Key '-8560801633991080872' not in persistent cache.\n",
      "Key '-8267795914060432684' not in persistent cache.\n",
      "Key '-6846239241506367145' not in persistent cache.\n",
      "Key '6651988385562146376' not in persistent cache.\n",
      "Key '-3327169726958482876' not in persistent cache.\n",
      "Key '-2710009530610413267' not in persistent cache.\n",
      "Key '100993856906872700' not in persistent cache.\n",
      "Key '2741503858125663623' not in persistent cache.\n",
      "Key '-7806155907183696509' not in persistent cache.\n",
      "Key '-4541323805185138203' not in persistent cache.\n",
      "Key '1278590250353295464' not in persistent cache.\n",
      "Key '-8653837372670555917' not in persistent cache.\n",
      "Key '-2248369523733677092' not in persistent cache.\n",
      "Key '-7043444724685934421' not in persistent cache.\n",
      "Key '3241912172383722023' not in persistent cache.\n",
      "Key '-651761799608186528' not in persistent cache.\n",
      "Key '-6810491844485802611' not in persistent cache.\n",
      "Key '-2176064441932879995' not in persistent cache.\n",
      "Key '8109292455136776449' not in persistent cache.\n",
      "Key '8402298175067424637' not in persistent cache.\n",
      "Key '-4224531843103693312' not in persistent cache.\n",
      "Key '-6525376384094242710' not in persistent cache.\n",
      "Key '-705462328555809043' not in persistent cache.\n",
      "Key '-4486659515192107562' not in persistent cache.\n",
      "Key '2722701255309546533' not in persistent cache.\n",
      "Key '964853873543969328' not in persistent cache.\n",
      "Key '-5184448508781022676' not in persistent cache.\n",
      "Key '-1919616406782464370' not in persistent cache.\n",
      "Key '-498059734228398831' not in persistent cache.\n",
      "Key '-6032129974267882084' not in persistent cache.\n",
      "Key '3021009780319485438' not in persistent cache.\n",
      "Key '-4421737326283260588' not in persistent cache.\n",
      "Key '5863619570786395856' not in persistent cache.\n",
      "Key '1860667990146196223' not in persistent cache.\n",
      "Key '-6945733960381908557' not in persistent cache.\n",
      "Key '336365347821502756' not in persistent cache.\n",
      "Key '-3426664445834024288' not in persistent cache.\n",
      "Key '-3133658725903376100' not in persistent cache.\n",
      "Key '-1712102053349310561' not in persistent cache.\n",
      "Key '-6660618499990348656' not in persistent cache.\n",
      "Key '1806967461198573708' not in persistent cache.\n",
      "Key '-1974229725437724811' not in persistent cache.\n",
      "Key '5235131045063929284' not in persistent cache.\n",
      "Key '7875641046282720207' not in persistent cache.\n",
      "Key '-2672018719026639925' not in persistent cache.\n",
      "Key '592813382971918381' not in persistent cache.\n",
      "Key '6412727438510352048' not in persistent cache.\n",
      "Key '-3519700184513499333' not in persistent cache.\n",
      "Key '2885767664423379492' not in persistent cache.\n",
      "Key '-1909307536528877837' not in persistent cache.\n",
      "Key '8376049360540778607' not in persistent cache.\n",
      "Key '-6504659392952343258' not in persistent cache.\n",
      "Key '3135682730229103578' not in persistent cache.\n",
      "Key '7770110132782026194' not in persistent cache.\n",
      "Key '6654752244776987847' not in persistent cache.\n",
      "Key '-98271323927220790' not in persistent cache.\n",
      "Key '8369314637261701574' not in persistent cache.\n",
      "Key '3420798190620663479' not in persistent cache.\n",
      "Key '4842354863174729018' not in persistent cache.\n",
      "Key '-5941199725551896164' not in persistent cache.\n",
      "Key '-3130196338034610197' not in persistent cache.\n",
      "Key '-8551624839639902780' not in persistent cache.\n",
      "Key '-1342264069138248685' not in persistent cache.\n",
      "Key '8300603334170868901' not in persistent cache.\n",
      "Key '4798972857496365594' not in persistent cache.\n",
      "Key '5416133053844435203' not in persistent cache.\n",
      "Key '-4563025058676194049' not in persistent cache.\n",
      "Key '3951291392009506186' not in persistent cache.\n",
      "Key '-8089984832763166605' not in persistent cache.\n",
      "Key '2914012134343638985' not in persistent cache.\n",
      "Key '-5247375042296256187' not in persistent cache.\n",
      "Key '6184620909564606516' not in persistent cache.\n",
      "Key '-7020138423947866392' not in persistent cache.\n",
      "Key '4660318267239913049' not in persistent cache.\n",
      "Key '-3501068909399982123' not in persistent cache.\n",
      "Key '1190294193515034193' not in persistent cache.\n",
      "Key '2611850866069099732' not in persistent cache.\n",
      "Key '-6735022963556306491' not in persistent cache.\n",
      "Key '-915108908017872824' not in persistent cache.\n",
      "Key '2349723193980685482' not in persistent cache.\n",
      "Key '-8887660109227212039' not in persistent cache.\n",
      "Key '755207294081905547' not in persistent cache.\n",
      "Key '1651934200391770368' not in persistent cache.\n",
      "Key '4916766302390328674' not in persistent cache.\n",
      "Key '6338322974944394213' not in persistent cache.\n",
      "Key '804252734904910960' not in persistent cache.\n",
      "Key '2811363200857421657' not in persistent cache.\n",
      "Key '-4631383905745324369' not in persistent cache.\n",
      "Key '-5746741793750362716' not in persistent cache.\n",
      "Key '8586588262692702746' not in persistent cache.\n",
      "Key '-4618171070819770162' not in persistent cache.\n",
      "Key '16256331733152454' not in persistent cache.\n",
      "Key '-1099101556271885893' not in persistent cache.\n",
      "Key '-7852125124976094530' not in persistent cache.\n",
      "Key '5013818219197195962' not in persistent cache.\n",
      "Key '-4333055610428210261' not in persistent cache.\n",
      "Key '1486858445110223406' not in persistent cache.\n",
      "Key '4751690547108781712' not in persistent cache.\n",
      "Key '-6485692756099115809' not in persistent cache.\n",
      "Key '3157174647210001777' not in persistent cache.\n",
      "Key '4053901553519866598' not in persistent cache.\n",
      "Key '272704366883568079' not in persistent cache.\n",
      "Key '8740290328072490443' not in persistent cache.\n",
      "Key '3206220088033007190' not in persistent cache.\n",
      "Key '5213330553985517887' not in persistent cache.\n",
      "Key '-2229416552617228139' not in persistent cache.\n",
      "Key '8055940344452428305' not in persistent cache.\n",
      "Key '3701074300319228718' not in persistent cache.\n",
      "Key '8943059040516307426' not in persistent cache.\n",
      "Key '2176771657994535251' not in persistent cache.\n",
      "Key '-5984615518645359921' not in persistent cache.\n",
      "Key '-5691609798714711733' not in persistent cache.\n",
      "Key '128304256823721934' not in persistent cache.\n",
      "Key '-2172540284166827464' not in persistent cache.\n",
      "Key '3647373771371606203' not in persistent cache.\n",
      "Key '-133823415264692316' not in persistent cache.\n",
      "Key '7075537355236961779' not in persistent cache.\n",
      "Key '5317689973471384574' not in persistent cache.\n",
      "Key '-5229969791837975558' not in persistent cache.\n",
      "Key '2433219693144950876' not in persistent cache.\n",
      "Key '3854776365699016415' not in persistent cache.\n",
      "Key '-6077651257324834966' not in persistent cache.\n",
      "Key '7373845880246900684' not in persistent cache.\n",
      "Key '-68901226355845342' not in persistent cache.\n",
      "Key '-8230288402995740514' not in persistent cache.\n",
      "Key '3749682792050996668' not in persistent cache.\n",
      "Key '8991667532248075376' not in persistent cache.\n",
      "Key '-4820649138908553624' not in persistent cache.\n",
      "Key '-5936007026913591971' not in persistent cache.\n",
      "Key '5757713478091751008' not in persistent cache.\n",
      "Key '176912748555489884' not in persistent cache.\n",
      "Key '-9169961081069916339' not in persistent cache.\n",
      "Key '-3350047025531482672' not in persistent cache.\n",
      "Key '-85214923532924366' not in persistent cache.\n",
      "Key '7124145846968729729' not in persistent cache.\n",
      "Key '-1679730823431704301' not in persistent cache.\n",
      "Key '-783003917121839480' not in persistent cache.\n",
      "Key '-4564201103758137999' not in persistent cache.\n",
      "Key '-3142644431204072460' not in persistent cache.\n",
      "Key '-1630685382608698888' not in persistent cache.\n",
      "Key '376425083343811809' not in persistent cache.\n",
      "Key '-7066322023258934217' not in persistent cache.\n",
      "Key '3219034873810722227' not in persistent cache.\n",
      "Key '8242666736344002115' not in persistent cache.\n",
      "Key '-4962092597168470793' not in persistent cache.\n",
      "Key '-327665194615548177' not in persistent cache.\n",
      "Key '-8489052371255443349' not in persistent cache.\n",
      "Key '-8196046651324795161' not in persistent cache.\n",
      "Key '-2376132595786361494' not in persistent cache.\n",
      "Key '-4676977136776910892' not in persistent cache.\n",
      "Key '1142936918761522775' not in persistent cache.\n",
      "Key '4407769020760081081' not in persistent cache.\n",
      "Key '4571100502626878351' not in persistent cache.\n",
      "Key '2813253120861301146' not in persistent cache.\n",
      "Key '-3336049261463690858' not in persistent cache.\n",
      "Key '-71217159465132552' not in persistent cache.\n",
      "Key '1350339513088932987' not in persistent cache.\n",
      "Key '2862298561684306559' not in persistent cache.\n",
      "Key '4869409027636817256' not in persistent cache.\n",
      "Key '-2573338078965928770' not in persistent cache.\n",
      "Key '7712018818103727674' not in persistent cache.\n",
      "Key '-4971507029668551729' not in persistent cache.\n",
      "Key '-6822190235317244139' not in persistent cache.\n",
      "Key '-8131205490803625673' not in persistent cache.\n",
      "Key '-2641805835168236893' not in persistent cache.\n",
      "Key '2600178905028841815' not in persistent cache.\n",
      "Key '-6935549143136545454' not in persistent cache.\n",
      "Key '1124888184973507767' not in persistent cache.\n",
      "Key '6366872925170586475' not in persistent cache.\n",
      "Key '-399414457351185700' not in persistent cache.\n",
      "Key '-8560801633991080872' not in persistent cache.\n",
      "Key '-8267795914060432684' not in persistent cache.\n",
      "Key '-6846239241506367145' not in persistent cache.\n",
      "Key '6651988385562146376' not in persistent cache.\n",
      "Key '-3327169726958482876' not in persistent cache.\n",
      "Key '-2710009530610413267' not in persistent cache.\n",
      "Key '100993856906872700' not in persistent cache.\n",
      "Key '2741503858125663623' not in persistent cache.\n",
      "Key '-7806155907183696509' not in persistent cache.\n",
      "Key '-4541323805185138203' not in persistent cache.\n",
      "Key '1278590250353295464' not in persistent cache.\n",
      "Key '-8653837372670555917' not in persistent cache.\n",
      "Key '-2248369523733677092' not in persistent cache.\n",
      "Key '-7043444724685934421' not in persistent cache.\n",
      "Key '3241912172383722023' not in persistent cache.\n",
      "Key '-651761799608186528' not in persistent cache.\n",
      "Key '-6810491844485802611' not in persistent cache.\n",
      "Key '-2176064441932879995' not in persistent cache.\n",
      "Key '8109292455136776449' not in persistent cache.\n",
      "Key '8402298175067424637' not in persistent cache.\n",
      "Key '-4224531843103693312' not in persistent cache.\n",
      "Key '-6525376384094242710' not in persistent cache.\n",
      "Key '-705462328555809043' not in persistent cache.\n",
      "Key '-4486659515192107562' not in persistent cache.\n",
      "Key '2722701255309546533' not in persistent cache.\n",
      "Key '964853873543969328' not in persistent cache.\n",
      "Key '-5184448508781022676' not in persistent cache.\n",
      "Key '-1919616406782464370' not in persistent cache.\n",
      "Key '-498059734228398831' not in persistent cache.\n",
      "Key '-6032129974267882084' not in persistent cache.\n",
      "Key '3021009780319485438' not in persistent cache.\n",
      "Key '-4421737326283260588' not in persistent cache.\n",
      "Key '5863619570786395856' not in persistent cache.\n",
      "Key '1860667990146196223' not in persistent cache.\n",
      "Key '-6945733960381908557' not in persistent cache.\n",
      "Key '336365347821502756' not in persistent cache.\n",
      "Key '-3426664445834024288' not in persistent cache.\n",
      "Key '-3133658725903376100' not in persistent cache.\n",
      "Key '-1712102053349310561' not in persistent cache.\n",
      "Key '-6660618499990348656' not in persistent cache.\n",
      "Key '1806967461198573708' not in persistent cache.\n",
      "Key '-1974229725437724811' not in persistent cache.\n",
      "Key '5235131045063929284' not in persistent cache.\n",
      "Key '7875641046282720207' not in persistent cache.\n",
      "Key '-2672018719026639925' not in persistent cache.\n",
      "Key '592813382971918381' not in persistent cache.\n",
      "Key '6412727438510352048' not in persistent cache.\n",
      "Key '-3519700184513499333' not in persistent cache.\n",
      "Key '2885767664423379492' not in persistent cache.\n",
      "Key '-1909307536528877837' not in persistent cache.\n",
      "Key '8376049360540778607' not in persistent cache.\n",
      "Key '-6504659392952343258' not in persistent cache.\n",
      "Key '3135682730229103578' not in persistent cache.\n",
      "Key '7770110132782026194' not in persistent cache.\n",
      "Key '6654752244776987847' not in persistent cache.\n",
      "Key '-98271323927220790' not in persistent cache.\n",
      "Key '8369314637261701574' not in persistent cache.\n",
      "Key '3420798190620663479' not in persistent cache.\n",
      "Key '4842354863174729018' not in persistent cache.\n",
      "Key '-5941199725551896164' not in persistent cache.\n",
      "Key '-3130196338034610197' not in persistent cache.\n",
      "Key '-8551624839639902780' not in persistent cache.\n",
      "Key '-1342264069138248685' not in persistent cache.\n",
      "Key '8300603334170868901' not in persistent cache.\n",
      "Key '4798972857496365594' not in persistent cache.\n",
      "Key '5416133053844435203' not in persistent cache.\n",
      "Key '-4563025058676194049' not in persistent cache.\n",
      "Key '3951291392009506186' not in persistent cache.\n",
      "Key '-8089984832763166605' not in persistent cache.\n",
      "Key '2914012134343638985' not in persistent cache.\n",
      "Key '-5247375042296256187' not in persistent cache.\n",
      "Key '6184620909564606516' not in persistent cache.\n",
      "Key '-7020138423947866392' not in persistent cache.\n",
      "Key '4660318267239913049' not in persistent cache.\n",
      "Key '-3501068909399982123' not in persistent cache.\n",
      "Key '1190294193515034193' not in persistent cache.\n",
      "Key '2611850866069099732' not in persistent cache.\n",
      "Key '-6735022963556306491' not in persistent cache.\n",
      "Key '-915108908017872824' not in persistent cache.\n",
      "Key '2349723193980685482' not in persistent cache.\n",
      "Key '-8887660109227212039' not in persistent cache.\n",
      "Key '755207294081905547' not in persistent cache.\n",
      "Key '1651934200391770368' not in persistent cache.\n",
      "Key '4916766302390328674' not in persistent cache.\n",
      "Key '6338322974944394213' not in persistent cache.\n",
      "Key '804252734904910960' not in persistent cache.\n",
      "Key '2811363200857421657' not in persistent cache.\n",
      "Key '-4631383905745324369' not in persistent cache.\n",
      "Key '-5746741793750362716' not in persistent cache.\n",
      "Key '8586588262692702746' not in persistent cache.\n",
      "Key '-4618171070819770162' not in persistent cache.\n",
      "Key '16256331733152454' not in persistent cache.\n",
      "Key '-1099101556271885893' not in persistent cache.\n",
      "Key '-7852125124976094530' not in persistent cache.\n",
      "Key '5013818219197195962' not in persistent cache.\n",
      "Key '-4333055610428210261' not in persistent cache.\n",
      "Key '1486858445110223406' not in persistent cache.\n",
      "Key '4751690547108781712' not in persistent cache.\n",
      "Key '-6485692756099115809' not in persistent cache.\n",
      "Key '3157174647210001777' not in persistent cache.\n",
      "Key '4053901553519866598' not in persistent cache.\n",
      "Key '272704366883568079' not in persistent cache.\n",
      "Key '8740290328072490443' not in persistent cache.\n",
      "Key '3206220088033007190' not in persistent cache.\n",
      "Key '5213330553985517887' not in persistent cache.\n",
      "Key '-2229416552617228139' not in persistent cache.\n",
      "Key '8055940344452428305' not in persistent cache.\n",
      "Key '3701074300319228718' not in persistent cache.\n",
      "Key '8943059040516307426' not in persistent cache.\n",
      "Key '2176771657994535251' not in persistent cache.\n",
      "Key '-5984615518645359921' not in persistent cache.\n",
      "Key '-5691609798714711733' not in persistent cache.\n",
      "Key '128304256823721934' not in persistent cache.\n",
      "Key '-2172540284166827464' not in persistent cache.\n",
      "Key '3647373771371606203' not in persistent cache.\n",
      "Key '-133823415264692316' not in persistent cache.\n",
      "Key '7075537355236961779' not in persistent cache.\n",
      "Key '5317689973471384574' not in persistent cache.\n",
      "Key '-5229969791837975558' not in persistent cache.\n",
      "Key '2433219693144950876' not in persistent cache.\n",
      "Key '3854776365699016415' not in persistent cache.\n",
      "Key '-6077651257324834966' not in persistent cache.\n",
      "Key '7373845880246900684' not in persistent cache.\n",
      "Key '-68901226355845342' not in persistent cache.\n",
      "Key '-8230288402995740514' not in persistent cache.\n",
      "Key '3749682792050996668' not in persistent cache.\n",
      "Key '8991667532248075376' not in persistent cache.\n",
      "Key '-4820649138908553624' not in persistent cache.\n",
      "Key '-5936007026913591971' not in persistent cache.\n",
      "Key '5757713478091751008' not in persistent cache.\n",
      "Key '176912748555489884' not in persistent cache.\n",
      "Key '-9169961081069916339' not in persistent cache.\n",
      "Key '-3350047025531482672' not in persistent cache.\n",
      "Key '-85214923532924366' not in persistent cache.\n",
      "Key '7124145846968729729' not in persistent cache.\n",
      "Key '-1679730823431704301' not in persistent cache.\n",
      "Key '-783003917121839480' not in persistent cache.\n",
      "Key '-4564201103758137999' not in persistent cache.\n",
      "Key '-3142644431204072460' not in persistent cache.\n",
      "Key '-1630685382608698888' not in persistent cache.\n",
      "Key '376425083343811809' not in persistent cache.\n",
      "Key '-7066322023258934217' not in persistent cache.\n",
      "Key '3219034873810722227' not in persistent cache.\n",
      "Key '8242666736344002115' not in persistent cache.\n",
      "Key '-4962092597168470793' not in persistent cache.\n",
      "Key '-327665194615548177' not in persistent cache.\n",
      "Key '-8489052371255443349' not in persistent cache.\n",
      "Key '-8196046651324795161' not in persistent cache.\n",
      "Key '-2376132595786361494' not in persistent cache.\n",
      "Key '-4676977136776910892' not in persistent cache.\n",
      "Key '1142936918761522775' not in persistent cache.\n",
      "Key '4407769020760081081' not in persistent cache.\n",
      "Key '4571100502626878351' not in persistent cache.\n",
      "Key '2813253120861301146' not in persistent cache.\n",
      "Key '-3336049261463690858' not in persistent cache.\n",
      "Key '-71217159465132552' not in persistent cache.\n",
      "Key '1350339513088932987' not in persistent cache.\n",
      "Key '2862298561684306559' not in persistent cache.\n",
      "Key '4869409027636817256' not in persistent cache.\n",
      "Key '-2573338078965928770' not in persistent cache.\n",
      "Key '7712018818103727674' not in persistent cache.\n",
      "Key '-4971507029668551729' not in persistent cache.\n",
      "Key '-6822190235317244139' not in persistent cache.\n",
      "Key '-8131205490803625673' not in persistent cache.\n",
      "Key '-2641805835168236893' not in persistent cache.\n",
      "Key '2600178905028841815' not in persistent cache.\n",
      "Key '-6935549143136545454' not in persistent cache.\n",
      "Key '1124888184973507767' not in persistent cache.\n",
      "Key '6366872925170586475' not in persistent cache.\n",
      "Key '-399414457351185700' not in persistent cache.\n",
      "Key '-8560801633991080872' not in persistent cache.\n",
      "Key '-8267795914060432684' not in persistent cache.\n",
      "Key '-6846239241506367145' not in persistent cache.\n",
      "Key '6651988385562146376' not in persistent cache.\n",
      "Key '-3327169726958482876' not in persistent cache.\n",
      "Key '-2710009530610413267' not in persistent cache.\n",
      "Key '100993856906872700' not in persistent cache.\n",
      "Key '2741503858125663623' not in persistent cache.\n",
      "Key '-7806155907183696509' not in persistent cache.\n",
      "Key '-4541323805185138203' not in persistent cache.\n",
      "Key '1278590250353295464' not in persistent cache.\n",
      "Key '-8653837372670555917' not in persistent cache.\n",
      "Key '-2248369523733677092' not in persistent cache.\n",
      "Key '-7043444724685934421' not in persistent cache.\n",
      "Key '3241912172383722023' not in persistent cache.\n",
      "Key '-651761799608186528' not in persistent cache.\n",
      "Key '-6810491844485802611' not in persistent cache.\n",
      "Key '-2176064441932879995' not in persistent cache.\n",
      "Key '8109292455136776449' not in persistent cache.\n",
      "Key '8402298175067424637' not in persistent cache.\n",
      "Key '-4224531843103693312' not in persistent cache.\n",
      "Key '-6525376384094242710' not in persistent cache.\n",
      "Key '-705462328555809043' not in persistent cache.\n",
      "Key '-4486659515192107562' not in persistent cache.\n",
      "Key '2722701255309546533' not in persistent cache.\n",
      "Key '964853873543969328' not in persistent cache.\n",
      "Key '-5184448508781022676' not in persistent cache.\n",
      "Key '-1919616406782464370' not in persistent cache.\n",
      "Key '-498059734228398831' not in persistent cache.\n",
      "Key '-6032129974267882084' not in persistent cache.\n",
      "Key '3021009780319485438' not in persistent cache.\n",
      "Key '-4421737326283260588' not in persistent cache.\n",
      "Key '5863619570786395856' not in persistent cache.\n",
      "Key '1860667990146196223' not in persistent cache.\n",
      "Key '-6945733960381908557' not in persistent cache.\n",
      "Key '336365347821502756' not in persistent cache.\n",
      "Key '-3426664445834024288' not in persistent cache.\n",
      "Key '-3133658725903376100' not in persistent cache.\n",
      "Key '-1712102053349310561' not in persistent cache.\n",
      "Key '-6660618499990348656' not in persistent cache.\n",
      "Key '1806967461198573708' not in persistent cache.\n",
      "Key '-1974229725437724811' not in persistent cache.\n",
      "Key '5235131045063929284' not in persistent cache.\n",
      "Key '7875641046282720207' not in persistent cache.\n",
      "Key '-2672018719026639925' not in persistent cache.\n",
      "Key '592813382971918381' not in persistent cache.\n",
      "Key '6412727438510352048' not in persistent cache.\n",
      "Key '-3519700184513499333' not in persistent cache.\n",
      "Key '2885767664423379492' not in persistent cache.\n",
      "Key '-1909307536528877837' not in persistent cache.\n",
      "Key '8376049360540778607' not in persistent cache.\n",
      "Key '-6504659392952343258' not in persistent cache.\n",
      "Key '3135682730229103578' not in persistent cache.\n",
      "Key '7770110132782026194' not in persistent cache.\n",
      "Key '6654752244776987847' not in persistent cache.\n",
      "Key '-98271323927220790' not in persistent cache.\n",
      "Key '8369314637261701574' not in persistent cache.\n",
      "Key '3420798190620663479' not in persistent cache.\n",
      "Key '4842354863174729018' not in persistent cache.\n",
      "Key '-5941199725551896164' not in persistent cache.\n",
      "Key '-3130196338034610197' not in persistent cache.\n",
      "Key '-8551624839639902780' not in persistent cache.\n",
      "Key '-1342264069138248685' not in persistent cache.\n",
      "Key '8300603334170868901' not in persistent cache.\n",
      "Key '4798972857496365594' not in persistent cache.\n",
      "Key '5416133053844435203' not in persistent cache.\n",
      "Key '-4563025058676194049' not in persistent cache.\n",
      "Key '3951291392009506186' not in persistent cache.\n",
      "Key '-8089984832763166605' not in persistent cache.\n",
      "Key '2914012134343638985' not in persistent cache.\n",
      "Key '-5247375042296256187' not in persistent cache.\n",
      "Key '6184620909564606516' not in persistent cache.\n",
      "Key '-7020138423947866392' not in persistent cache.\n",
      "Key '4660318267239913049' not in persistent cache.\n",
      "Key '-3501068909399982123' not in persistent cache.\n",
      "Key '1190294193515034193' not in persistent cache.\n",
      "Key '2611850866069099732' not in persistent cache.\n",
      "Key '-6735022963556306491' not in persistent cache.\n",
      "Key '-915108908017872824' not in persistent cache.\n",
      "Key '2349723193980685482' not in persistent cache.\n",
      "Key '-8887660109227212039' not in persistent cache.\n",
      "Key '755207294081905547' not in persistent cache.\n",
      "Key '1651934200391770368' not in persistent cache.\n",
      "Key '4916766302390328674' not in persistent cache.\n",
      "Key '6338322974944394213' not in persistent cache.\n",
      "Key '804252734904910960' not in persistent cache.\n",
      "Key '2811363200857421657' not in persistent cache.\n",
      "Key '-4631383905745324369' not in persistent cache.\n",
      "Key '-5746741793750362716' not in persistent cache.\n",
      "Key '8586588262692702746' not in persistent cache.\n",
      "Key '-4618171070819770162' not in persistent cache.\n",
      "Key '16256331733152454' not in persistent cache.\n",
      "Key '-1099101556271885893' not in persistent cache.\n",
      "Key '-7852125124976094530' not in persistent cache.\n",
      "Key '5013818219197195962' not in persistent cache.\n",
      "Key '-4333055610428210261' not in persistent cache.\n",
      "Key '1486858445110223406' not in persistent cache.\n",
      "Key '4751690547108781712' not in persistent cache.\n",
      "Key '-6485692756099115809' not in persistent cache.\n",
      "Key '3157174647210001777' not in persistent cache.\n",
      "Key '4053901553519866598' not in persistent cache.\n",
      "Key '272704366883568079' not in persistent cache.\n",
      "Key '8740290328072490443' not in persistent cache.\n",
      "Key '3206220088033007190' not in persistent cache.\n",
      "Key '5213330553985517887' not in persistent cache.\n",
      "Key '-2229416552617228139' not in persistent cache.\n",
      "Key '8055940344452428305' not in persistent cache.\n",
      "Key '3701074300319228718' not in persistent cache.\n",
      "Key '8943059040516307426' not in persistent cache.\n",
      "Key '2176771657994535251' not in persistent cache.\n",
      "Key '-5984615518645359921' not in persistent cache.\n",
      "Key '-5691609798714711733' not in persistent cache.\n",
      "Key '128304256823721934' not in persistent cache.\n",
      "Key '-2172540284166827464' not in persistent cache.\n",
      "Key '3647373771371606203' not in persistent cache.\n",
      "Key '-133823415264692316' not in persistent cache.\n",
      "Key '7075537355236961779' not in persistent cache.\n",
      "Key '5317689973471384574' not in persistent cache.\n",
      "Key '-5229969791837975558' not in persistent cache.\n",
      "Key '2433219693144950876' not in persistent cache.\n",
      "Key '3854776365699016415' not in persistent cache.\n",
      "Key '-6077651257324834966' not in persistent cache.\n",
      "Key '7373845880246900684' not in persistent cache.\n",
      "Key '-68901226355845342' not in persistent cache.\n",
      "Key '-8230288402995740514' not in persistent cache.\n",
      "Key '3749682792050996668' not in persistent cache.\n",
      "Key '8991667532248075376' not in persistent cache.\n",
      "Key '-4820649138908553624' not in persistent cache.\n",
      "Key '-5936007026913591971' not in persistent cache.\n",
      "Key '5757713478091751008' not in persistent cache.\n",
      "Key '176912748555489884' not in persistent cache.\n",
      "Key '-9169961081069916339' not in persistent cache.\n",
      "Key '-3350047025531482672' not in persistent cache.\n",
      "Key '-85214923532924366' not in persistent cache.\n",
      "Key '7124145846968729729' not in persistent cache.\n",
      "Key '-1679730823431704301' not in persistent cache.\n",
      "Key '-783003917121839480' not in persistent cache.\n",
      "Key '-4564201103758137999' not in persistent cache.\n",
      "Key '-3142644431204072460' not in persistent cache.\n",
      "Key '-1630685382608698888' not in persistent cache.\n",
      "Key '376425083343811809' not in persistent cache.\n",
      "Key '-7066322023258934217' not in persistent cache.\n",
      "Key '3219034873810722227' not in persistent cache.\n",
      "Key '8242666736344002115' not in persistent cache.\n",
      "Key '-4962092597168470793' not in persistent cache.\n",
      "Key '-327665194615548177' not in persistent cache.\n",
      "Key '-8489052371255443349' not in persistent cache.\n",
      "Key '-8196046651324795161' not in persistent cache.\n",
      "Key '-2376132595786361494' not in persistent cache.\n",
      "Key '-4676977136776910892' not in persistent cache.\n",
      "Key '1142936918761522775' not in persistent cache.\n",
      "Key '4407769020760081081' not in persistent cache.\n",
      "Key '4571100502626878351' not in persistent cache.\n",
      "Key '2813253120861301146' not in persistent cache.\n",
      "Key '-3336049261463690858' not in persistent cache.\n",
      "Key '-71217159465132552' not in persistent cache.\n",
      "Key '1350339513088932987' not in persistent cache.\n",
      "Key '2862298561684306559' not in persistent cache.\n",
      "Key '4869409027636817256' not in persistent cache.\n",
      "Key '-2573338078965928770' not in persistent cache.\n",
      "Key '7712018818103727674' not in persistent cache.\n",
      "Key '-4971507029668551729' not in persistent cache.\n",
      "Key '-6822190235317244139' not in persistent cache.\n",
      "Key '-8131205490803625673' not in persistent cache.\n",
      "Key '-2641805835168236893' not in persistent cache.\n",
      "Key '2600178905028841815' not in persistent cache.\n",
      "Key '-6935549143136545454' not in persistent cache.\n",
      "Key '1124888184973507767' not in persistent cache.\n",
      "Key '6366872925170586475' not in persistent cache.\n",
      "Key '-399414457351185700' not in persistent cache.\n",
      "Key '-8560801633991080872' not in persistent cache.\n",
      "Key '-8267795914060432684' not in persistent cache.\n",
      "Key '-6846239241506367145' not in persistent cache.\n",
      "Key '6651988385562146376' not in persistent cache.\n",
      "Key '-3327169726958482876' not in persistent cache.\n",
      "Key '-2710009530610413267' not in persistent cache.\n",
      "Key '100993856906872700' not in persistent cache.\n",
      "Key '2741503858125663623' not in persistent cache.\n",
      "Key '-7806155907183696509' not in persistent cache.\n",
      "Key '-4541323805185138203' not in persistent cache.\n",
      "Key '1278590250353295464' not in persistent cache.\n",
      "Key '-8653837372670555917' not in persistent cache.\n",
      "Key '-2248369523733677092' not in persistent cache.\n",
      "Key '-7043444724685934421' not in persistent cache.\n",
      "Key '3241912172383722023' not in persistent cache.\n",
      "Key '-651761799608186528' not in persistent cache.\n",
      "Key '-6810491844485802611' not in persistent cache.\n",
      "Key '-2176064441932879995' not in persistent cache.\n",
      "Key '8109292455136776449' not in persistent cache.\n",
      "Key '8402298175067424637' not in persistent cache.\n",
      "Key '-4224531843103693312' not in persistent cache.\n",
      "Key '-6525376384094242710' not in persistent cache.\n",
      "Key '-705462328555809043' not in persistent cache.\n",
      "Key '-4486659515192107562' not in persistent cache.\n",
      "Key '2722701255309546533' not in persistent cache.\n",
      "Key '964853873543969328' not in persistent cache.\n",
      "Key '-5184448508781022676' not in persistent cache.\n",
      "Key '-1919616406782464370' not in persistent cache.\n",
      "Key '-498059734228398831' not in persistent cache.\n",
      "Key '-6032129974267882084' not in persistent cache.\n",
      "Key '3021009780319485438' not in persistent cache.\n",
      "Key '-4421737326283260588' not in persistent cache.\n",
      "Key '5863619570786395856' not in persistent cache.\n",
      "Key '1860667990146196223' not in persistent cache.\n",
      "Key '-6945733960381908557' not in persistent cache.\n",
      "Key '336365347821502756' not in persistent cache.\n",
      "Key '-3426664445834024288' not in persistent cache.\n",
      "Key '-3133658725903376100' not in persistent cache.\n",
      "Key '-1712102053349310561' not in persistent cache.\n",
      "Key '-6660618499990348656' not in persistent cache.\n",
      "Key '1806967461198573708' not in persistent cache.\n",
      "Key '-1974229725437724811' not in persistent cache.\n",
      "Key '5235131045063929284' not in persistent cache.\n",
      "Key '7875641046282720207' not in persistent cache.\n",
      "Key '-2672018719026639925' not in persistent cache.\n",
      "Key '592813382971918381' not in persistent cache.\n",
      "Key '6412727438510352048' not in persistent cache.\n",
      "Key '-3519700184513499333' not in persistent cache.\n",
      "Key '2885767664423379492' not in persistent cache.\n",
      "Key '-1909307536528877837' not in persistent cache.\n",
      "Key '8376049360540778607' not in persistent cache.\n",
      "Key '-6504659392952343258' not in persistent cache.\n",
      "Key '3135682730229103578' not in persistent cache.\n",
      "Key '7770110132782026194' not in persistent cache.\n",
      "Key '6654752244776987847' not in persistent cache.\n",
      "Key '-98271323927220790' not in persistent cache.\n",
      "Key '8369314637261701574' not in persistent cache.\n",
      "Key '3420798190620663479' not in persistent cache.\n",
      "Key '4842354863174729018' not in persistent cache.\n",
      "Key '-5941199725551896164' not in persistent cache.\n",
      "Key '-3130196338034610197' not in persistent cache.\n",
      "Key '-8551624839639902780' not in persistent cache.\n",
      "Key '-1342264069138248685' not in persistent cache.\n",
      "Key '8300603334170868901' not in persistent cache.\n",
      "Key '4798972857496365594' not in persistent cache.\n",
      "Key '5416133053844435203' not in persistent cache.\n",
      "Key '-4563025058676194049' not in persistent cache.\n",
      "Key '3951291392009506186' not in persistent cache.\n",
      "Key '-8089984832763166605' not in persistent cache.\n",
      "Key '2914012134343638985' not in persistent cache.\n",
      "Key '-5247375042296256187' not in persistent cache.\n",
      "Key '6184620909564606516' not in persistent cache.\n",
      "Key '-7020138423947866392' not in persistent cache.\n",
      "Key '4660318267239913049' not in persistent cache.\n",
      "Key '-3501068909399982123' not in persistent cache.\n",
      "Key '1190294193515034193' not in persistent cache.\n",
      "Key '2611850866069099732' not in persistent cache.\n",
      "Key '-6735022963556306491' not in persistent cache.\n",
      "Key '-915108908017872824' not in persistent cache.\n",
      "Key '2349723193980685482' not in persistent cache.\n",
      "Key '-8887660109227212039' not in persistent cache.\n",
      "Key '755207294081905547' not in persistent cache.\n",
      "Key '1651934200391770368' not in persistent cache.\n",
      "Key '4916766302390328674' not in persistent cache.\n",
      "Key '6338322974944394213' not in persistent cache.\n",
      "Key '804252734904910960' not in persistent cache.\n",
      "Key '2811363200857421657' not in persistent cache.\n",
      "Key '-4631383905745324369' not in persistent cache.\n",
      "Key '-5746741793750362716' not in persistent cache.\n",
      "Key '8586588262692702746' not in persistent cache.\n",
      "Key '-4618171070819770162' not in persistent cache.\n",
      "Key '16256331733152454' not in persistent cache.\n",
      "Key '-1099101556271885893' not in persistent cache.\n",
      "Key '-7852125124976094530' not in persistent cache.\n",
      "Key '5013818219197195962' not in persistent cache.\n",
      "Key '-4333055610428210261' not in persistent cache.\n",
      "Key '1486858445110223406' not in persistent cache.\n",
      "Key '4751690547108781712' not in persistent cache.\n",
      "Key '-6485692756099115809' not in persistent cache.\n",
      "Key '3157174647210001777' not in persistent cache.\n",
      "Key '4053901553519866598' not in persistent cache.\n",
      "Key '272704366883568079' not in persistent cache.\n",
      "Key '8740290328072490443' not in persistent cache.\n",
      "Key '3206220088033007190' not in persistent cache.\n",
      "Key '5213330553985517887' not in persistent cache.\n",
      "Key '-2229416552617228139' not in persistent cache.\n",
      "Key '8055940344452428305' not in persistent cache.\n",
      "Key '3701074300319228718' not in persistent cache.\n",
      "Key '8943059040516307426' not in persistent cache.\n",
      "Key '2176771657994535251' not in persistent cache.\n",
      "Key '-5984615518645359921' not in persistent cache.\n",
      "Key '-5691609798714711733' not in persistent cache.\n",
      "Key '128304256823721934' not in persistent cache.\n",
      "Key '-2172540284166827464' not in persistent cache.\n",
      "Key '3647373771371606203' not in persistent cache.\n",
      "Key '-133823415264692316' not in persistent cache.\n",
      "Key '7075537355236961779' not in persistent cache.\n",
      "Key '5317689973471384574' not in persistent cache.\n",
      "Key '-5229969791837975558' not in persistent cache.\n",
      "Key '2433219693144950876' not in persistent cache.\n",
      "Key '3854776365699016415' not in persistent cache.\n",
      "Key '-6077651257324834966' not in persistent cache.\n",
      "Key '7373845880246900684' not in persistent cache.\n",
      "Key '-68901226355845342' not in persistent cache.\n",
      "Key '-8230288402995740514' not in persistent cache.\n",
      "Key '3749682792050996668' not in persistent cache.\n",
      "Key '8991667532248075376' not in persistent cache.\n",
      "Key '-4820649138908553624' not in persistent cache.\n",
      "Key '-5936007026913591971' not in persistent cache.\n",
      "Key '5757713478091751008' not in persistent cache.\n",
      "Key '176912748555489884' not in persistent cache.\n",
      "Key '-9169961081069916339' not in persistent cache.\n",
      "Key '-3350047025531482672' not in persistent cache.\n",
      "Key '-85214923532924366' not in persistent cache.\n",
      "Key '7124145846968729729' not in persistent cache.\n",
      "Key '-1679730823431704301' not in persistent cache.\n",
      "Key '-783003917121839480' not in persistent cache.\n",
      "Key '-4564201103758137999' not in persistent cache.\n",
      "Key '-3142644431204072460' not in persistent cache.\n",
      "Key '-1630685382608698888' not in persistent cache.\n",
      "Key '376425083343811809' not in persistent cache.\n",
      "Key '-7066322023258934217' not in persistent cache.\n",
      "Key '3219034873810722227' not in persistent cache.\n",
      "Key '8242666736344002115' not in persistent cache.\n",
      "Key '-4962092597168470793' not in persistent cache.\n",
      "Key '-327665194615548177' not in persistent cache.\n",
      "Key '-8489052371255443349' not in persistent cache.\n",
      "Key '-8196046651324795161' not in persistent cache.\n",
      "Key '-2376132595786361494' not in persistent cache.\n",
      "Key '-4676977136776910892' not in persistent cache.\n",
      "Key '1142936918761522775' not in persistent cache.\n",
      "Key '4407769020760081081' not in persistent cache.\n",
      "Key '4571100502626878351' not in persistent cache.\n",
      "Key '2813253120861301146' not in persistent cache.\n",
      "Key '-3336049261463690858' not in persistent cache.\n",
      "Key '-71217159465132552' not in persistent cache.\n",
      "Key '1350339513088932987' not in persistent cache.\n",
      "Key '2862298561684306559' not in persistent cache.\n",
      "Key '4869409027636817256' not in persistent cache.\n",
      "Key '-2573338078965928770' not in persistent cache.\n",
      "Key '7712018818103727674' not in persistent cache.\n",
      "Key '-4971507029668551729' not in persistent cache.\n",
      "Key '-6822190235317244139' not in persistent cache.\n",
      "Key '-8131205490803625673' not in persistent cache.\n",
      "Key '-2641805835168236893' not in persistent cache.\n",
      "Key '2600178905028841815' not in persistent cache.\n",
      "Key '-6935549143136545454' not in persistent cache.\n",
      "Key '1124888184973507767' not in persistent cache.\n",
      "Key '6366872925170586475' not in persistent cache.\n",
      "Key '-399414457351185700' not in persistent cache.\n",
      "Key '-8560801633991080872' not in persistent cache.\n",
      "Key '-8267795914060432684' not in persistent cache.\n",
      "Key '-6846239241506367145' not in persistent cache.\n",
      "Key '6651988385562146376' not in persistent cache.\n",
      "Key '-3327169726958482876' not in persistent cache.\n",
      "Key '-2710009530610413267' not in persistent cache.\n",
      "Key '100993856906872700' not in persistent cache.\n",
      "Key '2741503858125663623' not in persistent cache.\n",
      "Key '-7806155907183696509' not in persistent cache.\n",
      "Key '-4541323805185138203' not in persistent cache.\n",
      "Key '1278590250353295464' not in persistent cache.\n",
      "Key '-8653837372670555917' not in persistent cache.\n",
      "Key '-2248369523733677092' not in persistent cache.\n",
      "Key '-7043444724685934421' not in persistent cache.\n",
      "Key '3241912172383722023' not in persistent cache.\n",
      "Key '-651761799608186528' not in persistent cache.\n",
      "Key '-6810491844485802611' not in persistent cache.\n",
      "Key '-2176064441932879995' not in persistent cache.\n",
      "Key '8109292455136776449' not in persistent cache.\n",
      "Key '8402298175067424637' not in persistent cache.\n",
      "Key '-4224531843103693312' not in persistent cache.\n",
      "Key '-6525376384094242710' not in persistent cache.\n",
      "Key '-705462328555809043' not in persistent cache.\n",
      "Key '-4486659515192107562' not in persistent cache.\n",
      "Key '2722701255309546533' not in persistent cache.\n",
      "Key '964853873543969328' not in persistent cache.\n",
      "Key '-5184448508781022676' not in persistent cache.\n",
      "Key '-1919616406782464370' not in persistent cache.\n",
      "Key '-498059734228398831' not in persistent cache.\n",
      "Key '-6032129974267882084' not in persistent cache.\n",
      "Key '3021009780319485438' not in persistent cache.\n",
      "Key '-4421737326283260588' not in persistent cache.\n",
      "Key '5863619570786395856' not in persistent cache.\n",
      "Key '1860667990146196223' not in persistent cache.\n",
      "Key '-6945733960381908557' not in persistent cache.\n",
      "Key '336365347821502756' not in persistent cache.\n",
      "Key '-3426664445834024288' not in persistent cache.\n",
      "Key '-3133658725903376100' not in persistent cache.\n",
      "Key '-1712102053349310561' not in persistent cache.\n",
      "Key '-6660618499990348656' not in persistent cache.\n",
      "Key '1806967461198573708' not in persistent cache.\n",
      "Key '-1974229725437724811' not in persistent cache.\n",
      "Key '5235131045063929284' not in persistent cache.\n",
      "Key '7875641046282720207' not in persistent cache.\n",
      "Key '-2672018719026639925' not in persistent cache.\n",
      "Key '592813382971918381' not in persistent cache.\n",
      "Key '6412727438510352048' not in persistent cache.\n",
      "Key '-3519700184513499333' not in persistent cache.\n",
      "Key '2885767664423379492' not in persistent cache.\n",
      "Key '-1909307536528877837' not in persistent cache.\n",
      "Key '8376049360540778607' not in persistent cache.\n",
      "Key '-6504659392952343258' not in persistent cache.\n",
      "Key '3135682730229103578' not in persistent cache.\n",
      "Key '7770110132782026194' not in persistent cache.\n",
      "Key '6654752244776987847' not in persistent cache.\n",
      "Key '-98271323927220790' not in persistent cache.\n",
      "Key '8369314637261701574' not in persistent cache.\n",
      "Key '3420798190620663479' not in persistent cache.\n",
      "Key '4842354863174729018' not in persistent cache.\n",
      "Key '-5941199725551896164' not in persistent cache.\n",
      "Key '-3130196338034610197' not in persistent cache.\n",
      "Key '-8551624839639902780' not in persistent cache.\n",
      "Key '-1342264069138248685' not in persistent cache.\n",
      "Key '8300603334170868901' not in persistent cache.\n",
      "Key '4798972857496365594' not in persistent cache.\n",
      "Key '5416133053844435203' not in persistent cache.\n",
      "Key '-4563025058676194049' not in persistent cache.\n",
      "Key '3951291392009506186' not in persistent cache.\n",
      "Key '-8089984832763166605' not in persistent cache.\n",
      "Key '2914012134343638985' not in persistent cache.\n",
      "Key '-5247375042296256187' not in persistent cache.\n",
      "Key '6184620909564606516' not in persistent cache.\n",
      "Key '-7020138423947866392' not in persistent cache.\n",
      "Key '4660318267239913049' not in persistent cache.\n",
      "Key '-3501068909399982123' not in persistent cache.\n",
      "Key '1190294193515034193' not in persistent cache.\n",
      "Key '2611850866069099732' not in persistent cache.\n",
      "Key '-6735022963556306491' not in persistent cache.\n",
      "Key '-915108908017872824' not in persistent cache.\n",
      "Key '2349723193980685482' not in persistent cache.\n",
      "Key '-8887660109227212039' not in persistent cache.\n",
      "Key '755207294081905547' not in persistent cache.\n",
      "Key '1651934200391770368' not in persistent cache.\n",
      "Key '4916766302390328674' not in persistent cache.\n",
      "Key '6338322974944394213' not in persistent cache.\n",
      "Key '804252734904910960' not in persistent cache.\n",
      "Key '2811363200857421657' not in persistent cache.\n",
      "Key '-4631383905745324369' not in persistent cache.\n",
      "Key '-5746741793750362716' not in persistent cache.\n",
      "Key '8586588262692702746' not in persistent cache.\n",
      "Key '-4618171070819770162' not in persistent cache.\n",
      "Key '16256331733152454' not in persistent cache.\n",
      "Key '-1099101556271885893' not in persistent cache.\n",
      "Key '-7852125124976094530' not in persistent cache.\n",
      "Key '5013818219197195962' not in persistent cache.\n",
      "Key '-4333055610428210261' not in persistent cache.\n",
      "Key '1486858445110223406' not in persistent cache.\n",
      "Key '4751690547108781712' not in persistent cache.\n",
      "Key '-6485692756099115809' not in persistent cache.\n",
      "Key '3157174647210001777' not in persistent cache.\n",
      "Key '4053901553519866598' not in persistent cache.\n",
      "Key '272704366883568079' not in persistent cache.\n",
      "Key '8740290328072490443' not in persistent cache.\n",
      "Key '3206220088033007190' not in persistent cache.\n",
      "Key '5213330553985517887' not in persistent cache.\n",
      "Key '-2229416552617228139' not in persistent cache.\n",
      "Key '8055940344452428305' not in persistent cache.\n",
      "Key '3701074300319228718' not in persistent cache.\n",
      "Key '8943059040516307426' not in persistent cache.\n",
      "Key '2176771657994535251' not in persistent cache.\n",
      "Key '-5984615518645359921' not in persistent cache.\n",
      "Key '-5691609798714711733' not in persistent cache.\n",
      "Key '128304256823721934' not in persistent cache.\n",
      "Key '-2172540284166827464' not in persistent cache.\n",
      "Key '3647373771371606203' not in persistent cache.\n",
      "Key '-133823415264692316' not in persistent cache.\n",
      "Key '7075537355236961779' not in persistent cache.\n",
      "Key '5317689973471384574' not in persistent cache.\n",
      "Key '-5229969791837975558' not in persistent cache.\n",
      "Key '2433219693144950876' not in persistent cache.\n",
      "Key '3854776365699016415' not in persistent cache.\n",
      "Key '-6077651257324834966' not in persistent cache.\n",
      "Key '7373845880246900684' not in persistent cache.\n",
      "Key '-68901226355845342' not in persistent cache.\n",
      "Key '-8230288402995740514' not in persistent cache.\n",
      "Key '3749682792050996668' not in persistent cache.\n",
      "Key '8991667532248075376' not in persistent cache.\n",
      "Key '-4820649138908553624' not in persistent cache.\n",
      "Key '-5936007026913591971' not in persistent cache.\n",
      "Key '5757713478091751008' not in persistent cache.\n",
      "Key '176912748555489884' not in persistent cache.\n",
      "Key '-9169961081069916339' not in persistent cache.\n",
      "Key '-3350047025531482672' not in persistent cache.\n",
      "Key '-85214923532924366' not in persistent cache.\n",
      "Key '7124145846968729729' not in persistent cache.\n",
      "Key '-1679730823431704301' not in persistent cache.\n",
      "Key '-783003917121839480' not in persistent cache.\n",
      "Key '-4564201103758137999' not in persistent cache.\n",
      "Key '-3142644431204072460' not in persistent cache.\n",
      "Key '-1630685382608698888' not in persistent cache.\n",
      "Key '376425083343811809' not in persistent cache.\n",
      "Key '-7066322023258934217' not in persistent cache.\n",
      "Key '3219034873810722227' not in persistent cache.\n",
      "Key '8242666736344002115' not in persistent cache.\n",
      "Key '-4962092597168470793' not in persistent cache.\n",
      "Key '-327665194615548177' not in persistent cache.\n",
      "Key '-8489052371255443349' not in persistent cache.\n",
      "Key '-8196046651324795161' not in persistent cache.\n",
      "Key '-2376132595786361494' not in persistent cache.\n",
      "Key '-4676977136776910892' not in persistent cache.\n",
      "Key '1142936918761522775' not in persistent cache.\n",
      "Key '4407769020760081081' not in persistent cache.\n",
      "Key '4571100502626878351' not in persistent cache.\n",
      "Key '2813253120861301146' not in persistent cache.\n",
      "Key '-3336049261463690858' not in persistent cache.\n",
      "Key '-71217159465132552' not in persistent cache.\n",
      "Key '1350339513088932987' not in persistent cache.\n",
      "Key '2862298561684306559' not in persistent cache.\n",
      "Key '4869409027636817256' not in persistent cache.\n",
      "Key '-2573338078965928770' not in persistent cache.\n",
      "Key '7712018818103727674' not in persistent cache.\n",
      "Key '-4971507029668551729' not in persistent cache.\n",
      "Key '-6822190235317244139' not in persistent cache.\n",
      "Key '-8131205490803625673' not in persistent cache.\n",
      "Key '-2641805835168236893' not in persistent cache.\n",
      "Key '2600178905028841815' not in persistent cache.\n",
      "Key '-6935549143136545454' not in persistent cache.\n",
      "Key '1124888184973507767' not in persistent cache.\n",
      "Key '6366872925170586475' not in persistent cache.\n",
      "Key '-399414457351185700' not in persistent cache.\n",
      "Key '-8560801633991080872' not in persistent cache.\n",
      "Key '-8267795914060432684' not in persistent cache.\n",
      "Key '-6846239241506367145' not in persistent cache.\n",
      "Key '6651988385562146376' not in persistent cache.\n",
      "Key '-3327169726958482876' not in persistent cache.\n",
      "Key '-2710009530610413267' not in persistent cache.\n",
      "Key '100993856906872700' not in persistent cache.\n",
      "Key '2741503858125663623' not in persistent cache.\n",
      "Key '-7806155907183696509' not in persistent cache.\n",
      "Key '-4541323805185138203' not in persistent cache.\n",
      "Key '1278590250353295464' not in persistent cache.\n",
      "Key '-8653837372670555917' not in persistent cache.\n",
      "Key '-2248369523733677092' not in persistent cache.\n",
      "Key '-7043444724685934421' not in persistent cache.\n",
      "Key '3241912172383722023' not in persistent cache.\n",
      "Key '-651761799608186528' not in persistent cache.\n",
      "Key '-6810491844485802611' not in persistent cache.\n",
      "Key '-2176064441932879995' not in persistent cache.\n",
      "Key '8109292455136776449' not in persistent cache.\n",
      "Key '8402298175067424637' not in persistent cache.\n",
      "Key '-4224531843103693312' not in persistent cache.\n",
      "Key '-6525376384094242710' not in persistent cache.\n",
      "Key '-705462328555809043' not in persistent cache.\n",
      "Key '-4486659515192107562' not in persistent cache.\n",
      "Key '2722701255309546533' not in persistent cache.\n",
      "Key '964853873543969328' not in persistent cache.\n",
      "Key '-5184448508781022676' not in persistent cache.\n",
      "Key '-1919616406782464370' not in persistent cache.\n",
      "Key '-498059734228398831' not in persistent cache.\n",
      "Key '-6032129974267882084' not in persistent cache.\n",
      "Key '3021009780319485438' not in persistent cache.\n",
      "Key '-4421737326283260588' not in persistent cache.\n",
      "Key '5863619570786395856' not in persistent cache.\n",
      "Key '1860667990146196223' not in persistent cache.\n",
      "Key '-6945733960381908557' not in persistent cache.\n",
      "Key '336365347821502756' not in persistent cache.\n",
      "Key '-3426664445834024288' not in persistent cache.\n",
      "Key '-3133658725903376100' not in persistent cache.\n",
      "Key '-1712102053349310561' not in persistent cache.\n",
      "Key '-6660618499990348656' not in persistent cache.\n",
      "Key '1806967461198573708' not in persistent cache.\n",
      "Key '-1974229725437724811' not in persistent cache.\n",
      "Key '5235131045063929284' not in persistent cache.\n",
      "Key '7875641046282720207' not in persistent cache.\n",
      "Key '-2672018719026639925' not in persistent cache.\n",
      "Key '592813382971918381' not in persistent cache.\n",
      "Key '6412727438510352048' not in persistent cache.\n",
      "Key '-3519700184513499333' not in persistent cache.\n",
      "Key '2885767664423379492' not in persistent cache.\n",
      "Key '-1909307536528877837' not in persistent cache.\n",
      "Key '8376049360540778607' not in persistent cache.\n",
      "Key '-6504659392952343258' not in persistent cache.\n",
      "Key '3135682730229103578' not in persistent cache.\n",
      "Key '7770110132782026194' not in persistent cache.\n",
      "Key '6654752244776987847' not in persistent cache.\n",
      "Key '-98271323927220790' not in persistent cache.\n",
      "Key '8369314637261701574' not in persistent cache.\n",
      "Key '3420798190620663479' not in persistent cache.\n",
      "Key '4842354863174729018' not in persistent cache.\n",
      "Key '-5941199725551896164' not in persistent cache.\n",
      "Key '-3130196338034610197' not in persistent cache.\n",
      "Key '-8551624839639902780' not in persistent cache.\n",
      "Key '-1342264069138248685' not in persistent cache.\n",
      "Key '8300603334170868901' not in persistent cache.\n",
      "Key '4798972857496365594' not in persistent cache.\n",
      "Key '5416133053844435203' not in persistent cache.\n",
      "Key '-4563025058676194049' not in persistent cache.\n",
      "Key '3951291392009506186' not in persistent cache.\n",
      "Key '-8089984832763166605' not in persistent cache.\n",
      "Key '2914012134343638985' not in persistent cache.\n",
      "Key '-5247375042296256187' not in persistent cache.\n",
      "Key '6184620909564606516' not in persistent cache.\n",
      "Key '-7020138423947866392' not in persistent cache.\n",
      "Key '4660318267239913049' not in persistent cache.\n",
      "Key '-3501068909399982123' not in persistent cache.\n",
      "Key '1190294193515034193' not in persistent cache.\n",
      "Key '2611850866069099732' not in persistent cache.\n",
      "Key '-6735022963556306491' not in persistent cache.\n",
      "Key '-915108908017872824' not in persistent cache.\n",
      "Key '2349723193980685482' not in persistent cache.\n",
      "Key '-8887660109227212039' not in persistent cache.\n",
      "Key '755207294081905547' not in persistent cache.\n",
      "Key '1651934200391770368' not in persistent cache.\n",
      "Key '4916766302390328674' not in persistent cache.\n",
      "Key '6338322974944394213' not in persistent cache.\n",
      "Key '804252734904910960' not in persistent cache.\n",
      "Key '2811363200857421657' not in persistent cache.\n",
      "Key '-4631383905745324369' not in persistent cache.\n",
      "Key '-5746741793750362716' not in persistent cache.\n",
      "Key '8586588262692702746' not in persistent cache.\n",
      "Key '-4618171070819770162' not in persistent cache.\n",
      "Key '16256331733152454' not in persistent cache.\n",
      "Key '-1099101556271885893' not in persistent cache.\n",
      "Key '-7852125124976094530' not in persistent cache.\n",
      "Key '5013818219197195962' not in persistent cache.\n",
      "Key '-4333055610428210261' not in persistent cache.\n",
      "Key '1486858445110223406' not in persistent cache.\n",
      "Key '4751690547108781712' not in persistent cache.\n",
      "Key '-6485692756099115809' not in persistent cache.\n",
      "Key '3157174647210001777' not in persistent cache.\n",
      "Key '4053901553519866598' not in persistent cache.\n",
      "Key '272704366883568079' not in persistent cache.\n",
      "Key '8740290328072490443' not in persistent cache.\n",
      "Key '3206220088033007190' not in persistent cache.\n",
      "Key '5213330553985517887' not in persistent cache.\n",
      "Key '-2229416552617228139' not in persistent cache.\n",
      "Key '8055940344452428305' not in persistent cache.\n",
      "Key '3701074300319228718' not in persistent cache.\n",
      "Key '8943059040516307426' not in persistent cache.\n",
      "Key '2176771657994535251' not in persistent cache.\n",
      "Key '-5984615518645359921' not in persistent cache.\n",
      "Key '-5691609798714711733' not in persistent cache.\n",
      "Key '128304256823721934' not in persistent cache.\n",
      "Key '-2172540284166827464' not in persistent cache.\n",
      "Key '3647373771371606203' not in persistent cache.\n",
      "Key '-133823415264692316' not in persistent cache.\n",
      "Key '7075537355236961779' not in persistent cache.\n",
      "Key '5317689973471384574' not in persistent cache.\n",
      "Key '-5229969791837975558' not in persistent cache.\n",
      "Key '2433219693144950876' not in persistent cache.\n",
      "Key '3854776365699016415' not in persistent cache.\n",
      "Key '-6077651257324834966' not in persistent cache.\n",
      "Key '7373845880246900684' not in persistent cache.\n",
      "Key '-68901226355845342' not in persistent cache.\n",
      "Key '-8230288402995740514' not in persistent cache.\n",
      "Key '3749682792050996668' not in persistent cache.\n",
      "Key '8991667532248075376' not in persistent cache.\n",
      "Key '-4820649138908553624' not in persistent cache.\n",
      "Key '-5936007026913591971' not in persistent cache.\n",
      "Key '5757713478091751008' not in persistent cache.\n",
      "Key '176912748555489884' not in persistent cache.\n",
      "Key '-9169961081069916339' not in persistent cache.\n",
      "Key '-3350047025531482672' not in persistent cache.\n",
      "Key '-85214923532924366' not in persistent cache.\n",
      "Key '7124145846968729729' not in persistent cache.\n",
      "Key '-1679730823431704301' not in persistent cache.\n",
      "Key '-783003917121839480' not in persistent cache.\n",
      "Key '-4564201103758137999' not in persistent cache.\n",
      "Key '-3142644431204072460' not in persistent cache.\n",
      "Key '-1630685382608698888' not in persistent cache.\n",
      "Key '376425083343811809' not in persistent cache.\n",
      "Key '-7066322023258934217' not in persistent cache.\n",
      "Key '3219034873810722227' not in persistent cache.\n",
      "Key '8242666736344002115' not in persistent cache.\n",
      "Key '-4962092597168470793' not in persistent cache.\n",
      "Key '-327665194615548177' not in persistent cache.\n",
      "Key '-8489052371255443349' not in persistent cache.\n",
      "Key '-8196046651324795161' not in persistent cache.\n",
      "Key '-2376132595786361494' not in persistent cache.\n",
      "Key '-4676977136776910892' not in persistent cache.\n",
      "Key '1142936918761522775' not in persistent cache.\n",
      "Key '4407769020760081081' not in persistent cache.\n",
      "Key '4571100502626878351' not in persistent cache.\n",
      "Key '2813253120861301146' not in persistent cache.\n",
      "Key '-3336049261463690858' not in persistent cache.\n",
      "Key '-71217159465132552' not in persistent cache.\n",
      "Key '1350339513088932987' not in persistent cache.\n",
      "Key '2862298561684306559' not in persistent cache.\n",
      "Key '4869409027636817256' not in persistent cache.\n",
      "Key '-2573338078965928770' not in persistent cache.\n",
      "Key '7712018818103727674' not in persistent cache.\n",
      "Key '-4971507029668551729' not in persistent cache.\n",
      "Key '-6822190235317244139' not in persistent cache.\n",
      "Key '-8131205490803625673' not in persistent cache.\n",
      "Key '-2641805835168236893' not in persistent cache.\n",
      "Key '2600178905028841815' not in persistent cache.\n",
      "Key '-6935549143136545454' not in persistent cache.\n",
      "Key '1124888184973507767' not in persistent cache.\n",
      "Key '6366872925170586475' not in persistent cache.\n",
      "Key '-399414457351185700' not in persistent cache.\n",
      "Key '-8560801633991080872' not in persistent cache.\n",
      "Key '-8267795914060432684' not in persistent cache.\n",
      "Key '-6846239241506367145' not in persistent cache.\n",
      "Key '6651988385562146376' not in persistent cache.\n",
      "Key '-3327169726958482876' not in persistent cache.\n",
      "Key '-2710009530610413267' not in persistent cache.\n",
      "Key '100993856906872700' not in persistent cache.\n",
      "Key '2741503858125663623' not in persistent cache.\n",
      "Key '-7806155907183696509' not in persistent cache.\n",
      "Key '-4541323805185138203' not in persistent cache.\n",
      "Key '1278590250353295464' not in persistent cache.\n",
      "Key '-8653837372670555917' not in persistent cache.\n",
      "Key '-2248369523733677092' not in persistent cache.\n",
      "Key '-7043444724685934421' not in persistent cache.\n",
      "Key '3241912172383722023' not in persistent cache.\n",
      "Key '-651761799608186528' not in persistent cache.\n",
      "Key '-6810491844485802611' not in persistent cache.\n",
      "Key '-2176064441932879995' not in persistent cache.\n",
      "Key '8109292455136776449' not in persistent cache.\n",
      "Key '8402298175067424637' not in persistent cache.\n",
      "Key '-4224531843103693312' not in persistent cache.\n",
      "Key '-6525376384094242710' not in persistent cache.\n",
      "Key '-705462328555809043' not in persistent cache.\n",
      "Key '-4486659515192107562' not in persistent cache.\n",
      "Key '2722701255309546533' not in persistent cache.\n",
      "Key '964853873543969328' not in persistent cache.\n",
      "Key '-5184448508781022676' not in persistent cache.\n",
      "Key '-1919616406782464370' not in persistent cache.\n",
      "Key '-498059734228398831' not in persistent cache.\n",
      "Key '-6032129974267882084' not in persistent cache.\n",
      "Key '3021009780319485438' not in persistent cache.\n",
      "Key '-4421737326283260588' not in persistent cache.\n",
      "Key '5863619570786395856' not in persistent cache.\n",
      "Key '1860667990146196223' not in persistent cache.\n",
      "Key '-6945733960381908557' not in persistent cache.\n",
      "Key '336365347821502756' not in persistent cache.\n",
      "Key '-3426664445834024288' not in persistent cache.\n",
      "Key '-3133658725903376100' not in persistent cache.\n",
      "Key '-1712102053349310561' not in persistent cache.\n",
      "Key '-6660618499990348656' not in persistent cache.\n",
      "Key '1806967461198573708' not in persistent cache.\n",
      "Key '-1974229725437724811' not in persistent cache.\n",
      "Key '5235131045063929284' not in persistent cache.\n",
      "Key '7875641046282720207' not in persistent cache.\n",
      "Key '-2672018719026639925' not in persistent cache.\n",
      "Key '592813382971918381' not in persistent cache.\n",
      "Key '6412727438510352048' not in persistent cache.\n",
      "Key '-3519700184513499333' not in persistent cache.\n",
      "Key '2885767664423379492' not in persistent cache.\n",
      "Key '-1909307536528877837' not in persistent cache.\n",
      "Key '8376049360540778607' not in persistent cache.\n",
      "Key '-6504659392952343258' not in persistent cache.\n",
      "Key '3135682730229103578' not in persistent cache.\n",
      "Key '7770110132782026194' not in persistent cache.\n",
      "Key '6654752244776987847' not in persistent cache.\n",
      "Key '-98271323927220790' not in persistent cache.\n",
      "Key '8369314637261701574' not in persistent cache.\n",
      "Key '3420798190620663479' not in persistent cache.\n",
      "Key '4842354863174729018' not in persistent cache.\n",
      "Key '-5941199725551896164' not in persistent cache.\n",
      "Key '-3130196338034610197' not in persistent cache.\n",
      "Key '-8551624839639902780' not in persistent cache.\n",
      "Key '-1342264069138248685' not in persistent cache.\n",
      "Key '8300603334170868901' not in persistent cache.\n",
      "Key '4798972857496365594' not in persistent cache.\n",
      "Key '5416133053844435203' not in persistent cache.\n",
      "Key '-4563025058676194049' not in persistent cache.\n",
      "Key '3951291392009506186' not in persistent cache.\n",
      "Key '-8089984832763166605' not in persistent cache.\n",
      "Key '2914012134343638985' not in persistent cache.\n",
      "Key '-5247375042296256187' not in persistent cache.\n",
      "Key '6184620909564606516' not in persistent cache.\n",
      "Key '-7020138423947866392' not in persistent cache.\n",
      "Key '4660318267239913049' not in persistent cache.\n",
      "Key '-3501068909399982123' not in persistent cache.\n",
      "Key '1190294193515034193' not in persistent cache.\n",
      "Key '2611850866069099732' not in persistent cache.\n",
      "Key '-6735022963556306491' not in persistent cache.\n",
      "Key '-915108908017872824' not in persistent cache.\n",
      "Key '2349723193980685482' not in persistent cache.\n",
      "Key '-8887660109227212039' not in persistent cache.\n",
      "Key '755207294081905547' not in persistent cache.\n",
      "Key '1651934200391770368' not in persistent cache.\n",
      "Key '4916766302390328674' not in persistent cache.\n",
      "Key '6338322974944394213' not in persistent cache.\n",
      "Key '804252734904910960' not in persistent cache.\n",
      "Key '2811363200857421657' not in persistent cache.\n",
      "Key '-4631383905745324369' not in persistent cache.\n",
      "Key '-5746741793750362716' not in persistent cache.\n",
      "Key '8586588262692702746' not in persistent cache.\n",
      "Key '-4618171070819770162' not in persistent cache.\n",
      "Key '16256331733152454' not in persistent cache.\n",
      "Key '-1099101556271885893' not in persistent cache.\n",
      "Key '-7852125124976094530' not in persistent cache.\n",
      "Key '5013818219197195962' not in persistent cache.\n",
      "Key '-4333055610428210261' not in persistent cache.\n",
      "Key '1486858445110223406' not in persistent cache.\n",
      "Key '4751690547108781712' not in persistent cache.\n",
      "Key '-6485692756099115809' not in persistent cache.\n",
      "Key '3157174647210001777' not in persistent cache.\n",
      "Key '4053901553519866598' not in persistent cache.\n",
      "Key '272704366883568079' not in persistent cache.\n",
      "Key '8740290328072490443' not in persistent cache.\n",
      "Key '3206220088033007190' not in persistent cache.\n",
      "Key '5213330553985517887' not in persistent cache.\n",
      "Key '-2229416552617228139' not in persistent cache.\n",
      "Key '8055940344452428305' not in persistent cache.\n",
      "Key '3701074300319228718' not in persistent cache.\n",
      "Key '8943059040516307426' not in persistent cache.\n",
      "Key '2176771657994535251' not in persistent cache.\n",
      "Key '-5984615518645359921' not in persistent cache.\n",
      "Key '-5691609798714711733' not in persistent cache.\n",
      "Key '128304256823721934' not in persistent cache.\n",
      "Key '-2172540284166827464' not in persistent cache.\n",
      "Key '3647373771371606203' not in persistent cache.\n",
      "Key '-133823415264692316' not in persistent cache.\n",
      "Key '7075537355236961779' not in persistent cache.\n",
      "Key '5317689973471384574' not in persistent cache.\n",
      "Key '-5229969791837975558' not in persistent cache.\n",
      "Key '2433219693144950876' not in persistent cache.\n",
      "Key '3854776365699016415' not in persistent cache.\n",
      "Key '-6077651257324834966' not in persistent cache.\n",
      "Key '7373845880246900684' not in persistent cache.\n",
      "Key '-68901226355845342' not in persistent cache.\n",
      "Key '-8230288402995740514' not in persistent cache.\n",
      "Key '3749682792050996668' not in persistent cache.\n",
      "Key '8991667532248075376' not in persistent cache.\n",
      "Key '-4820649138908553624' not in persistent cache.\n",
      "Key '-5936007026913591971' not in persistent cache.\n",
      "Key '5757713478091751008' not in persistent cache.\n",
      "Key '176912748555489884' not in persistent cache.\n",
      "Key '-9169961081069916339' not in persistent cache.\n",
      "Key '-3350047025531482672' not in persistent cache.\n",
      "Key '-85214923532924366' not in persistent cache.\n",
      "Key '7124145846968729729' not in persistent cache.\n",
      "Key '-1679730823431704301' not in persistent cache.\n",
      "Key '-783003917121839480' not in persistent cache.\n",
      "Key '-4564201103758137999' not in persistent cache.\n",
      "Key '-3142644431204072460' not in persistent cache.\n",
      "Key '-1630685382608698888' not in persistent cache.\n",
      "Key '376425083343811809' not in persistent cache.\n",
      "Key '-7066322023258934217' not in persistent cache.\n",
      "Key '3219034873810722227' not in persistent cache.\n",
      "Key '8242666736344002115' not in persistent cache.\n",
      "Key '-4962092597168470793' not in persistent cache.\n",
      "Key '-327665194615548177' not in persistent cache.\n",
      "Key '-8489052371255443349' not in persistent cache.\n",
      "Key '-8196046651324795161' not in persistent cache.\n",
      "Key '-2376132595786361494' not in persistent cache.\n",
      "Key '-4676977136776910892' not in persistent cache.\n",
      "Key '1142936918761522775' not in persistent cache.\n",
      "Key '4407769020760081081' not in persistent cache.\n",
      "Key '4571100502626878351' not in persistent cache.\n",
      "Key '2813253120861301146' not in persistent cache.\n",
      "Key '-3336049261463690858' not in persistent cache.\n",
      "Key '-71217159465132552' not in persistent cache.\n",
      "Key '1350339513088932987' not in persistent cache.\n",
      "Key '2862298561684306559' not in persistent cache.\n",
      "Key '4869409027636817256' not in persistent cache.\n",
      "Key '-2573338078965928770' not in persistent cache.\n",
      "Key '7712018818103727674' not in persistent cache.\n",
      "Key '-4971507029668551729' not in persistent cache.\n",
      "Key '-6822190235317244139' not in persistent cache.\n",
      "Key '-8131205490803625673' not in persistent cache.\n",
      "Key '-2641805835168236893' not in persistent cache.\n",
      "Key '2600178905028841815' not in persistent cache.\n",
      "Key '-6935549143136545454' not in persistent cache.\n",
      "Key '1124888184973507767' not in persistent cache.\n",
      "Key '6366872925170586475' not in persistent cache.\n",
      "Key '-399414457351185700' not in persistent cache.\n",
      "Key '-8560801633991080872' not in persistent cache.\n",
      "Key '-8267795914060432684' not in persistent cache.\n",
      "Key '-6846239241506367145' not in persistent cache.\n",
      "Key '6651988385562146376' not in persistent cache.\n",
      "Key '-3327169726958482876' not in persistent cache.\n",
      "Key '-2710009530610413267' not in persistent cache.\n",
      "Key '100993856906872700' not in persistent cache.\n",
      "Key '2741503858125663623' not in persistent cache.\n",
      "Key '-7806155907183696509' not in persistent cache.\n",
      "Key '-4541323805185138203' not in persistent cache.\n",
      "Key '1278590250353295464' not in persistent cache.\n",
      "Key '-8653837372670555917' not in persistent cache.\n",
      "Key '-2248369523733677092' not in persistent cache.\n",
      "Key '-7043444724685934421' not in persistent cache.\n",
      "Key '3241912172383722023' not in persistent cache.\n",
      "Key '-651761799608186528' not in persistent cache.\n",
      "Key '-6810491844485802611' not in persistent cache.\n",
      "Key '-2176064441932879995' not in persistent cache.\n",
      "Key '8109292455136776449' not in persistent cache.\n",
      "Key '8402298175067424637' not in persistent cache.\n",
      "Key '-4224531843103693312' not in persistent cache.\n",
      "Key '-6525376384094242710' not in persistent cache.\n",
      "Key '-705462328555809043' not in persistent cache.\n",
      "Key '-4486659515192107562' not in persistent cache.\n",
      "Key '2722701255309546533' not in persistent cache.\n",
      "Key '964853873543969328' not in persistent cache.\n",
      "Key '-5184448508781022676' not in persistent cache.\n",
      "Key '-1919616406782464370' not in persistent cache.\n",
      "Key '-498059734228398831' not in persistent cache.\n",
      "Key '-6032129974267882084' not in persistent cache.\n",
      "Key '3021009780319485438' not in persistent cache.\n",
      "Key '-4421737326283260588' not in persistent cache.\n",
      "Key '5863619570786395856' not in persistent cache.\n",
      "Key '1860667990146196223' not in persistent cache.\n",
      "Key '-6945733960381908557' not in persistent cache.\n",
      "Key '336365347821502756' not in persistent cache.\n",
      "Key '-3426664445834024288' not in persistent cache.\n",
      "Key '-3133658725903376100' not in persistent cache.\n",
      "Key '-1712102053349310561' not in persistent cache.\n",
      "Key '-6660618499990348656' not in persistent cache.\n",
      "Key '1806967461198573708' not in persistent cache.\n",
      "Key '-1974229725437724811' not in persistent cache.\n",
      "Key '5235131045063929284' not in persistent cache.\n",
      "Key '7875641046282720207' not in persistent cache.\n",
      "Key '-2672018719026639925' not in persistent cache.\n",
      "Key '592813382971918381' not in persistent cache.\n",
      "Key '6412727438510352048' not in persistent cache.\n",
      "Key '-3519700184513499333' not in persistent cache.\n",
      "Key '2885767664423379492' not in persistent cache.\n",
      "Key '-1909307536528877837' not in persistent cache.\n",
      "Key '8376049360540778607' not in persistent cache.\n",
      "Key '-6504659392952343258' not in persistent cache.\n",
      "Key '3135682730229103578' not in persistent cache.\n",
      "Key '7770110132782026194' not in persistent cache.\n",
      "Key '6654752244776987847' not in persistent cache.\n",
      "Key '-98271323927220790' not in persistent cache.\n",
      "Key '8369314637261701574' not in persistent cache.\n",
      "Key '3420798190620663479' not in persistent cache.\n",
      "Key '4842354863174729018' not in persistent cache.\n",
      "Key '-5941199725551896164' not in persistent cache.\n",
      "Key '-3130196338034610197' not in persistent cache.\n",
      "Key '-8551624839639902780' not in persistent cache.\n",
      "Key '-1342264069138248685' not in persistent cache.\n",
      "Key '8300603334170868901' not in persistent cache.\n",
      "Key '4798972857496365594' not in persistent cache.\n",
      "Key '5416133053844435203' not in persistent cache.\n",
      "Key '-4563025058676194049' not in persistent cache.\n",
      "Key '3951291392009506186' not in persistent cache.\n",
      "Key '-8089984832763166605' not in persistent cache.\n",
      "Key '2914012134343638985' not in persistent cache.\n",
      "Key '-5247375042296256187' not in persistent cache.\n",
      "Key '6184620909564606516' not in persistent cache.\n",
      "Key '-7020138423947866392' not in persistent cache.\n",
      "Key '4660318267239913049' not in persistent cache.\n",
      "Key '-3501068909399982123' not in persistent cache.\n",
      "Key '1190294193515034193' not in persistent cache.\n",
      "Key '2611850866069099732' not in persistent cache.\n",
      "Key '-6735022963556306491' not in persistent cache.\n",
      "Key '-915108908017872824' not in persistent cache.\n",
      "Key '2349723193980685482' not in persistent cache.\n",
      "Key '-8887660109227212039' not in persistent cache.\n",
      "Key '755207294081905547' not in persistent cache.\n",
      "Key '1651934200391770368' not in persistent cache.\n",
      "Key '4916766302390328674' not in persistent cache.\n",
      "Key '6338322974944394213' not in persistent cache.\n",
      "Key '804252734904910960' not in persistent cache.\n",
      "Key '2811363200857421657' not in persistent cache.\n",
      "Key '-4631383905745324369' not in persistent cache.\n",
      "Key '-5746741793750362716' not in persistent cache.\n",
      "Key '8586588262692702746' not in persistent cache.\n",
      "Key '-4618171070819770162' not in persistent cache.\n",
      "Key '16256331733152454' not in persistent cache.\n",
      "Key '-1099101556271885893' not in persistent cache.\n",
      "Key '-7852125124976094530' not in persistent cache.\n",
      "Key '5013818219197195962' not in persistent cache.\n",
      "Key '-4333055610428210261' not in persistent cache.\n",
      "Key '1486858445110223406' not in persistent cache.\n",
      "Key '4751690547108781712' not in persistent cache.\n",
      "Key '-6485692756099115809' not in persistent cache.\n",
      "Key '3157174647210001777' not in persistent cache.\n",
      "Key '4053901553519866598' not in persistent cache.\n",
      "Key '272704366883568079' not in persistent cache.\n",
      "Key '8740290328072490443' not in persistent cache.\n",
      "Key '3206220088033007190' not in persistent cache.\n",
      "Key '5213330553985517887' not in persistent cache.\n",
      "Key '-2229416552617228139' not in persistent cache.\n",
      "Key '8055940344452428305' not in persistent cache.\n",
      "Key '3701074300319228718' not in persistent cache.\n",
      "Key '8943059040516307426' not in persistent cache.\n",
      "Key '2176771657994535251' not in persistent cache.\n",
      "Key '-5984615518645359921' not in persistent cache.\n",
      "Key '-5691609798714711733' not in persistent cache.\n",
      "Key '128304256823721934' not in persistent cache.\n",
      "Key '-2172540284166827464' not in persistent cache.\n",
      "Key '3647373771371606203' not in persistent cache.\n",
      "Key '-133823415264692316' not in persistent cache.\n",
      "Key '7075537355236961779' not in persistent cache.\n",
      "Key '5317689973471384574' not in persistent cache.\n",
      "Key '-5229969791837975558' not in persistent cache.\n",
      "Key '2433219693144950876' not in persistent cache.\n",
      "Key '3854776365699016415' not in persistent cache.\n",
      "Key '-6077651257324834966' not in persistent cache.\n",
      "Key '7373845880246900684' not in persistent cache.\n",
      "Key '-68901226355845342' not in persistent cache.\n",
      "Key '-8230288402995740514' not in persistent cache.\n",
      "Key '3749682792050996668' not in persistent cache.\n",
      "Key '8991667532248075376' not in persistent cache.\n",
      "Key '-4820649138908553624' not in persistent cache.\n",
      "Key '-5936007026913591971' not in persistent cache.\n",
      "Key '5757713478091751008' not in persistent cache.\n",
      "Key '176912748555489884' not in persistent cache.\n",
      "Key '-9169961081069916339' not in persistent cache.\n",
      "Key '-3350047025531482672' not in persistent cache.\n",
      "Key '-85214923532924366' not in persistent cache.\n",
      "Key '7124145846968729729' not in persistent cache.\n",
      "Key '-1679730823431704301' not in persistent cache.\n",
      "Key '-783003917121839480' not in persistent cache.\n",
      "Key '-4564201103758137999' not in persistent cache.\n",
      "Key '-3142644431204072460' not in persistent cache.\n",
      "Key '-1630685382608698888' not in persistent cache.\n",
      "Key '376425083343811809' not in persistent cache.\n",
      "Key '-7066322023258934217' not in persistent cache.\n",
      "Key '3219034873810722227' not in persistent cache.\n",
      "Key '8242666736344002115' not in persistent cache.\n",
      "Key '-4962092597168470793' not in persistent cache.\n",
      "Key '-327665194615548177' not in persistent cache.\n",
      "Key '-8489052371255443349' not in persistent cache.\n",
      "Key '-8196046651324795161' not in persistent cache.\n",
      "Key '-2376132595786361494' not in persistent cache.\n",
      "Key '-4676977136776910892' not in persistent cache.\n",
      "Key '1142936918761522775' not in persistent cache.\n",
      "Key '4407769020760081081' not in persistent cache.\n",
      "Key '4571100502626878351' not in persistent cache.\n",
      "Key '2813253120861301146' not in persistent cache.\n",
      "Key '-3336049261463690858' not in persistent cache.\n",
      "Key '-71217159465132552' not in persistent cache.\n",
      "Key '1350339513088932987' not in persistent cache.\n",
      "Key '2862298561684306559' not in persistent cache.\n",
      "Key '4869409027636817256' not in persistent cache.\n",
      "Key '-2573338078965928770' not in persistent cache.\n",
      "Key '7712018818103727674' not in persistent cache.\n",
      "Key '-4971507029668551729' not in persistent cache.\n",
      "Key '-6822190235317244139' not in persistent cache.\n",
      "Key '-8131205490803625673' not in persistent cache.\n",
      "Key '-2641805835168236893' not in persistent cache.\n",
      "Key '2600178905028841815' not in persistent cache.\n",
      "Key '-6935549143136545454' not in persistent cache.\n",
      "Key '1124888184973507767' not in persistent cache.\n",
      "Key '6366872925170586475' not in persistent cache.\n",
      "Key '-399414457351185700' not in persistent cache.\n",
      "Key '-8560801633991080872' not in persistent cache.\n",
      "Key '-8267795914060432684' not in persistent cache.\n",
      "Key '-6846239241506367145' not in persistent cache.\n",
      "Key '6651988385562146376' not in persistent cache.\n",
      "Key '-3327169726958482876' not in persistent cache.\n",
      "Key '-2710009530610413267' not in persistent cache.\n",
      "Key '100993856906872700' not in persistent cache.\n",
      "Key '2741503858125663623' not in persistent cache.\n",
      "Key '-7806155907183696509' not in persistent cache.\n",
      "Key '-4541323805185138203' not in persistent cache.\n",
      "Key '1278590250353295464' not in persistent cache.\n",
      "Key '-8653837372670555917' not in persistent cache.\n",
      "Key '-2248369523733677092' not in persistent cache.\n",
      "Key '-7043444724685934421' not in persistent cache.\n",
      "Key '3241912172383722023' not in persistent cache.\n",
      "Key '-651761799608186528' not in persistent cache.\n",
      "Key '-6810491844485802611' not in persistent cache.\n",
      "Key '-2176064441932879995' not in persistent cache.\n",
      "Key '8109292455136776449' not in persistent cache.\n",
      "Key '8402298175067424637' not in persistent cache.\n",
      "Key '-4224531843103693312' not in persistent cache.\n",
      "Key '-6525376384094242710' not in persistent cache.\n",
      "Key '-705462328555809043' not in persistent cache.\n",
      "Key '-4486659515192107562' not in persistent cache.\n",
      "Key '2722701255309546533' not in persistent cache.\n",
      "Key '964853873543969328' not in persistent cache.\n",
      "Key '-5184448508781022676' not in persistent cache.\n",
      "Key '-1919616406782464370' not in persistent cache.\n",
      "Key '-498059734228398831' not in persistent cache.\n",
      "Key '-6032129974267882084' not in persistent cache.\n",
      "Key '3021009780319485438' not in persistent cache.\n",
      "Key '-4421737326283260588' not in persistent cache.\n",
      "Key '5863619570786395856' not in persistent cache.\n",
      "Key '1860667990146196223' not in persistent cache.\n",
      "Key '-6945733960381908557' not in persistent cache.\n",
      "Key '336365347821502756' not in persistent cache.\n",
      "Key '-3426664445834024288' not in persistent cache.\n",
      "Key '-3133658725903376100' not in persistent cache.\n",
      "Key '-1712102053349310561' not in persistent cache.\n",
      "Key '-6660618499990348656' not in persistent cache.\n",
      "Key '1806967461198573708' not in persistent cache.\n",
      "Key '-1974229725437724811' not in persistent cache.\n",
      "Key '5235131045063929284' not in persistent cache.\n",
      "Key '7875641046282720207' not in persistent cache.\n",
      "Key '-2672018719026639925' not in persistent cache.\n",
      "Key '592813382971918381' not in persistent cache.\n",
      "Key '6412727438510352048' not in persistent cache.\n",
      "Key '-3519700184513499333' not in persistent cache.\n",
      "Key '2885767664423379492' not in persistent cache.\n",
      "Key '-1909307536528877837' not in persistent cache.\n",
      "Key '8376049360540778607' not in persistent cache.\n",
      "Key '-6504659392952343258' not in persistent cache.\n",
      "Key '3135682730229103578' not in persistent cache.\n",
      "Key '7770110132782026194' not in persistent cache.\n",
      "Key '6654752244776987847' not in persistent cache.\n",
      "Key '-98271323927220790' not in persistent cache.\n",
      "Key '8369314637261701574' not in persistent cache.\n",
      "Key '3420798190620663479' not in persistent cache.\n",
      "Key '4842354863174729018' not in persistent cache.\n",
      "Key '-5941199725551896164' not in persistent cache.\n",
      "Key '-3130196338034610197' not in persistent cache.\n"
     ]
    }
   ],
   "source": [
    "# Load packages and World Bank Data\n",
    "\n",
    "import numpy as np\n",
    "import matplotlib.pyplot as plt\n",
    "import geopandas as gpd\n",
    "import pandas as pd\n",
    "pd.options.plotting.backend = \"plotly\"\n",
    "%pip install wbdata\n",
    "import wbdata\n",
    "import warnings\n",
    "warnings.filterwarnings('ignore', category=UserWarning, module='wbdata')"
   ]
  },
  {
   "cell_type": "code",
   "execution_count": 2,
   "id": "8e16aa11-04a9-421a-8b28-f3d3ab361037",
   "metadata": {
    "collapsed": true,
    "jupyter": {
     "outputs_hidden": true
    },
    "scrolled": true
   },
   "outputs": [
    {
     "data": {
      "text/plain": [
       "id                    name\n",
       "--------------------  ------------------------------------------------------------------------------------------\n",
       "AG.AGR.TRAC.NO        Agricultural machinery, tractors\n",
       "AG.CON.FERT.PT.ZS     Fertilizer consumption (% of fertilizer production)\n",
       "AG.CON.FERT.ZS        Fertilizer consumption (kilograms per hectare of arable land)\n",
       "AG.LND.AGRI.K2        Agricultural land (sq. km)\n",
       "AG.LND.AGRI.ZS        Agricultural land (% of land area)\n",
       "AG.LND.ARBL.HA        Arable land (hectares)\n",
       "AG.LND.ARBL.HA.PC     Arable land (hectares per person)\n",
       "AG.LND.ARBL.ZS        Arable land (% of land area)\n",
       "AG.LND.CREL.HA        Land under cereal production (hectares)\n",
       "AG.LND.CROP.ZS        Permanent cropland (% of land area)\n",
       "AG.LND.EL5M.RU.K2     Rural land area where elevation is below 5 meters (sq. km)\n",
       "AG.LND.EL5M.RU.ZS     Rural land area where elevation is below 5 meters (% of total land area)\n",
       "AG.LND.FRST.K2        Forest area (sq. km)\n",
       "AG.LND.FRST.ZS        Forest area (% of land area)\n",
       "AG.LND.IRIG.AG.ZS     Agricultural irrigated land (% of total agricultural land)\n",
       "AG.LND.PRCP.MM        Average precipitation in depth (mm per year)\n",
       "AG.LND.TOTL.K2        Land area (sq. km)\n",
       "AG.LND.TOTL.RU.K2     Rural land area (sq. km)\n",
       "AG.LND.TRAC.ZS        Agricultural machinery, tractors per 100 sq. km of arable land\n",
       "AG.PRD.CREL.MT        Cereal production (metric tons)\n",
       "AG.PRD.CROP.XD        Crop production index (2014-2016 = 100)\n",
       "AG.PRD.FOOD.XD        Food production index (2014-2016 = 100)\n",
       "AG.PRD.LVSK.XD        Livestock production index (2014-2016 = 100)\n",
       "AG.SRF.TOTL.K2        Surface area (sq. km)\n",
       "AG.YLD.CREL.KG        Cereal yield (kg per hectare)\n",
       "EA.PRD.AGRI.KD        Agriculture value added per worker (constant 2010 US$)\n",
       "EG.ELC.ACCS.RU.ZS     Access to electricity, rural (% of rural population)\n",
       "EG.NSF.ACCS.RU.ZS     Access to non-solid fuel, rural (% of rural population)\n",
       "EN.AGR.EMPL           Economically active population in agriculture (number)\n",
       "EN.ATM.METH.AG.KT.CE  Agricultural methane emissions (thousand metric tons of CO2 equivalent)\n",
       "EN.ATM.METH.AG.ZS     Agricultural methane emissions (% of total)\n",
       "EN.ATM.NOXE.AG.KT.CE  Agricultural nitrous oxide emissions (thousand metric tons of CO2 equivalent)\n",
       "EN.ATM.NOXE.AG.ZS     Agricultural nitrous oxide emissions (% of total)\n",
       "EN.POP.EL5M.RU.ZS     Rural population living in areas where elevation is below 5 meters (% of total population)\n",
       "ER.H2O.FWAG.ZS        Annual freshwater withdrawals, agriculture (% of total freshwater withdrawal)\n",
       "NV.AGR.TOTL.CD        Agriculture, forestry, and fishing, value added (current US$)\n",
       "NV.AGR.TOTL.ZS        Agriculture, forestry, and fishing, value added (% of GDP)\n",
       "SH.H2O.SAFE.RU.ZS     Improved water source, rural (% of rural population with access)\n",
       "SH.STA.ACSN.RU        Improved sanitation facilities, rural (% of rural population with access)\n",
       "SI.POV.RUGP           Rural poverty gap at national poverty lines (%)\n",
       "SI.POV.RUHC           Rural poverty headcount ratio at national poverty lines (% of rural population)\n",
       "SL.AGR.EMPL.FE.ZS     Employment in agriculture, female (% of female employment) (modeled ILO estimate)\n",
       "SL.AGR.EMPL.MA.ZS     Employment in agriculture, male (% of male employment) (modeled ILO estimate)\n",
       "SL.AGR.EMPL.ZS        Employment in agriculture (% of total employment) (modeled ILO estimate)\n",
       "SP.RUR.TOTL           Rural population\n",
       "SP.RUR.TOTL.ZG        Rural population growth (annual %)\n",
       "SP.RUR.TOTL.ZS        Rural population (% of total population)\n",
       "TM.VAL.AGRI.ZS.UN     Agricultural raw materials imports (% of merchandise imports)\n",
       "TX.VAL.AGRI.ZS.UN     Agricultural raw materials exports (% of merchandise exports)"
      ]
     },
     "execution_count": 2,
     "metadata": {},
     "output_type": "execute_result"
    }
   ],
   "source": [
    "# Set World Bank Data Sources/Indicators for Agriculutre\n",
    " \n",
    "ag_indicators = wbdata.get_indicators(topic=1)\n",
    "ag_indicators"
   ]
  },
  {
   "cell_type": "markdown",
   "id": "8f268e43-3cd3-4b8d-9ff0-ecd3efb13b4f",
   "metadata": {},
   "source": [
    "## Agricultural Analysis"
   ]
  },
  {
   "cell_type": "markdown",
   "id": "bc80475f-f4fb-4f7d-9be2-ce954903cc83",
   "metadata": {},
   "source": [
    "### South Asia (Bangladesh, Bhutan, India, Maldives, Nepal, Pakistan, Sri Lanka)"
   ]
  },
  {
   "cell_type": "code",
   "execution_count": 24,
   "id": "97f0f467-7975-4602-94d3-22520d1b0c99",
   "metadata": {},
   "outputs": [
    {
     "data": {
      "text/html": [
       "<div>\n",
       "<style scoped>\n",
       "    .dataframe tbody tr th:only-of-type {\n",
       "        vertical-align: middle;\n",
       "    }\n",
       "\n",
       "    .dataframe tbody tr th {\n",
       "        vertical-align: top;\n",
       "    }\n",
       "\n",
       "    .dataframe thead th {\n",
       "        text-align: right;\n",
       "    }\n",
       "</style>\n",
       "<table border=\"1\" class=\"dataframe\">\n",
       "  <thead>\n",
       "    <tr style=\"text-align: right;\">\n",
       "      <th></th>\n",
       "      <th>Country</th>\n",
       "      <th>Cereal Production (MT)</th>\n",
       "      <th>Crop Production Index</th>\n",
       "      <th>Food Production Index</th>\n",
       "      <th>Total Rural Population</th>\n",
       "      <th>Total Population</th>\n",
       "    </tr>\n",
       "    <tr>\n",
       "      <th>Date</th>\n",
       "      <th></th>\n",
       "      <th></th>\n",
       "      <th></th>\n",
       "      <th></th>\n",
       "      <th></th>\n",
       "      <th></th>\n",
       "    </tr>\n",
       "  </thead>\n",
       "  <tbody>\n",
       "    <tr>\n",
       "      <th>1961-01-01</th>\n",
       "      <td>South Asia (IDA &amp; IBRD)</td>\n",
       "      <td>1.165423e+08</td>\n",
       "      <td>100.00</td>\n",
       "      <td>100.00</td>\n",
       "      <td>479825865.0</td>\n",
       "      <td>576552257.0</td>\n",
       "    </tr>\n",
       "    <tr>\n",
       "      <th>1961-01-01</th>\n",
       "      <td>Sri Lanka</td>\n",
       "      <td>9.518680e+05</td>\n",
       "      <td>22.90</td>\n",
       "      <td>22.43</td>\n",
       "      <td>8256868.0</td>\n",
       "      <td>9899372.0</td>\n",
       "    </tr>\n",
       "    <tr>\n",
       "      <th>1961-01-01</th>\n",
       "      <td>Bangladesh</td>\n",
       "      <td>1.452370e+07</td>\n",
       "      <td>27.03</td>\n",
       "      <td>24.29</td>\n",
       "      <td>50496628.0</td>\n",
       "      <td>53310348.0</td>\n",
       "    </tr>\n",
       "    <tr>\n",
       "      <th>1961-01-01</th>\n",
       "      <td>India</td>\n",
       "      <td>8.737650e+07</td>\n",
       "      <td>24.73</td>\n",
       "      <td>22.43</td>\n",
       "      <td>366040177.0</td>\n",
       "      <td>446564729.0</td>\n",
       "    </tr>\n",
       "    <tr>\n",
       "      <th>1961-01-01</th>\n",
       "      <td>Pakistan</td>\n",
       "      <td>6.729680e+06</td>\n",
       "      <td>17.81</td>\n",
       "      <td>13.71</td>\n",
       "      <td>36363520.0</td>\n",
       "      <td>46921277.0</td>\n",
       "    </tr>\n",
       "    <tr>\n",
       "      <th>...</th>\n",
       "      <td>...</td>\n",
       "      <td>...</td>\n",
       "      <td>...</td>\n",
       "      <td>...</td>\n",
       "      <td>...</td>\n",
       "      <td>...</td>\n",
       "    </tr>\n",
       "    <tr>\n",
       "      <th>2022-01-01</th>\n",
       "      <td>Bhutan</td>\n",
       "      <td>7.136470e+04</td>\n",
       "      <td>68.09</td>\n",
       "      <td>77.75</td>\n",
       "      <td>439764.0</td>\n",
       "      <td>780914.0</td>\n",
       "    </tr>\n",
       "    <tr>\n",
       "      <th>2022-01-01</th>\n",
       "      <td>Maldives</td>\n",
       "      <td>2.044000e+02</td>\n",
       "      <td>93.70</td>\n",
       "      <td>94.49</td>\n",
       "      <td>306413.0</td>\n",
       "      <td>524106.0</td>\n",
       "    </tr>\n",
       "    <tr>\n",
       "      <th>2022-01-01</th>\n",
       "      <td>Nepal</td>\n",
       "      <td>1.112837e+07</td>\n",
       "      <td>116.66</td>\n",
       "      <td>123.18</td>\n",
       "      <td>23341178.0</td>\n",
       "      <td>29715436.0</td>\n",
       "    </tr>\n",
       "    <tr>\n",
       "      <th>2022-01-01</th>\n",
       "      <td>Pakistan</td>\n",
       "      <td>4.771793e+07</td>\n",
       "      <td>104.13</td>\n",
       "      <td>122.43</td>\n",
       "      <td>151749968.0</td>\n",
       "      <td>243700667.0</td>\n",
       "    </tr>\n",
       "    <tr>\n",
       "      <th>2022-01-01</th>\n",
       "      <td>Bangladesh</td>\n",
       "      <td>6.254953e+07</td>\n",
       "      <td>119.10</td>\n",
       "      <td>125.20</td>\n",
       "      <td>102120461.0</td>\n",
       "      <td>169384897.0</td>\n",
       "    </tr>\n",
       "  </tbody>\n",
       "</table>\n",
       "<p>494 rows × 6 columns</p>\n",
       "</div>"
      ],
      "text/plain": [
       "                            Country  Cereal Production (MT)  \\\n",
       "Date                                                          \n",
       "1961-01-01  South Asia (IDA & IBRD)            1.165423e+08   \n",
       "1961-01-01                Sri Lanka            9.518680e+05   \n",
       "1961-01-01               Bangladesh            1.452370e+07   \n",
       "1961-01-01                    India            8.737650e+07   \n",
       "1961-01-01                 Pakistan            6.729680e+06   \n",
       "...                             ...                     ...   \n",
       "2022-01-01                   Bhutan            7.136470e+04   \n",
       "2022-01-01                 Maldives            2.044000e+02   \n",
       "2022-01-01                    Nepal            1.112837e+07   \n",
       "2022-01-01                 Pakistan            4.771793e+07   \n",
       "2022-01-01               Bangladesh            6.254953e+07   \n",
       "\n",
       "            Crop Production Index  Food Production Index  \\\n",
       "Date                                                       \n",
       "1961-01-01                 100.00                 100.00   \n",
       "1961-01-01                  22.90                  22.43   \n",
       "1961-01-01                  27.03                  24.29   \n",
       "1961-01-01                  24.73                  22.43   \n",
       "1961-01-01                  17.81                  13.71   \n",
       "...                           ...                    ...   \n",
       "2022-01-01                  68.09                  77.75   \n",
       "2022-01-01                  93.70                  94.49   \n",
       "2022-01-01                 116.66                 123.18   \n",
       "2022-01-01                 104.13                 122.43   \n",
       "2022-01-01                 119.10                 125.20   \n",
       "\n",
       "            Total Rural Population  Total Population  \n",
       "Date                                                  \n",
       "1961-01-01             479825865.0       576552257.0  \n",
       "1961-01-01               8256868.0         9899372.0  \n",
       "1961-01-01              50496628.0        53310348.0  \n",
       "1961-01-01             366040177.0       446564729.0  \n",
       "1961-01-01              36363520.0        46921277.0  \n",
       "...                            ...               ...  \n",
       "2022-01-01                439764.0          780914.0  \n",
       "2022-01-01                306413.0          524106.0  \n",
       "2022-01-01              23341178.0        29715436.0  \n",
       "2022-01-01             151749968.0       243700667.0  \n",
       "2022-01-01             102120461.0       169384897.0  \n",
       "\n",
       "[494 rows x 6 columns]"
      ]
     },
     "execution_count": 24,
     "metadata": {},
     "output_type": "execute_result"
    }
   ],
   "source": [
    "variable_labels = {\"AG.PRD.CREL.MT\":\"Cereal Production (MT)\",\n",
    "                   \"AG.PRD.CROP.XD\":\"Crop Production Index\",\n",
    "                  \"AG.PRD.FOOD.XD\":\"Food Production Index\",\n",
    "                   'SP.RUR.TOTL': 'Total Rural Population',\n",
    "                   \"SP.POP.TOTL\":\"Total Population\"\n",
    "                  # \"EA.PRD.AGRI.KD\":\"Agricultural Value Added per Worker\"\n",
    "                  }\n",
    "countries = {\"BGD\":\"Bangladesh\",\n",
    "             \"BTN\":\"Bhutan\",\n",
    "             \"IND\": \"India\",\n",
    "             \"MDV\": \"Maldives\",\n",
    "             \"NPL\": \"Nepal\",\n",
    "             \"PAK\": \"Pakistan\",\n",
    "             \"LKA\": \"Sri Lanka\",\n",
    "             \"TSA\":\"South Asia (IDA & IBRD)\"\n",
    "            }\n",
    "SA_ag = wbdata.get_dataframe(variable_labels, country = countries,parse_dates=True)\n",
    "SA_ag = SA_ag.reset_index()\n",
    "SA_ag = SA_ag.rename(columns={'date': 'Date', 'country':'Country'})\n",
    "SA_ag = SA_ag.set_index(['Date']).sort_index()\n",
    "SA_ag = SA_ag.dropna(subset=[\"Cereal Production (MT)\", \"Crop Production Index\", \"Food Production Index\", \n",
    "                            \"Total Rural Population\", 'Total Population'])\n",
    "SA_ag"
   ]
  },
  {
   "cell_type": "code",
   "execution_count": 25,
   "id": "68ed05fe-b0db-4f59-9c52-c42356d97c9b",
   "metadata": {},
   "outputs": [
    {
     "data": {
      "application/vnd.plotly.v1+json": {
       "config": {
        "plotlyServerURL": "https://plot.ly"
       },
       "data": [
        {
         "line": {
          "color": "blue",
          "dash": "solid"
         },
         "mode": "lines+markers",
         "name": "Bangladesh",
         "type": "scatter",
         "x": [
          "1961-01-01T00:00:00",
          "1962-01-01T00:00:00",
          "1963-01-01T00:00:00",
          "1964-01-01T00:00:00",
          "1965-01-01T00:00:00",
          "1966-01-01T00:00:00",
          "1967-01-01T00:00:00",
          "1968-01-01T00:00:00",
          "1969-01-01T00:00:00",
          "1970-01-01T00:00:00",
          "1971-01-01T00:00:00",
          "1972-01-01T00:00:00",
          "1973-01-01T00:00:00",
          "1974-01-01T00:00:00",
          "1975-01-01T00:00:00",
          "1976-01-01T00:00:00",
          "1977-01-01T00:00:00",
          "1978-01-01T00:00:00",
          "1979-01-01T00:00:00",
          "1980-01-01T00:00:00",
          "1981-01-01T00:00:00",
          "1982-01-01T00:00:00",
          "1983-01-01T00:00:00",
          "1984-01-01T00:00:00",
          "1985-01-01T00:00:00",
          "1986-01-01T00:00:00",
          "1987-01-01T00:00:00",
          "1988-01-01T00:00:00",
          "1989-01-01T00:00:00",
          "1990-01-01T00:00:00",
          "1991-01-01T00:00:00",
          "1992-01-01T00:00:00",
          "1993-01-01T00:00:00",
          "1994-01-01T00:00:00",
          "1995-01-01T00:00:00",
          "1996-01-01T00:00:00",
          "1997-01-01T00:00:00",
          "1998-01-01T00:00:00",
          "1999-01-01T00:00:00",
          "2000-01-01T00:00:00",
          "2001-01-01T00:00:00",
          "2002-01-01T00:00:00",
          "2003-01-01T00:00:00",
          "2004-01-01T00:00:00",
          "2005-01-01T00:00:00",
          "2006-01-01T00:00:00",
          "2007-01-01T00:00:00",
          "2008-01-01T00:00:00",
          "2009-01-01T00:00:00",
          "2010-01-01T00:00:00",
          "2011-01-01T00:00:00",
          "2012-01-01T00:00:00",
          "2013-01-01T00:00:00",
          "2014-01-01T00:00:00",
          "2015-01-01T00:00:00",
          "2016-01-01T00:00:00",
          "2017-01-01T00:00:00",
          "2018-01-01T00:00:00",
          "2019-01-01T00:00:00",
          "2020-01-01T00:00:00",
          "2021-01-01T00:00:00",
          "2022-01-01T00:00:00"
         ],
         "y": [
          14523696,
          13408128,
          16042664,
          15842004,
          15852140,
          14464297,
          16876448,
          17160028,
          18187398,
          16905215,
          15088878,
          15323537,
          18021512,
          17105414,
          19322564,
          17908126,
          19772481,
          19984399,
          19658591,
          21698327,
          21591389,
          22339648,
          22990185,
          23256274,
          24134965,
          24266331,
          24304321,
          24449929,
          27886213,
          27746673,
          28326730,
          28516927,
          28177410,
          26325480,
          27704115,
          29620075,
          29673515,
          31577495,
          36403000,
          39503000,
          38029335,
          39341455,
          40015280,
          37759046,
          41146756,
          42044685,
          44841300,
          48946800,
          49735853,
          51862850,
          52628364,
          52801014,
          54357477,
          55241123,
          55438379,
          54262297,
          58495624,
          58816519.33,
          59185501.11,
          59962356.15,
          61597969.2,
          62549531.82
         ]
        }
       ],
       "layout": {
        "template": {
         "data": {
          "bar": [
           {
            "error_x": {
             "color": "#2a3f5f"
            },
            "error_y": {
             "color": "#2a3f5f"
            },
            "marker": {
             "line": {
              "color": "#E5ECF6",
              "width": 0.5
             },
             "pattern": {
              "fillmode": "overlay",
              "size": 10,
              "solidity": 0.2
             }
            },
            "type": "bar"
           }
          ],
          "barpolar": [
           {
            "marker": {
             "line": {
              "color": "#E5ECF6",
              "width": 0.5
             },
             "pattern": {
              "fillmode": "overlay",
              "size": 10,
              "solidity": 0.2
             }
            },
            "type": "barpolar"
           }
          ],
          "carpet": [
           {
            "aaxis": {
             "endlinecolor": "#2a3f5f",
             "gridcolor": "white",
             "linecolor": "white",
             "minorgridcolor": "white",
             "startlinecolor": "#2a3f5f"
            },
            "baxis": {
             "endlinecolor": "#2a3f5f",
             "gridcolor": "white",
             "linecolor": "white",
             "minorgridcolor": "white",
             "startlinecolor": "#2a3f5f"
            },
            "type": "carpet"
           }
          ],
          "choropleth": [
           {
            "colorbar": {
             "outlinewidth": 0,
             "ticks": ""
            },
            "type": "choropleth"
           }
          ],
          "contour": [
           {
            "colorbar": {
             "outlinewidth": 0,
             "ticks": ""
            },
            "colorscale": [
             [
              0,
              "#0d0887"
             ],
             [
              0.1111111111111111,
              "#46039f"
             ],
             [
              0.2222222222222222,
              "#7201a8"
             ],
             [
              0.3333333333333333,
              "#9c179e"
             ],
             [
              0.4444444444444444,
              "#bd3786"
             ],
             [
              0.5555555555555556,
              "#d8576b"
             ],
             [
              0.6666666666666666,
              "#ed7953"
             ],
             [
              0.7777777777777778,
              "#fb9f3a"
             ],
             [
              0.8888888888888888,
              "#fdca26"
             ],
             [
              1,
              "#f0f921"
             ]
            ],
            "type": "contour"
           }
          ],
          "contourcarpet": [
           {
            "colorbar": {
             "outlinewidth": 0,
             "ticks": ""
            },
            "type": "contourcarpet"
           }
          ],
          "heatmap": [
           {
            "colorbar": {
             "outlinewidth": 0,
             "ticks": ""
            },
            "colorscale": [
             [
              0,
              "#0d0887"
             ],
             [
              0.1111111111111111,
              "#46039f"
             ],
             [
              0.2222222222222222,
              "#7201a8"
             ],
             [
              0.3333333333333333,
              "#9c179e"
             ],
             [
              0.4444444444444444,
              "#bd3786"
             ],
             [
              0.5555555555555556,
              "#d8576b"
             ],
             [
              0.6666666666666666,
              "#ed7953"
             ],
             [
              0.7777777777777778,
              "#fb9f3a"
             ],
             [
              0.8888888888888888,
              "#fdca26"
             ],
             [
              1,
              "#f0f921"
             ]
            ],
            "type": "heatmap"
           }
          ],
          "heatmapgl": [
           {
            "colorbar": {
             "outlinewidth": 0,
             "ticks": ""
            },
            "colorscale": [
             [
              0,
              "#0d0887"
             ],
             [
              0.1111111111111111,
              "#46039f"
             ],
             [
              0.2222222222222222,
              "#7201a8"
             ],
             [
              0.3333333333333333,
              "#9c179e"
             ],
             [
              0.4444444444444444,
              "#bd3786"
             ],
             [
              0.5555555555555556,
              "#d8576b"
             ],
             [
              0.6666666666666666,
              "#ed7953"
             ],
             [
              0.7777777777777778,
              "#fb9f3a"
             ],
             [
              0.8888888888888888,
              "#fdca26"
             ],
             [
              1,
              "#f0f921"
             ]
            ],
            "type": "heatmapgl"
           }
          ],
          "histogram": [
           {
            "marker": {
             "pattern": {
              "fillmode": "overlay",
              "size": 10,
              "solidity": 0.2
             }
            },
            "type": "histogram"
           }
          ],
          "histogram2d": [
           {
            "colorbar": {
             "outlinewidth": 0,
             "ticks": ""
            },
            "colorscale": [
             [
              0,
              "#0d0887"
             ],
             [
              0.1111111111111111,
              "#46039f"
             ],
             [
              0.2222222222222222,
              "#7201a8"
             ],
             [
              0.3333333333333333,
              "#9c179e"
             ],
             [
              0.4444444444444444,
              "#bd3786"
             ],
             [
              0.5555555555555556,
              "#d8576b"
             ],
             [
              0.6666666666666666,
              "#ed7953"
             ],
             [
              0.7777777777777778,
              "#fb9f3a"
             ],
             [
              0.8888888888888888,
              "#fdca26"
             ],
             [
              1,
              "#f0f921"
             ]
            ],
            "type": "histogram2d"
           }
          ],
          "histogram2dcontour": [
           {
            "colorbar": {
             "outlinewidth": 0,
             "ticks": ""
            },
            "colorscale": [
             [
              0,
              "#0d0887"
             ],
             [
              0.1111111111111111,
              "#46039f"
             ],
             [
              0.2222222222222222,
              "#7201a8"
             ],
             [
              0.3333333333333333,
              "#9c179e"
             ],
             [
              0.4444444444444444,
              "#bd3786"
             ],
             [
              0.5555555555555556,
              "#d8576b"
             ],
             [
              0.6666666666666666,
              "#ed7953"
             ],
             [
              0.7777777777777778,
              "#fb9f3a"
             ],
             [
              0.8888888888888888,
              "#fdca26"
             ],
             [
              1,
              "#f0f921"
             ]
            ],
            "type": "histogram2dcontour"
           }
          ],
          "mesh3d": [
           {
            "colorbar": {
             "outlinewidth": 0,
             "ticks": ""
            },
            "type": "mesh3d"
           }
          ],
          "parcoords": [
           {
            "line": {
             "colorbar": {
              "outlinewidth": 0,
              "ticks": ""
             }
            },
            "type": "parcoords"
           }
          ],
          "pie": [
           {
            "automargin": true,
            "type": "pie"
           }
          ],
          "scatter": [
           {
            "fillpattern": {
             "fillmode": "overlay",
             "size": 10,
             "solidity": 0.2
            },
            "type": "scatter"
           }
          ],
          "scatter3d": [
           {
            "line": {
             "colorbar": {
              "outlinewidth": 0,
              "ticks": ""
             }
            },
            "marker": {
             "colorbar": {
              "outlinewidth": 0,
              "ticks": ""
             }
            },
            "type": "scatter3d"
           }
          ],
          "scattercarpet": [
           {
            "marker": {
             "colorbar": {
              "outlinewidth": 0,
              "ticks": ""
             }
            },
            "type": "scattercarpet"
           }
          ],
          "scattergeo": [
           {
            "marker": {
             "colorbar": {
              "outlinewidth": 0,
              "ticks": ""
             }
            },
            "type": "scattergeo"
           }
          ],
          "scattergl": [
           {
            "marker": {
             "colorbar": {
              "outlinewidth": 0,
              "ticks": ""
             }
            },
            "type": "scattergl"
           }
          ],
          "scattermapbox": [
           {
            "marker": {
             "colorbar": {
              "outlinewidth": 0,
              "ticks": ""
             }
            },
            "type": "scattermapbox"
           }
          ],
          "scatterpolar": [
           {
            "marker": {
             "colorbar": {
              "outlinewidth": 0,
              "ticks": ""
             }
            },
            "type": "scatterpolar"
           }
          ],
          "scatterpolargl": [
           {
            "marker": {
             "colorbar": {
              "outlinewidth": 0,
              "ticks": ""
             }
            },
            "type": "scatterpolargl"
           }
          ],
          "scatterternary": [
           {
            "marker": {
             "colorbar": {
              "outlinewidth": 0,
              "ticks": ""
             }
            },
            "type": "scatterternary"
           }
          ],
          "surface": [
           {
            "colorbar": {
             "outlinewidth": 0,
             "ticks": ""
            },
            "colorscale": [
             [
              0,
              "#0d0887"
             ],
             [
              0.1111111111111111,
              "#46039f"
             ],
             [
              0.2222222222222222,
              "#7201a8"
             ],
             [
              0.3333333333333333,
              "#9c179e"
             ],
             [
              0.4444444444444444,
              "#bd3786"
             ],
             [
              0.5555555555555556,
              "#d8576b"
             ],
             [
              0.6666666666666666,
              "#ed7953"
             ],
             [
              0.7777777777777778,
              "#fb9f3a"
             ],
             [
              0.8888888888888888,
              "#fdca26"
             ],
             [
              1,
              "#f0f921"
             ]
            ],
            "type": "surface"
           }
          ],
          "table": [
           {
            "cells": {
             "fill": {
              "color": "#EBF0F8"
             },
             "line": {
              "color": "white"
             }
            },
            "header": {
             "fill": {
              "color": "#C8D4E3"
             },
             "line": {
              "color": "white"
             }
            },
            "type": "table"
           }
          ]
         },
         "layout": {
          "annotationdefaults": {
           "arrowcolor": "#2a3f5f",
           "arrowhead": 0,
           "arrowwidth": 1
          },
          "autotypenumbers": "strict",
          "coloraxis": {
           "colorbar": {
            "outlinewidth": 0,
            "ticks": ""
           }
          },
          "colorscale": {
           "diverging": [
            [
             0,
             "#8e0152"
            ],
            [
             0.1,
             "#c51b7d"
            ],
            [
             0.2,
             "#de77ae"
            ],
            [
             0.3,
             "#f1b6da"
            ],
            [
             0.4,
             "#fde0ef"
            ],
            [
             0.5,
             "#f7f7f7"
            ],
            [
             0.6,
             "#e6f5d0"
            ],
            [
             0.7,
             "#b8e186"
            ],
            [
             0.8,
             "#7fbc41"
            ],
            [
             0.9,
             "#4d9221"
            ],
            [
             1,
             "#276419"
            ]
           ],
           "sequential": [
            [
             0,
             "#0d0887"
            ],
            [
             0.1111111111111111,
             "#46039f"
            ],
            [
             0.2222222222222222,
             "#7201a8"
            ],
            [
             0.3333333333333333,
             "#9c179e"
            ],
            [
             0.4444444444444444,
             "#bd3786"
            ],
            [
             0.5555555555555556,
             "#d8576b"
            ],
            [
             0.6666666666666666,
             "#ed7953"
            ],
            [
             0.7777777777777778,
             "#fb9f3a"
            ],
            [
             0.8888888888888888,
             "#fdca26"
            ],
            [
             1,
             "#f0f921"
            ]
           ],
           "sequentialminus": [
            [
             0,
             "#0d0887"
            ],
            [
             0.1111111111111111,
             "#46039f"
            ],
            [
             0.2222222222222222,
             "#7201a8"
            ],
            [
             0.3333333333333333,
             "#9c179e"
            ],
            [
             0.4444444444444444,
             "#bd3786"
            ],
            [
             0.5555555555555556,
             "#d8576b"
            ],
            [
             0.6666666666666666,
             "#ed7953"
            ],
            [
             0.7777777777777778,
             "#fb9f3a"
            ],
            [
             0.8888888888888888,
             "#fdca26"
            ],
            [
             1,
             "#f0f921"
            ]
           ]
          },
          "colorway": [
           "#636efa",
           "#EF553B",
           "#00cc96",
           "#ab63fa",
           "#FFA15A",
           "#19d3f3",
           "#FF6692",
           "#B6E880",
           "#FF97FF",
           "#FECB52"
          ],
          "font": {
           "color": "#2a3f5f"
          },
          "geo": {
           "bgcolor": "white",
           "lakecolor": "white",
           "landcolor": "#E5ECF6",
           "showlakes": true,
           "showland": true,
           "subunitcolor": "white"
          },
          "hoverlabel": {
           "align": "left"
          },
          "hovermode": "closest",
          "mapbox": {
           "style": "light"
          },
          "paper_bgcolor": "white",
          "plot_bgcolor": "#E5ECF6",
          "polar": {
           "angularaxis": {
            "gridcolor": "white",
            "linecolor": "white",
            "ticks": ""
           },
           "bgcolor": "#E5ECF6",
           "radialaxis": {
            "gridcolor": "white",
            "linecolor": "white",
            "ticks": ""
           }
          },
          "scene": {
           "xaxis": {
            "backgroundcolor": "#E5ECF6",
            "gridcolor": "white",
            "gridwidth": 2,
            "linecolor": "white",
            "showbackground": true,
            "ticks": "",
            "zerolinecolor": "white"
           },
           "yaxis": {
            "backgroundcolor": "#E5ECF6",
            "gridcolor": "white",
            "gridwidth": 2,
            "linecolor": "white",
            "showbackground": true,
            "ticks": "",
            "zerolinecolor": "white"
           },
           "zaxis": {
            "backgroundcolor": "#E5ECF6",
            "gridcolor": "white",
            "gridwidth": 2,
            "linecolor": "white",
            "showbackground": true,
            "ticks": "",
            "zerolinecolor": "white"
           }
          },
          "shapedefaults": {
           "line": {
            "color": "#2a3f5f"
           }
          },
          "ternary": {
           "aaxis": {
            "gridcolor": "white",
            "linecolor": "white",
            "ticks": ""
           },
           "baxis": {
            "gridcolor": "white",
            "linecolor": "white",
            "ticks": ""
           },
           "bgcolor": "#E5ECF6",
           "caxis": {
            "gridcolor": "white",
            "linecolor": "white",
            "ticks": ""
           }
          },
          "title": {
           "x": 0.05
          },
          "xaxis": {
           "automargin": true,
           "gridcolor": "white",
           "linecolor": "white",
           "ticks": "",
           "title": {
            "standoff": 15
           },
           "zerolinecolor": "white",
           "zerolinewidth": 2
          },
          "yaxis": {
           "automargin": true,
           "gridcolor": "white",
           "linecolor": "white",
           "ticks": "",
           "title": {
            "standoff": 15
           },
           "zerolinecolor": "white",
           "zerolinewidth": 2
          }
         }
        },
        "title": {
         "text": "Cereal Production Over Time (Bangladesh)"
        },
        "xaxis": {
         "title": {
          "text": "Year"
         }
        },
        "yaxis": {
         "title": {
          "text": "Cereal Production (MT)"
         }
        }
       }
      },
      "image/png": "[encoded data removed]",
      "text/html": [
       "<div>                            <div id=\"c3cf5d43-d212-4c2a-b30b-803c6e9f9e2e\" class=\"plotly-graph-div\" style=\"height:525px; width:100%;\"></div>            <script type=\"text/javascript\">                require([\"plotly\"], function(Plotly) {                    window.PLOTLYENV=window.PLOTLYENV || {};                                    if (document.getElementById(\"c3cf5d43-d212-4c2a-b30b-803c6e9f9e2e\")) {                    Plotly.newPlot(                        \"c3cf5d43-d212-4c2a-b30b-803c6e9f9e2e\",                        [{\"line\":{\"color\":\"blue\",\"dash\":\"solid\"},\"mode\":\"lines+markers\",\"name\":\"Bangladesh\",\"x\":[\"1961-01-01T00:00:00\",\"1962-01-01T00:00:00\",\"1963-01-01T00:00:00\",\"1964-01-01T00:00:00\",\"1965-01-01T00:00:00\",\"1966-01-01T00:00:00\",\"1967-01-01T00:00:00\",\"1968-01-01T00:00:00\",\"1969-01-01T00:00:00\",\"1970-01-01T00:00:00\",\"1971-01-01T00:00:00\",\"1972-01-01T00:00:00\",\"1973-01-01T00:00:00\",\"1974-01-01T00:00:00\",\"1975-01-01T00:00:00\",\"1976-01-01T00:00:00\",\"1977-01-01T00:00:00\",\"1978-01-01T00:00:00\",\"1979-01-01T00:00:00\",\"1980-01-01T00:00:00\",\"1981-01-01T00:00:00\",\"1982-01-01T00:00:00\",\"1983-01-01T00:00:00\",\"1984-01-01T00:00:00\",\"1985-01-01T00:00:00\",\"1986-01-01T00:00:00\",\"1987-01-01T00:00:00\",\"1988-01-01T00:00:00\",\"1989-01-01T00:00:00\",\"1990-01-01T00:00:00\",\"1991-01-01T00:00:00\",\"1992-01-01T00:00:00\",\"1993-01-01T00:00:00\",\"1994-01-01T00:00:00\",\"1995-01-01T00:00:00\",\"1996-01-01T00:00:00\",\"1997-01-01T00:00:00\",\"1998-01-01T00:00:00\",\"1999-01-01T00:00:00\",\"2000-01-01T00:00:00\",\"2001-01-01T00:00:00\",\"2002-01-01T00:00:00\",\"2003-01-01T00:00:00\",\"2004-01-01T00:00:00\",\"2005-01-01T00:00:00\",\"2006-01-01T00:00:00\",\"2007-01-01T00:00:00\",\"2008-01-01T00:00:00\",\"2009-01-01T00:00:00\",\"2010-01-01T00:00:00\",\"2011-01-01T00:00:00\",\"2012-01-01T00:00:00\",\"2013-01-01T00:00:00\",\"2014-01-01T00:00:00\",\"2015-01-01T00:00:00\",\"2016-01-01T00:00:00\",\"2017-01-01T00:00:00\",\"2018-01-01T00:00:00\",\"2019-01-01T00:00:00\",\"2020-01-01T00:00:00\",\"2021-01-01T00:00:00\",\"2022-01-01T00:00:00\"],\"y\":[14523696.0,13408128.0,16042664.0,15842004.0,15852140.0,14464297.0,16876448.0,17160028.0,18187398.0,16905215.0,15088878.0,15323537.0,18021512.0,17105414.0,19322564.0,17908126.0,19772481.0,19984399.0,19658591.0,21698327.0,21591389.0,22339648.0,22990185.0,23256274.0,24134965.0,24266331.0,24304321.0,24449929.0,27886213.0,27746673.0,28326730.0,28516927.0,28177410.0,26325480.0,27704115.0,29620075.0,29673515.0,31577495.0,36403000.0,39503000.0,38029335.0,39341455.0,40015280.0,37759046.0,41146756.0,42044685.0,44841300.0,48946800.0,49735853.0,51862850.0,52628364.0,52801014.0,54357477.0,55241123.0,55438379.0,54262297.0,58495624.0,58816519.33,59185501.11,59962356.15,61597969.2,62549531.82],\"type\":\"scatter\"}],                        {\"template\":{\"data\":{\"histogram2dcontour\":[{\"type\":\"histogram2dcontour\",\"colorbar\":{\"outlinewidth\":0,\"ticks\":\"\"},\"colorscale\":[[0.0,\"#0d0887\"],[0.1111111111111111,\"#46039f\"],[0.2222222222222222,\"#7201a8\"],[0.3333333333333333,\"#9c179e\"],[0.4444444444444444,\"#bd3786\"],[0.5555555555555556,\"#d8576b\"],[0.6666666666666666,\"#ed7953\"],[0.7777777777777778,\"#fb9f3a\"],[0.8888888888888888,\"#fdca26\"],[1.0,\"#f0f921\"]]}],\"choropleth\":[{\"type\":\"choropleth\",\"colorbar\":{\"outlinewidth\":0,\"ticks\":\"\"}}],\"histogram2d\":[{\"type\":\"histogram2d\",\"colorbar\":{\"outlinewidth\":0,\"ticks\":\"\"},\"colorscale\":[[0.0,\"#0d0887\"],[0.1111111111111111,\"#46039f\"],[0.2222222222222222,\"#7201a8\"],[0.3333333333333333,\"#9c179e\"],[0.4444444444444444,\"#bd3786\"],[0.5555555555555556,\"#d8576b\"],[0.6666666666666666,\"#ed7953\"],[0.7777777777777778,\"#fb9f3a\"],[0.8888888888888888,\"#fdca26\"],[1.0,\"#f0f921\"]]}],\"heatmap\":[{\"type\":\"heatmap\",\"colorbar\":{\"outlinewidth\":0,\"ticks\":\"\"},\"colorscale\":[[0.0,\"#0d0887\"],[0.1111111111111111,\"#46039f\"],[0.2222222222222222,\"#7201a8\"],[0.3333333333333333,\"#9c179e\"],[0.4444444444444444,\"#bd3786\"],[0.5555555555555556,\"#d8576b\"],[0.6666666666666666,\"#ed7953\"],[0.7777777777777778,\"#fb9f3a\"],[0.8888888888888888,\"#fdca26\"],[1.0,\"#f0f921\"]]}],\"heatmapgl\":[{\"type\":\"heatmapgl\",\"colorbar\":{\"outlinewidth\":0,\"ticks\":\"\"},\"colorscale\":[[0.0,\"#0d0887\"],[0.1111111111111111,\"#46039f\"],[0.2222222222222222,\"#7201a8\"],[0.3333333333333333,\"#9c179e\"],[0.4444444444444444,\"#bd3786\"],[0.5555555555555556,\"#d8576b\"],[0.6666666666666666,\"#ed7953\"],[0.7777777777777778,\"#fb9f3a\"],[0.8888888888888888,\"#fdca26\"],[1.0,\"#f0f921\"]]}],\"contourcarpet\":[{\"type\":\"contourcarpet\",\"colorbar\":{\"outlinewidth\":0,\"ticks\":\"\"}}],\"contour\":[{\"type\":\"contour\",\"colorbar\":{\"outlinewidth\":0,\"ticks\":\"\"},\"colorscale\":[[0.0,\"#0d0887\"],[0.1111111111111111,\"#46039f\"],[0.2222222222222222,\"#7201a8\"],[0.3333333333333333,\"#9c179e\"],[0.4444444444444444,\"#bd3786\"],[0.5555555555555556,\"#d8576b\"],[0.6666666666666666,\"#ed7953\"],[0.7777777777777778,\"#fb9f3a\"],[0.8888888888888888,\"#fdca26\"],[1.0,\"#f0f921\"]]}],\"surface\":[{\"type\":\"surface\",\"colorbar\":{\"outlinewidth\":0,\"ticks\":\"\"},\"colorscale\":[[0.0,\"#0d0887\"],[0.1111111111111111,\"#46039f\"],[0.2222222222222222,\"#7201a8\"],[0.3333333333333333,\"#9c179e\"],[0.4444444444444444,\"#bd3786\"],[0.5555555555555556,\"#d8576b\"],[0.6666666666666666,\"#ed7953\"],[0.7777777777777778,\"#fb9f3a\"],[0.8888888888888888,\"#fdca26\"],[1.0,\"#f0f921\"]]}],\"mesh3d\":[{\"type\":\"mesh3d\",\"colorbar\":{\"outlinewidth\":0,\"ticks\":\"\"}}],\"scatter\":[{\"fillpattern\":{\"fillmode\":\"overlay\",\"size\":10,\"solidity\":0.2},\"type\":\"scatter\"}],\"parcoords\":[{\"type\":\"parcoords\",\"line\":{\"colorbar\":{\"outlinewidth\":0,\"ticks\":\"\"}}}],\"scatterpolargl\":[{\"type\":\"scatterpolargl\",\"marker\":{\"colorbar\":{\"outlinewidth\":0,\"ticks\":\"\"}}}],\"bar\":[{\"error_x\":{\"color\":\"#2a3f5f\"},\"error_y\":{\"color\":\"#2a3f5f\"},\"marker\":{\"line\":{\"color\":\"#E5ECF6\",\"width\":0.5},\"pattern\":{\"fillmode\":\"overlay\",\"size\":10,\"solidity\":0.2}},\"type\":\"bar\"}],\"scattergeo\":[{\"type\":\"scattergeo\",\"marker\":{\"colorbar\":{\"outlinewidth\":0,\"ticks\":\"\"}}}],\"scatterpolar\":[{\"type\":\"scatterpolar\",\"marker\":{\"colorbar\":{\"outlinewidth\":0,\"ticks\":\"\"}}}],\"histogram\":[{\"marker\":{\"pattern\":{\"fillmode\":\"overlay\",\"size\":10,\"solidity\":0.2}},\"type\":\"histogram\"}],\"scattergl\":[{\"type\":\"scattergl\",\"marker\":{\"colorbar\":{\"outlinewidth\":0,\"ticks\":\"\"}}}],\"scatter3d\":[{\"type\":\"scatter3d\",\"line\":{\"colorbar\":{\"outlinewidth\":0,\"ticks\":\"\"}},\"marker\":{\"colorbar\":{\"outlinewidth\":0,\"ticks\":\"\"}}}],\"scattermapbox\":[{\"type\":\"scattermapbox\",\"marker\":{\"colorbar\":{\"outlinewidth\":0,\"ticks\":\"\"}}}],\"scatterternary\":[{\"type\":\"scatterternary\",\"marker\":{\"colorbar\":{\"outlinewidth\":0,\"ticks\":\"\"}}}],\"scattercarpet\":[{\"type\":\"scattercarpet\",\"marker\":{\"colorbar\":{\"outlinewidth\":0,\"ticks\":\"\"}}}],\"carpet\":[{\"aaxis\":{\"endlinecolor\":\"#2a3f5f\",\"gridcolor\":\"white\",\"linecolor\":\"white\",\"minorgridcolor\":\"white\",\"startlinecolor\":\"#2a3f5f\"},\"baxis\":{\"endlinecolor\":\"#2a3f5f\",\"gridcolor\":\"white\",\"linecolor\":\"white\",\"minorgridcolor\":\"white\",\"startlinecolor\":\"#2a3f5f\"},\"type\":\"carpet\"}],\"table\":[{\"cells\":{\"fill\":{\"color\":\"#EBF0F8\"},\"line\":{\"color\":\"white\"}},\"header\":{\"fill\":{\"color\":\"#C8D4E3\"},\"line\":{\"color\":\"white\"}},\"type\":\"table\"}],\"barpolar\":[{\"marker\":{\"line\":{\"color\":\"#E5ECF6\",\"width\":0.5},\"pattern\":{\"fillmode\":\"overlay\",\"size\":10,\"solidity\":0.2}},\"type\":\"barpolar\"}],\"pie\":[{\"automargin\":true,\"type\":\"pie\"}]},\"layout\":{\"autotypenumbers\":\"strict\",\"colorway\":[\"#636efa\",\"#EF553B\",\"#00cc96\",\"#ab63fa\",\"#FFA15A\",\"#19d3f3\",\"#FF6692\",\"#B6E880\",\"#FF97FF\",\"#FECB52\"],\"font\":{\"color\":\"#2a3f5f\"},\"hovermode\":\"closest\",\"hoverlabel\":{\"align\":\"left\"},\"paper_bgcolor\":\"white\",\"plot_bgcolor\":\"#E5ECF6\",\"polar\":{\"bgcolor\":\"#E5ECF6\",\"angularaxis\":{\"gridcolor\":\"white\",\"linecolor\":\"white\",\"ticks\":\"\"},\"radialaxis\":{\"gridcolor\":\"white\",\"linecolor\":\"white\",\"ticks\":\"\"}},\"ternary\":{\"bgcolor\":\"#E5ECF6\",\"aaxis\":{\"gridcolor\":\"white\",\"linecolor\":\"white\",\"ticks\":\"\"},\"baxis\":{\"gridcolor\":\"white\",\"linecolor\":\"white\",\"ticks\":\"\"},\"caxis\":{\"gridcolor\":\"white\",\"linecolor\":\"white\",\"ticks\":\"\"}},\"coloraxis\":{\"colorbar\":{\"outlinewidth\":0,\"ticks\":\"\"}},\"colorscale\":{\"sequential\":[[0.0,\"#0d0887\"],[0.1111111111111111,\"#46039f\"],[0.2222222222222222,\"#7201a8\"],[0.3333333333333333,\"#9c179e\"],[0.4444444444444444,\"#bd3786\"],[0.5555555555555556,\"#d8576b\"],[0.6666666666666666,\"#ed7953\"],[0.7777777777777778,\"#fb9f3a\"],[0.8888888888888888,\"#fdca26\"],[1.0,\"#f0f921\"]],\"sequentialminus\":[[0.0,\"#0d0887\"],[0.1111111111111111,\"#46039f\"],[0.2222222222222222,\"#7201a8\"],[0.3333333333333333,\"#9c179e\"],[0.4444444444444444,\"#bd3786\"],[0.5555555555555556,\"#d8576b\"],[0.6666666666666666,\"#ed7953\"],[0.7777777777777778,\"#fb9f3a\"],[0.8888888888888888,\"#fdca26\"],[1.0,\"#f0f921\"]],\"diverging\":[[0,\"#8e0152\"],[0.1,\"#c51b7d\"],[0.2,\"#de77ae\"],[0.3,\"#f1b6da\"],[0.4,\"#fde0ef\"],[0.5,\"#f7f7f7\"],[0.6,\"#e6f5d0\"],[0.7,\"#b8e186\"],[0.8,\"#7fbc41\"],[0.9,\"#4d9221\"],[1,\"#276419\"]]},\"xaxis\":{\"gridcolor\":\"white\",\"linecolor\":\"white\",\"ticks\":\"\",\"title\":{\"standoff\":15},\"zerolinecolor\":\"white\",\"automargin\":true,\"zerolinewidth\":2},\"yaxis\":{\"gridcolor\":\"white\",\"linecolor\":\"white\",\"ticks\":\"\",\"title\":{\"standoff\":15},\"zerolinecolor\":\"white\",\"automargin\":true,\"zerolinewidth\":2},\"scene\":{\"xaxis\":{\"backgroundcolor\":\"#E5ECF6\",\"gridcolor\":\"white\",\"linecolor\":\"white\",\"showbackground\":true,\"ticks\":\"\",\"zerolinecolor\":\"white\",\"gridwidth\":2},\"yaxis\":{\"backgroundcolor\":\"#E5ECF6\",\"gridcolor\":\"white\",\"linecolor\":\"white\",\"showbackground\":true,\"ticks\":\"\",\"zerolinecolor\":\"white\",\"gridwidth\":2},\"zaxis\":{\"backgroundcolor\":\"#E5ECF6\",\"gridcolor\":\"white\",\"linecolor\":\"white\",\"showbackground\":true,\"ticks\":\"\",\"zerolinecolor\":\"white\",\"gridwidth\":2}},\"shapedefaults\":{\"line\":{\"color\":\"#2a3f5f\"}},\"annotationdefaults\":{\"arrowcolor\":\"#2a3f5f\",\"arrowhead\":0,\"arrowwidth\":1},\"geo\":{\"bgcolor\":\"white\",\"landcolor\":\"#E5ECF6\",\"subunitcolor\":\"white\",\"showland\":true,\"showlakes\":true,\"lakecolor\":\"white\"},\"title\":{\"x\":0.05},\"mapbox\":{\"style\":\"light\"}}},\"title\":{\"text\":\"Cereal Production Over Time (Bangladesh)\"},\"xaxis\":{\"title\":{\"text\":\"Year\"}},\"yaxis\":{\"title\":{\"text\":\"Cereal Production (MT)\"}}},                        {\"responsive\": true}                    ).then(function(){\n",
       "                            \n",
       "var gd = document.getElementById('c3cf5d43-d212-4c2a-b30b-803c6e9f9e2e');\n",
       "var x = new MutationObserver(function (mutations, observer) {{\n",
       "        var display = window.getComputedStyle(gd).display;\n",
       "        if (!display || display === 'none') {{\n",
       "            console.log([gd, 'removed!']);\n",
       "            Plotly.purge(gd);\n",
       "            observer.disconnect();\n",
       "        }}\n",
       "}});\n",
       "\n",
       "// Listen for the removal of the full notebook cells\n",
       "var notebookContainer = gd.closest('#notebook-container');\n",
       "if (notebookContainer) {{\n",
       "    x.observe(notebookContainer, {childList: true});\n",
       "}}\n",
       "\n",
       "// Listen for the clearing of the current output cell\n",
       "var outputEl = gd.closest('.output');\n",
       "if (outputEl) {{\n",
       "    x.observe(outputEl, {childList: true});\n",
       "}}\n",
       "\n",
       "                        })                };                });            </script>        </div>"
      ]
     },
     "metadata": {},
     "output_type": "display_data"
    },
    {
     "data": {
      "application/vnd.plotly.v1+json": {
       "config": {
        "plotlyServerURL": "https://plot.ly"
       },
       "data": [
        {
         "line": {
          "color": "red",
          "dash": "solid"
         },
         "mode": "lines+markers",
         "name": "Total Region",
         "type": "scatter",
         "x": [
          "1961-01-01T00:00:00",
          "1962-01-01T00:00:00",
          "1963-01-01T00:00:00",
          "1964-01-01T00:00:00",
          "1965-01-01T00:00:00",
          "1966-01-01T00:00:00",
          "1967-01-01T00:00:00",
          "1968-01-01T00:00:00",
          "1969-01-01T00:00:00",
          "1970-01-01T00:00:00",
          "1971-01-01T00:00:00",
          "1972-01-01T00:00:00",
          "1973-01-01T00:00:00",
          "1974-01-01T00:00:00",
          "1975-01-01T00:00:00",
          "1976-01-01T00:00:00",
          "1977-01-01T00:00:00",
          "1978-01-01T00:00:00",
          "1979-01-01T00:00:00",
          "1980-01-01T00:00:00",
          "1981-01-01T00:00:00",
          "1982-01-01T00:00:00",
          "1983-01-01T00:00:00",
          "1984-01-01T00:00:00",
          "1985-01-01T00:00:00",
          "1986-01-01T00:00:00",
          "1987-01-01T00:00:00",
          "1988-01-01T00:00:00",
          "1989-01-01T00:00:00",
          "1990-01-01T00:00:00",
          "1991-01-01T00:00:00",
          "1992-01-01T00:00:00",
          "1993-01-01T00:00:00",
          "1994-01-01T00:00:00",
          "1995-01-01T00:00:00",
          "1996-01-01T00:00:00",
          "1997-01-01T00:00:00",
          "1998-01-01T00:00:00",
          "1999-01-01T00:00:00",
          "2000-01-01T00:00:00",
          "2001-01-01T00:00:00",
          "2002-01-01T00:00:00",
          "2003-01-01T00:00:00",
          "2004-01-01T00:00:00",
          "2005-01-01T00:00:00",
          "2006-01-01T00:00:00",
          "2007-01-01T00:00:00",
          "2008-01-01T00:00:00",
          "2009-01-01T00:00:00",
          "2010-01-01T00:00:00",
          "2011-01-01T00:00:00",
          "2012-01-01T00:00:00",
          "2013-01-01T00:00:00",
          "2014-01-01T00:00:00",
          "2015-01-01T00:00:00",
          "2016-01-01T00:00:00",
          "2017-01-01T00:00:00",
          "2018-01-01T00:00:00",
          "2019-01-01T00:00:00",
          "2020-01-01T00:00:00",
          "2021-01-01T00:00:00",
          "2022-01-01T00:00:00"
         ],
         "y": [
          229389614,
          227591444,
          239351802,
          246934984,
          219102640,
          215757820,
          253763932,
          274303126,
          286039030,
          299988782,
          292648212,
          284812040,
          315467498,
          288269464,
          335409886,
          322583298,
          360849738,
          371270792,
          339685536,
          374838188,
          391413906,
          367918024,
          435358540,
          427869840,
          432760454,
          436863906,
          415240080,
          473962654,
          515205074,
          505045924,
          502677063.27,
          523262646.08,
          540148313.2,
          542157296.28,
          547166803.9200001,
          567912910.25,
          577709857.0699999,
          595601823.98,
          624020648.15,
          631862980.92,
          638052596.64,
          570443829.68,
          637330357.64,
          620212708,
          657091742,
          661786590,
          710743458,
          731540916,
          706955249.06,
          740625769.54,
          791167037.88,
          797982354.98,
          815308427.38,
          821714066.5799999,
          799051849.74,
          818850350.26,
          858393337.0699999,
          881234956.96,
          892903436.42,
          937926393.3,
          484341023.74,
          480208175.92
         ]
        }
       ],
       "layout": {
        "template": {
         "data": {
          "bar": [
           {
            "error_x": {
             "color": "#2a3f5f"
            },
            "error_y": {
             "color": "#2a3f5f"
            },
            "marker": {
             "line": {
              "color": "#E5ECF6",
              "width": 0.5
             },
             "pattern": {
              "fillmode": "overlay",
              "size": 10,
              "solidity": 0.2
             }
            },
            "type": "bar"
           }
          ],
          "barpolar": [
           {
            "marker": {
             "line": {
              "color": "#E5ECF6",
              "width": 0.5
             },
             "pattern": {
              "fillmode": "overlay",
              "size": 10,
              "solidity": 0.2
             }
            },
            "type": "barpolar"
           }
          ],
          "carpet": [
           {
            "aaxis": {
             "endlinecolor": "#2a3f5f",
             "gridcolor": "white",
             "linecolor": "white",
             "minorgridcolor": "white",
             "startlinecolor": "#2a3f5f"
            },
            "baxis": {
             "endlinecolor": "#2a3f5f",
             "gridcolor": "white",
             "linecolor": "white",
             "minorgridcolor": "white",
             "startlinecolor": "#2a3f5f"
            },
            "type": "carpet"
           }
          ],
          "choropleth": [
           {
            "colorbar": {
             "outlinewidth": 0,
             "ticks": ""
            },
            "type": "choropleth"
           }
          ],
          "contour": [
           {
            "colorbar": {
             "outlinewidth": 0,
             "ticks": ""
            },
            "colorscale": [
             [
              0,
              "#0d0887"
             ],
             [
              0.1111111111111111,
              "#46039f"
             ],
             [
              0.2222222222222222,
              "#7201a8"
             ],
             [
              0.3333333333333333,
              "#9c179e"
             ],
             [
              0.4444444444444444,
              "#bd3786"
             ],
             [
              0.5555555555555556,
              "#d8576b"
             ],
             [
              0.6666666666666666,
              "#ed7953"
             ],
             [
              0.7777777777777778,
              "#fb9f3a"
             ],
             [
              0.8888888888888888,
              "#fdca26"
             ],
             [
              1,
              "#f0f921"
             ]
            ],
            "type": "contour"
           }
          ],
          "contourcarpet": [
           {
            "colorbar": {
             "outlinewidth": 0,
             "ticks": ""
            },
            "type": "contourcarpet"
           }
          ],
          "heatmap": [
           {
            "colorbar": {
             "outlinewidth": 0,
             "ticks": ""
            },
            "colorscale": [
             [
              0,
              "#0d0887"
             ],
             [
              0.1111111111111111,
              "#46039f"
             ],
             [
              0.2222222222222222,
              "#7201a8"
             ],
             [
              0.3333333333333333,
              "#9c179e"
             ],
             [
              0.4444444444444444,
              "#bd3786"
             ],
             [
              0.5555555555555556,
              "#d8576b"
             ],
             [
              0.6666666666666666,
              "#ed7953"
             ],
             [
              0.7777777777777778,
              "#fb9f3a"
             ],
             [
              0.8888888888888888,
              "#fdca26"
             ],
             [
              1,
              "#f0f921"
             ]
            ],
            "type": "heatmap"
           }
          ],
          "heatmapgl": [
           {
            "colorbar": {
             "outlinewidth": 0,
             "ticks": ""
            },
            "colorscale": [
             [
              0,
              "#0d0887"
             ],
             [
              0.1111111111111111,
              "#46039f"
             ],
             [
              0.2222222222222222,
              "#7201a8"
             ],
             [
              0.3333333333333333,
              "#9c179e"
             ],
             [
              0.4444444444444444,
              "#bd3786"
             ],
             [
              0.5555555555555556,
              "#d8576b"
             ],
             [
              0.6666666666666666,
              "#ed7953"
             ],
             [
              0.7777777777777778,
              "#fb9f3a"
             ],
             [
              0.8888888888888888,
              "#fdca26"
             ],
             [
              1,
              "#f0f921"
             ]
            ],
            "type": "heatmapgl"
           }
          ],
          "histogram": [
           {
            "marker": {
             "pattern": {
              "fillmode": "overlay",
              "size": 10,
              "solidity": 0.2
             }
            },
            "type": "histogram"
           }
          ],
          "histogram2d": [
           {
            "colorbar": {
             "outlinewidth": 0,
             "ticks": ""
            },
            "colorscale": [
             [
              0,
              "#0d0887"
             ],
             [
              0.1111111111111111,
              "#46039f"
             ],
             [
              0.2222222222222222,
              "#7201a8"
             ],
             [
              0.3333333333333333,
              "#9c179e"
             ],
             [
              0.4444444444444444,
              "#bd3786"
             ],
             [
              0.5555555555555556,
              "#d8576b"
             ],
             [
              0.6666666666666666,
              "#ed7953"
             ],
             [
              0.7777777777777778,
              "#fb9f3a"
             ],
             [
              0.8888888888888888,
              "#fdca26"
             ],
             [
              1,
              "#f0f921"
             ]
            ],
            "type": "histogram2d"
           }
          ],
          "histogram2dcontour": [
           {
            "colorbar": {
             "outlinewidth": 0,
             "ticks": ""
            },
            "colorscale": [
             [
              0,
              "#0d0887"
             ],
             [
              0.1111111111111111,
              "#46039f"
             ],
             [
              0.2222222222222222,
              "#7201a8"
             ],
             [
              0.3333333333333333,
              "#9c179e"
             ],
             [
              0.4444444444444444,
              "#bd3786"
             ],
             [
              0.5555555555555556,
              "#d8576b"
             ],
             [
              0.6666666666666666,
              "#ed7953"
             ],
             [
              0.7777777777777778,
              "#fb9f3a"
             ],
             [
              0.8888888888888888,
              "#fdca26"
             ],
             [
              1,
              "#f0f921"
             ]
            ],
            "type": "histogram2dcontour"
           }
          ],
          "mesh3d": [
           {
            "colorbar": {
             "outlinewidth": 0,
             "ticks": ""
            },
            "type": "mesh3d"
           }
          ],
          "parcoords": [
           {
            "line": {
             "colorbar": {
              "outlinewidth": 0,
              "ticks": ""
             }
            },
            "type": "parcoords"
           }
          ],
          "pie": [
           {
            "automargin": true,
            "type": "pie"
           }
          ],
          "scatter": [
           {
            "fillpattern": {
             "fillmode": "overlay",
             "size": 10,
             "solidity": 0.2
            },
            "type": "scatter"
           }
          ],
          "scatter3d": [
           {
            "line": {
             "colorbar": {
              "outlinewidth": 0,
              "ticks": ""
             }
            },
            "marker": {
             "colorbar": {
              "outlinewidth": 0,
              "ticks": ""
             }
            },
            "type": "scatter3d"
           }
          ],
          "scattercarpet": [
           {
            "marker": {
             "colorbar": {
              "outlinewidth": 0,
              "ticks": ""
             }
            },
            "type": "scattercarpet"
           }
          ],
          "scattergeo": [
           {
            "marker": {
             "colorbar": {
              "outlinewidth": 0,
              "ticks": ""
             }
            },
            "type": "scattergeo"
           }
          ],
          "scattergl": [
           {
            "marker": {
             "colorbar": {
              "outlinewidth": 0,
              "ticks": ""
             }
            },
            "type": "scattergl"
           }
          ],
          "scattermapbox": [
           {
            "marker": {
             "colorbar": {
              "outlinewidth": 0,
              "ticks": ""
             }
            },
            "type": "scattermapbox"
           }
          ],
          "scatterpolar": [
           {
            "marker": {
             "colorbar": {
              "outlinewidth": 0,
              "ticks": ""
             }
            },
            "type": "scatterpolar"
           }
          ],
          "scatterpolargl": [
           {
            "marker": {
             "colorbar": {
              "outlinewidth": 0,
              "ticks": ""
             }
            },
            "type": "scatterpolargl"
           }
          ],
          "scatterternary": [
           {
            "marker": {
             "colorbar": {
              "outlinewidth": 0,
              "ticks": ""
             }
            },
            "type": "scatterternary"
           }
          ],
          "surface": [
           {
            "colorbar": {
             "outlinewidth": 0,
             "ticks": ""
            },
            "colorscale": [
             [
              0,
              "#0d0887"
             ],
             [
              0.1111111111111111,
              "#46039f"
             ],
             [
              0.2222222222222222,
              "#7201a8"
             ],
             [
              0.3333333333333333,
              "#9c179e"
             ],
             [
              0.4444444444444444,
              "#bd3786"
             ],
             [
              0.5555555555555556,
              "#d8576b"
             ],
             [
              0.6666666666666666,
              "#ed7953"
             ],
             [
              0.7777777777777778,
              "#fb9f3a"
             ],
             [
              0.8888888888888888,
              "#fdca26"
             ],
             [
              1,
              "#f0f921"
             ]
            ],
            "type": "surface"
           }
          ],
          "table": [
           {
            "cells": {
             "fill": {
              "color": "#EBF0F8"
             },
             "line": {
              "color": "white"
             }
            },
            "header": {
             "fill": {
              "color": "#C8D4E3"
             },
             "line": {
              "color": "white"
             }
            },
            "type": "table"
           }
          ]
         },
         "layout": {
          "annotationdefaults": {
           "arrowcolor": "#2a3f5f",
           "arrowhead": 0,
           "arrowwidth": 1
          },
          "autotypenumbers": "strict",
          "coloraxis": {
           "colorbar": {
            "outlinewidth": 0,
            "ticks": ""
           }
          },
          "colorscale": {
           "diverging": [
            [
             0,
             "#8e0152"
            ],
            [
             0.1,
             "#c51b7d"
            ],
            [
             0.2,
             "#de77ae"
            ],
            [
             0.3,
             "#f1b6da"
            ],
            [
             0.4,
             "#fde0ef"
            ],
            [
             0.5,
             "#f7f7f7"
            ],
            [
             0.6,
             "#e6f5d0"
            ],
            [
             0.7,
             "#b8e186"
            ],
            [
             0.8,
             "#7fbc41"
            ],
            [
             0.9,
             "#4d9221"
            ],
            [
             1,
             "#276419"
            ]
           ],
           "sequential": [
            [
             0,
             "#0d0887"
            ],
            [
             0.1111111111111111,
             "#46039f"
            ],
            [
             0.2222222222222222,
             "#7201a8"
            ],
            [
             0.3333333333333333,
             "#9c179e"
            ],
            [
             0.4444444444444444,
             "#bd3786"
            ],
            [
             0.5555555555555556,
             "#d8576b"
            ],
            [
             0.6666666666666666,
             "#ed7953"
            ],
            [
             0.7777777777777778,
             "#fb9f3a"
            ],
            [
             0.8888888888888888,
             "#fdca26"
            ],
            [
             1,
             "#f0f921"
            ]
           ],
           "sequentialminus": [
            [
             0,
             "#0d0887"
            ],
            [
             0.1111111111111111,
             "#46039f"
            ],
            [
             0.2222222222222222,
             "#7201a8"
            ],
            [
             0.3333333333333333,
             "#9c179e"
            ],
            [
             0.4444444444444444,
             "#bd3786"
            ],
            [
             0.5555555555555556,
             "#d8576b"
            ],
            [
             0.6666666666666666,
             "#ed7953"
            ],
            [
             0.7777777777777778,
             "#fb9f3a"
            ],
            [
             0.8888888888888888,
             "#fdca26"
            ],
            [
             1,
             "#f0f921"
            ]
           ]
          },
          "colorway": [
           "#636efa",
           "#EF553B",
           "#00cc96",
           "#ab63fa",
           "#FFA15A",
           "#19d3f3",
           "#FF6692",
           "#B6E880",
           "#FF97FF",
           "#FECB52"
          ],
          "font": {
           "color": "#2a3f5f"
          },
          "geo": {
           "bgcolor": "white",
           "lakecolor": "white",
           "landcolor": "#E5ECF6",
           "showlakes": true,
           "showland": true,
           "subunitcolor": "white"
          },
          "hoverlabel": {
           "align": "left"
          },
          "hovermode": "closest",
          "mapbox": {
           "style": "light"
          },
          "paper_bgcolor": "white",
          "plot_bgcolor": "#E5ECF6",
          "polar": {
           "angularaxis": {
            "gridcolor": "white",
            "linecolor": "white",
            "ticks": ""
           },
           "bgcolor": "#E5ECF6",
           "radialaxis": {
            "gridcolor": "white",
            "linecolor": "white",
            "ticks": ""
           }
          },
          "scene": {
           "xaxis": {
            "backgroundcolor": "#E5ECF6",
            "gridcolor": "white",
            "gridwidth": 2,
            "linecolor": "white",
            "showbackground": true,
            "ticks": "",
            "zerolinecolor": "white"
           },
           "yaxis": {
            "backgroundcolor": "#E5ECF6",
            "gridcolor": "white",
            "gridwidth": 2,
            "linecolor": "white",
            "showbackground": true,
            "ticks": "",
            "zerolinecolor": "white"
           },
           "zaxis": {
            "backgroundcolor": "#E5ECF6",
            "gridcolor": "white",
            "gridwidth": 2,
            "linecolor": "white",
            "showbackground": true,
            "ticks": "",
            "zerolinecolor": "white"
           }
          },
          "shapedefaults": {
           "line": {
            "color": "#2a3f5f"
           }
          },
          "ternary": {
           "aaxis": {
            "gridcolor": "white",
            "linecolor": "white",
            "ticks": ""
           },
           "baxis": {
            "gridcolor": "white",
            "linecolor": "white",
            "ticks": ""
           },
           "bgcolor": "#E5ECF6",
           "caxis": {
            "gridcolor": "white",
            "linecolor": "white",
            "ticks": ""
           }
          },
          "title": {
           "x": 0.05
          },
          "xaxis": {
           "automargin": true,
           "gridcolor": "white",
           "linecolor": "white",
           "ticks": "",
           "title": {
            "standoff": 15
           },
           "zerolinecolor": "white",
           "zerolinewidth": 2
          },
          "yaxis": {
           "automargin": true,
           "gridcolor": "white",
           "linecolor": "white",
           "ticks": "",
           "title": {
            "standoff": 15
           },
           "zerolinecolor": "white",
           "zerolinewidth": 2
          }
         }
        },
        "title": {
         "text": "Total Cereal Production Over Time (Region)"
        },
        "xaxis": {
         "title": {
          "text": "Year"
         }
        },
        "yaxis": {
         "title": {
          "text": "Cereal Production (MT)"
         }
        }
       }
      },
      "image/png": "[encoded data removed]",
      "text/html": [
       "<div>                            <div id=\"f507ec95-3f33-4b74-944a-2cc24cc76d04\" class=\"plotly-graph-div\" style=\"height:525px; width:100%;\"></div>            <script type=\"text/javascript\">                require([\"plotly\"], function(Plotly) {                    window.PLOTLYENV=window.PLOTLYENV || {};                                    if (document.getElementById(\"f507ec95-3f33-4b74-944a-2cc24cc76d04\")) {                    Plotly.newPlot(                        \"f507ec95-3f33-4b74-944a-2cc24cc76d04\",                        [{\"line\":{\"color\":\"red\",\"dash\":\"solid\"},\"mode\":\"lines+markers\",\"name\":\"Total Region\",\"x\":[\"1961-01-01T00:00:00\",\"1962-01-01T00:00:00\",\"1963-01-01T00:00:00\",\"1964-01-01T00:00:00\",\"1965-01-01T00:00:00\",\"1966-01-01T00:00:00\",\"1967-01-01T00:00:00\",\"1968-01-01T00:00:00\",\"1969-01-01T00:00:00\",\"1970-01-01T00:00:00\",\"1971-01-01T00:00:00\",\"1972-01-01T00:00:00\",\"1973-01-01T00:00:00\",\"1974-01-01T00:00:00\",\"1975-01-01T00:00:00\",\"1976-01-01T00:00:00\",\"1977-01-01T00:00:00\",\"1978-01-01T00:00:00\",\"1979-01-01T00:00:00\",\"1980-01-01T00:00:00\",\"1981-01-01T00:00:00\",\"1982-01-01T00:00:00\",\"1983-01-01T00:00:00\",\"1984-01-01T00:00:00\",\"1985-01-01T00:00:00\",\"1986-01-01T00:00:00\",\"1987-01-01T00:00:00\",\"1988-01-01T00:00:00\",\"1989-01-01T00:00:00\",\"1990-01-01T00:00:00\",\"1991-01-01T00:00:00\",\"1992-01-01T00:00:00\",\"1993-01-01T00:00:00\",\"1994-01-01T00:00:00\",\"1995-01-01T00:00:00\",\"1996-01-01T00:00:00\",\"1997-01-01T00:00:00\",\"1998-01-01T00:00:00\",\"1999-01-01T00:00:00\",\"2000-01-01T00:00:00\",\"2001-01-01T00:00:00\",\"2002-01-01T00:00:00\",\"2003-01-01T00:00:00\",\"2004-01-01T00:00:00\",\"2005-01-01T00:00:00\",\"2006-01-01T00:00:00\",\"2007-01-01T00:00:00\",\"2008-01-01T00:00:00\",\"2009-01-01T00:00:00\",\"2010-01-01T00:00:00\",\"2011-01-01T00:00:00\",\"2012-01-01T00:00:00\",\"2013-01-01T00:00:00\",\"2014-01-01T00:00:00\",\"2015-01-01T00:00:00\",\"2016-01-01T00:00:00\",\"2017-01-01T00:00:00\",\"2018-01-01T00:00:00\",\"2019-01-01T00:00:00\",\"2020-01-01T00:00:00\",\"2021-01-01T00:00:00\",\"2022-01-01T00:00:00\"],\"y\":[229389614.0,227591444.0,239351802.0,246934984.0,219102640.0,215757820.0,253763932.0,274303126.0,286039030.0,299988782.0,292648212.0,284812040.0,315467498.0,288269464.0,335409886.0,322583298.0,360849738.0,371270792.0,339685536.0,374838188.0,391413906.0,367918024.0,435358540.0,427869840.0,432760454.0,436863906.0,415240080.0,473962654.0,515205074.0,505045924.0,502677063.27,523262646.08,540148313.2,542157296.28,547166803.9200001,567912910.25,577709857.0699999,595601823.98,624020648.15,631862980.92,638052596.64,570443829.68,637330357.64,620212708.0,657091742.0,661786590.0,710743458.0,731540916.0,706955249.06,740625769.54,791167037.88,797982354.98,815308427.38,821714066.5799999,799051849.74,818850350.26,858393337.0699999,881234956.96,892903436.42,937926393.3,484341023.74,480208175.92],\"type\":\"scatter\"}],                        {\"template\":{\"data\":{\"histogram2dcontour\":[{\"type\":\"histogram2dcontour\",\"colorbar\":{\"outlinewidth\":0,\"ticks\":\"\"},\"colorscale\":[[0.0,\"#0d0887\"],[0.1111111111111111,\"#46039f\"],[0.2222222222222222,\"#7201a8\"],[0.3333333333333333,\"#9c179e\"],[0.4444444444444444,\"#bd3786\"],[0.5555555555555556,\"#d8576b\"],[0.6666666666666666,\"#ed7953\"],[0.7777777777777778,\"#fb9f3a\"],[0.8888888888888888,\"#fdca26\"],[1.0,\"#f0f921\"]]}],\"choropleth\":[{\"type\":\"choropleth\",\"colorbar\":{\"outlinewidth\":0,\"ticks\":\"\"}}],\"histogram2d\":[{\"type\":\"histogram2d\",\"colorbar\":{\"outlinewidth\":0,\"ticks\":\"\"},\"colorscale\":[[0.0,\"#0d0887\"],[0.1111111111111111,\"#46039f\"],[0.2222222222222222,\"#7201a8\"],[0.3333333333333333,\"#9c179e\"],[0.4444444444444444,\"#bd3786\"],[0.5555555555555556,\"#d8576b\"],[0.6666666666666666,\"#ed7953\"],[0.7777777777777778,\"#fb9f3a\"],[0.8888888888888888,\"#fdca26\"],[1.0,\"#f0f921\"]]}],\"heatmap\":[{\"type\":\"heatmap\",\"colorbar\":{\"outlinewidth\":0,\"ticks\":\"\"},\"colorscale\":[[0.0,\"#0d0887\"],[0.1111111111111111,\"#46039f\"],[0.2222222222222222,\"#7201a8\"],[0.3333333333333333,\"#9c179e\"],[0.4444444444444444,\"#bd3786\"],[0.5555555555555556,\"#d8576b\"],[0.6666666666666666,\"#ed7953\"],[0.7777777777777778,\"#fb9f3a\"],[0.8888888888888888,\"#fdca26\"],[1.0,\"#f0f921\"]]}],\"heatmapgl\":[{\"type\":\"heatmapgl\",\"colorbar\":{\"outlinewidth\":0,\"ticks\":\"\"},\"colorscale\":[[0.0,\"#0d0887\"],[0.1111111111111111,\"#46039f\"],[0.2222222222222222,\"#7201a8\"],[0.3333333333333333,\"#9c179e\"],[0.4444444444444444,\"#bd3786\"],[0.5555555555555556,\"#d8576b\"],[0.6666666666666666,\"#ed7953\"],[0.7777777777777778,\"#fb9f3a\"],[0.8888888888888888,\"#fdca26\"],[1.0,\"#f0f921\"]]}],\"contourcarpet\":[{\"type\":\"contourcarpet\",\"colorbar\":{\"outlinewidth\":0,\"ticks\":\"\"}}],\"contour\":[{\"type\":\"contour\",\"colorbar\":{\"outlinewidth\":0,\"ticks\":\"\"},\"colorscale\":[[0.0,\"#0d0887\"],[0.1111111111111111,\"#46039f\"],[0.2222222222222222,\"#7201a8\"],[0.3333333333333333,\"#9c179e\"],[0.4444444444444444,\"#bd3786\"],[0.5555555555555556,\"#d8576b\"],[0.6666666666666666,\"#ed7953\"],[0.7777777777777778,\"#fb9f3a\"],[0.8888888888888888,\"#fdca26\"],[1.0,\"#f0f921\"]]}],\"surface\":[{\"type\":\"surface\",\"colorbar\":{\"outlinewidth\":0,\"ticks\":\"\"},\"colorscale\":[[0.0,\"#0d0887\"],[0.1111111111111111,\"#46039f\"],[0.2222222222222222,\"#7201a8\"],[0.3333333333333333,\"#9c179e\"],[0.4444444444444444,\"#bd3786\"],[0.5555555555555556,\"#d8576b\"],[0.6666666666666666,\"#ed7953\"],[0.7777777777777778,\"#fb9f3a\"],[0.8888888888888888,\"#fdca26\"],[1.0,\"#f0f921\"]]}],\"mesh3d\":[{\"type\":\"mesh3d\",\"colorbar\":{\"outlinewidth\":0,\"ticks\":\"\"}}],\"scatter\":[{\"fillpattern\":{\"fillmode\":\"overlay\",\"size\":10,\"solidity\":0.2},\"type\":\"scatter\"}],\"parcoords\":[{\"type\":\"parcoords\",\"line\":{\"colorbar\":{\"outlinewidth\":0,\"ticks\":\"\"}}}],\"scatterpolargl\":[{\"type\":\"scatterpolargl\",\"marker\":{\"colorbar\":{\"outlinewidth\":0,\"ticks\":\"\"}}}],\"bar\":[{\"error_x\":{\"color\":\"#2a3f5f\"},\"error_y\":{\"color\":\"#2a3f5f\"},\"marker\":{\"line\":{\"color\":\"#E5ECF6\",\"width\":0.5},\"pattern\":{\"fillmode\":\"overlay\",\"size\":10,\"solidity\":0.2}},\"type\":\"bar\"}],\"scattergeo\":[{\"type\":\"scattergeo\",\"marker\":{\"colorbar\":{\"outlinewidth\":0,\"ticks\":\"\"}}}],\"scatterpolar\":[{\"type\":\"scatterpolar\",\"marker\":{\"colorbar\":{\"outlinewidth\":0,\"ticks\":\"\"}}}],\"histogram\":[{\"marker\":{\"pattern\":{\"fillmode\":\"overlay\",\"size\":10,\"solidity\":0.2}},\"type\":\"histogram\"}],\"scattergl\":[{\"type\":\"scattergl\",\"marker\":{\"colorbar\":{\"outlinewidth\":0,\"ticks\":\"\"}}}],\"scatter3d\":[{\"type\":\"scatter3d\",\"line\":{\"colorbar\":{\"outlinewidth\":0,\"ticks\":\"\"}},\"marker\":{\"colorbar\":{\"outlinewidth\":0,\"ticks\":\"\"}}}],\"scattermapbox\":[{\"type\":\"scattermapbox\",\"marker\":{\"colorbar\":{\"outlinewidth\":0,\"ticks\":\"\"}}}],\"scatterternary\":[{\"type\":\"scatterternary\",\"marker\":{\"colorbar\":{\"outlinewidth\":0,\"ticks\":\"\"}}}],\"scattercarpet\":[{\"type\":\"scattercarpet\",\"marker\":{\"colorbar\":{\"outlinewidth\":0,\"ticks\":\"\"}}}],\"carpet\":[{\"aaxis\":{\"endlinecolor\":\"#2a3f5f\",\"gridcolor\":\"white\",\"linecolor\":\"white\",\"minorgridcolor\":\"white\",\"startlinecolor\":\"#2a3f5f\"},\"baxis\":{\"endlinecolor\":\"#2a3f5f\",\"gridcolor\":\"white\",\"linecolor\":\"white\",\"minorgridcolor\":\"white\",\"startlinecolor\":\"#2a3f5f\"},\"type\":\"carpet\"}],\"table\":[{\"cells\":{\"fill\":{\"color\":\"#EBF0F8\"},\"line\":{\"color\":\"white\"}},\"header\":{\"fill\":{\"color\":\"#C8D4E3\"},\"line\":{\"color\":\"white\"}},\"type\":\"table\"}],\"barpolar\":[{\"marker\":{\"line\":{\"color\":\"#E5ECF6\",\"width\":0.5},\"pattern\":{\"fillmode\":\"overlay\",\"size\":10,\"solidity\":0.2}},\"type\":\"barpolar\"}],\"pie\":[{\"automargin\":true,\"type\":\"pie\"}]},\"layout\":{\"autotypenumbers\":\"strict\",\"colorway\":[\"#636efa\",\"#EF553B\",\"#00cc96\",\"#ab63fa\",\"#FFA15A\",\"#19d3f3\",\"#FF6692\",\"#B6E880\",\"#FF97FF\",\"#FECB52\"],\"font\":{\"color\":\"#2a3f5f\"},\"hovermode\":\"closest\",\"hoverlabel\":{\"align\":\"left\"},\"paper_bgcolor\":\"white\",\"plot_bgcolor\":\"#E5ECF6\",\"polar\":{\"bgcolor\":\"#E5ECF6\",\"angularaxis\":{\"gridcolor\":\"white\",\"linecolor\":\"white\",\"ticks\":\"\"},\"radialaxis\":{\"gridcolor\":\"white\",\"linecolor\":\"white\",\"ticks\":\"\"}},\"ternary\":{\"bgcolor\":\"#E5ECF6\",\"aaxis\":{\"gridcolor\":\"white\",\"linecolor\":\"white\",\"ticks\":\"\"},\"baxis\":{\"gridcolor\":\"white\",\"linecolor\":\"white\",\"ticks\":\"\"},\"caxis\":{\"gridcolor\":\"white\",\"linecolor\":\"white\",\"ticks\":\"\"}},\"coloraxis\":{\"colorbar\":{\"outlinewidth\":0,\"ticks\":\"\"}},\"colorscale\":{\"sequential\":[[0.0,\"#0d0887\"],[0.1111111111111111,\"#46039f\"],[0.2222222222222222,\"#7201a8\"],[0.3333333333333333,\"#9c179e\"],[0.4444444444444444,\"#bd3786\"],[0.5555555555555556,\"#d8576b\"],[0.6666666666666666,\"#ed7953\"],[0.7777777777777778,\"#fb9f3a\"],[0.8888888888888888,\"#fdca26\"],[1.0,\"#f0f921\"]],\"sequentialminus\":[[0.0,\"#0d0887\"],[0.1111111111111111,\"#46039f\"],[0.2222222222222222,\"#7201a8\"],[0.3333333333333333,\"#9c179e\"],[0.4444444444444444,\"#bd3786\"],[0.5555555555555556,\"#d8576b\"],[0.6666666666666666,\"#ed7953\"],[0.7777777777777778,\"#fb9f3a\"],[0.8888888888888888,\"#fdca26\"],[1.0,\"#f0f921\"]],\"diverging\":[[0,\"#8e0152\"],[0.1,\"#c51b7d\"],[0.2,\"#de77ae\"],[0.3,\"#f1b6da\"],[0.4,\"#fde0ef\"],[0.5,\"#f7f7f7\"],[0.6,\"#e6f5d0\"],[0.7,\"#b8e186\"],[0.8,\"#7fbc41\"],[0.9,\"#4d9221\"],[1,\"#276419\"]]},\"xaxis\":{\"gridcolor\":\"white\",\"linecolor\":\"white\",\"ticks\":\"\",\"title\":{\"standoff\":15},\"zerolinecolor\":\"white\",\"automargin\":true,\"zerolinewidth\":2},\"yaxis\":{\"gridcolor\":\"white\",\"linecolor\":\"white\",\"ticks\":\"\",\"title\":{\"standoff\":15},\"zerolinecolor\":\"white\",\"automargin\":true,\"zerolinewidth\":2},\"scene\":{\"xaxis\":{\"backgroundcolor\":\"#E5ECF6\",\"gridcolor\":\"white\",\"linecolor\":\"white\",\"showbackground\":true,\"ticks\":\"\",\"zerolinecolor\":\"white\",\"gridwidth\":2},\"yaxis\":{\"backgroundcolor\":\"#E5ECF6\",\"gridcolor\":\"white\",\"linecolor\":\"white\",\"showbackground\":true,\"ticks\":\"\",\"zerolinecolor\":\"white\",\"gridwidth\":2},\"zaxis\":{\"backgroundcolor\":\"#E5ECF6\",\"gridcolor\":\"white\",\"linecolor\":\"white\",\"showbackground\":true,\"ticks\":\"\",\"zerolinecolor\":\"white\",\"gridwidth\":2}},\"shapedefaults\":{\"line\":{\"color\":\"#2a3f5f\"}},\"annotationdefaults\":{\"arrowcolor\":\"#2a3f5f\",\"arrowhead\":0,\"arrowwidth\":1},\"geo\":{\"bgcolor\":\"white\",\"landcolor\":\"#E5ECF6\",\"subunitcolor\":\"white\",\"showland\":true,\"showlakes\":true,\"lakecolor\":\"white\"},\"title\":{\"x\":0.05},\"mapbox\":{\"style\":\"light\"}}},\"title\":{\"text\":\"Total Cereal Production Over Time (Region)\"},\"xaxis\":{\"title\":{\"text\":\"Year\"}},\"yaxis\":{\"title\":{\"text\":\"Cereal Production (MT)\"}}},                        {\"responsive\": true}                    ).then(function(){\n",
       "                            \n",
       "var gd = document.getElementById('f507ec95-3f33-4b74-944a-2cc24cc76d04');\n",
       "var x = new MutationObserver(function (mutations, observer) {{\n",
       "        var display = window.getComputedStyle(gd).display;\n",
       "        if (!display || display === 'none') {{\n",
       "            console.log([gd, 'removed!']);\n",
       "            Plotly.purge(gd);\n",
       "            observer.disconnect();\n",
       "        }}\n",
       "}});\n",
       "\n",
       "// Listen for the removal of the full notebook cells\n",
       "var notebookContainer = gd.closest('#notebook-container');\n",
       "if (notebookContainer) {{\n",
       "    x.observe(notebookContainer, {childList: true});\n",
       "}}\n",
       "\n",
       "// Listen for the clearing of the current output cell\n",
       "var outputEl = gd.closest('.output');\n",
       "if (outputEl) {{\n",
       "    x.observe(outputEl, {childList: true});\n",
       "}}\n",
       "\n",
       "                        })                };                });            </script>        </div>"
      ]
     },
     "metadata": {},
     "output_type": "display_data"
    }
   ],
   "source": [
    "import plotly.graph_objects as go\n",
    "\n",
    "def overlay_cereal_production(country_name, df):\n",
    "    \"\"\"\n",
    "    Function to overlay cereal production over time for a given country.\n",
    "    \n",
    "    Parameters:\n",
    "    - country_name (str): The name of the country whose data will be plotted.\n",
    "    - df (pd.DataFrame): The DataFrame containing the cereal production data.\n",
    "    \n",
    "    Returns:\n",
    "    - A Plotly figure with the cereal production data for the country.\n",
    "    \"\"\"\n",
    "    df = df.reset_index()\n",
    "    # Check if the country exists in the DataFrame\n",
    "    if country_name not in df['Country'].values:\n",
    "        print(f\"Country '{country_name}' not found in the dataset.\")\n",
    "        return\n",
    "    \n",
    "    # Filter data for the given country\n",
    "    country_df = df[df['Country'] == country_name]\n",
    "    \n",
    "    # Create a figure\n",
    "    fig = go.Figure()\n",
    "    \n",
    "    # Add the cereal production plot for the country\n",
    "    fig.add_trace(go.Scatter(x=country_df['Date'], y=country_df['Cereal Production (MT)'], \n",
    "                             mode='lines+markers', name=country_name, \n",
    "                             line=dict(dash='solid', color='blue')))\n",
    "    \n",
    "    # Add title and labels\n",
    "    fig.update_layout(title=f\"Cereal Production Over Time ({country_name})\",\n",
    "                      xaxis_title=\"Year\",\n",
    "                      yaxis_title=\"Cereal Production (MT)\")\n",
    "    \n",
    "    # Show the plot\n",
    "    fig.show()\n",
    "\n",
    "def overlay_cereal_production_region(df):\n",
    "    \"\"\"\n",
    "    Function to overlay total cereal production over time for the whole region.\n",
    "    \n",
    "    Parameters:\n",
    "    - df (pd.DataFrame): The DataFrame containing the cereal production data.\n",
    "    \n",
    "    Returns:\n",
    "    - A Plotly figure with total cereal production for the region.\n",
    "    \"\"\"\n",
    "    df = df.reset_index()\n",
    "    # Group data by year and sum the production\n",
    "    region_df = df.groupby('Date')['Cereal Production (MT)'].sum().reset_index()\n",
    "    \n",
    "    # Create a figure\n",
    "    fig = go.Figure()\n",
    "    \n",
    "    # Add the total cereal production plot for the region\n",
    "    fig.add_trace(go.Scatter(x=region_df['Date'], y=region_df['Cereal Production (MT)'], \n",
    "                             mode='lines+markers', name=\"Total Region\", \n",
    "                             line=dict(dash='solid', color='red')))\n",
    "    \n",
    "    # Add title and labels\n",
    "    fig.update_layout(title=\"Total Cereal Production Over Time (Region)\",\n",
    "                      xaxis_title=\"Year\",\n",
    "                      yaxis_title=\"Cereal Production (MT)\")\n",
    "    \n",
    "    # Show the plot\n",
    "    fig.show()\n",
    "\n",
    "# Example usage:\n",
    "overlay_cereal_production(\"Bangladesh\", SA_ag)\n",
    "overlay_cereal_production_region(SA_ag)"
   ]
  },
  {
   "cell_type": "code",
   "execution_count": 26,
   "id": "74f5a410-13ae-4bb0-a963-04c64bae05cd",
   "metadata": {},
   "outputs": [
    {
     "data": {
      "image/png": "[encoded data removed]",
      "text/plain": [
       "<Figure size 1200x600 with 1 Axes>"
      ]
     },
     "metadata": {},
     "output_type": "display_data"
    }
   ],
   "source": [
    "# Produce Crop Production Index over time plot for each country, specifying top 5 crops (or crops of interest\n",
    "# for the Green revolution)\n",
    "\n",
    "SA_ag = SA_ag.reset_index() \n",
    "SA_ag = SA_ag.rename(columns={'date': 'Date'})  # Ensure correct column name\n",
    "\n",
    "plt.figure(figsize=(12, 6))\n",
    "\n",
    "# Line plot for Crop Production Index over time\n",
    "sns.lineplot(data=SA_ag, x=\"Date\", y=\"Crop Production Index\", hue=\"Country\", marker=\"o\")\n",
    "\n",
    "plt.xlabel(\"Year\")\n",
    "plt.ylabel(\"Crop Production Index\")\n",
    "plt.title(\"Crop Production Index Over Time by Country\")\n",
    "plt.legend(title=\"Country\", bbox_to_anchor=(1.05, 1), loc=\"upper left\")\n",
    "plt.xticks(rotation=45)\n",
    "plt.show()\n",
    "\n",
    "# green_rev_crops = [\"Wheat\", \"Rice\", \"Maize\", \"Sorghum\", \"Barley\"]\n",
    "\n",
    "# plt.figure(figsize=(12, 6))\n",
    "\n",
    "# # Filter dataset for only Green Revolution crops\n",
    "# for crop in green_rev_crops:\n",
    "#     if crop in SA_ag.columns:\n",
    "#         sns.lineplot(data=SA_ag, x=\"Date\", y=crop, label=crop)\n",
    "\n",
    "# plt.xlabel(\"Year\")\n",
    "# plt.ylabel(\"Production Index\")\n",
    "# plt.title(\"Top Green Revolution Crops Over Time\")\n",
    "# plt.legend(title=\"Crop\", bbox_to_anchor=(1.05, 1), loc=\"upper left\")\n",
    "# plt.xticks(rotation=45)\n",
    "# plt.show()"
   ]
  },
  {
   "cell_type": "code",
   "execution_count": 27,
   "id": "cae1f65b-6067-47d3-bc52-23eeb102cc51",
   "metadata": {},
   "outputs": [],
   "source": [
    "# Produce Food Production Index over time plot for each country, specifying top 5 crops (or crops of interest\n",
    "# for the Green revolution)\n",
    "\n",
    "# Unable to do so because data not granual to crop type just production index"
   ]
  },
  {
   "cell_type": "code",
   "execution_count": null,
   "id": "fae9c03a-57da-4ff2-8654-71707bfdf91d",
   "metadata": {},
   "outputs": [],
   "source": [
    "# Produce plot of Agricultural Value Added per Worker for each country\n",
    "\n",
    "# Indicator no longer available in dataset?"
   ]
  },
  {
   "cell_type": "markdown",
   "id": "b6464b02-b079-40a3-90c6-8dc459c53e3c",
   "metadata": {},
   "source": [
    "# Combined Analysis"
   ]
  },
  {
   "cell_type": "markdown",
   "id": "fd3acd1b-28ab-47de-bb3d-17f85513bd68",
   "metadata": {},
   "source": [
    "**Question:** Given that we cannot load the agricultural data and the population data set at the same time, how can we approach making combined graphs?"
   ]
  },
  {
   "cell_type": "markdown",
   "id": "95616575-f362-4e21-9325-bfeb3860fb8b",
   "metadata": {},
   "source": [
    "### South Asia (Bangladesh, Bhutan, India, Maldives, Nepal, Pakistan, Sri Lanka)"
   ]
  },
  {
   "cell_type": "code",
   "execution_count": 30,
   "id": "26f21b35-12c6-4b28-9e1c-5bd8ea22db1d",
   "metadata": {},
   "outputs": [
    {
     "data": {
      "image/png": "[encoded data removed]",
      "text/plain": [
       "<Figure size 1000x500 with 2 Axes>"
      ]
     },
     "metadata": {},
     "output_type": "display_data"
    }
   ],
   "source": [
    "# Overlay total population and cereal production plots to see impact of cereal production on population growth\n",
    "\n",
    "import matplotlib.pyplot as plt\n",
    "\n",
    "def plot_popvcereal(df, country):\n",
    "    \"\"\"\n",
    "    Plots an overlayed line plot of total population growth and cereal production over time for a given country.\n",
    "    \n",
    "    :param df: DataFrame containing agricultural and population data\n",
    "    :param country: String representing the country to plot\n",
    "    \"\"\"\n",
    "    country_data = df[df['Country'] == country]\n",
    "    \n",
    "    fig, ax1 = plt.subplots(figsize=(10, 5))\n",
    "    \n",
    "    # Plot total population\n",
    "    ax1.set_xlabel(\"Year\")\n",
    "    ax1.set_ylabel(\"Total Population\", color='tab:blue')\n",
    "    ax1.plot(country_data.index, country_data[\"Total Population\"], color='tab:blue', label='Total Population')\n",
    "    ax1.tick_params(axis='y', labelcolor='tab:blue')\n",
    "    \n",
    "    # Create a second y-axis for cereal production\n",
    "    ax2 = ax1.twinx()\n",
    "    ax2.set_ylabel(\"Cereal Production (MT)\", color='tab:green')\n",
    "    ax2.plot(country_data.index, country_data[\"Cereal Production (MT)\"], color='tab:green', linestyle='dashed', label='Cereal Production')\n",
    "    ax2.tick_params(axis='y', labelcolor='tab:green')\n",
    "    \n",
    "    fig.suptitle(f\"{country}: Population Growth vs. Cereal Production\")\n",
    "    fig.tight_layout()\n",
    "    plt.show()\n",
    "\n",
    "plot_popvcereal(SA_ag, \"Bangladesh\")"
   ]
  },
  {
   "cell_type": "code",
   "execution_count": 32,
   "id": "0ed01644-f5bc-4aed-8839-8044d93b910f",
   "metadata": {},
   "outputs": [
    {
     "data": {
      "application/vnd.plotly.v1+json": {
       "config": {
        "plotlyServerURL": "https://plot.ly"
       },
       "data": [
        {
         "line": {
          "color": "blue",
          "width": 2
         },
         "mode": "lines",
         "name": "Bangladesh - Population",
         "type": "scatter",
         "x": [
          2,
          9,
          19,
          24,
          35,
          45,
          48,
          58,
          65,
          78,
          82,
          91,
          102,
          110,
          115,
          127,
          128,
          142,
          148,
          157,
          160,
          174,
          180,
          184,
          199,
          200,
          213,
          219,
          224,
          237,
          246,
          252,
          261,
          267,
          278,
          281,
          290,
          299,
          304,
          318,
          324,
          332,
          337,
          349,
          354,
          364,
          372,
          383,
          389,
          394,
          407,
          413,
          417,
          429,
          432,
          441,
          449,
          461,
          466,
          477,
          486,
          493
         ],
         "y": [
          53310348,
          54881146,
          56504402,
          58178374,
          59902519,
          61669806,
          63510929,
          65408276,
          67294133,
          69058894,
          70276758,
          71641519,
          73722294,
          75839348,
          77854351,
          79855318,
          81867264,
          83889655,
          85935072,
          88016432,
          90303105,
          92814507,
          95335155,
          97814966,
          100253825,
          102635572,
          104959291,
          107216008,
          109433799,
          111633717,
          113787109,
          115952192,
          118132360,
          120343179,
          122600370,
          124862179,
          127198069,
          129622332,
          132108065,
          134544304,
          136805810,
          138933658,
          140970351,
          142902856,
          144715786,
          146405973,
          147989278,
          149474264,
          150873714,
          152201981,
          153591076,
          155070101,
          156532141,
          157964929,
          159383179,
          160811932,
          162186147,
          163523103,
          164913055,
          166298024,
          167658854,
          169384897
         ],
         "yaxis": "y"
        },
        {
         "line": {
          "color": "blue",
          "dash": "dot",
          "width": 2
         },
         "mode": "lines",
         "name": "Bangladesh - Cereal Production",
         "type": "scatter",
         "x": [
          2,
          9,
          19,
          24,
          35,
          45,
          48,
          58,
          65,
          78,
          82,
          91,
          102,
          110,
          115,
          127,
          128,
          142,
          148,
          157,
          160,
          174,
          180,
          184,
          199,
          200,
          213,
          219,
          224,
          237,
          246,
          252,
          261,
          267,
          278,
          281,
          290,
          299,
          304,
          318,
          324,
          332,
          337,
          349,
          354,
          364,
          372,
          383,
          389,
          394,
          407,
          413,
          417,
          429,
          432,
          441,
          449,
          461,
          466,
          477,
          486,
          493
         ],
         "y": [
          14523696,
          13408128,
          16042664,
          15842004,
          15852140,
          14464297,
          16876448,
          17160028,
          18187398,
          16905215,
          15088878,
          15323537,
          18021512,
          17105414,
          19322564,
          17908126,
          19772481,
          19984399,
          19658591,
          21698327,
          21591389,
          22339648,
          22990185,
          23256274,
          24134965,
          24266331,
          24304321,
          24449929,
          27886213,
          27746673,
          28326730,
          28516927,
          28177410,
          26325480,
          27704115,
          29620075,
          29673515,
          31577495,
          36403000,
          39503000,
          38029335,
          39341455,
          40015280,
          37759046,
          41146756,
          42044685,
          44841300,
          48946800,
          49735853,
          51862850,
          52628364,
          52801014,
          54357477,
          55241123,
          55438379,
          54262297,
          58495624,
          58816519.33,
          59185501.11,
          59962356.15,
          61597969.2,
          62549531.82
         ],
         "yaxis": "y2"
        },
        {
         "line": {
          "color": "orange",
          "width": 2
         },
         "mode": "lines",
         "name": "Bhutan - Population",
         "type": "scatter",
         "x": [
          6,
          10,
          18,
          25,
          36,
          40,
          50,
          60,
          68,
          76,
          81,
          90,
          100,
          106,
          119,
          126,
          134,
          137,
          149,
          159,
          161,
          170,
          179,
          188,
          193,
          205,
          214,
          216,
          226,
          238,
          245,
          255,
          259,
          268,
          272,
          284,
          291,
          300,
          309,
          319,
          320,
          329,
          338,
          344,
          355,
          367,
          374,
          381,
          384,
          392,
          403,
          414,
          421,
          426,
          433,
          446,
          452,
          463,
          468,
          475,
          484,
          489
         ],
         "y": [
          230602,
          237636,
          245156,
          252987,
          261200,
          269820,
          278852,
          288311,
          298214,
          308528,
          319211,
          330264,
          341705,
          353538,
          365791,
          378490,
          391639,
          405243,
          419200,
          433404,
          447836,
          462485,
          477460,
          492784,
          508392,
          524324,
          540557,
          556986,
          573586,
          589287,
          599784,
          577774,
          554673,
          554497,
          547989,
          548784,
          558697,
          569435,
          582579,
          596863,
          610794,
          624409,
          637663,
          650544,
          661865,
          670799,
          678641,
          686351,
          693988,
          701632,
          709377,
          717279,
          725273,
          733139,
          740618,
          747866,
          754335,
          759759,
          764824,
          770006,
          775442,
          780914
         ],
         "yaxis": "y"
        },
        {
         "line": {
          "color": "orange",
          "dash": "dot",
          "width": 2
         },
         "mode": "lines",
         "name": "Bhutan - Cereal Production",
         "type": "scatter",
         "x": [
          6,
          10,
          18,
          25,
          36,
          40,
          50,
          60,
          68,
          76,
          81,
          90,
          100,
          106,
          119,
          126,
          134,
          137,
          149,
          159,
          161,
          170,
          179,
          188,
          193,
          205,
          214,
          216,
          226,
          238,
          245,
          255,
          259,
          268,
          272,
          284,
          291,
          300,
          309,
          319,
          320,
          329,
          338,
          344,
          355,
          367,
          374,
          381,
          384,
          392,
          403,
          414,
          421,
          426,
          433,
          446,
          452,
          463,
          468,
          475,
          484,
          489
         ],
         "y": [
          98408,
          101378,
          104458,
          107233,
          110113,
          113000,
          116100,
          120200,
          123000,
          126000,
          128900,
          132000,
          134900,
          138200,
          141100,
          143600,
          146900,
          150100,
          154100,
          158100,
          163700,
          166230,
          171700,
          178891,
          167300,
          164350,
          139700,
          94871,
          94800,
          121320,
          100025.47,
          101312.04,
          116779.57,
          131911.14,
          149534.32,
          162306.75,
          169824.81,
          168080.92,
          151252.3,
          106650,
          115000,
          91437,
          106447,
          153969,
          192631,
          184653,
          190853,
          166007,
          143552,
          144634,
          184333,
          167800,
          171148.72,
          170212.58,
          175635.48,
          176187.02,
          192713,
          125754.52,
          103288.31,
          103397.48,
          77677.47,
          71364.7
         ],
         "yaxis": "y2"
        },
        {
         "line": {
          "color": "green",
          "width": 2
         },
         "mode": "lines",
         "name": "India - Population",
         "type": "scatter",
         "x": [
          3,
          13,
          21,
          27,
          33,
          46,
          49,
          59,
          67,
          74,
          87,
          89,
          96,
          109,
          117,
          120,
          129,
          139,
          150,
          154,
          167,
          168,
          183,
          191,
          196,
          204,
          212,
          221,
          228,
          234,
          241,
          254,
          258,
          269,
          274,
          282,
          292,
          298,
          306,
          313,
          322,
          328,
          342,
          345,
          358,
          363,
          375,
          377,
          390,
          399,
          402,
          411,
          416,
          431,
          435,
          442,
          448,
          460,
          470,
          478,
          482,
          487
         ],
         "y": [
          446564729,
          457283090,
          468138575,
          479229598,
          490140146,
          500740247,
          511606372,
          522716889,
          533880544,
          545864268,
          558096387,
          570482142,
          583465598,
          597041391,
          611309535,
          625861883,
          640801103,
          655728229,
          671155747,
          687354025,
          703696250,
          720313473,
          737372681,
          754875449,
          772647793,
          790689978,
          808931270,
          827342990,
          846039529,
          864972221,
          883927600,
          902957070,
          922118387,
          941163767,
          960301044,
          979678458,
          999133762,
          1018665080,
          1038225823,
          1057922733,
          1077898575,
          1097600380,
          1116803006,
          1135991513,
          1154676322,
          1172878890,
          1190676021,
          1207930964,
          1225524753,
          1243481564,
          1261224954,
          1278674502,
          1295829511,
          1312277191,
          1328024498,
          1343944296,
          1359657400,
          1374659064,
          1389030312,
          1402617695,
          1414203896,
          1425423212
         ],
         "yaxis": "y"
        },
        {
         "line": {
          "color": "green",
          "dash": "dot",
          "width": 2
         },
         "mode": "lines",
         "name": "India - Cereal Production",
         "type": "scatter",
         "x": [
          3,
          13,
          21,
          27,
          33,
          46,
          49,
          59,
          67,
          74,
          87,
          89,
          96,
          109,
          117,
          120,
          129,
          139,
          150,
          154,
          167,
          168,
          183,
          191,
          196,
          204,
          212,
          221,
          228,
          234,
          241,
          254,
          258,
          269,
          274,
          282,
          292,
          298,
          306,
          313,
          322,
          328,
          342,
          345,
          358,
          363,
          375,
          377,
          390,
          399,
          402,
          411,
          416,
          431,
          435,
          442,
          448,
          460,
          470,
          478,
          482,
          487
         ],
         "y": [
          87376496,
          87257552,
          90373008,
          93706000,
          79699504,
          80137608,
          95453504,
          102443708,
          106291244,
          113909504,
          113238296,
          108615456,
          119648216,
          106793000,
          127807800,
          121625108,
          138062904,
          142964696,
          126470304,
          140490600,
          147583816,
          136101404,
          166781704,
          164477600,
          165682196,
          164955216,
          156114500,
          183867008,
          199413216,
          193919312,
          193101196,
          201468404,
          208626900,
          211941400,
          210012500,
          218750900,
          223232400,
          226877000,
          236205608,
          234931192,
          242963796,
          206636708,
          236592700,
          229845504,
          239997492,
          242785588,
          260485904,
          266835300,
          250783392,
          267838308,
          287860000,
          293290000,
          295669510,
          297113510,
          285997000,
          295359000,
          311418745,
          321556400,
          324960800,
          342108890,
          355110300,
          355088430
         ],
         "yaxis": "y2"
        },
        {
         "line": {
          "color": "red",
          "width": 2
         },
         "mode": "lines",
         "name": "Maldives - Population",
         "type": "scatter",
         "x": [
          5,
          8,
          17,
          26,
          38,
          47,
          54,
          61,
          69,
          77,
          85,
          93,
          98,
          105,
          112,
          123,
          130,
          136,
          146,
          152,
          162,
          171,
          177,
          190,
          195,
          206,
          209,
          220,
          230,
          233,
          244,
          248,
          256,
          266,
          275,
          286,
          288,
          297,
          311,
          317,
          327,
          333,
          340,
          348,
          356,
          366,
          369,
          382,
          386,
          393,
          400,
          409,
          420,
          425,
          439,
          445,
          450,
          457,
          471,
          472,
          480,
          490
         ],
         "y": [
          93450,
          95802,
          98222,
          100662,
          104102,
          108507,
          112528,
          116075,
          119564,
          123219,
          127035,
          130968,
          134952,
          138978,
          143158,
          147525,
          151930,
          156159,
          160360,
          164835,
          169532,
          174333,
          179128,
          184198,
          190169,
          196935,
          203944,
          210885,
          217738,
          224762,
          231802,
          238543,
          244884,
          250822,
          256649,
          262347,
          267707,
          272723,
          277412,
          282019,
          286767,
          291616,
          296491,
          301413,
          306429,
          313851,
          324479,
          336170,
          348275,
          360792,
          373674,
          386818,
          400070,
          413617,
          428154,
          443308,
          458287,
          473099,
          487731,
          502118,
          516154,
          524106
         ],
         "yaxis": "y"
        },
        {
         "line": {
          "color": "red",
          "dash": "dot",
          "width": 2
         },
         "mode": "lines",
         "name": "Maldives - Cereal Production",
         "type": "scatter",
         "x": [
          5,
          8,
          17,
          26,
          38,
          47,
          54,
          61,
          69,
          77,
          85,
          93,
          98,
          105,
          112,
          123,
          130,
          136,
          146,
          152,
          162,
          171,
          177,
          190,
          195,
          206,
          209,
          220,
          230,
          233,
          244,
          248,
          256,
          266,
          275,
          286,
          288,
          297,
          311,
          317,
          327,
          333,
          340,
          348,
          356,
          366,
          369,
          382,
          386,
          393,
          400,
          409,
          420,
          425,
          439,
          445,
          450,
          457,
          471,
          472,
          480,
          490
         ],
         "y": [
          159,
          210,
          262,
          313,
          364,
          426,
          279,
          174,
          83,
          240,
          70,
          25,
          767,
          822,
          2070,
          146,
          83,
          28,
          40,
          17,
          102,
          57,
          25,
          5,
          5,
          5,
          5,
          6,
          11,
          7,
          4,
          8,
          10,
          11,
          11,
          9,
          96.44,
          92.01,
          95.89,
          99.46,
          110.32,
          109.84,
          176.82,
          132,
          120,
          135,
          138,
          145,
          146.53,
          163.77,
          171.94,
          185.49,
          195.47,
          195.07,
          196.88,
          202.06,
          198.23,
          205.88,
          203.29,
          203.74,
          205.17,
          204.4
         ],
         "yaxis": "y2"
        },
        {
         "line": {
          "color": "purple",
          "width": 2
         },
         "mode": "lines",
         "name": "Nepal - Population",
         "type": "scatter",
         "x": [
          7,
          11,
          23,
          28,
          34,
          41,
          52,
          62,
          64,
          73,
          83,
          95,
          101,
          111,
          114,
          121,
          135,
          138,
          151,
          153,
          165,
          169,
          176,
          186,
          192,
          202,
          210,
          222,
          225,
          232,
          242,
          249,
          262,
          265,
          273,
          285,
          293,
          303,
          307,
          312,
          325,
          331,
          339,
          346,
          359,
          365,
          368,
          379,
          387,
          398,
          406,
          408,
          419,
          428,
          437,
          443,
          454,
          459,
          465,
          479,
          481,
          491
         ],
         "y": [
          10318396,
          10521116,
          10729818,
          10946392,
          11173411,
          11408710,
          11652716,
          11906266,
          12167036,
          12436190,
          12710061,
          12989099,
          13275239,
          13568435,
          13870695,
          14177649,
          14499175,
          14839695,
          15190590,
          15553105,
          15922423,
          16297987,
          16689119,
          17085242,
          17477692,
          17868124,
          18250505,
          18638661,
          19057807,
          19524573,
          20036500,
          20609707,
          21180159,
          21717479,
          22245439,
          22741862,
          23219463,
          23680357,
          24125199,
          24546509,
          24946748,
          25328981,
          25688758,
          26016656,
          26309458,
          26565425,
          26788492,
          26990037,
          27173035,
          27341952,
          27464494,
          27534915,
          27589996,
          27672370,
          27823629,
          27955462,
          28011258,
          28079689,
          28414064,
          28966574,
          29475010,
          29715436
         ],
         "yaxis": "y"
        },
        {
         "line": {
          "color": "purple",
          "dash": "dot",
          "width": 2
         },
         "mode": "lines",
         "name": "Nepal - Cereal Production",
         "type": "scatter",
         "x": [
          7,
          11,
          23,
          28,
          34,
          41,
          52,
          62,
          64,
          73,
          83,
          95,
          101,
          111,
          114,
          121,
          135,
          138,
          151,
          153,
          165,
          169,
          176,
          186,
          192,
          202,
          210,
          222,
          225,
          232,
          242,
          249,
          262,
          265,
          273,
          285,
          293,
          303,
          307,
          312,
          325,
          331,
          339,
          346,
          359,
          365,
          368,
          379,
          387,
          398,
          406,
          408,
          419,
          428,
          437,
          443,
          454,
          459,
          465,
          479,
          481,
          491
         ],
         "y": [
          3167000,
          3177026,
          3181578,
          3280500,
          3335000,
          3126325,
          3165429,
          3291912,
          3416913,
          3555902,
          3450714,
          3216502,
          3708825,
          3755148,
          3851585,
          3733322,
          3534858,
          3648730,
          3193100,
          3792060,
          3933530,
          3221180,
          4310790,
          4309680,
          4373360,
          3999390,
          4759120,
          5306800,
          5672510,
          5847090,
          4882080,
          5812440,
          5183210,
          6047242,
          6209613,
          6308630,
          6409270,
          6524470,
          6972123,
          7063809,
          7087917,
          7220675,
          7690125,
          7588163,
          7694042,
          7135304,
          7955234,
          8301486,
          7622561,
          8207431,
          9227353,
          8889977,
          9122829,
          9304245,
          8776707,
          9545530.84,
          9680490.82,
          10511825,
          10566025,
          11006495.78,
          10627427,
          11128373
         ],
         "yaxis": "y2"
        },
        {
         "line": {
          "color": "pink",
          "width": 2
         },
         "mode": "lines",
         "name": "Pakistan - Population",
         "type": "scatter",
         "x": [
          4,
          14,
          16,
          29,
          37,
          42,
          55,
          63,
          70,
          79,
          80,
          94,
          103,
          108,
          118,
          125,
          132,
          143,
          145,
          155,
          163,
          172,
          182,
          187,
          198,
          201,
          211,
          218,
          227,
          239,
          243,
          250,
          263,
          271,
          279,
          287,
          295,
          296,
          310,
          315,
          323,
          330,
          343,
          351,
          353,
          362,
          373,
          380,
          388,
          396,
          405,
          410,
          422,
          427,
          434,
          440,
          453,
          462,
          464,
          476,
          483,
          492
         ],
         "y": [
          46921277,
          48156128,
          49447776,
          50799999,
          52209010,
          53678667,
          55214768,
          56810507,
          58460939,
          60166719,
          61847899,
          63583194,
          65461912,
          67415487,
          69461175,
          71620254,
          73901827,
          76307379,
          78997039,
          82291010,
          85802049,
          89089246,
          92227711,
          95164936,
          98229285,
          101606764,
          105130717,
          108724739,
          112336629,
          116155576,
          120060406,
          123546848,
          127020117,
          130748083,
          134582253,
          138557092,
          142531804,
          146522356,
          150565377,
          154879127,
          159270907,
          163222549,
          167110248,
          171286000,
          175453212,
          179682690,
          184493231,
          189499113,
          194376534,
          199239047,
          203746065,
          207667125,
          211073978,
          214264647,
          217290883,
          220138869,
          223273967,
          226928892,
          230800899,
          235001746,
          239477801,
          243700667
         ],
         "yaxis": "y"
        },
        {
         "line": {
          "color": "pink",
          "dash": "dot",
          "width": 2
         },
         "mode": "lines",
         "name": "Pakistan - Cereal Production",
         "type": "scatter",
         "x": [
          4,
          14,
          16,
          29,
          37,
          42,
          55,
          63,
          70,
          79,
          80,
          94,
          103,
          108,
          118,
          125,
          132,
          143,
          145,
          155,
          163,
          172,
          182,
          187,
          198,
          201,
          211,
          218,
          227,
          239,
          243,
          250,
          263,
          271,
          279,
          287,
          295,
          296,
          310,
          315,
          323,
          330,
          343,
          351,
          353,
          362,
          373,
          380,
          388,
          396,
          405,
          410,
          422,
          427,
          434,
          440,
          453,
          462,
          464,
          476,
          483,
          492
         ],
         "y": [
          6729680,
          6941600,
          7208300,
          7565300,
          7866500,
          7281250,
          8166500,
          10791900,
          11569500,
          12097337,
          11336393,
          11800886,
          12730806,
          12515833,
          13127967,
          14262949,
          15115120,
          14764206,
          16304600,
          17073600,
          18222050,
          18075950,
          19100750,
          17535900,
          17699400,
          20866100,
          18428100,
          19240300,
          21017550,
          20957200,
          21137950,
          22123350,
          23869650,
          22338150,
          25036450,
          25394800,
          25259600,
          27985200,
          27756417,
          30460700,
          27048000,
          27172850,
          28963500,
          30311300,
          33507800,
          33027900,
          35812200,
          35528100,
          38147050,
          34811258,
          39304580,
          36496350,
          40109711,
          41895811,
          41081682,
          42555022,
          44299994.5,
          43254398,
          43912063,
          47226053,
          51304736,
          47717929
         ],
         "yaxis": "y2"
        },
        {
         "line": {
          "color": "brown",
          "width": 2
         },
         "mode": "lines",
         "name": "Sri Lanka - Population",
         "type": "scatter",
         "x": [
          1,
          15,
          20,
          30,
          39,
          44,
          53,
          56,
          66,
          75,
          84,
          88,
          99,
          104,
          116,
          124,
          131,
          141,
          144,
          158,
          164,
          173,
          178,
          189,
          194,
          207,
          215,
          223,
          231,
          236,
          247,
          253,
          260,
          264,
          276,
          283,
          294,
          301,
          308,
          316,
          326,
          334,
          341,
          347,
          352,
          360,
          371,
          378,
          391,
          397,
          404,
          415,
          423,
          430,
          438,
          444,
          451,
          458,
          467,
          473,
          485,
          488
         ],
         "y": [
          9899372,
          10143754,
          10395040,
          10653397,
          10916965,
          11183928,
          11457328,
          11736088,
          12013858,
          12287110,
          12551910,
          12809205,
          13060916,
          13305693,
          13548984,
          13796770,
          14049371,
          14310128,
          14579614,
          14847974,
          15099414,
          15286567,
          15388794,
          15441860,
          15544154,
          15731256,
          15916576,
          16078621,
          16248557,
          16352458,
          16475354,
          16739284,
          17025918,
          17275773,
          17564068,
          17905018,
          18248200,
          18596003,
          18944731,
          19293054,
          19600362,
          19805752,
          19951521,
          20087605,
          20216524,
          20352411,
          20492545,
          20629378,
          20756435,
          20879089,
          21009048,
          21169458,
          20585000,
          20778000,
          20970000,
          21209000,
          21444000,
          21670000,
          21803000,
          21919000,
          22156000,
          22181000
         ],
         "yaxis": "y"
        },
        {
         "line": {
          "color": "brown",
          "dash": "dot",
          "width": 2
         },
         "mode": "lines",
         "name": "Sri Lanka - Cereal Production",
         "type": "scatter",
         "x": [
          1,
          15,
          20,
          30,
          39,
          44,
          53,
          56,
          66,
          75,
          84,
          88,
          99,
          104,
          116,
          124,
          131,
          141,
          144,
          158,
          164,
          173,
          178,
          189,
          194,
          207,
          215,
          223,
          231,
          236,
          247,
          253,
          260,
          264,
          276,
          283,
          294,
          301,
          308,
          316,
          326,
          334,
          341,
          347,
          352,
          360,
          371,
          378,
          391,
          397,
          404,
          415,
          423,
          430,
          438,
          444,
          451,
          458,
          467,
          473,
          485,
          488
         ],
         "y": [
          951868,
          1061828,
          1076631,
          1100142,
          795199,
          1011504,
          1190706,
          1385641,
          1412377,
          1644193,
          1421355,
          1342614,
          1353723,
          1650815,
          1211357,
          1306398,
          1719023,
          1932237,
          1955033,
          2170390,
          2265866,
          2192543,
          2528616,
          2467570,
          2702001,
          2638561,
          2177294,
          2523913,
          2101237,
          2578860,
          2429895,
          2373882,
          2609310,
          2722454,
          2850089,
          2098777,
          2268861,
          2730821,
          2893630,
          2896040,
          2728140,
          2890180,
          3106450,
          2668240,
          3294530,
          3396030,
          3193100,
          4017620,
          3788070,
          4469740,
          4038207,
          4054851,
          4837225,
          3625675,
          5051180.51,
          4672771,
          2579086,
          4200098,
          4837907,
          5434886.5,
          5622708.9,
          3652343
         ],
         "yaxis": "y2"
        },
        {
         "line": {
          "color": "gray",
          "width": 2
         },
         "mode": "lines",
         "name": "South Asia (IDA & IBRD) - Population",
         "type": "scatter",
         "x": [
          0,
          12,
          22,
          31,
          32,
          43,
          51,
          57,
          71,
          72,
          86,
          92,
          97,
          107,
          113,
          122,
          133,
          140,
          147,
          156,
          166,
          175,
          181,
          185,
          197,
          203,
          208,
          217,
          229,
          235,
          240,
          251,
          257,
          270,
          277,
          280,
          289,
          302,
          305,
          314,
          321,
          335,
          336,
          350,
          357,
          361,
          370,
          376,
          385,
          395,
          401,
          412,
          418,
          424,
          436,
          447,
          455,
          456,
          469,
          474
         ],
         "y": [
          576552257,
          590723078,
          605163476,
          619975727,
          634743361,
          649326080,
          664339452,
          679739334,
          695251697,
          711535056,
          727496928,
          743820087,
          761620615,
          780131997,
          799327643,
          818897740,
          839003065,
          859247929,
          880093189,
          901830096,
          923378190,
          945429976,
          968588030,
          992249656,
          1016278162,
          1040673027,
          1065320678,
          1090292188,
          1115781733,
          1141498254,
          1167357434,
          1193900392,
          1221219670,
          1248304394,
          1275163648,
          1302319006,
          1329609793,
          1357088282,
          1384716971,
          1412194936,
          1439704270,
          1467185462,
          1494191087,
          1520797241,
          1546744163,
          1572294133,
          1597352539,
          1622028899,
          1647212835,
          1672490146,
          1697466396,
          1721780232,
          1744358673,
          1766896416,
          1788492725,
          1809951345,
          1831474329,
          1852836645,
          1874070006,
          1895144142
         ],
         "yaxis": "y"
        },
        {
         "line": {
          "color": "gray",
          "dash": "dot",
          "width": 2
         },
         "mode": "lines",
         "name": "South Asia (IDA & IBRD) - Cereal Production",
         "type": "scatter",
         "x": [
          0,
          12,
          22,
          31,
          32,
          43,
          51,
          57,
          71,
          72,
          86,
          92,
          97,
          107,
          113,
          122,
          133,
          140,
          147,
          156,
          166,
          175,
          181,
          185,
          197,
          203,
          208,
          217,
          229,
          235,
          240,
          251,
          257,
          270,
          277,
          280,
          289,
          302,
          305,
          314,
          321,
          335,
          336,
          350,
          357,
          361,
          370,
          376,
          385,
          395,
          401,
          412,
          418,
          424,
          436,
          447,
          455,
          456,
          469,
          474
         ],
         "y": [
          116542307,
          115643722,
          121364901,
          125333492,
          111443820,
          109623410,
          128794966,
          139109563,
          145038515,
          151750391,
          147983606,
          144381020,
          159868749,
          146310232,
          169945443,
          163603649,
          182498369,
          187826396,
          171949768,
          189455094,
          197653453,
          185821012,
          219474770,
          215643920,
          218001227,
          219973953,
          209317040,
          238479827,
          259019537,
          253875462,
          252699182.8,
          262866323.04,
          271565043.63,
          272650648.14,
          275204491.6,
          285577412.5,
          290696289.82,
          299738665.05,
          313638521.96,
          316901490.46,
          320080298.32,
          287090414.84,
          320855678.82,
          311886354,
          331258371,
          333212295,
          358264729,
          367745458,
          356734624.53,
          373291384.77,
          397924028.94,
          402282177.49,
          411040331.19,
          414363294.93,
          402531068.87,
          412279340.34,
          431726485.52,
          442769756.23,
          449337648.71,
          472084110.65
         ],
         "yaxis": "y2"
        }
       ],
       "layout": {
        "legend": {
         "orientation": "h",
         "title": {
          "text": "Click to Toggle"
         }
        },
        "template": {
         "data": {
          "bar": [
           {
            "error_x": {
             "color": "#2a3f5f"
            },
            "error_y": {
             "color": "#2a3f5f"
            },
            "marker": {
             "line": {
              "color": "#E5ECF6",
              "width": 0.5
             },
             "pattern": {
              "fillmode": "overlay",
              "size": 10,
              "solidity": 0.2
             }
            },
            "type": "bar"
           }
          ],
          "barpolar": [
           {
            "marker": {
             "line": {
              "color": "#E5ECF6",
              "width": 0.5
             },
             "pattern": {
              "fillmode": "overlay",
              "size": 10,
              "solidity": 0.2
             }
            },
            "type": "barpolar"
           }
          ],
          "carpet": [
           {
            "aaxis": {
             "endlinecolor": "#2a3f5f",
             "gridcolor": "white",
             "linecolor": "white",
             "minorgridcolor": "white",
             "startlinecolor": "#2a3f5f"
            },
            "baxis": {
             "endlinecolor": "#2a3f5f",
             "gridcolor": "white",
             "linecolor": "white",
             "minorgridcolor": "white",
             "startlinecolor": "#2a3f5f"
            },
            "type": "carpet"
           }
          ],
          "choropleth": [
           {
            "colorbar": {
             "outlinewidth": 0,
             "ticks": ""
            },
            "type": "choropleth"
           }
          ],
          "contour": [
           {
            "colorbar": {
             "outlinewidth": 0,
             "ticks": ""
            },
            "colorscale": [
             [
              0,
              "#0d0887"
             ],
             [
              0.1111111111111111,
              "#46039f"
             ],
             [
              0.2222222222222222,
              "#7201a8"
             ],
             [
              0.3333333333333333,
              "#9c179e"
             ],
             [
              0.4444444444444444,
              "#bd3786"
             ],
             [
              0.5555555555555556,
              "#d8576b"
             ],
             [
              0.6666666666666666,
              "#ed7953"
             ],
             [
              0.7777777777777778,
              "#fb9f3a"
             ],
             [
              0.8888888888888888,
              "#fdca26"
             ],
             [
              1,
              "#f0f921"
             ]
            ],
            "type": "contour"
           }
          ],
          "contourcarpet": [
           {
            "colorbar": {
             "outlinewidth": 0,
             "ticks": ""
            },
            "type": "contourcarpet"
           }
          ],
          "heatmap": [
           {
            "colorbar": {
             "outlinewidth": 0,
             "ticks": ""
            },
            "colorscale": [
             [
              0,
              "#0d0887"
             ],
             [
              0.1111111111111111,
              "#46039f"
             ],
             [
              0.2222222222222222,
              "#7201a8"
             ],
             [
              0.3333333333333333,
              "#9c179e"
             ],
             [
              0.4444444444444444,
              "#bd3786"
             ],
             [
              0.5555555555555556,
              "#d8576b"
             ],
             [
              0.6666666666666666,
              "#ed7953"
             ],
             [
              0.7777777777777778,
              "#fb9f3a"
             ],
             [
              0.8888888888888888,
              "#fdca26"
             ],
             [
              1,
              "#f0f921"
             ]
            ],
            "type": "heatmap"
           }
          ],
          "heatmapgl": [
           {
            "colorbar": {
             "outlinewidth": 0,
             "ticks": ""
            },
            "colorscale": [
             [
              0,
              "#0d0887"
             ],
             [
              0.1111111111111111,
              "#46039f"
             ],
             [
              0.2222222222222222,
              "#7201a8"
             ],
             [
              0.3333333333333333,
              "#9c179e"
             ],
             [
              0.4444444444444444,
              "#bd3786"
             ],
             [
              0.5555555555555556,
              "#d8576b"
             ],
             [
              0.6666666666666666,
              "#ed7953"
             ],
             [
              0.7777777777777778,
              "#fb9f3a"
             ],
             [
              0.8888888888888888,
              "#fdca26"
             ],
             [
              1,
              "#f0f921"
             ]
            ],
            "type": "heatmapgl"
           }
          ],
          "histogram": [
           {
            "marker": {
             "pattern": {
              "fillmode": "overlay",
              "size": 10,
              "solidity": 0.2
             }
            },
            "type": "histogram"
           }
          ],
          "histogram2d": [
           {
            "colorbar": {
             "outlinewidth": 0,
             "ticks": ""
            },
            "colorscale": [
             [
              0,
              "#0d0887"
             ],
             [
              0.1111111111111111,
              "#46039f"
             ],
             [
              0.2222222222222222,
              "#7201a8"
             ],
             [
              0.3333333333333333,
              "#9c179e"
             ],
             [
              0.4444444444444444,
              "#bd3786"
             ],
             [
              0.5555555555555556,
              "#d8576b"
             ],
             [
              0.6666666666666666,
              "#ed7953"
             ],
             [
              0.7777777777777778,
              "#fb9f3a"
             ],
             [
              0.8888888888888888,
              "#fdca26"
             ],
             [
              1,
              "#f0f921"
             ]
            ],
            "type": "histogram2d"
           }
          ],
          "histogram2dcontour": [
           {
            "colorbar": {
             "outlinewidth": 0,
             "ticks": ""
            },
            "colorscale": [
             [
              0,
              "#0d0887"
             ],
             [
              0.1111111111111111,
              "#46039f"
             ],
             [
              0.2222222222222222,
              "#7201a8"
             ],
             [
              0.3333333333333333,
              "#9c179e"
             ],
             [
              0.4444444444444444,
              "#bd3786"
             ],
             [
              0.5555555555555556,
              "#d8576b"
             ],
             [
              0.6666666666666666,
              "#ed7953"
             ],
             [
              0.7777777777777778,
              "#fb9f3a"
             ],
             [
              0.8888888888888888,
              "#fdca26"
             ],
             [
              1,
              "#f0f921"
             ]
            ],
            "type": "histogram2dcontour"
           }
          ],
          "mesh3d": [
           {
            "colorbar": {
             "outlinewidth": 0,
             "ticks": ""
            },
            "type": "mesh3d"
           }
          ],
          "parcoords": [
           {
            "line": {
             "colorbar": {
              "outlinewidth": 0,
              "ticks": ""
             }
            },
            "type": "parcoords"
           }
          ],
          "pie": [
           {
            "automargin": true,
            "type": "pie"
           }
          ],
          "scatter": [
           {
            "fillpattern": {
             "fillmode": "overlay",
             "size": 10,
             "solidity": 0.2
            },
            "type": "scatter"
           }
          ],
          "scatter3d": [
           {
            "line": {
             "colorbar": {
              "outlinewidth": 0,
              "ticks": ""
             }
            },
            "marker": {
             "colorbar": {
              "outlinewidth": 0,
              "ticks": ""
             }
            },
            "type": "scatter3d"
           }
          ],
          "scattercarpet": [
           {
            "marker": {
             "colorbar": {
              "outlinewidth": 0,
              "ticks": ""
             }
            },
            "type": "scattercarpet"
           }
          ],
          "scattergeo": [
           {
            "marker": {
             "colorbar": {
              "outlinewidth": 0,
              "ticks": ""
             }
            },
            "type": "scattergeo"
           }
          ],
          "scattergl": [
           {
            "marker": {
             "colorbar": {
              "outlinewidth": 0,
              "ticks": ""
             }
            },
            "type": "scattergl"
           }
          ],
          "scattermapbox": [
           {
            "marker": {
             "colorbar": {
              "outlinewidth": 0,
              "ticks": ""
             }
            },
            "type": "scattermapbox"
           }
          ],
          "scatterpolar": [
           {
            "marker": {
             "colorbar": {
              "outlinewidth": 0,
              "ticks": ""
             }
            },
            "type": "scatterpolar"
           }
          ],
          "scatterpolargl": [
           {
            "marker": {
             "colorbar": {
              "outlinewidth": 0,
              "ticks": ""
             }
            },
            "type": "scatterpolargl"
           }
          ],
          "scatterternary": [
           {
            "marker": {
             "colorbar": {
              "outlinewidth": 0,
              "ticks": ""
             }
            },
            "type": "scatterternary"
           }
          ],
          "surface": [
           {
            "colorbar": {
             "outlinewidth": 0,
             "ticks": ""
            },
            "colorscale": [
             [
              0,
              "#0d0887"
             ],
             [
              0.1111111111111111,
              "#46039f"
             ],
             [
              0.2222222222222222,
              "#7201a8"
             ],
             [
              0.3333333333333333,
              "#9c179e"
             ],
             [
              0.4444444444444444,
              "#bd3786"
             ],
             [
              0.5555555555555556,
              "#d8576b"
             ],
             [
              0.6666666666666666,
              "#ed7953"
             ],
             [
              0.7777777777777778,
              "#fb9f3a"
             ],
             [
              0.8888888888888888,
              "#fdca26"
             ],
             [
              1,
              "#f0f921"
             ]
            ],
            "type": "surface"
           }
          ],
          "table": [
           {
            "cells": {
             "fill": {
              "color": "#EBF0F8"
             },
             "line": {
              "color": "white"
             }
            },
            "header": {
             "fill": {
              "color": "#C8D4E3"
             },
             "line": {
              "color": "white"
             }
            },
            "type": "table"
           }
          ]
         },
         "layout": {
          "annotationdefaults": {
           "arrowcolor": "#2a3f5f",
           "arrowhead": 0,
           "arrowwidth": 1
          },
          "autotypenumbers": "strict",
          "coloraxis": {
           "colorbar": {
            "outlinewidth": 0,
            "ticks": ""
           }
          },
          "colorscale": {
           "diverging": [
            [
             0,
             "#8e0152"
            ],
            [
             0.1,
             "#c51b7d"
            ],
            [
             0.2,
             "#de77ae"
            ],
            [
             0.3,
             "#f1b6da"
            ],
            [
             0.4,
             "#fde0ef"
            ],
            [
             0.5,
             "#f7f7f7"
            ],
            [
             0.6,
             "#e6f5d0"
            ],
            [
             0.7,
             "#b8e186"
            ],
            [
             0.8,
             "#7fbc41"
            ],
            [
             0.9,
             "#4d9221"
            ],
            [
             1,
             "#276419"
            ]
           ],
           "sequential": [
            [
             0,
             "#0d0887"
            ],
            [
             0.1111111111111111,
             "#46039f"
            ],
            [
             0.2222222222222222,
             "#7201a8"
            ],
            [
             0.3333333333333333,
             "#9c179e"
            ],
            [
             0.4444444444444444,
             "#bd3786"
            ],
            [
             0.5555555555555556,
             "#d8576b"
            ],
            [
             0.6666666666666666,
             "#ed7953"
            ],
            [
             0.7777777777777778,
             "#fb9f3a"
            ],
            [
             0.8888888888888888,
             "#fdca26"
            ],
            [
             1,
             "#f0f921"
            ]
           ],
           "sequentialminus": [
            [
             0,
             "#0d0887"
            ],
            [
             0.1111111111111111,
             "#46039f"
            ],
            [
             0.2222222222222222,
             "#7201a8"
            ],
            [
             0.3333333333333333,
             "#9c179e"
            ],
            [
             0.4444444444444444,
             "#bd3786"
            ],
            [
             0.5555555555555556,
             "#d8576b"
            ],
            [
             0.6666666666666666,
             "#ed7953"
            ],
            [
             0.7777777777777778,
             "#fb9f3a"
            ],
            [
             0.8888888888888888,
             "#fdca26"
            ],
            [
             1,
             "#f0f921"
            ]
           ]
          },
          "colorway": [
           "#636efa",
           "#EF553B",
           "#00cc96",
           "#ab63fa",
           "#FFA15A",
           "#19d3f3",
           "#FF6692",
           "#B6E880",
           "#FF97FF",
           "#FECB52"
          ],
          "font": {
           "color": "#2a3f5f"
          },
          "geo": {
           "bgcolor": "white",
           "lakecolor": "white",
           "landcolor": "#E5ECF6",
           "showlakes": true,
           "showland": true,
           "subunitcolor": "white"
          },
          "hoverlabel": {
           "align": "left"
          },
          "hovermode": "closest",
          "mapbox": {
           "style": "light"
          },
          "paper_bgcolor": "white",
          "plot_bgcolor": "#E5ECF6",
          "polar": {
           "angularaxis": {
            "gridcolor": "white",
            "linecolor": "white",
            "ticks": ""
           },
           "bgcolor": "#E5ECF6",
           "radialaxis": {
            "gridcolor": "white",
            "linecolor": "white",
            "ticks": ""
           }
          },
          "scene": {
           "xaxis": {
            "backgroundcolor": "#E5ECF6",
            "gridcolor": "white",
            "gridwidth": 2,
            "linecolor": "white",
            "showbackground": true,
            "ticks": "",
            "zerolinecolor": "white"
           },
           "yaxis": {
            "backgroundcolor": "#E5ECF6",
            "gridcolor": "white",
            "gridwidth": 2,
            "linecolor": "white",
            "showbackground": true,
            "ticks": "",
            "zerolinecolor": "white"
           },
           "zaxis": {
            "backgroundcolor": "#E5ECF6",
            "gridcolor": "white",
            "gridwidth": 2,
            "linecolor": "white",
            "showbackground": true,
            "ticks": "",
            "zerolinecolor": "white"
           }
          },
          "shapedefaults": {
           "line": {
            "color": "#2a3f5f"
           }
          },
          "ternary": {
           "aaxis": {
            "gridcolor": "white",
            "linecolor": "white",
            "ticks": ""
           },
           "baxis": {
            "gridcolor": "white",
            "linecolor": "white",
            "ticks": ""
           },
           "bgcolor": "#E5ECF6",
           "caxis": {
            "gridcolor": "white",
            "linecolor": "white",
            "ticks": ""
           }
          },
          "title": {
           "x": 0.05
          },
          "xaxis": {
           "automargin": true,
           "gridcolor": "white",
           "linecolor": "white",
           "ticks": "",
           "title": {
            "standoff": 15
           },
           "zerolinecolor": "white",
           "zerolinewidth": 2
          },
          "yaxis": {
           "automargin": true,
           "gridcolor": "white",
           "linecolor": "white",
           "ticks": "",
           "title": {
            "standoff": 15
           },
           "zerolinecolor": "white",
           "zerolinewidth": 2
          }
         }
        },
        "title": {
         "text": "Total Population vs. Cereal Production Over Time"
        },
        "xaxis": {
         "title": {
          "text": "Year"
         }
        },
        "yaxis": {
         "color": "black",
         "title": {
          "text": "Total Population"
         }
        },
        "yaxis2": {
         "color": "black",
         "overlaying": "y",
         "side": "right",
         "title": {
          "text": "Cereal Production (MT)"
         }
        }
       }
      },
      "image/png": "[encoded data removed]",
      "text/html": [
       "<div>                            <div id=\"727113f0-f43b-4b76-b3de-dcbc4fa64ab8\" class=\"plotly-graph-div\" style=\"height:525px; width:100%;\"></div>            <script type=\"text/javascript\">                require([\"plotly\"], function(Plotly) {                    window.PLOTLYENV=window.PLOTLYENV || {};                                    if (document.getElementById(\"727113f0-f43b-4b76-b3de-dcbc4fa64ab8\")) {                    Plotly.newPlot(                        \"727113f0-f43b-4b76-b3de-dcbc4fa64ab8\",                        [{\"line\":{\"color\":\"blue\",\"width\":2},\"mode\":\"lines\",\"name\":\"Bangladesh - Population\",\"x\":[2,9,19,24,35,45,48,58,65,78,82,91,102,110,115,127,128,142,148,157,160,174,180,184,199,200,213,219,224,237,246,252,261,267,278,281,290,299,304,318,324,332,337,349,354,364,372,383,389,394,407,413,417,429,432,441,449,461,466,477,486,493],\"y\":[53310348.0,54881146.0,56504402.0,58178374.0,59902519.0,61669806.0,63510929.0,65408276.0,67294133.0,69058894.0,70276758.0,71641519.0,73722294.0,75839348.0,77854351.0,79855318.0,81867264.0,83889655.0,85935072.0,88016432.0,90303105.0,92814507.0,95335155.0,97814966.0,100253825.0,102635572.0,104959291.0,107216008.0,109433799.0,111633717.0,113787109.0,115952192.0,118132360.0,120343179.0,122600370.0,124862179.0,127198069.0,129622332.0,132108065.0,134544304.0,136805810.0,138933658.0,140970351.0,142902856.0,144715786.0,146405973.0,147989278.0,149474264.0,150873714.0,152201981.0,153591076.0,155070101.0,156532141.0,157964929.0,159383179.0,160811932.0,162186147.0,163523103.0,164913055.0,166298024.0,167658854.0,169384897.0],\"yaxis\":\"y\",\"type\":\"scatter\"},{\"line\":{\"color\":\"blue\",\"dash\":\"dot\",\"width\":2},\"mode\":\"lines\",\"name\":\"Bangladesh - Cereal Production\",\"x\":[2,9,19,24,35,45,48,58,65,78,82,91,102,110,115,127,128,142,148,157,160,174,180,184,199,200,213,219,224,237,246,252,261,267,278,281,290,299,304,318,324,332,337,349,354,364,372,383,389,394,407,413,417,429,432,441,449,461,466,477,486,493],\"y\":[14523696.0,13408128.0,16042664.0,15842004.0,15852140.0,14464297.0,16876448.0,17160028.0,18187398.0,16905215.0,15088878.0,15323537.0,18021512.0,17105414.0,19322564.0,17908126.0,19772481.0,19984399.0,19658591.0,21698327.0,21591389.0,22339648.0,22990185.0,23256274.0,24134965.0,24266331.0,24304321.0,24449929.0,27886213.0,27746673.0,28326730.0,28516927.0,28177410.0,26325480.0,27704115.0,29620075.0,29673515.0,31577495.0,36403000.0,39503000.0,38029335.0,39341455.0,40015280.0,37759046.0,41146756.0,42044685.0,44841300.0,48946800.0,49735853.0,51862850.0,52628364.0,52801014.0,54357477.0,55241123.0,55438379.0,54262297.0,58495624.0,58816519.33,59185501.11,59962356.15,61597969.2,62549531.82],\"yaxis\":\"y2\",\"type\":\"scatter\"},{\"line\":{\"color\":\"orange\",\"width\":2},\"mode\":\"lines\",\"name\":\"Bhutan - Population\",\"x\":[6,10,18,25,36,40,50,60,68,76,81,90,100,106,119,126,134,137,149,159,161,170,179,188,193,205,214,216,226,238,245,255,259,268,272,284,291,300,309,319,320,329,338,344,355,367,374,381,384,392,403,414,421,426,433,446,452,463,468,475,484,489],\"y\":[230602.0,237636.0,245156.0,252987.0,261200.0,269820.0,278852.0,288311.0,298214.0,308528.0,319211.0,330264.0,341705.0,353538.0,365791.0,378490.0,391639.0,405243.0,419200.0,433404.0,447836.0,462485.0,477460.0,492784.0,508392.0,524324.0,540557.0,556986.0,573586.0,589287.0,599784.0,577774.0,554673.0,554497.0,547989.0,548784.0,558697.0,569435.0,582579.0,596863.0,610794.0,624409.0,637663.0,650544.0,661865.0,670799.0,678641.0,686351.0,693988.0,701632.0,709377.0,717279.0,725273.0,733139.0,740618.0,747866.0,754335.0,759759.0,764824.0,770006.0,775442.0,780914.0],\"yaxis\":\"y\",\"type\":\"scatter\"},{\"line\":{\"color\":\"orange\",\"dash\":\"dot\",\"width\":2},\"mode\":\"lines\",\"name\":\"Bhutan - Cereal Production\",\"x\":[6,10,18,25,36,40,50,60,68,76,81,90,100,106,119,126,134,137,149,159,161,170,179,188,193,205,214,216,226,238,245,255,259,268,272,284,291,300,309,319,320,329,338,344,355,367,374,381,384,392,403,414,421,426,433,446,452,463,468,475,484,489],\"y\":[98408.0,101378.0,104458.0,107233.0,110113.0,113000.0,116100.0,120200.0,123000.0,126000.0,128900.0,132000.0,134900.0,138200.0,141100.0,143600.0,146900.0,150100.0,154100.0,158100.0,163700.0,166230.0,171700.0,178891.0,167300.0,164350.0,139700.0,94871.0,94800.0,121320.0,100025.47,101312.04,116779.57,131911.14,149534.32,162306.75,169824.81,168080.92,151252.3,106650.0,115000.0,91437.0,106447.0,153969.0,192631.0,184653.0,190853.0,166007.0,143552.0,144634.0,184333.0,167800.0,171148.72,170212.58,175635.48,176187.02,192713.0,125754.52,103288.31,103397.48,77677.47,71364.7],\"yaxis\":\"y2\",\"type\":\"scatter\"},{\"line\":{\"color\":\"green\",\"width\":2},\"mode\":\"lines\",\"name\":\"India - Population\",\"x\":[3,13,21,27,33,46,49,59,67,74,87,89,96,109,117,120,129,139,150,154,167,168,183,191,196,204,212,221,228,234,241,254,258,269,274,282,292,298,306,313,322,328,342,345,358,363,375,377,390,399,402,411,416,431,435,442,448,460,470,478,482,487],\"y\":[446564729.0,457283090.0,468138575.0,479229598.0,490140146.0,500740247.0,511606372.0,522716889.0,533880544.0,545864268.0,558096387.0,570482142.0,583465598.0,597041391.0,611309535.0,625861883.0,640801103.0,655728229.0,671155747.0,687354025.0,703696250.0,720313473.0,737372681.0,754875449.0,772647793.0,790689978.0,808931270.0,827342990.0,846039529.0,864972221.0,883927600.0,902957070.0,922118387.0,941163767.0,960301044.0,979678458.0,999133762.0,1018665080.0,1038225823.0,1057922733.0,1077898575.0,1097600380.0,1116803006.0,1135991513.0,1154676322.0,1172878890.0,1190676021.0,1207930964.0,1225524753.0,1243481564.0,1261224954.0,1278674502.0,1295829511.0,1312277191.0,1328024498.0,1343944296.0,1359657400.0,1374659064.0,1389030312.0,1402617695.0,1414203896.0,1425423212.0],\"yaxis\":\"y\",\"type\":\"scatter\"},{\"line\":{\"color\":\"green\",\"dash\":\"dot\",\"width\":2},\"mode\":\"lines\",\"name\":\"India - Cereal Production\",\"x\":[3,13,21,27,33,46,49,59,67,74,87,89,96,109,117,120,129,139,150,154,167,168,183,191,196,204,212,221,228,234,241,254,258,269,274,282,292,298,306,313,322,328,342,345,358,363,375,377,390,399,402,411,416,431,435,442,448,460,470,478,482,487],\"y\":[87376496.0,87257552.0,90373008.0,93706000.0,79699504.0,80137608.0,95453504.0,102443708.0,106291244.0,113909504.0,113238296.0,108615456.0,119648216.0,106793000.0,127807800.0,121625108.0,138062904.0,142964696.0,126470304.0,140490600.0,147583816.0,136101404.0,166781704.0,164477600.0,165682196.0,164955216.0,156114500.0,183867008.0,199413216.0,193919312.0,193101196.0,201468404.0,208626900.0,211941400.0,210012500.0,218750900.0,223232400.0,226877000.0,236205608.0,234931192.0,242963796.0,206636708.0,236592700.0,229845504.0,239997492.0,242785588.0,260485904.0,266835300.0,250783392.0,267838308.0,287860000.0,293290000.0,295669510.0,297113510.0,285997000.0,295359000.0,311418745.0,321556400.0,324960800.0,342108890.0,355110300.0,355088430.0],\"yaxis\":\"y2\",\"type\":\"scatter\"},{\"line\":{\"color\":\"red\",\"width\":2},\"mode\":\"lines\",\"name\":\"Maldives - Population\",\"x\":[5,8,17,26,38,47,54,61,69,77,85,93,98,105,112,123,130,136,146,152,162,171,177,190,195,206,209,220,230,233,244,248,256,266,275,286,288,297,311,317,327,333,340,348,356,366,369,382,386,393,400,409,420,425,439,445,450,457,471,472,480,490],\"y\":[93450.0,95802.0,98222.0,100662.0,104102.0,108507.0,112528.0,116075.0,119564.0,123219.0,127035.0,130968.0,134952.0,138978.0,143158.0,147525.0,151930.0,156159.0,160360.0,164835.0,169532.0,174333.0,179128.0,184198.0,190169.0,196935.0,203944.0,210885.0,217738.0,224762.0,231802.0,238543.0,244884.0,250822.0,256649.0,262347.0,267707.0,272723.0,277412.0,282019.0,286767.0,291616.0,296491.0,301413.0,306429.0,313851.0,324479.0,336170.0,348275.0,360792.0,373674.0,386818.0,400070.0,413617.0,428154.0,443308.0,458287.0,473099.0,487731.0,502118.0,516154.0,524106.0],\"yaxis\":\"y\",\"type\":\"scatter\"},{\"line\":{\"color\":\"red\",\"dash\":\"dot\",\"width\":2},\"mode\":\"lines\",\"name\":\"Maldives - Cereal Production\",\"x\":[5,8,17,26,38,47,54,61,69,77,85,93,98,105,112,123,130,136,146,152,162,171,177,190,195,206,209,220,230,233,244,248,256,266,275,286,288,297,311,317,327,333,340,348,356,366,369,382,386,393,400,409,420,425,439,445,450,457,471,472,480,490],\"y\":[159.0,210.0,262.0,313.0,364.0,426.0,279.0,174.0,83.0,240.0,70.0,25.0,767.0,822.0,2070.0,146.0,83.0,28.0,40.0,17.0,102.0,57.0,25.0,5.0,5.0,5.0,5.0,6.0,11.0,7.0,4.0,8.0,10.0,11.0,11.0,9.0,96.44,92.01,95.89,99.46,110.32,109.84,176.82,132.0,120.0,135.0,138.0,145.0,146.53,163.77,171.94,185.49,195.47,195.07,196.88,202.06,198.23,205.88,203.29,203.74,205.17,204.4],\"yaxis\":\"y2\",\"type\":\"scatter\"},{\"line\":{\"color\":\"purple\",\"width\":2},\"mode\":\"lines\",\"name\":\"Nepal - Population\",\"x\":[7,11,23,28,34,41,52,62,64,73,83,95,101,111,114,121,135,138,151,153,165,169,176,186,192,202,210,222,225,232,242,249,262,265,273,285,293,303,307,312,325,331,339,346,359,365,368,379,387,398,406,408,419,428,437,443,454,459,465,479,481,491],\"y\":[10318396.0,10521116.0,10729818.0,10946392.0,11173411.0,11408710.0,11652716.0,11906266.0,12167036.0,12436190.0,12710061.0,12989099.0,13275239.0,13568435.0,13870695.0,14177649.0,14499175.0,14839695.0,15190590.0,15553105.0,15922423.0,16297987.0,16689119.0,17085242.0,17477692.0,17868124.0,18250505.0,18638661.0,19057807.0,19524573.0,20036500.0,20609707.0,21180159.0,21717479.0,22245439.0,22741862.0,23219463.0,23680357.0,24125199.0,24546509.0,24946748.0,25328981.0,25688758.0,26016656.0,26309458.0,26565425.0,26788492.0,26990037.0,27173035.0,27341952.0,27464494.0,27534915.0,27589996.0,27672370.0,27823629.0,27955462.0,28011258.0,28079689.0,28414064.0,28966574.0,29475010.0,29715436.0],\"yaxis\":\"y\",\"type\":\"scatter\"},{\"line\":{\"color\":\"purple\",\"dash\":\"dot\",\"width\":2},\"mode\":\"lines\",\"name\":\"Nepal - Cereal Production\",\"x\":[7,11,23,28,34,41,52,62,64,73,83,95,101,111,114,121,135,138,151,153,165,169,176,186,192,202,210,222,225,232,242,249,262,265,273,285,293,303,307,312,325,331,339,346,359,365,368,379,387,398,406,408,419,428,437,443,454,459,465,479,481,491],\"y\":[3167000.0,3177026.0,3181578.0,3280500.0,3335000.0,3126325.0,3165429.0,3291912.0,3416913.0,3555902.0,3450714.0,3216502.0,3708825.0,3755148.0,3851585.0,3733322.0,3534858.0,3648730.0,3193100.0,3792060.0,3933530.0,3221180.0,4310790.0,4309680.0,4373360.0,3999390.0,4759120.0,5306800.0,5672510.0,5847090.0,4882080.0,5812440.0,5183210.0,6047242.0,6209613.0,6308630.0,6409270.0,6524470.0,6972123.0,7063809.0,7087917.0,7220675.0,7690125.0,7588163.0,7694042.0,7135304.0,7955234.0,8301486.0,7622561.0,8207431.0,9227353.0,8889977.0,9122829.0,9304245.0,8776707.0,9545530.84,9680490.82,10511825.0,10566025.0,11006495.78,10627427.0,11128373.0],\"yaxis\":\"y2\",\"type\":\"scatter\"},{\"line\":{\"color\":\"pink\",\"width\":2},\"mode\":\"lines\",\"name\":\"Pakistan - Population\",\"x\":[4,14,16,29,37,42,55,63,70,79,80,94,103,108,118,125,132,143,145,155,163,172,182,187,198,201,211,218,227,239,243,250,263,271,279,287,295,296,310,315,323,330,343,351,353,362,373,380,388,396,405,410,422,427,434,440,453,462,464,476,483,492],\"y\":[46921277.0,48156128.0,49447776.0,50799999.0,52209010.0,53678667.0,55214768.0,56810507.0,58460939.0,60166719.0,61847899.0,63583194.0,65461912.0,67415487.0,69461175.0,71620254.0,73901827.0,76307379.0,78997039.0,82291010.0,85802049.0,89089246.0,92227711.0,95164936.0,98229285.0,101606764.0,105130717.0,108724739.0,112336629.0,116155576.0,120060406.0,123546848.0,127020117.0,130748083.0,134582253.0,138557092.0,142531804.0,146522356.0,150565377.0,154879127.0,159270907.0,163222549.0,167110248.0,171286000.0,175453212.0,179682690.0,184493231.0,189499113.0,194376534.0,199239047.0,203746065.0,207667125.0,211073978.0,214264647.0,217290883.0,220138869.0,223273967.0,226928892.0,230800899.0,235001746.0,239477801.0,243700667.0],\"yaxis\":\"y\",\"type\":\"scatter\"},{\"line\":{\"color\":\"pink\",\"dash\":\"dot\",\"width\":2},\"mode\":\"lines\",\"name\":\"Pakistan - Cereal Production\",\"x\":[4,14,16,29,37,42,55,63,70,79,80,94,103,108,118,125,132,143,145,155,163,172,182,187,198,201,211,218,227,239,243,250,263,271,279,287,295,296,310,315,323,330,343,351,353,362,373,380,388,396,405,410,422,427,434,440,453,462,464,476,483,492],\"y\":[6729680.0,6941600.0,7208300.0,7565300.0,7866500.0,7281250.0,8166500.0,10791900.0,11569500.0,12097337.0,11336393.0,11800886.0,12730806.0,12515833.0,13127967.0,14262949.0,15115120.0,14764206.0,16304600.0,17073600.0,18222050.0,18075950.0,19100750.0,17535900.0,17699400.0,20866100.0,18428100.0,19240300.0,21017550.0,20957200.0,21137950.0,22123350.0,23869650.0,22338150.0,25036450.0,25394800.0,25259600.0,27985200.0,27756417.0,30460700.0,27048000.0,27172850.0,28963500.0,30311300.0,33507800.0,33027900.0,35812200.0,35528100.0,38147050.0,34811258.0,39304580.0,36496350.0,40109711.0,41895811.0,41081682.0,42555022.0,44299994.5,43254398.0,43912063.0,47226053.0,51304736.0,47717929.0],\"yaxis\":\"y2\",\"type\":\"scatter\"},{\"line\":{\"color\":\"brown\",\"width\":2},\"mode\":\"lines\",\"name\":\"Sri Lanka - Population\",\"x\":[1,15,20,30,39,44,53,56,66,75,84,88,99,104,116,124,131,141,144,158,164,173,178,189,194,207,215,223,231,236,247,253,260,264,276,283,294,301,308,316,326,334,341,347,352,360,371,378,391,397,404,415,423,430,438,444,451,458,467,473,485,488],\"y\":[9899372.0,10143754.0,10395040.0,10653397.0,10916965.0,11183928.0,11457328.0,11736088.0,12013858.0,12287110.0,12551910.0,12809205.0,13060916.0,13305693.0,13548984.0,13796770.0,14049371.0,14310128.0,14579614.0,14847974.0,15099414.0,15286567.0,15388794.0,15441860.0,15544154.0,15731256.0,15916576.0,16078621.0,16248557.0,16352458.0,16475354.0,16739284.0,17025918.0,17275773.0,17564068.0,17905018.0,18248200.0,18596003.0,18944731.0,19293054.0,19600362.0,19805752.0,19951521.0,20087605.0,20216524.0,20352411.0,20492545.0,20629378.0,20756435.0,20879089.0,21009048.0,21169458.0,20585000.0,20778000.0,20970000.0,21209000.0,21444000.0,21670000.0,21803000.0,21919000.0,22156000.0,22181000.0],\"yaxis\":\"y\",\"type\":\"scatter\"},{\"line\":{\"color\":\"brown\",\"dash\":\"dot\",\"width\":2},\"mode\":\"lines\",\"name\":\"Sri Lanka - Cereal Production\",\"x\":[1,15,20,30,39,44,53,56,66,75,84,88,99,104,116,124,131,141,144,158,164,173,178,189,194,207,215,223,231,236,247,253,260,264,276,283,294,301,308,316,326,334,341,347,352,360,371,378,391,397,404,415,423,430,438,444,451,458,467,473,485,488],\"y\":[951868.0,1061828.0,1076631.0,1100142.0,795199.0,1011504.0,1190706.0,1385641.0,1412377.0,1644193.0,1421355.0,1342614.0,1353723.0,1650815.0,1211357.0,1306398.0,1719023.0,1932237.0,1955033.0,2170390.0,2265866.0,2192543.0,2528616.0,2467570.0,2702001.0,2638561.0,2177294.0,2523913.0,2101237.0,2578860.0,2429895.0,2373882.0,2609310.0,2722454.0,2850089.0,2098777.0,2268861.0,2730821.0,2893630.0,2896040.0,2728140.0,2890180.0,3106450.0,2668240.0,3294530.0,3396030.0,3193100.0,4017620.0,3788070.0,4469740.0,4038207.0,4054851.0,4837225.0,3625675.0,5051180.51,4672771.0,2579086.0,4200098.0,4837907.0,5434886.5,5622708.9,3652343.0],\"yaxis\":\"y2\",\"type\":\"scatter\"},{\"line\":{\"color\":\"gray\",\"width\":2},\"mode\":\"lines\",\"name\":\"South Asia (IDA & IBRD) - Population\",\"x\":[0,12,22,31,32,43,51,57,71,72,86,92,97,107,113,122,133,140,147,156,166,175,181,185,197,203,208,217,229,235,240,251,257,270,277,280,289,302,305,314,321,335,336,350,357,361,370,376,385,395,401,412,418,424,436,447,455,456,469,474],\"y\":[576552257.0,590723078.0,605163476.0,619975727.0,634743361.0,649326080.0,664339452.0,679739334.0,695251697.0,711535056.0,727496928.0,743820087.0,761620615.0,780131997.0,799327643.0,818897740.0,839003065.0,859247929.0,880093189.0,901830096.0,923378190.0,945429976.0,968588030.0,992249656.0,1016278162.0,1040673027.0,1065320678.0,1090292188.0,1115781733.0,1141498254.0,1167357434.0,1193900392.0,1221219670.0,1248304394.0,1275163648.0,1302319006.0,1329609793.0,1357088282.0,1384716971.0,1412194936.0,1439704270.0,1467185462.0,1494191087.0,1520797241.0,1546744163.0,1572294133.0,1597352539.0,1622028899.0,1647212835.0,1672490146.0,1697466396.0,1721780232.0,1744358673.0,1766896416.0,1788492725.0,1809951345.0,1831474329.0,1852836645.0,1874070006.0,1895144142.0],\"yaxis\":\"y\",\"type\":\"scatter\"},{\"line\":{\"color\":\"gray\",\"dash\":\"dot\",\"width\":2},\"mode\":\"lines\",\"name\":\"South Asia (IDA & IBRD) - Cereal Production\",\"x\":[0,12,22,31,32,43,51,57,71,72,86,92,97,107,113,122,133,140,147,156,166,175,181,185,197,203,208,217,229,235,240,251,257,270,277,280,289,302,305,314,321,335,336,350,357,361,370,376,385,395,401,412,418,424,436,447,455,456,469,474],\"y\":[116542307.0,115643722.0,121364901.0,125333492.0,111443820.0,109623410.0,128794966.0,139109563.0,145038515.0,151750391.0,147983606.0,144381020.0,159868749.0,146310232.0,169945443.0,163603649.0,182498369.0,187826396.0,171949768.0,189455094.0,197653453.0,185821012.0,219474770.0,215643920.0,218001227.0,219973953.0,209317040.0,238479827.0,259019537.0,253875462.0,252699182.8,262866323.04,271565043.63,272650648.14,275204491.6,285577412.5,290696289.82,299738665.05,313638521.96,316901490.46,320080298.32,287090414.84,320855678.82,311886354.0,331258371.0,333212295.0,358264729.0,367745458.0,356734624.53,373291384.77,397924028.94,402282177.49,411040331.19,414363294.93,402531068.87,412279340.34,431726485.52,442769756.23,449337648.71,472084110.65],\"yaxis\":\"y2\",\"type\":\"scatter\"}],                        {\"template\":{\"data\":{\"histogram2dcontour\":[{\"type\":\"histogram2dcontour\",\"colorbar\":{\"outlinewidth\":0,\"ticks\":\"\"},\"colorscale\":[[0.0,\"#0d0887\"],[0.1111111111111111,\"#46039f\"],[0.2222222222222222,\"#7201a8\"],[0.3333333333333333,\"#9c179e\"],[0.4444444444444444,\"#bd3786\"],[0.5555555555555556,\"#d8576b\"],[0.6666666666666666,\"#ed7953\"],[0.7777777777777778,\"#fb9f3a\"],[0.8888888888888888,\"#fdca26\"],[1.0,\"#f0f921\"]]}],\"choropleth\":[{\"type\":\"choropleth\",\"colorbar\":{\"outlinewidth\":0,\"ticks\":\"\"}}],\"histogram2d\":[{\"type\":\"histogram2d\",\"colorbar\":{\"outlinewidth\":0,\"ticks\":\"\"},\"colorscale\":[[0.0,\"#0d0887\"],[0.1111111111111111,\"#46039f\"],[0.2222222222222222,\"#7201a8\"],[0.3333333333333333,\"#9c179e\"],[0.4444444444444444,\"#bd3786\"],[0.5555555555555556,\"#d8576b\"],[0.6666666666666666,\"#ed7953\"],[0.7777777777777778,\"#fb9f3a\"],[0.8888888888888888,\"#fdca26\"],[1.0,\"#f0f921\"]]}],\"heatmap\":[{\"type\":\"heatmap\",\"colorbar\":{\"outlinewidth\":0,\"ticks\":\"\"},\"colorscale\":[[0.0,\"#0d0887\"],[0.1111111111111111,\"#46039f\"],[0.2222222222222222,\"#7201a8\"],[0.3333333333333333,\"#9c179e\"],[0.4444444444444444,\"#bd3786\"],[0.5555555555555556,\"#d8576b\"],[0.6666666666666666,\"#ed7953\"],[0.7777777777777778,\"#fb9f3a\"],[0.8888888888888888,\"#fdca26\"],[1.0,\"#f0f921\"]]}],\"heatmapgl\":[{\"type\":\"heatmapgl\",\"colorbar\":{\"outlinewidth\":0,\"ticks\":\"\"},\"colorscale\":[[0.0,\"#0d0887\"],[0.1111111111111111,\"#46039f\"],[0.2222222222222222,\"#7201a8\"],[0.3333333333333333,\"#9c179e\"],[0.4444444444444444,\"#bd3786\"],[0.5555555555555556,\"#d8576b\"],[0.6666666666666666,\"#ed7953\"],[0.7777777777777778,\"#fb9f3a\"],[0.8888888888888888,\"#fdca26\"],[1.0,\"#f0f921\"]]}],\"contourcarpet\":[{\"type\":\"contourcarpet\",\"colorbar\":{\"outlinewidth\":0,\"ticks\":\"\"}}],\"contour\":[{\"type\":\"contour\",\"colorbar\":{\"outlinewidth\":0,\"ticks\":\"\"},\"colorscale\":[[0.0,\"#0d0887\"],[0.1111111111111111,\"#46039f\"],[0.2222222222222222,\"#7201a8\"],[0.3333333333333333,\"#9c179e\"],[0.4444444444444444,\"#bd3786\"],[0.5555555555555556,\"#d8576b\"],[0.6666666666666666,\"#ed7953\"],[0.7777777777777778,\"#fb9f3a\"],[0.8888888888888888,\"#fdca26\"],[1.0,\"#f0f921\"]]}],\"surface\":[{\"type\":\"surface\",\"colorbar\":{\"outlinewidth\":0,\"ticks\":\"\"},\"colorscale\":[[0.0,\"#0d0887\"],[0.1111111111111111,\"#46039f\"],[0.2222222222222222,\"#7201a8\"],[0.3333333333333333,\"#9c179e\"],[0.4444444444444444,\"#bd3786\"],[0.5555555555555556,\"#d8576b\"],[0.6666666666666666,\"#ed7953\"],[0.7777777777777778,\"#fb9f3a\"],[0.8888888888888888,\"#fdca26\"],[1.0,\"#f0f921\"]]}],\"mesh3d\":[{\"type\":\"mesh3d\",\"colorbar\":{\"outlinewidth\":0,\"ticks\":\"\"}}],\"scatter\":[{\"fillpattern\":{\"fillmode\":\"overlay\",\"size\":10,\"solidity\":0.2},\"type\":\"scatter\"}],\"parcoords\":[{\"type\":\"parcoords\",\"line\":{\"colorbar\":{\"outlinewidth\":0,\"ticks\":\"\"}}}],\"scatterpolargl\":[{\"type\":\"scatterpolargl\",\"marker\":{\"colorbar\":{\"outlinewidth\":0,\"ticks\":\"\"}}}],\"bar\":[{\"error_x\":{\"color\":\"#2a3f5f\"},\"error_y\":{\"color\":\"#2a3f5f\"},\"marker\":{\"line\":{\"color\":\"#E5ECF6\",\"width\":0.5},\"pattern\":{\"fillmode\":\"overlay\",\"size\":10,\"solidity\":0.2}},\"type\":\"bar\"}],\"scattergeo\":[{\"type\":\"scattergeo\",\"marker\":{\"colorbar\":{\"outlinewidth\":0,\"ticks\":\"\"}}}],\"scatterpolar\":[{\"type\":\"scatterpolar\",\"marker\":{\"colorbar\":{\"outlinewidth\":0,\"ticks\":\"\"}}}],\"histogram\":[{\"marker\":{\"pattern\":{\"fillmode\":\"overlay\",\"size\":10,\"solidity\":0.2}},\"type\":\"histogram\"}],\"scattergl\":[{\"type\":\"scattergl\",\"marker\":{\"colorbar\":{\"outlinewidth\":0,\"ticks\":\"\"}}}],\"scatter3d\":[{\"type\":\"scatter3d\",\"line\":{\"colorbar\":{\"outlinewidth\":0,\"ticks\":\"\"}},\"marker\":{\"colorbar\":{\"outlinewidth\":0,\"ticks\":\"\"}}}],\"scattermapbox\":[{\"type\":\"scattermapbox\",\"marker\":{\"colorbar\":{\"outlinewidth\":0,\"ticks\":\"\"}}}],\"scatterternary\":[{\"type\":\"scatterternary\",\"marker\":{\"colorbar\":{\"outlinewidth\":0,\"ticks\":\"\"}}}],\"scattercarpet\":[{\"type\":\"scattercarpet\",\"marker\":{\"colorbar\":{\"outlinewidth\":0,\"ticks\":\"\"}}}],\"carpet\":[{\"aaxis\":{\"endlinecolor\":\"#2a3f5f\",\"gridcolor\":\"white\",\"linecolor\":\"white\",\"minorgridcolor\":\"white\",\"startlinecolor\":\"#2a3f5f\"},\"baxis\":{\"endlinecolor\":\"#2a3f5f\",\"gridcolor\":\"white\",\"linecolor\":\"white\",\"minorgridcolor\":\"white\",\"startlinecolor\":\"#2a3f5f\"},\"type\":\"carpet\"}],\"table\":[{\"cells\":{\"fill\":{\"color\":\"#EBF0F8\"},\"line\":{\"color\":\"white\"}},\"header\":{\"fill\":{\"color\":\"#C8D4E3\"},\"line\":{\"color\":\"white\"}},\"type\":\"table\"}],\"barpolar\":[{\"marker\":{\"line\":{\"color\":\"#E5ECF6\",\"width\":0.5},\"pattern\":{\"fillmode\":\"overlay\",\"size\":10,\"solidity\":0.2}},\"type\":\"barpolar\"}],\"pie\":[{\"automargin\":true,\"type\":\"pie\"}]},\"layout\":{\"autotypenumbers\":\"strict\",\"colorway\":[\"#636efa\",\"#EF553B\",\"#00cc96\",\"#ab63fa\",\"#FFA15A\",\"#19d3f3\",\"#FF6692\",\"#B6E880\",\"#FF97FF\",\"#FECB52\"],\"font\":{\"color\":\"#2a3f5f\"},\"hovermode\":\"closest\",\"hoverlabel\":{\"align\":\"left\"},\"paper_bgcolor\":\"white\",\"plot_bgcolor\":\"#E5ECF6\",\"polar\":{\"bgcolor\":\"#E5ECF6\",\"angularaxis\":{\"gridcolor\":\"white\",\"linecolor\":\"white\",\"ticks\":\"\"},\"radialaxis\":{\"gridcolor\":\"white\",\"linecolor\":\"white\",\"ticks\":\"\"}},\"ternary\":{\"bgcolor\":\"#E5ECF6\",\"aaxis\":{\"gridcolor\":\"white\",\"linecolor\":\"white\",\"ticks\":\"\"},\"baxis\":{\"gridcolor\":\"white\",\"linecolor\":\"white\",\"ticks\":\"\"},\"caxis\":{\"gridcolor\":\"white\",\"linecolor\":\"white\",\"ticks\":\"\"}},\"coloraxis\":{\"colorbar\":{\"outlinewidth\":0,\"ticks\":\"\"}},\"colorscale\":{\"sequential\":[[0.0,\"#0d0887\"],[0.1111111111111111,\"#46039f\"],[0.2222222222222222,\"#7201a8\"],[0.3333333333333333,\"#9c179e\"],[0.4444444444444444,\"#bd3786\"],[0.5555555555555556,\"#d8576b\"],[0.6666666666666666,\"#ed7953\"],[0.7777777777777778,\"#fb9f3a\"],[0.8888888888888888,\"#fdca26\"],[1.0,\"#f0f921\"]],\"sequentialminus\":[[0.0,\"#0d0887\"],[0.1111111111111111,\"#46039f\"],[0.2222222222222222,\"#7201a8\"],[0.3333333333333333,\"#9c179e\"],[0.4444444444444444,\"#bd3786\"],[0.5555555555555556,\"#d8576b\"],[0.6666666666666666,\"#ed7953\"],[0.7777777777777778,\"#fb9f3a\"],[0.8888888888888888,\"#fdca26\"],[1.0,\"#f0f921\"]],\"diverging\":[[0,\"#8e0152\"],[0.1,\"#c51b7d\"],[0.2,\"#de77ae\"],[0.3,\"#f1b6da\"],[0.4,\"#fde0ef\"],[0.5,\"#f7f7f7\"],[0.6,\"#e6f5d0\"],[0.7,\"#b8e186\"],[0.8,\"#7fbc41\"],[0.9,\"#4d9221\"],[1,\"#276419\"]]},\"xaxis\":{\"gridcolor\":\"white\",\"linecolor\":\"white\",\"ticks\":\"\",\"title\":{\"standoff\":15},\"zerolinecolor\":\"white\",\"automargin\":true,\"zerolinewidth\":2},\"yaxis\":{\"gridcolor\":\"white\",\"linecolor\":\"white\",\"ticks\":\"\",\"title\":{\"standoff\":15},\"zerolinecolor\":\"white\",\"automargin\":true,\"zerolinewidth\":2},\"scene\":{\"xaxis\":{\"backgroundcolor\":\"#E5ECF6\",\"gridcolor\":\"white\",\"linecolor\":\"white\",\"showbackground\":true,\"ticks\":\"\",\"zerolinecolor\":\"white\",\"gridwidth\":2},\"yaxis\":{\"backgroundcolor\":\"#E5ECF6\",\"gridcolor\":\"white\",\"linecolor\":\"white\",\"showbackground\":true,\"ticks\":\"\",\"zerolinecolor\":\"white\",\"gridwidth\":2},\"zaxis\":{\"backgroundcolor\":\"#E5ECF6\",\"gridcolor\":\"white\",\"linecolor\":\"white\",\"showbackground\":true,\"ticks\":\"\",\"zerolinecolor\":\"white\",\"gridwidth\":2}},\"shapedefaults\":{\"line\":{\"color\":\"#2a3f5f\"}},\"annotationdefaults\":{\"arrowcolor\":\"#2a3f5f\",\"arrowhead\":0,\"arrowwidth\":1},\"geo\":{\"bgcolor\":\"white\",\"landcolor\":\"#E5ECF6\",\"subunitcolor\":\"white\",\"showland\":true,\"showlakes\":true,\"lakecolor\":\"white\"},\"title\":{\"x\":0.05},\"mapbox\":{\"style\":\"light\"}}},\"yaxis\":{\"title\":{\"text\":\"Total Population\"},\"color\":\"black\"},\"yaxis2\":{\"title\":{\"text\":\"Cereal Production (MT)\"},\"overlaying\":\"y\",\"side\":\"right\",\"color\":\"black\"},\"legend\":{\"title\":{\"text\":\"Click to Toggle\"},\"orientation\":\"h\"},\"title\":{\"text\":\"Total Population vs. Cereal Production Over Time\"},\"xaxis\":{\"title\":{\"text\":\"Year\"}}},                        {\"responsive\": true}                    ).then(function(){\n",
       "                            \n",
       "var gd = document.getElementById('727113f0-f43b-4b76-b3de-dcbc4fa64ab8');\n",
       "var x = new MutationObserver(function (mutations, observer) {{\n",
       "        var display = window.getComputedStyle(gd).display;\n",
       "        if (!display || display === 'none') {{\n",
       "            console.log([gd, 'removed!']);\n",
       "            Plotly.purge(gd);\n",
       "            observer.disconnect();\n",
       "        }}\n",
       "}});\n",
       "\n",
       "// Listen for the removal of the full notebook cells\n",
       "var notebookContainer = gd.closest('#notebook-container');\n",
       "if (notebookContainer) {{\n",
       "    x.observe(notebookContainer, {childList: true});\n",
       "}}\n",
       "\n",
       "// Listen for the clearing of the current output cell\n",
       "var outputEl = gd.closest('.output');\n",
       "if (outputEl) {{\n",
       "    x.observe(outputEl, {childList: true});\n",
       "}}\n",
       "\n",
       "                        })                };                });            </script>        </div>"
      ]
     },
     "metadata": {},
     "output_type": "display_data"
    }
   ],
   "source": [
    "countries = [\"Bangladesh\",\n",
    "             \"Bhutan\",\n",
    "             \"India\",\n",
    "             \"Maldives\",\n",
    "             \"Nepal\",\n",
    "             \"Pakistan\",\n",
    "             \"Sri Lanka\",\n",
    "             \"South Asia (IDA & IBRD)\"\n",
    "            ]\n",
    "\n",
    "import plotly.graph_objects as go\n",
    "import plotly.io as pio\n",
    "\n",
    "def plot_popvcereal_interactive(df, countries):\n",
    "    \"\"\"\n",
    "    Creates an interactive overlayed line plot of total population growth and cereal production \n",
    "    over time for multiple countries, assigning a unique color per country.\n",
    "    \n",
    "    :param df: DataFrame containing agricultural and population data\n",
    "    :param countries: List of strings representing the countries to plot\n",
    "    \"\"\"\n",
    "    fig = go.Figure()\n",
    "    \n",
    "    # Define a color palette for different countries\n",
    "    color_palette = [\n",
    "        'blue', 'orange', 'green', 'red', 'purple', 'pink', 'brown', 'gray'\n",
    "    ]\n",
    "    \n",
    "    country_colors = {country: color_palette[i % len(color_palette)] for i, country in enumerate(countries)}\n",
    "\n",
    "    # Loop through each country and add two traces (Population & Cereal Production)\n",
    "    for country in countries:\n",
    "        country_data = df[df['Country'] == country]\n",
    "        color = country_colors[country]  # Assign unique color\n",
    "\n",
    "        # Total Population Line (Primary Y-Axis, Solid)\n",
    "        fig.add_trace(go.Scatter(\n",
    "            x=country_data.index, \n",
    "            y=country_data[\"Total Population\"],\n",
    "            mode='lines',\n",
    "            name=f\"{country} - Population\",\n",
    "            line=dict(color=color, width=2),\n",
    "            yaxis='y1',  # Assigns to primary y-axis\n",
    "        ))\n",
    "\n",
    "        # Cereal Production Line (Secondary Y-Axis, Dashed)\n",
    "        fig.add_trace(go.Scatter(\n",
    "            x=country_data.index, \n",
    "            y=country_data[\"Cereal Production (MT)\"],\n",
    "            mode='lines',\n",
    "            name=f\"{country} - Cereal Production\",\n",
    "            line=dict(color=color, dash='dot', width=2),\n",
    "            yaxis='y2',  # Assigns to secondary y-axis\n",
    "        ))\n",
    "\n",
    "    # Layout adjustments for interactivity and readability\n",
    "    fig.update_layout(\n",
    "        title=\"Total Population vs. Cereal Production Over Time\",\n",
    "        xaxis=dict(title=\"Year\"),\n",
    "        yaxis=dict(title=\"Total Population\", color='black'),\n",
    "        yaxis2=dict(\n",
    "            title=\"Cereal Production (MT)\",\n",
    "            overlaying='y',  # Overlay second y-axis on the same plot\n",
    "            side='right',\n",
    "            color='black'\n",
    "        ),\n",
    "        legend=dict(title=\"Click to Toggle\", orientation=\"h\"),  # Interactive legend\n",
    "    )\n",
    "\n",
    "    # Show interactive plot\n",
    "    fig.show()\n",
    "\n",
    "# Example usage:\n",
    "plot_popvcereal_interactive(SA_ag, countries)"
   ]
  },
  {
   "cell_type": "code",
   "execution_count": null,
   "id": "8f256310-b739-4e86-999b-19fc5c918076",
   "metadata": {},
   "outputs": [],
   "source": [
    "# Overlay total crop production index over time with agriculutral value of worker added"
   ]
  },
  {
   "cell_type": "code",
   "execution_count": null,
   "id": "4e2a753a-6702-42d0-a4da-a40a78501ca0",
   "metadata": {},
   "outputs": [],
   "source": [
    "# Add asymptotes for major technological advancements in the timeline (i.e. new fertiliser, etc.)"
   ]
  }
 ],
 "metadata": {
  "kernelspec": {
   "display_name": "Python 3 (ipykernel)",
   "language": "python",
   "name": "python3"
  },
  "language_info": {
   "codemirror_mode": {
    "name": "ipython",
    "version": 3
   },
   "file_extension": ".py",
   "mimetype": "text/x-python",
   "name": "python",
   "nbconvert_exporter": "python",
   "pygments_lexer": "ipython3",
   "version": "3.11.11"
  }
 },
 "nbformat": 4,
 "nbformat_minor": 5
}
