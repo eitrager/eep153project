{
 "cells": [
  {
   "cell_type": "markdown",
   "id": "35129e2f-3089-46f6-885c-e0c8d6a98c79",
   "metadata": {},
   "source": [
    "# Population, Agricultural Production, and the Green Revolution"
   ]
  },
  {
   "cell_type": "code",
   "execution_count": 24,
   "id": "332e6a91-745e-4e92-a88b-bc4de4c219e9",
   "metadata": {
    "collapsed": true,
    "jupyter": {
     "outputs_hidden": true
    },
    "scrolled": true
   },
   "outputs": [
    {
     "name": "stdout",
     "output_type": "stream",
     "text": [
      "Requirement already satisfied: wbdata in /srv/conda/lib/python3.11/site-packages (1.0.0)\n",
      "Requirement already satisfied: appdirs<2.0,>=1.4 in /srv/conda/lib/python3.11/site-packages (from wbdata) (1.4.4)\n",
      "Requirement already satisfied: backoff<3.0.0,>=2.2.1 in /srv/conda/lib/python3.11/site-packages (from wbdata) (2.2.1)\n",
      "Requirement already satisfied: cachetools<6.0.0,>=5.3.2 in /srv/conda/lib/python3.11/site-packages (from wbdata) (5.5.1)\n",
      "Requirement already satisfied: dateparser<2.0.0,>=1.2.0 in /srv/conda/lib/python3.11/site-packages (from wbdata) (1.2.0)\n",
      "Requirement already satisfied: decorator<6.0.0,>=5.1.1 in /srv/conda/lib/python3.11/site-packages (from wbdata) (5.1.1)\n",
      "Requirement already satisfied: requests<3.0,>=2.0 in /srv/conda/lib/python3.11/site-packages (from wbdata) (2.32.3)\n",
      "Requirement already satisfied: shelved-cache<0.4.0,>=0.3.1 in /srv/conda/lib/python3.11/site-packages (from wbdata) (0.3.1)\n",
      "Requirement already satisfied: tabulate<0.9.0,>=0.8.5 in /srv/conda/lib/python3.11/site-packages (from wbdata) (0.8.10)\n",
      "Requirement already satisfied: python-dateutil in /srv/conda/lib/python3.11/site-packages (from dateparser<2.0.0,>=1.2.0->wbdata) (2.9.0.post0)\n",
      "Requirement already satisfied: pytz in /srv/conda/lib/python3.11/site-packages (from dateparser<2.0.0,>=1.2.0->wbdata) (2024.1)\n",
      "Requirement already satisfied: regex!=2019.02.19,!=2021.8.27 in /srv/conda/lib/python3.11/site-packages (from dateparser<2.0.0,>=1.2.0->wbdata) (2024.11.6)\n",
      "Requirement already satisfied: tzlocal in /srv/conda/lib/python3.11/site-packages (from dateparser<2.0.0,>=1.2.0->wbdata) (5.2)\n",
      "Requirement already satisfied: charset_normalizer<4,>=2 in /srv/conda/lib/python3.11/site-packages (from requests<3.0,>=2.0->wbdata) (3.4.0)\n",
      "Requirement already satisfied: idna<4,>=2.5 in /srv/conda/lib/python3.11/site-packages (from requests<3.0,>=2.0->wbdata) (3.10)\n",
      "Requirement already satisfied: urllib3<3,>=1.21.1 in /srv/conda/lib/python3.11/site-packages (from requests<3.0,>=2.0->wbdata) (2.3.0)\n",
      "Requirement already satisfied: certifi>=2017.4.17 in /srv/conda/lib/python3.11/site-packages (from requests<3.0,>=2.0->wbdata) (2024.12.14)\n",
      "Requirement already satisfied: six>=1.5 in /srv/conda/lib/python3.11/site-packages (from python-dateutil->dateparser<2.0.0,>=1.2.0->wbdata) (1.17.0)\n",
      "Note: you may need to restart the kernel to use updated packages.\n"
     ]
    }
   ],
   "source": [
    "# Load packages and World Bank Data\n",
    "\n",
    "import numpy as np\n",
    "import matplotlib.pyplot as plt\n",
    "import geopandas as gpd\n",
    "import pandas as pd\n",
    "pd.options.plotting.backend = \"plotly\"\n",
    "%pip install wbdata\n",
    "import wbdata\n",
    "import warnings\n",
    "warnings.filterwarnings('ignore', category=UserWarning, module='wbdata')"
   ]
  },
  {
   "cell_type": "code",
   "execution_count": 25,
   "id": "8e16aa11-04a9-421a-8b28-f3d3ab361037",
   "metadata": {
    "scrolled": true
   },
   "outputs": [
    {
     "data": {
      "text/plain": [
       "id                 name\n",
       "-----------------  -------------------------------------------------------------------\n",
       "SH.DTH.0509        Number of deaths ages 5-9 years\n",
       "SH.DTH.0514        Number of deaths ages 5-14 years\n",
       "SH.DTH.1014        Number of deaths ages 10-14 years\n",
       "SH.DTH.1019        Number of deaths ages 10-19 years\n",
       "SH.DTH.1519        Number of deaths ages 15-19 years\n",
       "SH.DTH.2024        Number of deaths ages 20-24 years\n",
       "SH.DTH.IMRT        Number of infant deaths\n",
       "SH.DTH.IMRT.FE     Number of infant deaths, female\n",
       "SH.DTH.IMRT.MA     Number of infant deaths, male\n",
       "SH.DTH.MORT        Number of under-five deaths\n",
       "SH.DTH.MORT.FE     Number of under-five deaths, female\n",
       "SH.DTH.MORT.MA     Number of under-five deaths, male\n",
       "SH.DTH.NMRT        Number of neonatal deaths\n",
       "SH.DYN.0509        Probability of dying among children ages 5-9 years (per 1,000)\n",
       "SH.DYN.0514        Probability of dying at age 5-14 years (per 1,000 children age 5)\n",
       "SH.DYN.1014        Probability of dying among adolescents ages 10-14 years (per 1,000)\n",
       "SH.DYN.1019        Probability of dying among adolescents ages 10-19 years (per 1,000)\n",
       "SH.DYN.1519        Probability of dying among adolescents ages 15-19 years (per 1,000)\n",
       "SH.DYN.2024        Probability of dying among youth ages 20-24 years (per 1,000)\n",
       "SH.DYN.MORT        Mortality rate, under-5 (per 1,000 live births)\n",
       "SH.DYN.MORT.FE     Mortality rate, under-5, female (per 1,000 live births)\n",
       "SH.DYN.MORT.MA     Mortality rate, under-5, male (per 1,000 live births)\n",
       "SH.DYN.NMRT        Mortality rate, neonatal (per 1,000 live births)\n",
       "SM.POP.NETM        Net migration\n",
       "SP.DYN.AMRT.FE     Mortality rate, adult, female (per 1,000 female adults)\n",
       "SP.DYN.AMRT.MA     Mortality rate, adult, male (per 1,000 male adults)\n",
       "SP.DYN.CBRT.IN     Birth rate, crude (per 1,000 people)\n",
       "SP.DYN.CDRT.IN     Death rate, crude (per 1,000 people)\n",
       "SP.DYN.IMRT.FE.IN  Mortality rate, infant, female (per 1,000 live births)\n",
       "SP.DYN.IMRT.IN     Mortality rate, infant (per 1,000 live births)\n",
       "SP.DYN.IMRT.MA.IN  Mortality rate, infant, male (per 1,000 live births)\n",
       "SP.DYN.LE00.FE.IN  Life expectancy at birth, female (years)\n",
       "SP.DYN.LE00.IN     Life expectancy at birth, total (years)\n",
       "SP.DYN.LE00.MA.IN  Life expectancy at birth, male (years)\n",
       "SP.DYN.TFRT.IN     Fertility rate, total (births per woman)\n",
       "SP.POP.0004.FE     Population ages 00-04, female\n",
       "SP.POP.0004.FE.5Y  Population ages 00-04, female (% of female population)\n",
       "SP.POP.0004.MA     Population ages 00-04, male\n",
       "SP.POP.0004.MA.5Y  Population ages 00-04, male (% of male population)\n",
       "SP.POP.0014.FE.IN  Population ages 0-14, female\n",
       "SP.POP.0014.FE.ZS  Population ages 0-14, female (% of female population)\n",
       "SP.POP.0014.MA.IN  Population ages 0-14, male\n",
       "SP.POP.0014.MA.ZS  Population ages 0-14, male (% of male population)\n",
       "SP.POP.0014.TO     Population ages 0-14, total\n",
       "SP.POP.0014.TO.ZS  Population ages 0-14 (% of total population)\n",
       "SP.POP.0509.FE     Population ages 05-09, female\n",
       "SP.POP.0509.FE.5Y  Population ages 05-09, female (% of female population)\n",
       "SP.POP.0509.MA     Population ages 05-09, male\n",
       "SP.POP.0509.MA.5Y  Population ages 05-09, male (% of male population)\n",
       "SP.POP.1014.FE     Population ages 10-14, female\n",
       "SP.POP.1014.FE.5Y  Population ages 10-14, female (% of female population)\n",
       "SP.POP.1014.MA     Population ages 10-14, male\n",
       "SP.POP.1014.MA.5Y  Population ages 10-14, male (% of male population)\n",
       "SP.POP.1519.FE     Population ages 15-19, female\n",
       "SP.POP.1519.FE.5Y  Population ages 15-19, female (% of female population)\n",
       "SP.POP.1519.MA     Population ages 15-19, male\n",
       "SP.POP.1519.MA.5Y  Population ages 15-19, male (% of male population)\n",
       "SP.POP.1564.FE.IN  Population ages 15-64, female\n",
       "SP.POP.1564.FE.ZS  Population ages 15-64, female (% of female population)\n",
       "SP.POP.1564.MA.IN  Population ages 15-64, male\n",
       "SP.POP.1564.MA.ZS  Population ages 15-64, male (% of male population)\n",
       "SP.POP.1564.TO     Population ages 15-64, total\n",
       "SP.POP.1564.TO.ZS  Population ages 15-64 (% of total population)\n",
       "SP.POP.2024.FE     Population ages 20-24, female\n",
       "SP.POP.2024.FE.5Y  Population ages 20-24, female (% of female population)\n",
       "SP.POP.2024.MA     Population ages 20-24, male\n",
       "SP.POP.2024.MA.5Y  Population ages 20-24, male (% of male population)\n",
       "SP.POP.2529.FE     Population ages 25-29, female\n",
       "SP.POP.2529.FE.5Y  Population ages 25-29, female (% of female population)\n",
       "SP.POP.2529.MA     Population ages 25-29, male\n",
       "SP.POP.2529.MA.5Y  Population ages 25-29, male (% of male population)\n",
       "SP.POP.3034.FE     Population ages 30-34, female\n",
       "SP.POP.3034.FE.5Y  Population ages 30-34, female (% of female population)\n",
       "SP.POP.3034.MA     Population ages 30-34, male\n",
       "SP.POP.3034.MA.5Y  Population ages 30-34, male (% of male population)\n",
       "SP.POP.3539.FE     Population ages 35-39, female\n",
       "SP.POP.3539.FE.5Y  Population ages 35-39, female (% of female population)\n",
       "SP.POP.3539.MA     Population ages 35-39, male\n",
       "SP.POP.3539.MA.5Y  Population ages 35-39, male (% of male population)\n",
       "SP.POP.4044.FE     Population ages 40-44, female\n",
       "SP.POP.4044.FE.5Y  Population ages 40-44, female (% of female population)\n",
       "SP.POP.4044.MA     Population ages 40-44, male\n",
       "SP.POP.4044.MA.5Y  Population ages 40-44, male (% of male population)\n",
       "SP.POP.4549.FE     Population ages 45-49, female\n",
       "SP.POP.4549.FE.5Y  Population ages 45-49, female (% of female population)\n",
       "SP.POP.4549.MA     Population ages 45-49, male\n",
       "SP.POP.4549.MA.5Y  Population ages 45-49, male (% of male population)\n",
       "SP.POP.5054.FE     Population ages 50-54, female\n",
       "SP.POP.5054.FE.5Y  Population ages 50-54, female (% of female population)\n",
       "SP.POP.5054.MA     Population ages 50-54, male\n",
       "SP.POP.5054.MA.5Y  Population ages 50-54, male (% of male population)\n",
       "SP.POP.5559.FE     Population ages 55-59, female\n",
       "SP.POP.5559.FE.5Y  Population ages 55-59, female (% of female population)\n",
       "SP.POP.5559.MA     Population ages 55-59, male\n",
       "SP.POP.5559.MA.5Y  Population ages 55-59, male (% of male population)\n",
       "SP.POP.6064.FE     Population ages 60-64, female\n",
       "SP.POP.6064.FE.5Y  Population ages 60-64, female (% of female population)\n",
       "SP.POP.6064.MA     Population ages 60-64, male\n",
       "SP.POP.6064.MA.5Y  Population ages 60-64, male (% of male population)\n",
       "SP.POP.6569.FE     Population ages 65-69, female\n",
       "SP.POP.6569.FE.5Y  Population ages 65-69, female (% of female population)\n",
       "SP.POP.6569.MA     Population ages 65-69, male\n",
       "SP.POP.6569.MA.5Y  Population ages 65-69, male (% of male population)\n",
       "SP.POP.65UP.FE.IN  Population ages 65 and above, female\n",
       "SP.POP.65UP.FE.ZS  Population ages 65 and above, female (% of female population)\n",
       "SP.POP.65UP.MA.IN  Population ages 65 and above, male\n",
       "SP.POP.65UP.MA.ZS  Population ages 65 and above, male (% of male population)\n",
       "SP.POP.65UP.TO     Population ages 65 and above, total\n",
       "SP.POP.65UP.TO.ZS  Population ages 65 and above (% of total population)\n",
       "SP.POP.7074.FE     Population ages 70-74, female\n",
       "SP.POP.7074.FE.5Y  Population ages 70-74, female (% of female population)\n",
       "SP.POP.7074.MA     Population ages 70-74, male\n",
       "SP.POP.7074.MA.5Y  Population ages 70-74, male (% of male population)\n",
       "SP.POP.7579.FE     Population ages 75-79, female\n",
       "SP.POP.7579.FE.5Y  Population ages 75-79, female (% of female population)\n",
       "SP.POP.7579.MA     Population ages 75-79, male\n",
       "SP.POP.7579.MA.5Y  Population ages 75-79, male (% of male population)\n",
       "SP.POP.80UP.FE     Population ages 80 and above, female\n",
       "SP.POP.80UP.FE.5Y  Population ages 80 and above, female (% of female population)\n",
       "SP.POP.80UP.MA     Population ages 80 and above, male\n",
       "SP.POP.80UP.MA.5Y  Population ages 80 and above, male (% of male population)\n",
       "SP.POP.AG00.FE.IN  Age population, age 00, female, interpolated\n",
       "SP.POP.AG00.MA.IN  Age population, age 00, male, interpolated\n",
       "SP.POP.AG01.FE.IN  Age population, age 01, female, interpolated\n",
       "SP.POP.AG01.MA.IN  Age population, age 01, male, interpolated\n",
       "SP.POP.AG02.FE.IN  Age population, age 02, female, interpolated\n",
       "SP.POP.AG02.MA.IN  Age population, age 02, male, interpolated\n",
       "SP.POP.AG03.FE.IN  Age population, age 03, female, interpolated\n",
       "SP.POP.AG03.MA.IN  Age population, age 03, male, interpolated\n",
       "SP.POP.AG04.FE.IN  Age population, age 04, female, interpolated\n",
       "SP.POP.AG04.MA.IN  Age population, age 04, male, interpolated\n",
       "SP.POP.AG05.FE.IN  Age population, age 05, female, interpolated\n",
       "SP.POP.AG05.MA.IN  Age population, age 05, male, interpolated\n",
       "SP.POP.AG06.FE.IN  Age population, age 06, female, interpolated\n",
       "SP.POP.AG06.MA.IN  Age population, age 06, male, interpolated\n",
       "SP.POP.AG07.FE.IN  Age population, age 07, female, interpolated\n",
       "SP.POP.AG07.MA.IN  Age population, age 07, male, interpolated\n",
       "SP.POP.AG08.FE.IN  Age population, age 08, female, interpolated\n",
       "SP.POP.AG08.MA.IN  Age population, age 08, male, interpolated\n",
       "SP.POP.AG09.FE.IN  Age population, age 09, female, interpolated\n",
       "SP.POP.AG09.MA.IN  Age population, age 09, male, interpolated\n",
       "SP.POP.AG10.FE.IN  Age population, age 10, female, interpolated\n",
       "SP.POP.AG10.MA.IN  Age population, age 10, male, interpolated\n",
       "SP.POP.AG11.FE.IN  Age population, age 11, female, interpolated\n",
       "SP.POP.AG11.MA.IN  Age population, age 11, male, interpolated\n",
       "SP.POP.AG12.FE.IN  Age population, age 12, female, interpolated\n",
       "SP.POP.AG12.MA.IN  Age population, age 12, male, interpolated\n",
       "SP.POP.AG13.FE.IN  Age population, age 13, female, interpolated\n",
       "SP.POP.AG13.MA.IN  Age population, age 13, male, interpolated\n",
       "SP.POP.AG14.FE.IN  Age population, age 14, female, interpolated\n",
       "SP.POP.AG14.MA.IN  Age population, age 14, male, interpolated\n",
       "SP.POP.AG15.FE.IN  Age population, age 15, female, interpolated\n",
       "SP.POP.AG15.MA.IN  Age population, age 15, male, interpolated\n",
       "SP.POP.AG16.FE.IN  Age population, age 16, female, interpolated\n",
       "SP.POP.AG16.MA.IN  Age population, age 16, male, interpolated\n",
       "SP.POP.AG17.FE.IN  Age population, age 17, female, interpolated\n",
       "SP.POP.AG17.MA.IN  Age population, age 17, male, interpolated\n",
       "SP.POP.AG18.FE.IN  Age population, age 18, female, interpolated\n",
       "SP.POP.AG18.MA.IN  Age population, age 18, male, interpolated\n",
       "SP.POP.AG19.FE.IN  Age population, age 19, female, interpolated\n",
       "SP.POP.AG19.MA.IN  Age population, age 19, male, interpolated\n",
       "SP.POP.AG20.FE.IN  Age population, age 20, female, interpolated\n",
       "SP.POP.AG20.MA.IN  Age population, age 20, male, interpolated\n",
       "SP.POP.AG21.FE.IN  Age population, age 21, female, interpolated\n",
       "SP.POP.AG21.MA.IN  Age population, age 21, male, interpolated\n",
       "SP.POP.AG22.FE.IN  Age population, age 22, female, interpolated\n",
       "SP.POP.AG22.MA.IN  Age population, age 22, male, interpolated\n",
       "SP.POP.AG23.FE.IN  Age population, age 23, female, interpolated\n",
       "SP.POP.AG23.MA.IN  Age population, age 23, male, interpolated\n",
       "SP.POP.AG24.FE.IN  Age population, age 24, female, interpolated\n",
       "SP.POP.AG24.MA.IN  Age population, age 24, male, interpolated\n",
       "SP.POP.AG25.FE.IN  Age population, age 25, female, interpolated\n",
       "SP.POP.AG25.MA.IN  Age population, age 25, male, interpolated\n",
       "SP.POP.BRTH.MF     Sex ratio at birth (male births per female births)\n",
       "SP.POP.DPND        Age dependency ratio (% of working-age population)\n",
       "SP.POP.DPND.OL     Age dependency ratio, old (% of working-age population)\n",
       "SP.POP.DPND.YG     Age dependency ratio, young (% of working-age population)\n",
       "SP.POP.GROW        Population growth (annual %)\n",
       "SP.POP.TOTL        Population, total\n",
       "SP.POP.TOTL.FE.IN  Population, female\n",
       "SP.POP.TOTL.FE.ZS  Population, female (% of total population)\n",
       "SP.POP.TOTL.MA.IN  Population, male\n",
       "SP.POP.TOTL.MA.ZS  Population, male (% of total population)\n",
       "SP.RUR.TOTL        Rural population\n",
       "SP.RUR.TOTL.ZG     Rural population growth (annual %)\n",
       "SP.RUR.TOTL.ZS     Rural population (% of total population)\n",
       "SP.URB.GROW        Urban population growth (annual %)\n",
       "SP.URB.TOTL        Urban population\n",
       "SP.URB.TOTL.IN.ZS  Urban population (% of total population)"
      ]
     },
     "execution_count": 25,
     "metadata": {},
     "output_type": "execute_result"
    }
   ],
   "source": [
    "# Set World Bank Data Sources/Indicators for Population\n",
    " \n",
    "SOURCE = 40 # \"Population estimates and projections\n",
    "pop_indicators = wbdata.get_indicators(source=SOURCE)\n",
    "\n",
    "pop_indicators"
   ]
  },
  {
   "cell_type": "markdown",
   "id": "eb46b9b2-2029-45a1-b6d7-9ae07c423886",
   "metadata": {},
   "source": [
    "## Population Analysis"
   ]
  },
  {
   "cell_type": "markdown",
   "id": "12207ae7-de47-4e99-9672-74d22098f3ea",
   "metadata": {},
   "source": [
    "### South Asia (Bangladesh, Bhutan, India, Maldives, Nepal, Pakistan, Sri Lanka)"
   ]
  },
  {
   "cell_type": "code",
   "execution_count": 31,
   "id": "7f017bd5-133d-40d4-907b-d2cd5bae8f45",
   "metadata": {},
   "outputs": [
    {
     "data": {
      "text/html": [
       "<div>\n",
       "<style scoped>\n",
       "    .dataframe tbody tr th:only-of-type {\n",
       "        vertical-align: middle;\n",
       "    }\n",
       "\n",
       "    .dataframe tbody tr th {\n",
       "        vertical-align: top;\n",
       "    }\n",
       "\n",
       "    .dataframe thead th {\n",
       "        text-align: right;\n",
       "    }\n",
       "</style>\n",
       "<table border=\"1\" class=\"dataframe\">\n",
       "  <thead>\n",
       "    <tr style=\"text-align: right;\">\n",
       "      <th></th>\n",
       "      <th></th>\n",
       "      <th>Total Population</th>\n",
       "      <th>Total Female</th>\n",
       "      <th>Total Male</th>\n",
       "      <th>Total Rural</th>\n",
       "      <th>Total Urban</th>\n",
       "    </tr>\n",
       "    <tr>\n",
       "      <th>country</th>\n",
       "      <th>date</th>\n",
       "      <th></th>\n",
       "      <th></th>\n",
       "      <th></th>\n",
       "      <th></th>\n",
       "      <th></th>\n",
       "    </tr>\n",
       "  </thead>\n",
       "  <tbody>\n",
       "    <tr>\n",
       "      <th rowspan=\"5\" valign=\"top\">Bangladesh</th>\n",
       "      <th>2023-01-01</th>\n",
       "      <td>171466990.0</td>\n",
       "      <td>87109279.0</td>\n",
       "      <td>84357711.0</td>\n",
       "      <td>102069155.0</td>\n",
       "      <td>69397835.0</td>\n",
       "    </tr>\n",
       "    <tr>\n",
       "      <th>2022-01-01</th>\n",
       "      <td>169384897.0</td>\n",
       "      <td>85985502.0</td>\n",
       "      <td>83399395.0</td>\n",
       "      <td>102120461.0</td>\n",
       "      <td>67264436.0</td>\n",
       "    </tr>\n",
       "    <tr>\n",
       "      <th>2021-01-01</th>\n",
       "      <td>167658854.0</td>\n",
       "      <td>85086513.0</td>\n",
       "      <td>82572341.0</td>\n",
       "      <td>102362437.0</td>\n",
       "      <td>65296417.0</td>\n",
       "    </tr>\n",
       "    <tr>\n",
       "      <th>2020-01-01</th>\n",
       "      <td>166298024.0</td>\n",
       "      <td>84419144.0</td>\n",
       "      <td>81878880.0</td>\n",
       "      <td>102810427.0</td>\n",
       "      <td>63487597.0</td>\n",
       "    </tr>\n",
       "    <tr>\n",
       "      <th>2019-01-01</th>\n",
       "      <td>164913055.0</td>\n",
       "      <td>83750865.0</td>\n",
       "      <td>81162190.0</td>\n",
       "      <td>103227327.0</td>\n",
       "      <td>61685728.0</td>\n",
       "    </tr>\n",
       "    <tr>\n",
       "      <th>...</th>\n",
       "      <th>...</th>\n",
       "      <td>...</td>\n",
       "      <td>...</td>\n",
       "      <td>...</td>\n",
       "      <td>...</td>\n",
       "      <td>...</td>\n",
       "    </tr>\n",
       "    <tr>\n",
       "      <th rowspan=\"5\" valign=\"top\">South Asia (IDA &amp; IBRD)</th>\n",
       "      <th>1964-01-01</th>\n",
       "      <td>619975727.0</td>\n",
       "      <td>298662280.0</td>\n",
       "      <td>321313447.0</td>\n",
       "      <td>512398611.0</td>\n",
       "      <td>107577116.0</td>\n",
       "    </tr>\n",
       "    <tr>\n",
       "      <th>1963-01-01</th>\n",
       "      <td>605163476.0</td>\n",
       "      <td>291525739.0</td>\n",
       "      <td>313637737.0</td>\n",
       "      <td>501329809.0</td>\n",
       "      <td>103833667.0</td>\n",
       "    </tr>\n",
       "    <tr>\n",
       "      <th>1962-01-01</th>\n",
       "      <td>590723078.0</td>\n",
       "      <td>284579436.0</td>\n",
       "      <td>306143642.0</td>\n",
       "      <td>490498017.0</td>\n",
       "      <td>100225061.0</td>\n",
       "    </tr>\n",
       "    <tr>\n",
       "      <th>1961-01-01</th>\n",
       "      <td>576552257.0</td>\n",
       "      <td>277785897.0</td>\n",
       "      <td>298766360.0</td>\n",
       "      <td>479825865.0</td>\n",
       "      <td>96726392.0</td>\n",
       "    </tr>\n",
       "    <tr>\n",
       "      <th>1960-01-01</th>\n",
       "      <td>562663671.0</td>\n",
       "      <td>271147035.0</td>\n",
       "      <td>291516636.0</td>\n",
       "      <td>469034728.0</td>\n",
       "      <td>93628943.0</td>\n",
       "    </tr>\n",
       "  </tbody>\n",
       "</table>\n",
       "<p>512 rows × 5 columns</p>\n",
       "</div>"
      ],
      "text/plain": [
       "                                    Total Population  Total Female  \\\n",
       "country                 date                                         \n",
       "Bangladesh              2023-01-01       171466990.0    87109279.0   \n",
       "                        2022-01-01       169384897.0    85985502.0   \n",
       "                        2021-01-01       167658854.0    85086513.0   \n",
       "                        2020-01-01       166298024.0    84419144.0   \n",
       "                        2019-01-01       164913055.0    83750865.0   \n",
       "...                                              ...           ...   \n",
       "South Asia (IDA & IBRD) 1964-01-01       619975727.0   298662280.0   \n",
       "                        1963-01-01       605163476.0   291525739.0   \n",
       "                        1962-01-01       590723078.0   284579436.0   \n",
       "                        1961-01-01       576552257.0   277785897.0   \n",
       "                        1960-01-01       562663671.0   271147035.0   \n",
       "\n",
       "                                     Total Male  Total Rural  Total Urban  \n",
       "country                 date                                               \n",
       "Bangladesh              2023-01-01   84357711.0  102069155.0   69397835.0  \n",
       "                        2022-01-01   83399395.0  102120461.0   67264436.0  \n",
       "                        2021-01-01   82572341.0  102362437.0   65296417.0  \n",
       "                        2020-01-01   81878880.0  102810427.0   63487597.0  \n",
       "                        2019-01-01   81162190.0  103227327.0   61685728.0  \n",
       "...                                         ...          ...          ...  \n",
       "South Asia (IDA & IBRD) 1964-01-01  321313447.0  512398611.0  107577116.0  \n",
       "                        1963-01-01  313637737.0  501329809.0  103833667.0  \n",
       "                        1962-01-01  306143642.0  490498017.0  100225061.0  \n",
       "                        1961-01-01  298766360.0  479825865.0   96726392.0  \n",
       "                        1960-01-01  291516636.0  469034728.0   93628943.0  \n",
       "\n",
       "[512 rows x 5 columns]"
      ]
     },
     "execution_count": 31,
     "metadata": {},
     "output_type": "execute_result"
    }
   ],
   "source": [
    "# Load in population data and specify SA data set\n",
    "variable_labels = {\"SP.POP.TOTL\":\"Total Population\", \n",
    "                   \"SP.POP.TOTL.FE.IN\":\"Total Female\",\n",
    "                  \"SP.POP.TOTL.MA.IN\":\"Total Male\",\n",
    "                  \"SP.RUR.TOTL\":\"Total Rural\",\n",
    "                  \"SP.URB.TOTL\":\"Total Urban\"}\n",
    "countries = {\"BGD\":\"Bangladesh\",\n",
    "             \"BTN\":\"Bhutan\",\n",
    "             \"IND\": \"India\",\n",
    "             \"MDV\": \"Maldives\",\n",
    "             \"NPL\": \"Nepal\",\n",
    "             \"PAK\": \"Pakistan\",\n",
    "             \"LKA\": \"Sri Lanka\",\n",
    "             \"TSA\":\"South Asia (IDA & IBRD)\"\n",
    "            }\n",
    "\n",
    "SA_pop = wbdata.get_dataframe(variable_labels, country = countries, parse_dates=True).squeeze()\n",
    "SA_pop = SA_pop.rename(columns={'date': 'Date'})\n",
    "SA_pop\n",
    "# Attributes of interest: Total Population, Total Female Population, Total Male Population, Total Rural Population\n",
    "# and Total Urban Population"
   ]
  },
  {
   "cell_type": "code",
   "execution_count": null,
   "id": "b020d314-df05-4843-b85c-53fccdad71ab",
   "metadata": {},
   "outputs": [],
   "source": [
    "# Produce total population over time plot (include each country and the region)\n",
    "SA_total = SA_pop[\"Total Population\"]\n",
    "\n",
    "SA_total.plot(title=\"Total Population Over Time (South Asia)\")"
   ]
  },
  {
   "cell_type": "code",
   "execution_count": 9,
   "id": "282a50ff-aeeb-45b8-ab3c-0214153974d9",
   "metadata": {},
   "outputs": [
    {
     "data": {
      "application/vnd.plotly.v1+json": {
       "config": {
        "plotlyServerURL": "https://plot.ly"
       },
       "data": [
        {
         "line": {
          "color": "blue",
          "dash": "dash"
         },
         "mode": "lines+markers",
         "name": "Female",
         "type": "scatter",
         "x": [
          "1960-01-01T00:00:00",
          "1961-01-01T00:00:00",
          "1962-01-01T00:00:00",
          "1963-01-01T00:00:00",
          "1964-01-01T00:00:00",
          "1965-01-01T00:00:00",
          "1966-01-01T00:00:00",
          "1967-01-01T00:00:00",
          "1968-01-01T00:00:00",
          "1969-01-01T00:00:00",
          "1970-01-01T00:00:00",
          "1971-01-01T00:00:00",
          "1972-01-01T00:00:00",
          "1973-01-01T00:00:00",
          "1974-01-01T00:00:00",
          "1975-01-01T00:00:00",
          "1976-01-01T00:00:00",
          "1977-01-01T00:00:00",
          "1978-01-01T00:00:00",
          "1979-01-01T00:00:00",
          "1980-01-01T00:00:00",
          "1981-01-01T00:00:00",
          "1982-01-01T00:00:00",
          "1983-01-01T00:00:00",
          "1984-01-01T00:00:00",
          "1985-01-01T00:00:00",
          "1986-01-01T00:00:00",
          "1987-01-01T00:00:00",
          "1988-01-01T00:00:00",
          "1989-01-01T00:00:00",
          "1990-01-01T00:00:00",
          "1991-01-01T00:00:00",
          "1992-01-01T00:00:00",
          "1993-01-01T00:00:00",
          "1994-01-01T00:00:00",
          "1995-01-01T00:00:00",
          "1996-01-01T00:00:00",
          "1997-01-01T00:00:00",
          "1998-01-01T00:00:00",
          "1999-01-01T00:00:00",
          "2000-01-01T00:00:00",
          "2001-01-01T00:00:00",
          "2002-01-01T00:00:00",
          "2003-01-01T00:00:00",
          "2004-01-01T00:00:00",
          "2005-01-01T00:00:00",
          "2006-01-01T00:00:00",
          "2007-01-01T00:00:00",
          "2008-01-01T00:00:00",
          "2009-01-01T00:00:00",
          "2010-01-01T00:00:00",
          "2011-01-01T00:00:00",
          "2012-01-01T00:00:00",
          "2013-01-01T00:00:00",
          "2014-01-01T00:00:00",
          "2015-01-01T00:00:00",
          "2016-01-01T00:00:00",
          "2017-01-01T00:00:00",
          "2018-01-01T00:00:00",
          "2019-01-01T00:00:00",
          "2020-01-01T00:00:00",
          "2021-01-01T00:00:00",
          "2022-01-01T00:00:00",
          "2023-01-01T00:00:00"
         ],
         "y": [
          24878240,
          25598804,
          26362885,
          27151732,
          27964907,
          28801088,
          29657617,
          30551511,
          31472067,
          32385386,
          33225897,
          33947031,
          34750171,
          35753988,
          36776225,
          37762351,
          38756724,
          39758252,
          40766279,
          41786802,
          42826188,
          43957975,
          45189089,
          46424537,
          47644190,
          48847560,
          50025293,
          51175860,
          52294637,
          53396565,
          54491175,
          55554457,
          56627781,
          57723368,
          58836294,
          59975549,
          61123899,
          62313586,
          63548936,
          64815861,
          66067192,
          67278611,
          68468235,
          69625317,
          70743192,
          71813210,
          72831947,
          73805299,
          74736651,
          75629878,
          76487607,
          77354265,
          78243628,
          79124505,
          79993271,
          80855124,
          81720325,
          82462276,
          83091995,
          83750865,
          84419144,
          85086513,
          85985502,
          87109279
         ]
        },
        {
         "line": {
          "color": "red",
          "dash": "solid"
         },
         "mode": "lines+markers",
         "name": "Male",
         "type": "scatter",
         "x": [
          "1960-01-01T00:00:00",
          "1961-01-01T00:00:00",
          "1962-01-01T00:00:00",
          "1963-01-01T00:00:00",
          "1964-01-01T00:00:00",
          "1965-01-01T00:00:00",
          "1966-01-01T00:00:00",
          "1967-01-01T00:00:00",
          "1968-01-01T00:00:00",
          "1969-01-01T00:00:00",
          "1970-01-01T00:00:00",
          "1971-01-01T00:00:00",
          "1972-01-01T00:00:00",
          "1973-01-01T00:00:00",
          "1974-01-01T00:00:00",
          "1975-01-01T00:00:00",
          "1976-01-01T00:00:00",
          "1977-01-01T00:00:00",
          "1978-01-01T00:00:00",
          "1979-01-01T00:00:00",
          "1980-01-01T00:00:00",
          "1981-01-01T00:00:00",
          "1982-01-01T00:00:00",
          "1983-01-01T00:00:00",
          "1984-01-01T00:00:00",
          "1985-01-01T00:00:00",
          "1986-01-01T00:00:00",
          "1987-01-01T00:00:00",
          "1988-01-01T00:00:00",
          "1989-01-01T00:00:00",
          "1990-01-01T00:00:00",
          "1991-01-01T00:00:00",
          "1992-01-01T00:00:00",
          "1993-01-01T00:00:00",
          "1994-01-01T00:00:00",
          "1995-01-01T00:00:00",
          "1996-01-01T00:00:00",
          "1997-01-01T00:00:00",
          "1998-01-01T00:00:00",
          "1999-01-01T00:00:00",
          "2000-01-01T00:00:00",
          "2001-01-01T00:00:00",
          "2002-01-01T00:00:00",
          "2003-01-01T00:00:00",
          "2004-01-01T00:00:00",
          "2005-01-01T00:00:00",
          "2006-01-01T00:00:00",
          "2007-01-01T00:00:00",
          "2008-01-01T00:00:00",
          "2009-01-01T00:00:00",
          "2010-01-01T00:00:00",
          "2011-01-01T00:00:00",
          "2012-01-01T00:00:00",
          "2013-01-01T00:00:00",
          "2014-01-01T00:00:00",
          "2015-01-01T00:00:00",
          "2016-01-01T00:00:00",
          "2017-01-01T00:00:00",
          "2018-01-01T00:00:00",
          "2019-01-01T00:00:00",
          "2020-01-01T00:00:00",
          "2021-01-01T00:00:00",
          "2022-01-01T00:00:00",
          "2023-01-01T00:00:00"
         ],
         "y": [
          26950420,
          27711544,
          28518261,
          29352670,
          30213467,
          31101431,
          32012189,
          32959418,
          33936209,
          34908747,
          35832997,
          36329727,
          36891348,
          37968306,
          39063123,
          40092000,
          41098594,
          42109012,
          43123376,
          44148270,
          45190244,
          46345130,
          47625418,
          48910618,
          50170776,
          51406265,
          52610279,
          53783431,
          54921371,
          56037234,
          57142542,
          58232652,
          59324411,
          60408992,
          61506885,
          62624821,
          63738280,
          64884483,
          66073396,
          67292204,
          68477112,
          69527199,
          70465423,
          71345034,
          72159664,
          72902576,
          73574026,
          74183979,
          74737613,
          75243836,
          75714374,
          76236811,
          76826473,
          77407636,
          77971658,
          78528055,
          79091607,
          79723871,
          80431108,
          81162190,
          81878880,
          82572341,
          83399395,
          84357711
         ]
        }
       ],
       "layout": {
        "template": {
         "data": {
          "bar": [
           {
            "error_x": {
             "color": "#2a3f5f"
            },
            "error_y": {
             "color": "#2a3f5f"
            },
            "marker": {
             "line": {
              "color": "#E5ECF6",
              "width": 0.5
             },
             "pattern": {
              "fillmode": "overlay",
              "size": 10,
              "solidity": 0.2
             }
            },
            "type": "bar"
           }
          ],
          "barpolar": [
           {
            "marker": {
             "line": {
              "color": "#E5ECF6",
              "width": 0.5
             },
             "pattern": {
              "fillmode": "overlay",
              "size": 10,
              "solidity": 0.2
             }
            },
            "type": "barpolar"
           }
          ],
          "carpet": [
           {
            "aaxis": {
             "endlinecolor": "#2a3f5f",
             "gridcolor": "white",
             "linecolor": "white",
             "minorgridcolor": "white",
             "startlinecolor": "#2a3f5f"
            },
            "baxis": {
             "endlinecolor": "#2a3f5f",
             "gridcolor": "white",
             "linecolor": "white",
             "minorgridcolor": "white",
             "startlinecolor": "#2a3f5f"
            },
            "type": "carpet"
           }
          ],
          "choropleth": [
           {
            "colorbar": {
             "outlinewidth": 0,
             "ticks": ""
            },
            "type": "choropleth"
           }
          ],
          "contour": [
           {
            "colorbar": {
             "outlinewidth": 0,
             "ticks": ""
            },
            "colorscale": [
             [
              0,
              "#0d0887"
             ],
             [
              0.1111111111111111,
              "#46039f"
             ],
             [
              0.2222222222222222,
              "#7201a8"
             ],
             [
              0.3333333333333333,
              "#9c179e"
             ],
             [
              0.4444444444444444,
              "#bd3786"
             ],
             [
              0.5555555555555556,
              "#d8576b"
             ],
             [
              0.6666666666666666,
              "#ed7953"
             ],
             [
              0.7777777777777778,
              "#fb9f3a"
             ],
             [
              0.8888888888888888,
              "#fdca26"
             ],
             [
              1,
              "#f0f921"
             ]
            ],
            "type": "contour"
           }
          ],
          "contourcarpet": [
           {
            "colorbar": {
             "outlinewidth": 0,
             "ticks": ""
            },
            "type": "contourcarpet"
           }
          ],
          "heatmap": [
           {
            "colorbar": {
             "outlinewidth": 0,
             "ticks": ""
            },
            "colorscale": [
             [
              0,
              "#0d0887"
             ],
             [
              0.1111111111111111,
              "#46039f"
             ],
             [
              0.2222222222222222,
              "#7201a8"
             ],
             [
              0.3333333333333333,
              "#9c179e"
             ],
             [
              0.4444444444444444,
              "#bd3786"
             ],
             [
              0.5555555555555556,
              "#d8576b"
             ],
             [
              0.6666666666666666,
              "#ed7953"
             ],
             [
              0.7777777777777778,
              "#fb9f3a"
             ],
             [
              0.8888888888888888,
              "#fdca26"
             ],
             [
              1,
              "#f0f921"
             ]
            ],
            "type": "heatmap"
           }
          ],
          "heatmapgl": [
           {
            "colorbar": {
             "outlinewidth": 0,
             "ticks": ""
            },
            "colorscale": [
             [
              0,
              "#0d0887"
             ],
             [
              0.1111111111111111,
              "#46039f"
             ],
             [
              0.2222222222222222,
              "#7201a8"
             ],
             [
              0.3333333333333333,
              "#9c179e"
             ],
             [
              0.4444444444444444,
              "#bd3786"
             ],
             [
              0.5555555555555556,
              "#d8576b"
             ],
             [
              0.6666666666666666,
              "#ed7953"
             ],
             [
              0.7777777777777778,
              "#fb9f3a"
             ],
             [
              0.8888888888888888,
              "#fdca26"
             ],
             [
              1,
              "#f0f921"
             ]
            ],
            "type": "heatmapgl"
           }
          ],
          "histogram": [
           {
            "marker": {
             "pattern": {
              "fillmode": "overlay",
              "size": 10,
              "solidity": 0.2
             }
            },
            "type": "histogram"
           }
          ],
          "histogram2d": [
           {
            "colorbar": {
             "outlinewidth": 0,
             "ticks": ""
            },
            "colorscale": [
             [
              0,
              "#0d0887"
             ],
             [
              0.1111111111111111,
              "#46039f"
             ],
             [
              0.2222222222222222,
              "#7201a8"
             ],
             [
              0.3333333333333333,
              "#9c179e"
             ],
             [
              0.4444444444444444,
              "#bd3786"
             ],
             [
              0.5555555555555556,
              "#d8576b"
             ],
             [
              0.6666666666666666,
              "#ed7953"
             ],
             [
              0.7777777777777778,
              "#fb9f3a"
             ],
             [
              0.8888888888888888,
              "#fdca26"
             ],
             [
              1,
              "#f0f921"
             ]
            ],
            "type": "histogram2d"
           }
          ],
          "histogram2dcontour": [
           {
            "colorbar": {
             "outlinewidth": 0,
             "ticks": ""
            },
            "colorscale": [
             [
              0,
              "#0d0887"
             ],
             [
              0.1111111111111111,
              "#46039f"
             ],
             [
              0.2222222222222222,
              "#7201a8"
             ],
             [
              0.3333333333333333,
              "#9c179e"
             ],
             [
              0.4444444444444444,
              "#bd3786"
             ],
             [
              0.5555555555555556,
              "#d8576b"
             ],
             [
              0.6666666666666666,
              "#ed7953"
             ],
             [
              0.7777777777777778,
              "#fb9f3a"
             ],
             [
              0.8888888888888888,
              "#fdca26"
             ],
             [
              1,
              "#f0f921"
             ]
            ],
            "type": "histogram2dcontour"
           }
          ],
          "mesh3d": [
           {
            "colorbar": {
             "outlinewidth": 0,
             "ticks": ""
            },
            "type": "mesh3d"
           }
          ],
          "parcoords": [
           {
            "line": {
             "colorbar": {
              "outlinewidth": 0,
              "ticks": ""
             }
            },
            "type": "parcoords"
           }
          ],
          "pie": [
           {
            "automargin": true,
            "type": "pie"
           }
          ],
          "scatter": [
           {
            "fillpattern": {
             "fillmode": "overlay",
             "size": 10,
             "solidity": 0.2
            },
            "type": "scatter"
           }
          ],
          "scatter3d": [
           {
            "line": {
             "colorbar": {
              "outlinewidth": 0,
              "ticks": ""
             }
            },
            "marker": {
             "colorbar": {
              "outlinewidth": 0,
              "ticks": ""
             }
            },
            "type": "scatter3d"
           }
          ],
          "scattercarpet": [
           {
            "marker": {
             "colorbar": {
              "outlinewidth": 0,
              "ticks": ""
             }
            },
            "type": "scattercarpet"
           }
          ],
          "scattergeo": [
           {
            "marker": {
             "colorbar": {
              "outlinewidth": 0,
              "ticks": ""
             }
            },
            "type": "scattergeo"
           }
          ],
          "scattergl": [
           {
            "marker": {
             "colorbar": {
              "outlinewidth": 0,
              "ticks": ""
             }
            },
            "type": "scattergl"
           }
          ],
          "scattermapbox": [
           {
            "marker": {
             "colorbar": {
              "outlinewidth": 0,
              "ticks": ""
             }
            },
            "type": "scattermapbox"
           }
          ],
          "scatterpolar": [
           {
            "marker": {
             "colorbar": {
              "outlinewidth": 0,
              "ticks": ""
             }
            },
            "type": "scatterpolar"
           }
          ],
          "scatterpolargl": [
           {
            "marker": {
             "colorbar": {
              "outlinewidth": 0,
              "ticks": ""
             }
            },
            "type": "scatterpolargl"
           }
          ],
          "scatterternary": [
           {
            "marker": {
             "colorbar": {
              "outlinewidth": 0,
              "ticks": ""
             }
            },
            "type": "scatterternary"
           }
          ],
          "surface": [
           {
            "colorbar": {
             "outlinewidth": 0,
             "ticks": ""
            },
            "colorscale": [
             [
              0,
              "#0d0887"
             ],
             [
              0.1111111111111111,
              "#46039f"
             ],
             [
              0.2222222222222222,
              "#7201a8"
             ],
             [
              0.3333333333333333,
              "#9c179e"
             ],
             [
              0.4444444444444444,
              "#bd3786"
             ],
             [
              0.5555555555555556,
              "#d8576b"
             ],
             [
              0.6666666666666666,
              "#ed7953"
             ],
             [
              0.7777777777777778,
              "#fb9f3a"
             ],
             [
              0.8888888888888888,
              "#fdca26"
             ],
             [
              1,
              "#f0f921"
             ]
            ],
            "type": "surface"
           }
          ],
          "table": [
           {
            "cells": {
             "fill": {
              "color": "#EBF0F8"
             },
             "line": {
              "color": "white"
             }
            },
            "header": {
             "fill": {
              "color": "#C8D4E3"
             },
             "line": {
              "color": "white"
             }
            },
            "type": "table"
           }
          ]
         },
         "layout": {
          "annotationdefaults": {
           "arrowcolor": "#2a3f5f",
           "arrowhead": 0,
           "arrowwidth": 1
          },
          "autotypenumbers": "strict",
          "coloraxis": {
           "colorbar": {
            "outlinewidth": 0,
            "ticks": ""
           }
          },
          "colorscale": {
           "diverging": [
            [
             0,
             "#8e0152"
            ],
            [
             0.1,
             "#c51b7d"
            ],
            [
             0.2,
             "#de77ae"
            ],
            [
             0.3,
             "#f1b6da"
            ],
            [
             0.4,
             "#fde0ef"
            ],
            [
             0.5,
             "#f7f7f7"
            ],
            [
             0.6,
             "#e6f5d0"
            ],
            [
             0.7,
             "#b8e186"
            ],
            [
             0.8,
             "#7fbc41"
            ],
            [
             0.9,
             "#4d9221"
            ],
            [
             1,
             "#276419"
            ]
           ],
           "sequential": [
            [
             0,
             "#0d0887"
            ],
            [
             0.1111111111111111,
             "#46039f"
            ],
            [
             0.2222222222222222,
             "#7201a8"
            ],
            [
             0.3333333333333333,
             "#9c179e"
            ],
            [
             0.4444444444444444,
             "#bd3786"
            ],
            [
             0.5555555555555556,
             "#d8576b"
            ],
            [
             0.6666666666666666,
             "#ed7953"
            ],
            [
             0.7777777777777778,
             "#fb9f3a"
            ],
            [
             0.8888888888888888,
             "#fdca26"
            ],
            [
             1,
             "#f0f921"
            ]
           ],
           "sequentialminus": [
            [
             0,
             "#0d0887"
            ],
            [
             0.1111111111111111,
             "#46039f"
            ],
            [
             0.2222222222222222,
             "#7201a8"
            ],
            [
             0.3333333333333333,
             "#9c179e"
            ],
            [
             0.4444444444444444,
             "#bd3786"
            ],
            [
             0.5555555555555556,
             "#d8576b"
            ],
            [
             0.6666666666666666,
             "#ed7953"
            ],
            [
             0.7777777777777778,
             "#fb9f3a"
            ],
            [
             0.8888888888888888,
             "#fdca26"
            ],
            [
             1,
             "#f0f921"
            ]
           ]
          },
          "colorway": [
           "#636efa",
           "#EF553B",
           "#00cc96",
           "#ab63fa",
           "#FFA15A",
           "#19d3f3",
           "#FF6692",
           "#B6E880",
           "#FF97FF",
           "#FECB52"
          ],
          "font": {
           "color": "#2a3f5f"
          },
          "geo": {
           "bgcolor": "white",
           "lakecolor": "white",
           "landcolor": "#E5ECF6",
           "showlakes": true,
           "showland": true,
           "subunitcolor": "white"
          },
          "hoverlabel": {
           "align": "left"
          },
          "hovermode": "closest",
          "mapbox": {
           "style": "light"
          },
          "paper_bgcolor": "white",
          "plot_bgcolor": "#E5ECF6",
          "polar": {
           "angularaxis": {
            "gridcolor": "white",
            "linecolor": "white",
            "ticks": ""
           },
           "bgcolor": "#E5ECF6",
           "radialaxis": {
            "gridcolor": "white",
            "linecolor": "white",
            "ticks": ""
           }
          },
          "scene": {
           "xaxis": {
            "backgroundcolor": "#E5ECF6",
            "gridcolor": "white",
            "gridwidth": 2,
            "linecolor": "white",
            "showbackground": true,
            "ticks": "",
            "zerolinecolor": "white"
           },
           "yaxis": {
            "backgroundcolor": "#E5ECF6",
            "gridcolor": "white",
            "gridwidth": 2,
            "linecolor": "white",
            "showbackground": true,
            "ticks": "",
            "zerolinecolor": "white"
           },
           "zaxis": {
            "backgroundcolor": "#E5ECF6",
            "gridcolor": "white",
            "gridwidth": 2,
            "linecolor": "white",
            "showbackground": true,
            "ticks": "",
            "zerolinecolor": "white"
           }
          },
          "shapedefaults": {
           "line": {
            "color": "#2a3f5f"
           }
          },
          "ternary": {
           "aaxis": {
            "gridcolor": "white",
            "linecolor": "white",
            "ticks": ""
           },
           "baxis": {
            "gridcolor": "white",
            "linecolor": "white",
            "ticks": ""
           },
           "bgcolor": "#E5ECF6",
           "caxis": {
            "gridcolor": "white",
            "linecolor": "white",
            "ticks": ""
           }
          },
          "title": {
           "x": 0.05
          },
          "xaxis": {
           "automargin": true,
           "gridcolor": "white",
           "linecolor": "white",
           "ticks": "",
           "title": {
            "standoff": 15
           },
           "zerolinecolor": "white",
           "zerolinewidth": 2
          },
          "yaxis": {
           "automargin": true,
           "gridcolor": "white",
           "linecolor": "white",
           "ticks": "",
           "title": {
            "standoff": 15
           },
           "zerolinecolor": "white",
           "zerolinewidth": 2
          }
         }
        },
        "title": {
         "text": "Total Female and Male Population Over Time (Bangladesh)"
        },
        "xaxis": {
         "title": {
          "text": "Year"
         }
        },
        "yaxis": {
         "title": {
          "text": "Population"
         }
        }
       }
      },
      "image/png": "[encoded data removed]",
      "text/html": [
       "<div>                            <div id=\"23fa2da6-843e-47ef-b997-fc2f90b0fa68\" class=\"plotly-graph-div\" style=\"height:525px; width:100%;\"></div>            <script type=\"text/javascript\">                require([\"plotly\"], function(Plotly) {                    window.PLOTLYENV=window.PLOTLYENV || {};                                    if (document.getElementById(\"23fa2da6-843e-47ef-b997-fc2f90b0fa68\")) {                    Plotly.newPlot(                        \"23fa2da6-843e-47ef-b997-fc2f90b0fa68\",                        [{\"line\":{\"color\":\"blue\",\"dash\":\"dash\"},\"mode\":\"lines+markers\",\"name\":\"Female\",\"x\":[\"1960-01-01T00:00:00\",\"1961-01-01T00:00:00\",\"1962-01-01T00:00:00\",\"1963-01-01T00:00:00\",\"1964-01-01T00:00:00\",\"1965-01-01T00:00:00\",\"1966-01-01T00:00:00\",\"1967-01-01T00:00:00\",\"1968-01-01T00:00:00\",\"1969-01-01T00:00:00\",\"1970-01-01T00:00:00\",\"1971-01-01T00:00:00\",\"1972-01-01T00:00:00\",\"1973-01-01T00:00:00\",\"1974-01-01T00:00:00\",\"1975-01-01T00:00:00\",\"1976-01-01T00:00:00\",\"1977-01-01T00:00:00\",\"1978-01-01T00:00:00\",\"1979-01-01T00:00:00\",\"1980-01-01T00:00:00\",\"1981-01-01T00:00:00\",\"1982-01-01T00:00:00\",\"1983-01-01T00:00:00\",\"1984-01-01T00:00:00\",\"1985-01-01T00:00:00\",\"1986-01-01T00:00:00\",\"1987-01-01T00:00:00\",\"1988-01-01T00:00:00\",\"1989-01-01T00:00:00\",\"1990-01-01T00:00:00\",\"1991-01-01T00:00:00\",\"1992-01-01T00:00:00\",\"1993-01-01T00:00:00\",\"1994-01-01T00:00:00\",\"1995-01-01T00:00:00\",\"1996-01-01T00:00:00\",\"1997-01-01T00:00:00\",\"1998-01-01T00:00:00\",\"1999-01-01T00:00:00\",\"2000-01-01T00:00:00\",\"2001-01-01T00:00:00\",\"2002-01-01T00:00:00\",\"2003-01-01T00:00:00\",\"2004-01-01T00:00:00\",\"2005-01-01T00:00:00\",\"2006-01-01T00:00:00\",\"2007-01-01T00:00:00\",\"2008-01-01T00:00:00\",\"2009-01-01T00:00:00\",\"2010-01-01T00:00:00\",\"2011-01-01T00:00:00\",\"2012-01-01T00:00:00\",\"2013-01-01T00:00:00\",\"2014-01-01T00:00:00\",\"2015-01-01T00:00:00\",\"2016-01-01T00:00:00\",\"2017-01-01T00:00:00\",\"2018-01-01T00:00:00\",\"2019-01-01T00:00:00\",\"2020-01-01T00:00:00\",\"2021-01-01T00:00:00\",\"2022-01-01T00:00:00\",\"2023-01-01T00:00:00\"],\"y\":[24878240.0,25598804.0,26362885.0,27151732.0,27964907.0,28801088.0,29657617.0,30551511.0,31472067.0,32385386.0,33225897.0,33947031.0,34750171.0,35753988.0,36776225.0,37762351.0,38756724.0,39758252.0,40766279.0,41786802.0,42826188.0,43957975.0,45189089.0,46424537.0,47644190.0,48847560.0,50025293.0,51175860.0,52294637.0,53396565.0,54491175.0,55554457.0,56627781.0,57723368.0,58836294.0,59975549.0,61123899.0,62313586.0,63548936.0,64815861.0,66067192.0,67278611.0,68468235.0,69625317.0,70743192.0,71813210.0,72831947.0,73805299.0,74736651.0,75629878.0,76487607.0,77354265.0,78243628.0,79124505.0,79993271.0,80855124.0,81720325.0,82462276.0,83091995.0,83750865.0,84419144.0,85086513.0,85985502.0,87109279.0],\"type\":\"scatter\"},{\"line\":{\"color\":\"red\",\"dash\":\"solid\"},\"mode\":\"lines+markers\",\"name\":\"Male\",\"x\":[\"1960-01-01T00:00:00\",\"1961-01-01T00:00:00\",\"1962-01-01T00:00:00\",\"1963-01-01T00:00:00\",\"1964-01-01T00:00:00\",\"1965-01-01T00:00:00\",\"1966-01-01T00:00:00\",\"1967-01-01T00:00:00\",\"1968-01-01T00:00:00\",\"1969-01-01T00:00:00\",\"1970-01-01T00:00:00\",\"1971-01-01T00:00:00\",\"1972-01-01T00:00:00\",\"1973-01-01T00:00:00\",\"1974-01-01T00:00:00\",\"1975-01-01T00:00:00\",\"1976-01-01T00:00:00\",\"1977-01-01T00:00:00\",\"1978-01-01T00:00:00\",\"1979-01-01T00:00:00\",\"1980-01-01T00:00:00\",\"1981-01-01T00:00:00\",\"1982-01-01T00:00:00\",\"1983-01-01T00:00:00\",\"1984-01-01T00:00:00\",\"1985-01-01T00:00:00\",\"1986-01-01T00:00:00\",\"1987-01-01T00:00:00\",\"1988-01-01T00:00:00\",\"1989-01-01T00:00:00\",\"1990-01-01T00:00:00\",\"1991-01-01T00:00:00\",\"1992-01-01T00:00:00\",\"1993-01-01T00:00:00\",\"1994-01-01T00:00:00\",\"1995-01-01T00:00:00\",\"1996-01-01T00:00:00\",\"1997-01-01T00:00:00\",\"1998-01-01T00:00:00\",\"1999-01-01T00:00:00\",\"2000-01-01T00:00:00\",\"2001-01-01T00:00:00\",\"2002-01-01T00:00:00\",\"2003-01-01T00:00:00\",\"2004-01-01T00:00:00\",\"2005-01-01T00:00:00\",\"2006-01-01T00:00:00\",\"2007-01-01T00:00:00\",\"2008-01-01T00:00:00\",\"2009-01-01T00:00:00\",\"2010-01-01T00:00:00\",\"2011-01-01T00:00:00\",\"2012-01-01T00:00:00\",\"2013-01-01T00:00:00\",\"2014-01-01T00:00:00\",\"2015-01-01T00:00:00\",\"2016-01-01T00:00:00\",\"2017-01-01T00:00:00\",\"2018-01-01T00:00:00\",\"2019-01-01T00:00:00\",\"2020-01-01T00:00:00\",\"2021-01-01T00:00:00\",\"2022-01-01T00:00:00\",\"2023-01-01T00:00:00\"],\"y\":[26950420.0,27711544.0,28518261.0,29352670.0,30213467.0,31101431.0,32012189.0,32959418.0,33936209.0,34908747.0,35832997.0,36329727.0,36891348.0,37968306.0,39063123.0,40092000.0,41098594.0,42109012.0,43123376.0,44148270.0,45190244.0,46345130.0,47625418.0,48910618.0,50170776.0,51406265.0,52610279.0,53783431.0,54921371.0,56037234.0,57142542.0,58232652.0,59324411.0,60408992.0,61506885.0,62624821.0,63738280.0,64884483.0,66073396.0,67292204.0,68477112.0,69527199.0,70465423.0,71345034.0,72159664.0,72902576.0,73574026.0,74183979.0,74737613.0,75243836.0,75714374.0,76236811.0,76826473.0,77407636.0,77971658.0,78528055.0,79091607.0,79723871.0,80431108.0,81162190.0,81878880.0,82572341.0,83399395.0,84357711.0],\"type\":\"scatter\"}],                        {\"template\":{\"data\":{\"histogram2dcontour\":[{\"type\":\"histogram2dcontour\",\"colorbar\":{\"outlinewidth\":0,\"ticks\":\"\"},\"colorscale\":[[0.0,\"#0d0887\"],[0.1111111111111111,\"#46039f\"],[0.2222222222222222,\"#7201a8\"],[0.3333333333333333,\"#9c179e\"],[0.4444444444444444,\"#bd3786\"],[0.5555555555555556,\"#d8576b\"],[0.6666666666666666,\"#ed7953\"],[0.7777777777777778,\"#fb9f3a\"],[0.8888888888888888,\"#fdca26\"],[1.0,\"#f0f921\"]]}],\"choropleth\":[{\"type\":\"choropleth\",\"colorbar\":{\"outlinewidth\":0,\"ticks\":\"\"}}],\"histogram2d\":[{\"type\":\"histogram2d\",\"colorbar\":{\"outlinewidth\":0,\"ticks\":\"\"},\"colorscale\":[[0.0,\"#0d0887\"],[0.1111111111111111,\"#46039f\"],[0.2222222222222222,\"#7201a8\"],[0.3333333333333333,\"#9c179e\"],[0.4444444444444444,\"#bd3786\"],[0.5555555555555556,\"#d8576b\"],[0.6666666666666666,\"#ed7953\"],[0.7777777777777778,\"#fb9f3a\"],[0.8888888888888888,\"#fdca26\"],[1.0,\"#f0f921\"]]}],\"heatmap\":[{\"type\":\"heatmap\",\"colorbar\":{\"outlinewidth\":0,\"ticks\":\"\"},\"colorscale\":[[0.0,\"#0d0887\"],[0.1111111111111111,\"#46039f\"],[0.2222222222222222,\"#7201a8\"],[0.3333333333333333,\"#9c179e\"],[0.4444444444444444,\"#bd3786\"],[0.5555555555555556,\"#d8576b\"],[0.6666666666666666,\"#ed7953\"],[0.7777777777777778,\"#fb9f3a\"],[0.8888888888888888,\"#fdca26\"],[1.0,\"#f0f921\"]]}],\"heatmapgl\":[{\"type\":\"heatmapgl\",\"colorbar\":{\"outlinewidth\":0,\"ticks\":\"\"},\"colorscale\":[[0.0,\"#0d0887\"],[0.1111111111111111,\"#46039f\"],[0.2222222222222222,\"#7201a8\"],[0.3333333333333333,\"#9c179e\"],[0.4444444444444444,\"#bd3786\"],[0.5555555555555556,\"#d8576b\"],[0.6666666666666666,\"#ed7953\"],[0.7777777777777778,\"#fb9f3a\"],[0.8888888888888888,\"#fdca26\"],[1.0,\"#f0f921\"]]}],\"contourcarpet\":[{\"type\":\"contourcarpet\",\"colorbar\":{\"outlinewidth\":0,\"ticks\":\"\"}}],\"contour\":[{\"type\":\"contour\",\"colorbar\":{\"outlinewidth\":0,\"ticks\":\"\"},\"colorscale\":[[0.0,\"#0d0887\"],[0.1111111111111111,\"#46039f\"],[0.2222222222222222,\"#7201a8\"],[0.3333333333333333,\"#9c179e\"],[0.4444444444444444,\"#bd3786\"],[0.5555555555555556,\"#d8576b\"],[0.6666666666666666,\"#ed7953\"],[0.7777777777777778,\"#fb9f3a\"],[0.8888888888888888,\"#fdca26\"],[1.0,\"#f0f921\"]]}],\"surface\":[{\"type\":\"surface\",\"colorbar\":{\"outlinewidth\":0,\"ticks\":\"\"},\"colorscale\":[[0.0,\"#0d0887\"],[0.1111111111111111,\"#46039f\"],[0.2222222222222222,\"#7201a8\"],[0.3333333333333333,\"#9c179e\"],[0.4444444444444444,\"#bd3786\"],[0.5555555555555556,\"#d8576b\"],[0.6666666666666666,\"#ed7953\"],[0.7777777777777778,\"#fb9f3a\"],[0.8888888888888888,\"#fdca26\"],[1.0,\"#f0f921\"]]}],\"mesh3d\":[{\"type\":\"mesh3d\",\"colorbar\":{\"outlinewidth\":0,\"ticks\":\"\"}}],\"scatter\":[{\"fillpattern\":{\"fillmode\":\"overlay\",\"size\":10,\"solidity\":0.2},\"type\":\"scatter\"}],\"parcoords\":[{\"type\":\"parcoords\",\"line\":{\"colorbar\":{\"outlinewidth\":0,\"ticks\":\"\"}}}],\"scatterpolargl\":[{\"type\":\"scatterpolargl\",\"marker\":{\"colorbar\":{\"outlinewidth\":0,\"ticks\":\"\"}}}],\"bar\":[{\"error_x\":{\"color\":\"#2a3f5f\"},\"error_y\":{\"color\":\"#2a3f5f\"},\"marker\":{\"line\":{\"color\":\"#E5ECF6\",\"width\":0.5},\"pattern\":{\"fillmode\":\"overlay\",\"size\":10,\"solidity\":0.2}},\"type\":\"bar\"}],\"scattergeo\":[{\"type\":\"scattergeo\",\"marker\":{\"colorbar\":{\"outlinewidth\":0,\"ticks\":\"\"}}}],\"scatterpolar\":[{\"type\":\"scatterpolar\",\"marker\":{\"colorbar\":{\"outlinewidth\":0,\"ticks\":\"\"}}}],\"histogram\":[{\"marker\":{\"pattern\":{\"fillmode\":\"overlay\",\"size\":10,\"solidity\":0.2}},\"type\":\"histogram\"}],\"scattergl\":[{\"type\":\"scattergl\",\"marker\":{\"colorbar\":{\"outlinewidth\":0,\"ticks\":\"\"}}}],\"scatter3d\":[{\"type\":\"scatter3d\",\"line\":{\"colorbar\":{\"outlinewidth\":0,\"ticks\":\"\"}},\"marker\":{\"colorbar\":{\"outlinewidth\":0,\"ticks\":\"\"}}}],\"scattermapbox\":[{\"type\":\"scattermapbox\",\"marker\":{\"colorbar\":{\"outlinewidth\":0,\"ticks\":\"\"}}}],\"scatterternary\":[{\"type\":\"scatterternary\",\"marker\":{\"colorbar\":{\"outlinewidth\":0,\"ticks\":\"\"}}}],\"scattercarpet\":[{\"type\":\"scattercarpet\",\"marker\":{\"colorbar\":{\"outlinewidth\":0,\"ticks\":\"\"}}}],\"carpet\":[{\"aaxis\":{\"endlinecolor\":\"#2a3f5f\",\"gridcolor\":\"white\",\"linecolor\":\"white\",\"minorgridcolor\":\"white\",\"startlinecolor\":\"#2a3f5f\"},\"baxis\":{\"endlinecolor\":\"#2a3f5f\",\"gridcolor\":\"white\",\"linecolor\":\"white\",\"minorgridcolor\":\"white\",\"startlinecolor\":\"#2a3f5f\"},\"type\":\"carpet\"}],\"table\":[{\"cells\":{\"fill\":{\"color\":\"#EBF0F8\"},\"line\":{\"color\":\"white\"}},\"header\":{\"fill\":{\"color\":\"#C8D4E3\"},\"line\":{\"color\":\"white\"}},\"type\":\"table\"}],\"barpolar\":[{\"marker\":{\"line\":{\"color\":\"#E5ECF6\",\"width\":0.5},\"pattern\":{\"fillmode\":\"overlay\",\"size\":10,\"solidity\":0.2}},\"type\":\"barpolar\"}],\"pie\":[{\"automargin\":true,\"type\":\"pie\"}]},\"layout\":{\"autotypenumbers\":\"strict\",\"colorway\":[\"#636efa\",\"#EF553B\",\"#00cc96\",\"#ab63fa\",\"#FFA15A\",\"#19d3f3\",\"#FF6692\",\"#B6E880\",\"#FF97FF\",\"#FECB52\"],\"font\":{\"color\":\"#2a3f5f\"},\"hovermode\":\"closest\",\"hoverlabel\":{\"align\":\"left\"},\"paper_bgcolor\":\"white\",\"plot_bgcolor\":\"#E5ECF6\",\"polar\":{\"bgcolor\":\"#E5ECF6\",\"angularaxis\":{\"gridcolor\":\"white\",\"linecolor\":\"white\",\"ticks\":\"\"},\"radialaxis\":{\"gridcolor\":\"white\",\"linecolor\":\"white\",\"ticks\":\"\"}},\"ternary\":{\"bgcolor\":\"#E5ECF6\",\"aaxis\":{\"gridcolor\":\"white\",\"linecolor\":\"white\",\"ticks\":\"\"},\"baxis\":{\"gridcolor\":\"white\",\"linecolor\":\"white\",\"ticks\":\"\"},\"caxis\":{\"gridcolor\":\"white\",\"linecolor\":\"white\",\"ticks\":\"\"}},\"coloraxis\":{\"colorbar\":{\"outlinewidth\":0,\"ticks\":\"\"}},\"colorscale\":{\"sequential\":[[0.0,\"#0d0887\"],[0.1111111111111111,\"#46039f\"],[0.2222222222222222,\"#7201a8\"],[0.3333333333333333,\"#9c179e\"],[0.4444444444444444,\"#bd3786\"],[0.5555555555555556,\"#d8576b\"],[0.6666666666666666,\"#ed7953\"],[0.7777777777777778,\"#fb9f3a\"],[0.8888888888888888,\"#fdca26\"],[1.0,\"#f0f921\"]],\"sequentialminus\":[[0.0,\"#0d0887\"],[0.1111111111111111,\"#46039f\"],[0.2222222222222222,\"#7201a8\"],[0.3333333333333333,\"#9c179e\"],[0.4444444444444444,\"#bd3786\"],[0.5555555555555556,\"#d8576b\"],[0.6666666666666666,\"#ed7953\"],[0.7777777777777778,\"#fb9f3a\"],[0.8888888888888888,\"#fdca26\"],[1.0,\"#f0f921\"]],\"diverging\":[[0,\"#8e0152\"],[0.1,\"#c51b7d\"],[0.2,\"#de77ae\"],[0.3,\"#f1b6da\"],[0.4,\"#fde0ef\"],[0.5,\"#f7f7f7\"],[0.6,\"#e6f5d0\"],[0.7,\"#b8e186\"],[0.8,\"#7fbc41\"],[0.9,\"#4d9221\"],[1,\"#276419\"]]},\"xaxis\":{\"gridcolor\":\"white\",\"linecolor\":\"white\",\"ticks\":\"\",\"title\":{\"standoff\":15},\"zerolinecolor\":\"white\",\"automargin\":true,\"zerolinewidth\":2},\"yaxis\":{\"gridcolor\":\"white\",\"linecolor\":\"white\",\"ticks\":\"\",\"title\":{\"standoff\":15},\"zerolinecolor\":\"white\",\"automargin\":true,\"zerolinewidth\":2},\"scene\":{\"xaxis\":{\"backgroundcolor\":\"#E5ECF6\",\"gridcolor\":\"white\",\"linecolor\":\"white\",\"showbackground\":true,\"ticks\":\"\",\"zerolinecolor\":\"white\",\"gridwidth\":2},\"yaxis\":{\"backgroundcolor\":\"#E5ECF6\",\"gridcolor\":\"white\",\"linecolor\":\"white\",\"showbackground\":true,\"ticks\":\"\",\"zerolinecolor\":\"white\",\"gridwidth\":2},\"zaxis\":{\"backgroundcolor\":\"#E5ECF6\",\"gridcolor\":\"white\",\"linecolor\":\"white\",\"showbackground\":true,\"ticks\":\"\",\"zerolinecolor\":\"white\",\"gridwidth\":2}},\"shapedefaults\":{\"line\":{\"color\":\"#2a3f5f\"}},\"annotationdefaults\":{\"arrowcolor\":\"#2a3f5f\",\"arrowhead\":0,\"arrowwidth\":1},\"geo\":{\"bgcolor\":\"white\",\"landcolor\":\"#E5ECF6\",\"subunitcolor\":\"white\",\"showland\":true,\"showlakes\":true,\"lakecolor\":\"white\"},\"title\":{\"x\":0.05},\"mapbox\":{\"style\":\"light\"}}},\"title\":{\"text\":\"Total Female and Male Population Over Time (Bangladesh)\"},\"xaxis\":{\"title\":{\"text\":\"Year\"}},\"yaxis\":{\"title\":{\"text\":\"Population\"}}},                        {\"responsive\": true}                    ).then(function(){\n",
       "                            \n",
       "var gd = document.getElementById('23fa2da6-843e-47ef-b997-fc2f90b0fa68');\n",
       "var x = new MutationObserver(function (mutations, observer) {{\n",
       "        var display = window.getComputedStyle(gd).display;\n",
       "        if (!display || display === 'none') {{\n",
       "            console.log([gd, 'removed!']);\n",
       "            Plotly.purge(gd);\n",
       "            observer.disconnect();\n",
       "        }}\n",
       "}});\n",
       "\n",
       "// Listen for the removal of the full notebook cells\n",
       "var notebookContainer = gd.closest('#notebook-container');\n",
       "if (notebookContainer) {{\n",
       "    x.observe(notebookContainer, {childList: true});\n",
       "}}\n",
       "\n",
       "// Listen for the clearing of the current output cell\n",
       "var outputEl = gd.closest('.output');\n",
       "if (outputEl) {{\n",
       "    x.observe(outputEl, {childList: true});\n",
       "}}\n",
       "\n",
       "                        })                };                });            </script>        </div>"
      ]
     },
     "metadata": {},
     "output_type": "display_data"
    }
   ],
   "source": [
    "# Produce total female versus male populations over time for each country \n",
    "# Produce total female versus male populations over time for region as a whole\n",
    "import plotly.graph_objects as go\n",
    "\n",
    "def overlay_population(country_name, df):\n",
    "    \"\"\"\n",
    "    Function to overlay female and male population for a given country.\n",
    "\n",
    "    Parameters:\n",
    "    - country_name (str): The name of the country whose data will be plotted.\n",
    "    - df (pd.DataFrame): The DataFrame containing the population data with MultiIndex columns.\n",
    "\n",
    "    Returns:\n",
    "    - A Plotly figure with the overlayed female and male population data.\n",
    "    \"\"\"\n",
    "    \n",
    "    # Check if the country exists in the subcolumns\n",
    "    if country_name not in df.columns.get_level_values('country'):\n",
    "        print(f\"Country '{country_name}' not found in the dataset.\")\n",
    "        return\n",
    "    \n",
    "    # Extract the female and male population data for the country\n",
    "    female = df[('Total Female', country_name)]\n",
    "    male = df[('Total Male', country_name)]\n",
    "    \n",
    "    # Create a figure\n",
    "    fig = go.Figure()\n",
    "    \n",
    "    # Add the female population plot\n",
    "    fig.add_trace(go.Scatter(x=female.index, y=female, mode='lines+markers', name='Female', line=dict(dash='dash', color='blue')))\n",
    "    \n",
    "    # Add the male population plot\n",
    "    fig.add_trace(go.Scatter(x=male.index, y=male, mode='lines+markers', name='Male', line=dict(dash='solid', color='red')))\n",
    "    \n",
    "    # Add title and labels\n",
    "    fig.update_layout(title=f\"Total Female and Male Population Over Time ({country_name})\",\n",
    "                      xaxis_title=\"Year\",\n",
    "                      yaxis_title=\"Population\")\n",
    "    \n",
    "    # Show the plot\n",
    "    fig.show()\n",
    "\n",
    "overlay_population(\"Bangladesh\", SA_pop)"
   ]
  },
  {
   "cell_type": "code",
   "execution_count": 10,
   "id": "93fa2291-bc07-476b-a8f1-bb50dc52992a",
   "metadata": {},
   "outputs": [
    {
     "data": {
      "application/vnd.plotly.v1+json": {
       "config": {
        "plotlyServerURL": "https://plot.ly"
       },
       "data": [
        {
         "line": {
          "color": "blue",
          "dash": "dash"
         },
         "mode": "lines+markers",
         "name": "Rural",
         "type": "scatter",
         "x": [
          "1960-01-01T00:00:00",
          "1961-01-01T00:00:00",
          "1962-01-01T00:00:00",
          "1963-01-01T00:00:00",
          "1964-01-01T00:00:00",
          "1965-01-01T00:00:00",
          "1966-01-01T00:00:00",
          "1967-01-01T00:00:00",
          "1968-01-01T00:00:00",
          "1969-01-01T00:00:00",
          "1970-01-01T00:00:00",
          "1971-01-01T00:00:00",
          "1972-01-01T00:00:00",
          "1973-01-01T00:00:00",
          "1974-01-01T00:00:00",
          "1975-01-01T00:00:00",
          "1976-01-01T00:00:00",
          "1977-01-01T00:00:00",
          "1978-01-01T00:00:00",
          "1979-01-01T00:00:00",
          "1980-01-01T00:00:00",
          "1981-01-01T00:00:00",
          "1982-01-01T00:00:00",
          "1983-01-01T00:00:00",
          "1984-01-01T00:00:00",
          "1985-01-01T00:00:00",
          "1986-01-01T00:00:00",
          "1987-01-01T00:00:00",
          "1988-01-01T00:00:00",
          "1989-01-01T00:00:00",
          "1990-01-01T00:00:00",
          "1991-01-01T00:00:00",
          "1992-01-01T00:00:00",
          "1993-01-01T00:00:00",
          "1994-01-01T00:00:00",
          "1995-01-01T00:00:00",
          "1996-01-01T00:00:00",
          "1997-01-01T00:00:00",
          "1998-01-01T00:00:00",
          "1999-01-01T00:00:00",
          "2000-01-01T00:00:00",
          "2001-01-01T00:00:00",
          "2002-01-01T00:00:00",
          "2003-01-01T00:00:00",
          "2004-01-01T00:00:00",
          "2005-01-01T00:00:00",
          "2006-01-01T00:00:00",
          "2007-01-01T00:00:00",
          "2008-01-01T00:00:00",
          "2009-01-01T00:00:00",
          "2010-01-01T00:00:00",
          "2011-01-01T00:00:00",
          "2012-01-01T00:00:00",
          "2013-01-01T00:00:00",
          "2014-01-01T00:00:00",
          "2015-01-01T00:00:00",
          "2016-01-01T00:00:00",
          "2017-01-01T00:00:00",
          "2018-01-01T00:00:00",
          "2019-01-01T00:00:00",
          "2020-01-01T00:00:00",
          "2021-01-01T00:00:00",
          "2022-01-01T00:00:00",
          "2023-01-01T00:00:00"
         ],
         "y": [
          49167258,
          50496628,
          51863781,
          53268395,
          54708616,
          56181974,
          57681620,
          59234738,
          60823810,
          62384353,
          63815252,
          64724191,
          65751870,
          67416826,
          68988021,
          70196597,
          71310000,
          72346101,
          73295230,
          74161108,
          74945112,
          76034311,
          77767419,
          79479965,
          81127733,
          82713416,
          84221724,
          85652029,
          86996141,
          88280246,
          89517961,
          90737254,
          92054445,
          93364729,
          94676386,
          96004672,
          97312588,
          98657366,
          100045108,
          101456352,
          102805303,
          103841082,
          104539242,
          105123000,
          105585204,
          105918931,
          106119441,
          106201546,
          106174559,
          106050642,
          105838214,
          105632263,
          105458524,
          105249081,
          104991390,
          104701998,
          104394282,
          104029438,
          103621320,
          103227327,
          102810427,
          102362437,
          102120461,
          102069155
         ]
        },
        {
         "line": {
          "color": "red",
          "dash": "solid"
         },
         "mode": "lines+markers",
         "name": "Urban",
         "type": "scatter",
         "x": [
          "1960-01-01T00:00:00",
          "1961-01-01T00:00:00",
          "1962-01-01T00:00:00",
          "1963-01-01T00:00:00",
          "1964-01-01T00:00:00",
          "1965-01-01T00:00:00",
          "1966-01-01T00:00:00",
          "1967-01-01T00:00:00",
          "1968-01-01T00:00:00",
          "1969-01-01T00:00:00",
          "1970-01-01T00:00:00",
          "1971-01-01T00:00:00",
          "1972-01-01T00:00:00",
          "1973-01-01T00:00:00",
          "1974-01-01T00:00:00",
          "1975-01-01T00:00:00",
          "1976-01-01T00:00:00",
          "1977-01-01T00:00:00",
          "1978-01-01T00:00:00",
          "1979-01-01T00:00:00",
          "1980-01-01T00:00:00",
          "1981-01-01T00:00:00",
          "1982-01-01T00:00:00",
          "1983-01-01T00:00:00",
          "1984-01-01T00:00:00",
          "1985-01-01T00:00:00",
          "1986-01-01T00:00:00",
          "1987-01-01T00:00:00",
          "1988-01-01T00:00:00",
          "1989-01-01T00:00:00",
          "1990-01-01T00:00:00",
          "1991-01-01T00:00:00",
          "1992-01-01T00:00:00",
          "1993-01-01T00:00:00",
          "1994-01-01T00:00:00",
          "1995-01-01T00:00:00",
          "1996-01-01T00:00:00",
          "1997-01-01T00:00:00",
          "1998-01-01T00:00:00",
          "1999-01-01T00:00:00",
          "2000-01-01T00:00:00",
          "2001-01-01T00:00:00",
          "2002-01-01T00:00:00",
          "2003-01-01T00:00:00",
          "2004-01-01T00:00:00",
          "2005-01-01T00:00:00",
          "2006-01-01T00:00:00",
          "2007-01-01T00:00:00",
          "2008-01-01T00:00:00",
          "2009-01-01T00:00:00",
          "2010-01-01T00:00:00",
          "2011-01-01T00:00:00",
          "2012-01-01T00:00:00",
          "2013-01-01T00:00:00",
          "2014-01-01T00:00:00",
          "2015-01-01T00:00:00",
          "2016-01-01T00:00:00",
          "2017-01-01T00:00:00",
          "2018-01-01T00:00:00",
          "2019-01-01T00:00:00",
          "2020-01-01T00:00:00",
          "2021-01-01T00:00:00",
          "2022-01-01T00:00:00",
          "2023-01-01T00:00:00"
         ],
         "y": [
          2661402,
          2813720,
          3017365,
          3236007,
          3469758,
          3720545,
          3988186,
          4276191,
          4584466,
          4909780,
          5243642,
          5552567,
          5889649,
          6305468,
          6851327,
          7657754,
          8545318,
          9521163,
          10594425,
          11773964,
          13071320,
          14268794,
          15047088,
          15855190,
          16687233,
          17540409,
          18413848,
          19307262,
          20219867,
          21153553,
          22115756,
          23049855,
          23897747,
          24767631,
          25666793,
          26595698,
          27549591,
          28540703,
          29577224,
          30651713,
          31739001,
          32964728,
          34394416,
          35847351,
          37317652,
          38796855,
          40286532,
          41787732,
          43299705,
          44823072,
          46363767,
          47958813,
          49611577,
          51283060,
          52973539,
          54681181,
          56417650,
          58156709,
          59901783,
          61685728,
          63487597,
          65296417,
          67264436,
          69397835
         ]
        }
       ],
       "layout": {
        "template": {
         "data": {
          "bar": [
           {
            "error_x": {
             "color": "#2a3f5f"
            },
            "error_y": {
             "color": "#2a3f5f"
            },
            "marker": {
             "line": {
              "color": "#E5ECF6",
              "width": 0.5
             },
             "pattern": {
              "fillmode": "overlay",
              "size": 10,
              "solidity": 0.2
             }
            },
            "type": "bar"
           }
          ],
          "barpolar": [
           {
            "marker": {
             "line": {
              "color": "#E5ECF6",
              "width": 0.5
             },
             "pattern": {
              "fillmode": "overlay",
              "size": 10,
              "solidity": 0.2
             }
            },
            "type": "barpolar"
           }
          ],
          "carpet": [
           {
            "aaxis": {
             "endlinecolor": "#2a3f5f",
             "gridcolor": "white",
             "linecolor": "white",
             "minorgridcolor": "white",
             "startlinecolor": "#2a3f5f"
            },
            "baxis": {
             "endlinecolor": "#2a3f5f",
             "gridcolor": "white",
             "linecolor": "white",
             "minorgridcolor": "white",
             "startlinecolor": "#2a3f5f"
            },
            "type": "carpet"
           }
          ],
          "choropleth": [
           {
            "colorbar": {
             "outlinewidth": 0,
             "ticks": ""
            },
            "type": "choropleth"
           }
          ],
          "contour": [
           {
            "colorbar": {
             "outlinewidth": 0,
             "ticks": ""
            },
            "colorscale": [
             [
              0,
              "#0d0887"
             ],
             [
              0.1111111111111111,
              "#46039f"
             ],
             [
              0.2222222222222222,
              "#7201a8"
             ],
             [
              0.3333333333333333,
              "#9c179e"
             ],
             [
              0.4444444444444444,
              "#bd3786"
             ],
             [
              0.5555555555555556,
              "#d8576b"
             ],
             [
              0.6666666666666666,
              "#ed7953"
             ],
             [
              0.7777777777777778,
              "#fb9f3a"
             ],
             [
              0.8888888888888888,
              "#fdca26"
             ],
             [
              1,
              "#f0f921"
             ]
            ],
            "type": "contour"
           }
          ],
          "contourcarpet": [
           {
            "colorbar": {
             "outlinewidth": 0,
             "ticks": ""
            },
            "type": "contourcarpet"
           }
          ],
          "heatmap": [
           {
            "colorbar": {
             "outlinewidth": 0,
             "ticks": ""
            },
            "colorscale": [
             [
              0,
              "#0d0887"
             ],
             [
              0.1111111111111111,
              "#46039f"
             ],
             [
              0.2222222222222222,
              "#7201a8"
             ],
             [
              0.3333333333333333,
              "#9c179e"
             ],
             [
              0.4444444444444444,
              "#bd3786"
             ],
             [
              0.5555555555555556,
              "#d8576b"
             ],
             [
              0.6666666666666666,
              "#ed7953"
             ],
             [
              0.7777777777777778,
              "#fb9f3a"
             ],
             [
              0.8888888888888888,
              "#fdca26"
             ],
             [
              1,
              "#f0f921"
             ]
            ],
            "type": "heatmap"
           }
          ],
          "heatmapgl": [
           {
            "colorbar": {
             "outlinewidth": 0,
             "ticks": ""
            },
            "colorscale": [
             [
              0,
              "#0d0887"
             ],
             [
              0.1111111111111111,
              "#46039f"
             ],
             [
              0.2222222222222222,
              "#7201a8"
             ],
             [
              0.3333333333333333,
              "#9c179e"
             ],
             [
              0.4444444444444444,
              "#bd3786"
             ],
             [
              0.5555555555555556,
              "#d8576b"
             ],
             [
              0.6666666666666666,
              "#ed7953"
             ],
             [
              0.7777777777777778,
              "#fb9f3a"
             ],
             [
              0.8888888888888888,
              "#fdca26"
             ],
             [
              1,
              "#f0f921"
             ]
            ],
            "type": "heatmapgl"
           }
          ],
          "histogram": [
           {
            "marker": {
             "pattern": {
              "fillmode": "overlay",
              "size": 10,
              "solidity": 0.2
             }
            },
            "type": "histogram"
           }
          ],
          "histogram2d": [
           {
            "colorbar": {
             "outlinewidth": 0,
             "ticks": ""
            },
            "colorscale": [
             [
              0,
              "#0d0887"
             ],
             [
              0.1111111111111111,
              "#46039f"
             ],
             [
              0.2222222222222222,
              "#7201a8"
             ],
             [
              0.3333333333333333,
              "#9c179e"
             ],
             [
              0.4444444444444444,
              "#bd3786"
             ],
             [
              0.5555555555555556,
              "#d8576b"
             ],
             [
              0.6666666666666666,
              "#ed7953"
             ],
             [
              0.7777777777777778,
              "#fb9f3a"
             ],
             [
              0.8888888888888888,
              "#fdca26"
             ],
             [
              1,
              "#f0f921"
             ]
            ],
            "type": "histogram2d"
           }
          ],
          "histogram2dcontour": [
           {
            "colorbar": {
             "outlinewidth": 0,
             "ticks": ""
            },
            "colorscale": [
             [
              0,
              "#0d0887"
             ],
             [
              0.1111111111111111,
              "#46039f"
             ],
             [
              0.2222222222222222,
              "#7201a8"
             ],
             [
              0.3333333333333333,
              "#9c179e"
             ],
             [
              0.4444444444444444,
              "#bd3786"
             ],
             [
              0.5555555555555556,
              "#d8576b"
             ],
             [
              0.6666666666666666,
              "#ed7953"
             ],
             [
              0.7777777777777778,
              "#fb9f3a"
             ],
             [
              0.8888888888888888,
              "#fdca26"
             ],
             [
              1,
              "#f0f921"
             ]
            ],
            "type": "histogram2dcontour"
           }
          ],
          "mesh3d": [
           {
            "colorbar": {
             "outlinewidth": 0,
             "ticks": ""
            },
            "type": "mesh3d"
           }
          ],
          "parcoords": [
           {
            "line": {
             "colorbar": {
              "outlinewidth": 0,
              "ticks": ""
             }
            },
            "type": "parcoords"
           }
          ],
          "pie": [
           {
            "automargin": true,
            "type": "pie"
           }
          ],
          "scatter": [
           {
            "fillpattern": {
             "fillmode": "overlay",
             "size": 10,
             "solidity": 0.2
            },
            "type": "scatter"
           }
          ],
          "scatter3d": [
           {
            "line": {
             "colorbar": {
              "outlinewidth": 0,
              "ticks": ""
             }
            },
            "marker": {
             "colorbar": {
              "outlinewidth": 0,
              "ticks": ""
             }
            },
            "type": "scatter3d"
           }
          ],
          "scattercarpet": [
           {
            "marker": {
             "colorbar": {
              "outlinewidth": 0,
              "ticks": ""
             }
            },
            "type": "scattercarpet"
           }
          ],
          "scattergeo": [
           {
            "marker": {
             "colorbar": {
              "outlinewidth": 0,
              "ticks": ""
             }
            },
            "type": "scattergeo"
           }
          ],
          "scattergl": [
           {
            "marker": {
             "colorbar": {
              "outlinewidth": 0,
              "ticks": ""
             }
            },
            "type": "scattergl"
           }
          ],
          "scattermapbox": [
           {
            "marker": {
             "colorbar": {
              "outlinewidth": 0,
              "ticks": ""
             }
            },
            "type": "scattermapbox"
           }
          ],
          "scatterpolar": [
           {
            "marker": {
             "colorbar": {
              "outlinewidth": 0,
              "ticks": ""
             }
            },
            "type": "scatterpolar"
           }
          ],
          "scatterpolargl": [
           {
            "marker": {
             "colorbar": {
              "outlinewidth": 0,
              "ticks": ""
             }
            },
            "type": "scatterpolargl"
           }
          ],
          "scatterternary": [
           {
            "marker": {
             "colorbar": {
              "outlinewidth": 0,
              "ticks": ""
             }
            },
            "type": "scatterternary"
           }
          ],
          "surface": [
           {
            "colorbar": {
             "outlinewidth": 0,
             "ticks": ""
            },
            "colorscale": [
             [
              0,
              "#0d0887"
             ],
             [
              0.1111111111111111,
              "#46039f"
             ],
             [
              0.2222222222222222,
              "#7201a8"
             ],
             [
              0.3333333333333333,
              "#9c179e"
             ],
             [
              0.4444444444444444,
              "#bd3786"
             ],
             [
              0.5555555555555556,
              "#d8576b"
             ],
             [
              0.6666666666666666,
              "#ed7953"
             ],
             [
              0.7777777777777778,
              "#fb9f3a"
             ],
             [
              0.8888888888888888,
              "#fdca26"
             ],
             [
              1,
              "#f0f921"
             ]
            ],
            "type": "surface"
           }
          ],
          "table": [
           {
            "cells": {
             "fill": {
              "color": "#EBF0F8"
             },
             "line": {
              "color": "white"
             }
            },
            "header": {
             "fill": {
              "color": "#C8D4E3"
             },
             "line": {
              "color": "white"
             }
            },
            "type": "table"
           }
          ]
         },
         "layout": {
          "annotationdefaults": {
           "arrowcolor": "#2a3f5f",
           "arrowhead": 0,
           "arrowwidth": 1
          },
          "autotypenumbers": "strict",
          "coloraxis": {
           "colorbar": {
            "outlinewidth": 0,
            "ticks": ""
           }
          },
          "colorscale": {
           "diverging": [
            [
             0,
             "#8e0152"
            ],
            [
             0.1,
             "#c51b7d"
            ],
            [
             0.2,
             "#de77ae"
            ],
            [
             0.3,
             "#f1b6da"
            ],
            [
             0.4,
             "#fde0ef"
            ],
            [
             0.5,
             "#f7f7f7"
            ],
            [
             0.6,
             "#e6f5d0"
            ],
            [
             0.7,
             "#b8e186"
            ],
            [
             0.8,
             "#7fbc41"
            ],
            [
             0.9,
             "#4d9221"
            ],
            [
             1,
             "#276419"
            ]
           ],
           "sequential": [
            [
             0,
             "#0d0887"
            ],
            [
             0.1111111111111111,
             "#46039f"
            ],
            [
             0.2222222222222222,
             "#7201a8"
            ],
            [
             0.3333333333333333,
             "#9c179e"
            ],
            [
             0.4444444444444444,
             "#bd3786"
            ],
            [
             0.5555555555555556,
             "#d8576b"
            ],
            [
             0.6666666666666666,
             "#ed7953"
            ],
            [
             0.7777777777777778,
             "#fb9f3a"
            ],
            [
             0.8888888888888888,
             "#fdca26"
            ],
            [
             1,
             "#f0f921"
            ]
           ],
           "sequentialminus": [
            [
             0,
             "#0d0887"
            ],
            [
             0.1111111111111111,
             "#46039f"
            ],
            [
             0.2222222222222222,
             "#7201a8"
            ],
            [
             0.3333333333333333,
             "#9c179e"
            ],
            [
             0.4444444444444444,
             "#bd3786"
            ],
            [
             0.5555555555555556,
             "#d8576b"
            ],
            [
             0.6666666666666666,
             "#ed7953"
            ],
            [
             0.7777777777777778,
             "#fb9f3a"
            ],
            [
             0.8888888888888888,
             "#fdca26"
            ],
            [
             1,
             "#f0f921"
            ]
           ]
          },
          "colorway": [
           "#636efa",
           "#EF553B",
           "#00cc96",
           "#ab63fa",
           "#FFA15A",
           "#19d3f3",
           "#FF6692",
           "#B6E880",
           "#FF97FF",
           "#FECB52"
          ],
          "font": {
           "color": "#2a3f5f"
          },
          "geo": {
           "bgcolor": "white",
           "lakecolor": "white",
           "landcolor": "#E5ECF6",
           "showlakes": true,
           "showland": true,
           "subunitcolor": "white"
          },
          "hoverlabel": {
           "align": "left"
          },
          "hovermode": "closest",
          "mapbox": {
           "style": "light"
          },
          "paper_bgcolor": "white",
          "plot_bgcolor": "#E5ECF6",
          "polar": {
           "angularaxis": {
            "gridcolor": "white",
            "linecolor": "white",
            "ticks": ""
           },
           "bgcolor": "#E5ECF6",
           "radialaxis": {
            "gridcolor": "white",
            "linecolor": "white",
            "ticks": ""
           }
          },
          "scene": {
           "xaxis": {
            "backgroundcolor": "#E5ECF6",
            "gridcolor": "white",
            "gridwidth": 2,
            "linecolor": "white",
            "showbackground": true,
            "ticks": "",
            "zerolinecolor": "white"
           },
           "yaxis": {
            "backgroundcolor": "#E5ECF6",
            "gridcolor": "white",
            "gridwidth": 2,
            "linecolor": "white",
            "showbackground": true,
            "ticks": "",
            "zerolinecolor": "white"
           },
           "zaxis": {
            "backgroundcolor": "#E5ECF6",
            "gridcolor": "white",
            "gridwidth": 2,
            "linecolor": "white",
            "showbackground": true,
            "ticks": "",
            "zerolinecolor": "white"
           }
          },
          "shapedefaults": {
           "line": {
            "color": "#2a3f5f"
           }
          },
          "ternary": {
           "aaxis": {
            "gridcolor": "white",
            "linecolor": "white",
            "ticks": ""
           },
           "baxis": {
            "gridcolor": "white",
            "linecolor": "white",
            "ticks": ""
           },
           "bgcolor": "#E5ECF6",
           "caxis": {
            "gridcolor": "white",
            "linecolor": "white",
            "ticks": ""
           }
          },
          "title": {
           "x": 0.05
          },
          "xaxis": {
           "automargin": true,
           "gridcolor": "white",
           "linecolor": "white",
           "ticks": "",
           "title": {
            "standoff": 15
           },
           "zerolinecolor": "white",
           "zerolinewidth": 2
          },
          "yaxis": {
           "automargin": true,
           "gridcolor": "white",
           "linecolor": "white",
           "ticks": "",
           "title": {
            "standoff": 15
           },
           "zerolinecolor": "white",
           "zerolinewidth": 2
          }
         }
        },
        "title": {
         "text": "Total Rural and Urban Population Over Time (Bangladesh)"
        },
        "xaxis": {
         "title": {
          "text": "Year"
         }
        },
        "yaxis": {
         "title": {
          "text": "Population"
         }
        }
       }
      },
      "image/png": "[encoded data removed]",
      "text/html": [
       "<div>                            <div id=\"d3341bd1-d8fa-4733-95d3-5232389f1f31\" class=\"plotly-graph-div\" style=\"height:525px; width:100%;\"></div>            <script type=\"text/javascript\">                require([\"plotly\"], function(Plotly) {                    window.PLOTLYENV=window.PLOTLYENV || {};                                    if (document.getElementById(\"d3341bd1-d8fa-4733-95d3-5232389f1f31\")) {                    Plotly.newPlot(                        \"d3341bd1-d8fa-4733-95d3-5232389f1f31\",                        [{\"line\":{\"color\":\"blue\",\"dash\":\"dash\"},\"mode\":\"lines+markers\",\"name\":\"Rural\",\"x\":[\"1960-01-01T00:00:00\",\"1961-01-01T00:00:00\",\"1962-01-01T00:00:00\",\"1963-01-01T00:00:00\",\"1964-01-01T00:00:00\",\"1965-01-01T00:00:00\",\"1966-01-01T00:00:00\",\"1967-01-01T00:00:00\",\"1968-01-01T00:00:00\",\"1969-01-01T00:00:00\",\"1970-01-01T00:00:00\",\"1971-01-01T00:00:00\",\"1972-01-01T00:00:00\",\"1973-01-01T00:00:00\",\"1974-01-01T00:00:00\",\"1975-01-01T00:00:00\",\"1976-01-01T00:00:00\",\"1977-01-01T00:00:00\",\"1978-01-01T00:00:00\",\"1979-01-01T00:00:00\",\"1980-01-01T00:00:00\",\"1981-01-01T00:00:00\",\"1982-01-01T00:00:00\",\"1983-01-01T00:00:00\",\"1984-01-01T00:00:00\",\"1985-01-01T00:00:00\",\"1986-01-01T00:00:00\",\"1987-01-01T00:00:00\",\"1988-01-01T00:00:00\",\"1989-01-01T00:00:00\",\"1990-01-01T00:00:00\",\"1991-01-01T00:00:00\",\"1992-01-01T00:00:00\",\"1993-01-01T00:00:00\",\"1994-01-01T00:00:00\",\"1995-01-01T00:00:00\",\"1996-01-01T00:00:00\",\"1997-01-01T00:00:00\",\"1998-01-01T00:00:00\",\"1999-01-01T00:00:00\",\"2000-01-01T00:00:00\",\"2001-01-01T00:00:00\",\"2002-01-01T00:00:00\",\"2003-01-01T00:00:00\",\"2004-01-01T00:00:00\",\"2005-01-01T00:00:00\",\"2006-01-01T00:00:00\",\"2007-01-01T00:00:00\",\"2008-01-01T00:00:00\",\"2009-01-01T00:00:00\",\"2010-01-01T00:00:00\",\"2011-01-01T00:00:00\",\"2012-01-01T00:00:00\",\"2013-01-01T00:00:00\",\"2014-01-01T00:00:00\",\"2015-01-01T00:00:00\",\"2016-01-01T00:00:00\",\"2017-01-01T00:00:00\",\"2018-01-01T00:00:00\",\"2019-01-01T00:00:00\",\"2020-01-01T00:00:00\",\"2021-01-01T00:00:00\",\"2022-01-01T00:00:00\",\"2023-01-01T00:00:00\"],\"y\":[49167258.0,50496628.0,51863781.0,53268395.0,54708616.0,56181974.0,57681620.0,59234738.0,60823810.0,62384353.0,63815252.0,64724191.0,65751870.0,67416826.0,68988021.0,70196597.0,71310000.0,72346101.0,73295230.0,74161108.0,74945112.0,76034311.0,77767419.0,79479965.0,81127733.0,82713416.0,84221724.0,85652029.0,86996141.0,88280246.0,89517961.0,90737254.0,92054445.0,93364729.0,94676386.0,96004672.0,97312588.0,98657366.0,100045108.0,101456352.0,102805303.0,103841082.0,104539242.0,105123000.0,105585204.0,105918931.0,106119441.0,106201546.0,106174559.0,106050642.0,105838214.0,105632263.0,105458524.0,105249081.0,104991390.0,104701998.0,104394282.0,104029438.0,103621320.0,103227327.0,102810427.0,102362437.0,102120461.0,102069155.0],\"type\":\"scatter\"},{\"line\":{\"color\":\"red\",\"dash\":\"solid\"},\"mode\":\"lines+markers\",\"name\":\"Urban\",\"x\":[\"1960-01-01T00:00:00\",\"1961-01-01T00:00:00\",\"1962-01-01T00:00:00\",\"1963-01-01T00:00:00\",\"1964-01-01T00:00:00\",\"1965-01-01T00:00:00\",\"1966-01-01T00:00:00\",\"1967-01-01T00:00:00\",\"1968-01-01T00:00:00\",\"1969-01-01T00:00:00\",\"1970-01-01T00:00:00\",\"1971-01-01T00:00:00\",\"1972-01-01T00:00:00\",\"1973-01-01T00:00:00\",\"1974-01-01T00:00:00\",\"1975-01-01T00:00:00\",\"1976-01-01T00:00:00\",\"1977-01-01T00:00:00\",\"1978-01-01T00:00:00\",\"1979-01-01T00:00:00\",\"1980-01-01T00:00:00\",\"1981-01-01T00:00:00\",\"1982-01-01T00:00:00\",\"1983-01-01T00:00:00\",\"1984-01-01T00:00:00\",\"1985-01-01T00:00:00\",\"1986-01-01T00:00:00\",\"1987-01-01T00:00:00\",\"1988-01-01T00:00:00\",\"1989-01-01T00:00:00\",\"1990-01-01T00:00:00\",\"1991-01-01T00:00:00\",\"1992-01-01T00:00:00\",\"1993-01-01T00:00:00\",\"1994-01-01T00:00:00\",\"1995-01-01T00:00:00\",\"1996-01-01T00:00:00\",\"1997-01-01T00:00:00\",\"1998-01-01T00:00:00\",\"1999-01-01T00:00:00\",\"2000-01-01T00:00:00\",\"2001-01-01T00:00:00\",\"2002-01-01T00:00:00\",\"2003-01-01T00:00:00\",\"2004-01-01T00:00:00\",\"2005-01-01T00:00:00\",\"2006-01-01T00:00:00\",\"2007-01-01T00:00:00\",\"2008-01-01T00:00:00\",\"2009-01-01T00:00:00\",\"2010-01-01T00:00:00\",\"2011-01-01T00:00:00\",\"2012-01-01T00:00:00\",\"2013-01-01T00:00:00\",\"2014-01-01T00:00:00\",\"2015-01-01T00:00:00\",\"2016-01-01T00:00:00\",\"2017-01-01T00:00:00\",\"2018-01-01T00:00:00\",\"2019-01-01T00:00:00\",\"2020-01-01T00:00:00\",\"2021-01-01T00:00:00\",\"2022-01-01T00:00:00\",\"2023-01-01T00:00:00\"],\"y\":[2661402.0,2813720.0,3017365.0,3236007.0,3469758.0,3720545.0,3988186.0,4276191.0,4584466.0,4909780.0,5243642.0,5552567.0,5889649.0,6305468.0,6851327.0,7657754.0,8545318.0,9521163.0,10594425.0,11773964.0,13071320.0,14268794.0,15047088.0,15855190.0,16687233.0,17540409.0,18413848.0,19307262.0,20219867.0,21153553.0,22115756.0,23049855.0,23897747.0,24767631.0,25666793.0,26595698.0,27549591.0,28540703.0,29577224.0,30651713.0,31739001.0,32964728.0,34394416.0,35847351.0,37317652.0,38796855.0,40286532.0,41787732.0,43299705.0,44823072.0,46363767.0,47958813.0,49611577.0,51283060.0,52973539.0,54681181.0,56417650.0,58156709.0,59901783.0,61685728.0,63487597.0,65296417.0,67264436.0,69397835.0],\"type\":\"scatter\"}],                        {\"template\":{\"data\":{\"histogram2dcontour\":[{\"type\":\"histogram2dcontour\",\"colorbar\":{\"outlinewidth\":0,\"ticks\":\"\"},\"colorscale\":[[0.0,\"#0d0887\"],[0.1111111111111111,\"#46039f\"],[0.2222222222222222,\"#7201a8\"],[0.3333333333333333,\"#9c179e\"],[0.4444444444444444,\"#bd3786\"],[0.5555555555555556,\"#d8576b\"],[0.6666666666666666,\"#ed7953\"],[0.7777777777777778,\"#fb9f3a\"],[0.8888888888888888,\"#fdca26\"],[1.0,\"#f0f921\"]]}],\"choropleth\":[{\"type\":\"choropleth\",\"colorbar\":{\"outlinewidth\":0,\"ticks\":\"\"}}],\"histogram2d\":[{\"type\":\"histogram2d\",\"colorbar\":{\"outlinewidth\":0,\"ticks\":\"\"},\"colorscale\":[[0.0,\"#0d0887\"],[0.1111111111111111,\"#46039f\"],[0.2222222222222222,\"#7201a8\"],[0.3333333333333333,\"#9c179e\"],[0.4444444444444444,\"#bd3786\"],[0.5555555555555556,\"#d8576b\"],[0.6666666666666666,\"#ed7953\"],[0.7777777777777778,\"#fb9f3a\"],[0.8888888888888888,\"#fdca26\"],[1.0,\"#f0f921\"]]}],\"heatmap\":[{\"type\":\"heatmap\",\"colorbar\":{\"outlinewidth\":0,\"ticks\":\"\"},\"colorscale\":[[0.0,\"#0d0887\"],[0.1111111111111111,\"#46039f\"],[0.2222222222222222,\"#7201a8\"],[0.3333333333333333,\"#9c179e\"],[0.4444444444444444,\"#bd3786\"],[0.5555555555555556,\"#d8576b\"],[0.6666666666666666,\"#ed7953\"],[0.7777777777777778,\"#fb9f3a\"],[0.8888888888888888,\"#fdca26\"],[1.0,\"#f0f921\"]]}],\"heatmapgl\":[{\"type\":\"heatmapgl\",\"colorbar\":{\"outlinewidth\":0,\"ticks\":\"\"},\"colorscale\":[[0.0,\"#0d0887\"],[0.1111111111111111,\"#46039f\"],[0.2222222222222222,\"#7201a8\"],[0.3333333333333333,\"#9c179e\"],[0.4444444444444444,\"#bd3786\"],[0.5555555555555556,\"#d8576b\"],[0.6666666666666666,\"#ed7953\"],[0.7777777777777778,\"#fb9f3a\"],[0.8888888888888888,\"#fdca26\"],[1.0,\"#f0f921\"]]}],\"contourcarpet\":[{\"type\":\"contourcarpet\",\"colorbar\":{\"outlinewidth\":0,\"ticks\":\"\"}}],\"contour\":[{\"type\":\"contour\",\"colorbar\":{\"outlinewidth\":0,\"ticks\":\"\"},\"colorscale\":[[0.0,\"#0d0887\"],[0.1111111111111111,\"#46039f\"],[0.2222222222222222,\"#7201a8\"],[0.3333333333333333,\"#9c179e\"],[0.4444444444444444,\"#bd3786\"],[0.5555555555555556,\"#d8576b\"],[0.6666666666666666,\"#ed7953\"],[0.7777777777777778,\"#fb9f3a\"],[0.8888888888888888,\"#fdca26\"],[1.0,\"#f0f921\"]]}],\"surface\":[{\"type\":\"surface\",\"colorbar\":{\"outlinewidth\":0,\"ticks\":\"\"},\"colorscale\":[[0.0,\"#0d0887\"],[0.1111111111111111,\"#46039f\"],[0.2222222222222222,\"#7201a8\"],[0.3333333333333333,\"#9c179e\"],[0.4444444444444444,\"#bd3786\"],[0.5555555555555556,\"#d8576b\"],[0.6666666666666666,\"#ed7953\"],[0.7777777777777778,\"#fb9f3a\"],[0.8888888888888888,\"#fdca26\"],[1.0,\"#f0f921\"]]}],\"mesh3d\":[{\"type\":\"mesh3d\",\"colorbar\":{\"outlinewidth\":0,\"ticks\":\"\"}}],\"scatter\":[{\"fillpattern\":{\"fillmode\":\"overlay\",\"size\":10,\"solidity\":0.2},\"type\":\"scatter\"}],\"parcoords\":[{\"type\":\"parcoords\",\"line\":{\"colorbar\":{\"outlinewidth\":0,\"ticks\":\"\"}}}],\"scatterpolargl\":[{\"type\":\"scatterpolargl\",\"marker\":{\"colorbar\":{\"outlinewidth\":0,\"ticks\":\"\"}}}],\"bar\":[{\"error_x\":{\"color\":\"#2a3f5f\"},\"error_y\":{\"color\":\"#2a3f5f\"},\"marker\":{\"line\":{\"color\":\"#E5ECF6\",\"width\":0.5},\"pattern\":{\"fillmode\":\"overlay\",\"size\":10,\"solidity\":0.2}},\"type\":\"bar\"}],\"scattergeo\":[{\"type\":\"scattergeo\",\"marker\":{\"colorbar\":{\"outlinewidth\":0,\"ticks\":\"\"}}}],\"scatterpolar\":[{\"type\":\"scatterpolar\",\"marker\":{\"colorbar\":{\"outlinewidth\":0,\"ticks\":\"\"}}}],\"histogram\":[{\"marker\":{\"pattern\":{\"fillmode\":\"overlay\",\"size\":10,\"solidity\":0.2}},\"type\":\"histogram\"}],\"scattergl\":[{\"type\":\"scattergl\",\"marker\":{\"colorbar\":{\"outlinewidth\":0,\"ticks\":\"\"}}}],\"scatter3d\":[{\"type\":\"scatter3d\",\"line\":{\"colorbar\":{\"outlinewidth\":0,\"ticks\":\"\"}},\"marker\":{\"colorbar\":{\"outlinewidth\":0,\"ticks\":\"\"}}}],\"scattermapbox\":[{\"type\":\"scattermapbox\",\"marker\":{\"colorbar\":{\"outlinewidth\":0,\"ticks\":\"\"}}}],\"scatterternary\":[{\"type\":\"scatterternary\",\"marker\":{\"colorbar\":{\"outlinewidth\":0,\"ticks\":\"\"}}}],\"scattercarpet\":[{\"type\":\"scattercarpet\",\"marker\":{\"colorbar\":{\"outlinewidth\":0,\"ticks\":\"\"}}}],\"carpet\":[{\"aaxis\":{\"endlinecolor\":\"#2a3f5f\",\"gridcolor\":\"white\",\"linecolor\":\"white\",\"minorgridcolor\":\"white\",\"startlinecolor\":\"#2a3f5f\"},\"baxis\":{\"endlinecolor\":\"#2a3f5f\",\"gridcolor\":\"white\",\"linecolor\":\"white\",\"minorgridcolor\":\"white\",\"startlinecolor\":\"#2a3f5f\"},\"type\":\"carpet\"}],\"table\":[{\"cells\":{\"fill\":{\"color\":\"#EBF0F8\"},\"line\":{\"color\":\"white\"}},\"header\":{\"fill\":{\"color\":\"#C8D4E3\"},\"line\":{\"color\":\"white\"}},\"type\":\"table\"}],\"barpolar\":[{\"marker\":{\"line\":{\"color\":\"#E5ECF6\",\"width\":0.5},\"pattern\":{\"fillmode\":\"overlay\",\"size\":10,\"solidity\":0.2}},\"type\":\"barpolar\"}],\"pie\":[{\"automargin\":true,\"type\":\"pie\"}]},\"layout\":{\"autotypenumbers\":\"strict\",\"colorway\":[\"#636efa\",\"#EF553B\",\"#00cc96\",\"#ab63fa\",\"#FFA15A\",\"#19d3f3\",\"#FF6692\",\"#B6E880\",\"#FF97FF\",\"#FECB52\"],\"font\":{\"color\":\"#2a3f5f\"},\"hovermode\":\"closest\",\"hoverlabel\":{\"align\":\"left\"},\"paper_bgcolor\":\"white\",\"plot_bgcolor\":\"#E5ECF6\",\"polar\":{\"bgcolor\":\"#E5ECF6\",\"angularaxis\":{\"gridcolor\":\"white\",\"linecolor\":\"white\",\"ticks\":\"\"},\"radialaxis\":{\"gridcolor\":\"white\",\"linecolor\":\"white\",\"ticks\":\"\"}},\"ternary\":{\"bgcolor\":\"#E5ECF6\",\"aaxis\":{\"gridcolor\":\"white\",\"linecolor\":\"white\",\"ticks\":\"\"},\"baxis\":{\"gridcolor\":\"white\",\"linecolor\":\"white\",\"ticks\":\"\"},\"caxis\":{\"gridcolor\":\"white\",\"linecolor\":\"white\",\"ticks\":\"\"}},\"coloraxis\":{\"colorbar\":{\"outlinewidth\":0,\"ticks\":\"\"}},\"colorscale\":{\"sequential\":[[0.0,\"#0d0887\"],[0.1111111111111111,\"#46039f\"],[0.2222222222222222,\"#7201a8\"],[0.3333333333333333,\"#9c179e\"],[0.4444444444444444,\"#bd3786\"],[0.5555555555555556,\"#d8576b\"],[0.6666666666666666,\"#ed7953\"],[0.7777777777777778,\"#fb9f3a\"],[0.8888888888888888,\"#fdca26\"],[1.0,\"#f0f921\"]],\"sequentialminus\":[[0.0,\"#0d0887\"],[0.1111111111111111,\"#46039f\"],[0.2222222222222222,\"#7201a8\"],[0.3333333333333333,\"#9c179e\"],[0.4444444444444444,\"#bd3786\"],[0.5555555555555556,\"#d8576b\"],[0.6666666666666666,\"#ed7953\"],[0.7777777777777778,\"#fb9f3a\"],[0.8888888888888888,\"#fdca26\"],[1.0,\"#f0f921\"]],\"diverging\":[[0,\"#8e0152\"],[0.1,\"#c51b7d\"],[0.2,\"#de77ae\"],[0.3,\"#f1b6da\"],[0.4,\"#fde0ef\"],[0.5,\"#f7f7f7\"],[0.6,\"#e6f5d0\"],[0.7,\"#b8e186\"],[0.8,\"#7fbc41\"],[0.9,\"#4d9221\"],[1,\"#276419\"]]},\"xaxis\":{\"gridcolor\":\"white\",\"linecolor\":\"white\",\"ticks\":\"\",\"title\":{\"standoff\":15},\"zerolinecolor\":\"white\",\"automargin\":true,\"zerolinewidth\":2},\"yaxis\":{\"gridcolor\":\"white\",\"linecolor\":\"white\",\"ticks\":\"\",\"title\":{\"standoff\":15},\"zerolinecolor\":\"white\",\"automargin\":true,\"zerolinewidth\":2},\"scene\":{\"xaxis\":{\"backgroundcolor\":\"#E5ECF6\",\"gridcolor\":\"white\",\"linecolor\":\"white\",\"showbackground\":true,\"ticks\":\"\",\"zerolinecolor\":\"white\",\"gridwidth\":2},\"yaxis\":{\"backgroundcolor\":\"#E5ECF6\",\"gridcolor\":\"white\",\"linecolor\":\"white\",\"showbackground\":true,\"ticks\":\"\",\"zerolinecolor\":\"white\",\"gridwidth\":2},\"zaxis\":{\"backgroundcolor\":\"#E5ECF6\",\"gridcolor\":\"white\",\"linecolor\":\"white\",\"showbackground\":true,\"ticks\":\"\",\"zerolinecolor\":\"white\",\"gridwidth\":2}},\"shapedefaults\":{\"line\":{\"color\":\"#2a3f5f\"}},\"annotationdefaults\":{\"arrowcolor\":\"#2a3f5f\",\"arrowhead\":0,\"arrowwidth\":1},\"geo\":{\"bgcolor\":\"white\",\"landcolor\":\"#E5ECF6\",\"subunitcolor\":\"white\",\"showland\":true,\"showlakes\":true,\"lakecolor\":\"white\"},\"title\":{\"x\":0.05},\"mapbox\":{\"style\":\"light\"}}},\"title\":{\"text\":\"Total Rural and Urban Population Over Time (Bangladesh)\"},\"xaxis\":{\"title\":{\"text\":\"Year\"}},\"yaxis\":{\"title\":{\"text\":\"Population\"}}},                        {\"responsive\": true}                    ).then(function(){\n",
       "                            \n",
       "var gd = document.getElementById('d3341bd1-d8fa-4733-95d3-5232389f1f31');\n",
       "var x = new MutationObserver(function (mutations, observer) {{\n",
       "        var display = window.getComputedStyle(gd).display;\n",
       "        if (!display || display === 'none') {{\n",
       "            console.log([gd, 'removed!']);\n",
       "            Plotly.purge(gd);\n",
       "            observer.disconnect();\n",
       "        }}\n",
       "}});\n",
       "\n",
       "// Listen for the removal of the full notebook cells\n",
       "var notebookContainer = gd.closest('#notebook-container');\n",
       "if (notebookContainer) {{\n",
       "    x.observe(notebookContainer, {childList: true});\n",
       "}}\n",
       "\n",
       "// Listen for the clearing of the current output cell\n",
       "var outputEl = gd.closest('.output');\n",
       "if (outputEl) {{\n",
       "    x.observe(outputEl, {childList: true});\n",
       "}}\n",
       "\n",
       "                        })                };                });            </script>        </div>"
      ]
     },
     "metadata": {},
     "output_type": "display_data"
    }
   ],
   "source": [
    "# Produce total rural versus urban populations over time for each country \n",
    "# Produce total rural versus urban populations over time for region as a whole\n",
    "\n",
    "def overlay_population(country_name, df):\n",
    "    \"\"\"\n",
    "    Function to overlay female and male population for a given country.\n",
    "\n",
    "    Parameters:\n",
    "    - country_name (str): The name of the country whose data will be plotted.\n",
    "    - df (pd.DataFrame): The DataFrame containing the population data with MultiIndex columns.\n",
    "\n",
    "    Returns:\n",
    "    - A Plotly figure with the overlayed female and male population data.\n",
    "    \"\"\"\n",
    "    \n",
    "    # Check if the country exists in the subcolumns\n",
    "    if country_name not in df.columns.get_level_values('country'):\n",
    "        print(f\"Country '{country_name}' not found in the dataset.\")\n",
    "        return\n",
    "    \n",
    "    # Extract the female and male population data for the country\n",
    "    rural = df[('Total Rural', country_name)]\n",
    "    urban = df[('Total Urban', country_name)]\n",
    "    \n",
    "    # Create a figure\n",
    "    fig = go.Figure()\n",
    "    \n",
    "    # Add the female population plot\n",
    "    fig.add_trace(go.Scatter(x=rural.index, y=rural, mode='lines+markers', name='Rural', line=dict(dash='dash', color='blue')))\n",
    "    \n",
    "    # Add the male population plot\n",
    "    fig.add_trace(go.Scatter(x=urban.index, y=urban, mode='lines+markers', name='Urban', line=dict(dash='solid', color='red')))\n",
    "    \n",
    "    # Add title and labels\n",
    "    fig.update_layout(title=f\"Total Rural and Urban Population Over Time ({country_name})\",\n",
    "                      xaxis_title=\"Year\",\n",
    "                      yaxis_title=\"Population\")\n",
    "    \n",
    "    # Show the plot\n",
    "    fig.show()\n",
    "\n",
    "overlay_population(\"Bangladesh\", SA_pop)"
   ]
  },
  {
   "cell_type": "code",
   "execution_count": 35,
   "id": "bb719c82-998e-474a-a0d1-3cd108c71494",
   "metadata": {},
   "outputs": [
    {
     "ename": "SyntaxError",
     "evalue": "positional argument follows keyword argument (2182444599.py, line 76)",
     "output_type": "error",
     "traceback": [
      "\u001b[0;36m  Cell \u001b[0;32mIn[35], line 76\u001b[0;36m\u001b[0m\n\u001b[0;31m    population_pyramid(countries = countries, '2022-01-01', 'BGD', '2022-01-01')\u001b[0m\n\u001b[0m                                                                               ^\u001b[0m\n\u001b[0;31mSyntaxError\u001b[0m\u001b[0;31m:\u001b[0m positional argument follows keyword argument\n"
     ]
    }
   ],
   "source": [
    "import plotly.offline as py\n",
    "import plotly.graph_objs as go\n",
    "import wbdata\n",
    "import pandas as pd\n",
    "\n",
    "# Initialize Plotly for offline plotting\n",
    "py.init_notebook_mode(connected=True)\n",
    "countries = {\"BGD\":\"Bangladesh\",\n",
    "             \"BTN\":\"Bhutan\",\n",
    "             \"IND\": \"India\",\n",
    "             \"MDV\": \"Maldives\",\n",
    "             \"NPL\": \"Nepal\",\n",
    "             \"PAK\": \"Pakistan\",\n",
    "             \"LKA\": \"Sri Lanka\",\n",
    "             \"TSA\":\"South Asia (IDA & IBRD)\"\n",
    "            }\n",
    "def population_pyramid(countries, year, selected_country, selected_year):\n",
    "    \"\"\"\n",
    "    Generates a population pyramid for the given country and year.\n",
    "    \n",
    "    Args:\n",
    "    countries (dict): Dictionary of countries and their corresponding codes.\n",
    "    year (str): The year for the population pyramid.\n",
    "    selected_country (str): The country code (e.g., 'BGD', 'IND').\n",
    "    selected_year (str): The year for the population pyramid.\n",
    "    \"\"\"\n",
    "    # Define the age ranges\n",
    "    age_ranges = []\n",
    "    for i in range(0, 80, 5):\n",
    "        age_ranges.append(f\"{i:02d}-{i+4:02d}\")\n",
    "    age_ranges.append(\"80UP\")\n",
    "\n",
    "    # Create dictionaries for male and female population variables\n",
    "    male_variables = {f\"SP.POP.{age_range}.MA\": f\"Males {age_range}\" for age_range in age_ranges}\n",
    "    female_variables = {f\"SP.POP.{age_range}.FE\": f\"Females {age_range}\" for age_range in age_ranges}\n",
    "    variables = male_variables\n",
    "    variables.update(female_variables)\n",
    "\n",
    "    # Get the population data from World Bank\n",
    "    pyramid = wbdata.get_dataframe(variables, country=countries, parse_dates=True)\n",
    "\n",
    "    # Set up the layout for the population pyramid chart\n",
    "    layout = go.Layout(\n",
    "        barmode='overlay',\n",
    "        yaxis=go.layout.YAxis(range=[0, 90], title='Age'),\n",
    "        xaxis=go.layout.XAxis(title='Number')\n",
    "    )\n",
    "\n",
    "    # Extract population data for the selected year\n",
    "    year_data = pyramid.loc[selected_year, :]\n",
    "\n",
    "    # Create the population pyramid plot\n",
    "    bins = [\n",
    "        go.Bar(\n",
    "            x=year_data.filter(regex=\"Male\").values,\n",
    "            y=[int(s.split('-')[0]) for s in age_ranges],\n",
    "            orientation='h',\n",
    "            name='Men',\n",
    "            marker=dict(color='purple'),\n",
    "            hoverinfo='skip'\n",
    "        ),\n",
    "        go.Bar(\n",
    "            x=-year_data.filter(regex=\"Female\").values,\n",
    "            y=[int(s.split('-')[0]) for s in age_ranges],\n",
    "            orientation='h',\n",
    "            name='Women',\n",
    "            marker=dict(color='pink'),\n",
    "            hoverinfo='skip'\n",
    "        )\n",
    "    ]\n",
    "\n",
    "    # Display the plot\n",
    "    py.iplot(dict(data=bins, layout=layout))\n",
    "\n",
    "# Example usage:\n",
    "population_pyramid(countries = countries, '2022-01-01', 'BGD', '2022-01-01')"
   ]
  },
  {
   "cell_type": "code",
   "execution_count": 33,
   "id": "61c60984-2d6f-4653-be30-80acee77252c",
   "metadata": {
    "collapsed": true,
    "jupyter": {
     "outputs_hidden": true
    }
   },
   "outputs": [
    {
     "data": {
      "text/html": [
       "        <script type=\"text/javascript\">\n",
       "        window.PlotlyConfig = {MathJaxConfig: 'local'};\n",
       "        if (window.MathJax && window.MathJax.Hub && window.MathJax.Hub.Config) {window.MathJax.Hub.Config({SVG: {font: \"STIX-Web\"}});}\n",
       "        if (typeof require !== 'undefined') {\n",
       "        require.undef(\"plotly\");\n",
       "        requirejs.config({\n",
       "            paths: {\n",
       "                'plotly': ['https://cdn.plot.ly/plotly-2.35.2.min']\n",
       "            }\n",
       "        });\n",
       "        require(['plotly'], function(Plotly) {\n",
       "            window._Plotly = Plotly;\n",
       "        });\n",
       "        }\n",
       "        </script>\n",
       "        "
      ]
     },
     "metadata": {},
     "output_type": "display_data"
    },
    {
     "ename": "KeyError",
     "evalue": "'2022-01-01'",
     "output_type": "error",
     "traceback": [
      "\u001b[0;31m---------------------------------------------------------------------------\u001b[0m",
      "\u001b[0;31mKeyError\u001b[0m                                  Traceback (most recent call last)",
      "File \u001b[0;32m/srv/conda/lib/python3.11/site-packages/pandas/core/indexes/base.py:3805\u001b[0m, in \u001b[0;36mIndex.get_loc\u001b[0;34m(self, key)\u001b[0m\n\u001b[1;32m   3804\u001b[0m \u001b[38;5;28;01mtry\u001b[39;00m:\n\u001b[0;32m-> 3805\u001b[0m     \u001b[38;5;28;01mreturn\u001b[39;00m \u001b[38;5;28;43mself\u001b[39;49m\u001b[38;5;241;43m.\u001b[39;49m\u001b[43m_engine\u001b[49m\u001b[38;5;241;43m.\u001b[39;49m\u001b[43mget_loc\u001b[49m\u001b[43m(\u001b[49m\u001b[43mcasted_key\u001b[49m\u001b[43m)\u001b[49m\n\u001b[1;32m   3806\u001b[0m \u001b[38;5;28;01mexcept\u001b[39;00m \u001b[38;5;167;01mKeyError\u001b[39;00m \u001b[38;5;28;01mas\u001b[39;00m err:\n",
      "File \u001b[0;32mindex.pyx:167\u001b[0m, in \u001b[0;36mpandas._libs.index.IndexEngine.get_loc\u001b[0;34m()\u001b[0m\n",
      "File \u001b[0;32mindex.pyx:196\u001b[0m, in \u001b[0;36mpandas._libs.index.IndexEngine.get_loc\u001b[0;34m()\u001b[0m\n",
      "File \u001b[0;32mpandas/_libs/hashtable_class_helper.pxi:7081\u001b[0m, in \u001b[0;36mpandas._libs.hashtable.PyObjectHashTable.get_item\u001b[0;34m()\u001b[0m\n",
      "File \u001b[0;32mpandas/_libs/hashtable_class_helper.pxi:7089\u001b[0m, in \u001b[0;36mpandas._libs.hashtable.PyObjectHashTable.get_item\u001b[0;34m()\u001b[0m\n",
      "\u001b[0;31mKeyError\u001b[0m: '2022-01-01'",
      "\nThe above exception was the direct cause of the following exception:\n",
      "\u001b[0;31mKeyError\u001b[0m                                  Traceback (most recent call last)",
      "Cell \u001b[0;32mIn[33], line 40\u001b[0m\n\u001b[1;32m     34\u001b[0m layout \u001b[38;5;241m=\u001b[39m go\u001b[38;5;241m.\u001b[39mLayout(barmode\u001b[38;5;241m=\u001b[39m\u001b[38;5;124m'\u001b[39m\u001b[38;5;124moverlay\u001b[39m\u001b[38;5;124m'\u001b[39m,\n\u001b[1;32m     35\u001b[0m                    yaxis\u001b[38;5;241m=\u001b[39mgo\u001b[38;5;241m.\u001b[39mlayout\u001b[38;5;241m.\u001b[39mYAxis(\u001b[38;5;28mrange\u001b[39m\u001b[38;5;241m=\u001b[39m[\u001b[38;5;241m0\u001b[39m, \u001b[38;5;241m90\u001b[39m], title\u001b[38;5;241m=\u001b[39m\u001b[38;5;124m'\u001b[39m\u001b[38;5;124mAge\u001b[39m\u001b[38;5;124m'\u001b[39m),\n\u001b[1;32m     36\u001b[0m                    xaxis\u001b[38;5;241m=\u001b[39mgo\u001b[38;5;241m.\u001b[39mlayout\u001b[38;5;241m.\u001b[39mXAxis(title\u001b[38;5;241m=\u001b[39m\u001b[38;5;124m'\u001b[39m\u001b[38;5;124mNumber\u001b[39m\u001b[38;5;124m'\u001b[39m))\n\u001b[1;32m     38\u001b[0m year \u001b[38;5;241m=\u001b[39m \u001b[38;5;124m'\u001b[39m\u001b[38;5;124m2022-01-01\u001b[39m\u001b[38;5;124m'\u001b[39m\n\u001b[0;32m---> 40\u001b[0m bins \u001b[38;5;241m=\u001b[39m [go\u001b[38;5;241m.\u001b[39mBar(x \u001b[38;5;241m=\u001b[39m \u001b[43mSApyramid\u001b[49m\u001b[38;5;241;43m.\u001b[39;49m\u001b[43mloc\u001b[49m\u001b[43m[\u001b[49m\u001b[38;5;28;43mstr\u001b[39;49m\u001b[43m(\u001b[49m\u001b[43myear\u001b[49m\u001b[43m)\u001b[49m\u001b[43m,\u001b[49m\u001b[43m:\u001b[49m\u001b[43m]\u001b[49m\u001b[38;5;241m.\u001b[39mfilter(regex\u001b[38;5;241m=\u001b[39m\u001b[38;5;124m\"\u001b[39m\u001b[38;5;124mMale\u001b[39m\u001b[38;5;124m\"\u001b[39m)\u001b[38;5;241m.\u001b[39mvalues,\n\u001b[1;32m     41\u001b[0m                y \u001b[38;5;241m=\u001b[39m [\u001b[38;5;28mint\u001b[39m(s[:\u001b[38;5;241m2\u001b[39m])\u001b[38;5;241m+\u001b[39m\u001b[38;5;241m1\u001b[39m \u001b[38;5;28;01mfor\u001b[39;00m s \u001b[38;5;129;01min\u001b[39;00m age_ranges],\n\u001b[1;32m     42\u001b[0m                orientation\u001b[38;5;241m=\u001b[39m\u001b[38;5;124m'\u001b[39m\u001b[38;5;124mh\u001b[39m\u001b[38;5;124m'\u001b[39m,\n\u001b[1;32m     43\u001b[0m                name\u001b[38;5;241m=\u001b[39m\u001b[38;5;124m'\u001b[39m\u001b[38;5;124mMen\u001b[39m\u001b[38;5;124m'\u001b[39m,\n\u001b[1;32m     44\u001b[0m                marker\u001b[38;5;241m=\u001b[39m\u001b[38;5;28mdict\u001b[39m(color\u001b[38;5;241m=\u001b[39m\u001b[38;5;124m'\u001b[39m\u001b[38;5;124mpurple\u001b[39m\u001b[38;5;124m'\u001b[39m),\n\u001b[1;32m     45\u001b[0m                hoverinfo\u001b[38;5;241m=\u001b[39m\u001b[38;5;124m'\u001b[39m\u001b[38;5;124mskip\u001b[39m\u001b[38;5;124m'\u001b[39m\n\u001b[1;32m     46\u001b[0m                ),\n\u001b[1;32m     47\u001b[0m \n\u001b[1;32m     48\u001b[0m         go\u001b[38;5;241m.\u001b[39mBar(x \u001b[38;5;241m=\u001b[39m \u001b[38;5;241m-\u001b[39mSApyramid\u001b[38;5;241m.\u001b[39mloc[\u001b[38;5;28mstr\u001b[39m(year),:]\u001b[38;5;241m.\u001b[39mfilter(regex\u001b[38;5;241m=\u001b[39m\u001b[38;5;124m\"\u001b[39m\u001b[38;5;124mFemale\u001b[39m\u001b[38;5;124m\"\u001b[39m)\u001b[38;5;241m.\u001b[39mvalues,\n\u001b[1;32m     49\u001b[0m                y\u001b[38;5;241m=\u001b[39m[\u001b[38;5;28mint\u001b[39m(s[:\u001b[38;5;241m2\u001b[39m])\u001b[38;5;241m+\u001b[39m\u001b[38;5;241m1\u001b[39m \u001b[38;5;28;01mfor\u001b[39;00m s \u001b[38;5;129;01min\u001b[39;00m age_ranges],\n\u001b[1;32m     50\u001b[0m                orientation\u001b[38;5;241m=\u001b[39m\u001b[38;5;124m'\u001b[39m\u001b[38;5;124mh\u001b[39m\u001b[38;5;124m'\u001b[39m,\n\u001b[1;32m     51\u001b[0m                name\u001b[38;5;241m=\u001b[39m\u001b[38;5;124m'\u001b[39m\u001b[38;5;124mWomen\u001b[39m\u001b[38;5;124m'\u001b[39m,\n\u001b[1;32m     52\u001b[0m                marker\u001b[38;5;241m=\u001b[39m\u001b[38;5;28mdict\u001b[39m(color\u001b[38;5;241m=\u001b[39m\u001b[38;5;124m'\u001b[39m\u001b[38;5;124mpink\u001b[39m\u001b[38;5;124m'\u001b[39m),\n\u001b[1;32m     53\u001b[0m                hoverinfo\u001b[38;5;241m=\u001b[39m\u001b[38;5;124m'\u001b[39m\u001b[38;5;124mskip\u001b[39m\u001b[38;5;124m'\u001b[39m,\n\u001b[1;32m     54\u001b[0m                )\n\u001b[1;32m     55\u001b[0m         ]\n\u001b[1;32m     56\u001b[0m py\u001b[38;5;241m.\u001b[39miplot(\u001b[38;5;28mdict\u001b[39m(data\u001b[38;5;241m=\u001b[39mbins, layout\u001b[38;5;241m=\u001b[39mlayout))\n",
      "File \u001b[0;32m/srv/conda/lib/python3.11/site-packages/pandas/core/indexing.py:1184\u001b[0m, in \u001b[0;36m_LocationIndexer.__getitem__\u001b[0;34m(self, key)\u001b[0m\n\u001b[1;32m   1182\u001b[0m     \u001b[38;5;28;01mif\u001b[39;00m \u001b[38;5;28mself\u001b[39m\u001b[38;5;241m.\u001b[39m_is_scalar_access(key):\n\u001b[1;32m   1183\u001b[0m         \u001b[38;5;28;01mreturn\u001b[39;00m \u001b[38;5;28mself\u001b[39m\u001b[38;5;241m.\u001b[39mobj\u001b[38;5;241m.\u001b[39m_get_value(\u001b[38;5;241m*\u001b[39mkey, takeable\u001b[38;5;241m=\u001b[39m\u001b[38;5;28mself\u001b[39m\u001b[38;5;241m.\u001b[39m_takeable)\n\u001b[0;32m-> 1184\u001b[0m     \u001b[38;5;28;01mreturn\u001b[39;00m \u001b[38;5;28;43mself\u001b[39;49m\u001b[38;5;241;43m.\u001b[39;49m\u001b[43m_getitem_tuple\u001b[49m\u001b[43m(\u001b[49m\u001b[43mkey\u001b[49m\u001b[43m)\u001b[49m\n\u001b[1;32m   1185\u001b[0m \u001b[38;5;28;01melse\u001b[39;00m:\n\u001b[1;32m   1186\u001b[0m     \u001b[38;5;66;03m# we by definition only have the 0th axis\u001b[39;00m\n\u001b[1;32m   1187\u001b[0m     axis \u001b[38;5;241m=\u001b[39m \u001b[38;5;28mself\u001b[39m\u001b[38;5;241m.\u001b[39maxis \u001b[38;5;129;01mor\u001b[39;00m \u001b[38;5;241m0\u001b[39m\n",
      "File \u001b[0;32m/srv/conda/lib/python3.11/site-packages/pandas/core/indexing.py:1368\u001b[0m, in \u001b[0;36m_LocIndexer._getitem_tuple\u001b[0;34m(self, tup)\u001b[0m\n\u001b[1;32m   1366\u001b[0m \u001b[38;5;28;01mwith\u001b[39;00m suppress(IndexingError):\n\u001b[1;32m   1367\u001b[0m     tup \u001b[38;5;241m=\u001b[39m \u001b[38;5;28mself\u001b[39m\u001b[38;5;241m.\u001b[39m_expand_ellipsis(tup)\n\u001b[0;32m-> 1368\u001b[0m     \u001b[38;5;28;01mreturn\u001b[39;00m \u001b[38;5;28;43mself\u001b[39;49m\u001b[38;5;241;43m.\u001b[39;49m\u001b[43m_getitem_lowerdim\u001b[49m\u001b[43m(\u001b[49m\u001b[43mtup\u001b[49m\u001b[43m)\u001b[49m\n\u001b[1;32m   1370\u001b[0m \u001b[38;5;66;03m# no multi-index, so validate all of the indexers\u001b[39;00m\n\u001b[1;32m   1371\u001b[0m tup \u001b[38;5;241m=\u001b[39m \u001b[38;5;28mself\u001b[39m\u001b[38;5;241m.\u001b[39m_validate_tuple_indexer(tup)\n",
      "File \u001b[0;32m/srv/conda/lib/python3.11/site-packages/pandas/core/indexing.py:1041\u001b[0m, in \u001b[0;36m_LocationIndexer._getitem_lowerdim\u001b[0;34m(self, tup)\u001b[0m\n\u001b[1;32m   1039\u001b[0m \u001b[38;5;66;03m# we may have a nested tuples indexer here\u001b[39;00m\n\u001b[1;32m   1040\u001b[0m \u001b[38;5;28;01mif\u001b[39;00m \u001b[38;5;28mself\u001b[39m\u001b[38;5;241m.\u001b[39m_is_nested_tuple_indexer(tup):\n\u001b[0;32m-> 1041\u001b[0m     \u001b[38;5;28;01mreturn\u001b[39;00m \u001b[38;5;28;43mself\u001b[39;49m\u001b[38;5;241;43m.\u001b[39;49m\u001b[43m_getitem_nested_tuple\u001b[49m\u001b[43m(\u001b[49m\u001b[43mtup\u001b[49m\u001b[43m)\u001b[49m\n\u001b[1;32m   1043\u001b[0m \u001b[38;5;66;03m# we maybe be using a tuple to represent multiple dimensions here\u001b[39;00m\n\u001b[1;32m   1044\u001b[0m ax0 \u001b[38;5;241m=\u001b[39m \u001b[38;5;28mself\u001b[39m\u001b[38;5;241m.\u001b[39mobj\u001b[38;5;241m.\u001b[39m_get_axis(\u001b[38;5;241m0\u001b[39m)\n",
      "File \u001b[0;32m/srv/conda/lib/python3.11/site-packages/pandas/core/indexing.py:1153\u001b[0m, in \u001b[0;36m_LocationIndexer._getitem_nested_tuple\u001b[0;34m(self, tup)\u001b[0m\n\u001b[1;32m   1150\u001b[0m     axis \u001b[38;5;241m-\u001b[39m\u001b[38;5;241m=\u001b[39m \u001b[38;5;241m1\u001b[39m\n\u001b[1;32m   1151\u001b[0m     \u001b[38;5;28;01mcontinue\u001b[39;00m\n\u001b[0;32m-> 1153\u001b[0m obj \u001b[38;5;241m=\u001b[39m \u001b[38;5;28;43mgetattr\u001b[39;49m\u001b[43m(\u001b[49m\u001b[43mobj\u001b[49m\u001b[43m,\u001b[49m\u001b[43m \u001b[49m\u001b[38;5;28;43mself\u001b[39;49m\u001b[38;5;241;43m.\u001b[39;49m\u001b[43mname\u001b[49m\u001b[43m)\u001b[49m\u001b[38;5;241;43m.\u001b[39;49m\u001b[43m_getitem_axis\u001b[49m\u001b[43m(\u001b[49m\u001b[43mkey\u001b[49m\u001b[43m,\u001b[49m\u001b[43m \u001b[49m\u001b[43maxis\u001b[49m\u001b[38;5;241;43m=\u001b[39;49m\u001b[43maxis\u001b[49m\u001b[43m)\u001b[49m\n\u001b[1;32m   1154\u001b[0m axis \u001b[38;5;241m-\u001b[39m\u001b[38;5;241m=\u001b[39m \u001b[38;5;241m1\u001b[39m\n\u001b[1;32m   1156\u001b[0m \u001b[38;5;66;03m# if we have a scalar, we are done\u001b[39;00m\n",
      "File \u001b[0;32m/srv/conda/lib/python3.11/site-packages/pandas/core/indexing.py:1431\u001b[0m, in \u001b[0;36m_LocIndexer._getitem_axis\u001b[0;34m(self, key, axis)\u001b[0m\n\u001b[1;32m   1429\u001b[0m \u001b[38;5;66;03m# fall thru to straight lookup\u001b[39;00m\n\u001b[1;32m   1430\u001b[0m \u001b[38;5;28mself\u001b[39m\u001b[38;5;241m.\u001b[39m_validate_key(key, axis)\n\u001b[0;32m-> 1431\u001b[0m \u001b[38;5;28;01mreturn\u001b[39;00m \u001b[38;5;28;43mself\u001b[39;49m\u001b[38;5;241;43m.\u001b[39;49m\u001b[43m_get_label\u001b[49m\u001b[43m(\u001b[49m\u001b[43mkey\u001b[49m\u001b[43m,\u001b[49m\u001b[43m \u001b[49m\u001b[43maxis\u001b[49m\u001b[38;5;241;43m=\u001b[39;49m\u001b[43maxis\u001b[49m\u001b[43m)\u001b[49m\n",
      "File \u001b[0;32m/srv/conda/lib/python3.11/site-packages/pandas/core/indexing.py:1381\u001b[0m, in \u001b[0;36m_LocIndexer._get_label\u001b[0;34m(self, label, axis)\u001b[0m\n\u001b[1;32m   1379\u001b[0m \u001b[38;5;28;01mdef\u001b[39;00m\u001b[38;5;250m \u001b[39m\u001b[38;5;21m_get_label\u001b[39m(\u001b[38;5;28mself\u001b[39m, label, axis: AxisInt):\n\u001b[1;32m   1380\u001b[0m     \u001b[38;5;66;03m# GH#5567 this will fail if the label is not present in the axis.\u001b[39;00m\n\u001b[0;32m-> 1381\u001b[0m     \u001b[38;5;28;01mreturn\u001b[39;00m \u001b[38;5;28;43mself\u001b[39;49m\u001b[38;5;241;43m.\u001b[39;49m\u001b[43mobj\u001b[49m\u001b[38;5;241;43m.\u001b[39;49m\u001b[43mxs\u001b[49m\u001b[43m(\u001b[49m\u001b[43mlabel\u001b[49m\u001b[43m,\u001b[49m\u001b[43m \u001b[49m\u001b[43maxis\u001b[49m\u001b[38;5;241;43m=\u001b[39;49m\u001b[43maxis\u001b[49m\u001b[43m)\u001b[49m\n",
      "File \u001b[0;32m/srv/conda/lib/python3.11/site-packages/pandas/core/generic.py:4293\u001b[0m, in \u001b[0;36mNDFrame.xs\u001b[0;34m(self, key, axis, level, drop_level)\u001b[0m\n\u001b[1;32m   4290\u001b[0m     index \u001b[38;5;241m=\u001b[39m \u001b[38;5;28mself\u001b[39m\u001b[38;5;241m.\u001b[39mindex\n\u001b[1;32m   4292\u001b[0m \u001b[38;5;28;01mif\u001b[39;00m \u001b[38;5;28misinstance\u001b[39m(index, MultiIndex):\n\u001b[0;32m-> 4293\u001b[0m     loc, new_index \u001b[38;5;241m=\u001b[39m \u001b[43mindex\u001b[49m\u001b[38;5;241;43m.\u001b[39;49m\u001b[43m_get_loc_level\u001b[49m\u001b[43m(\u001b[49m\u001b[43mkey\u001b[49m\u001b[43m,\u001b[49m\u001b[43m \u001b[49m\u001b[43mlevel\u001b[49m\u001b[38;5;241;43m=\u001b[39;49m\u001b[38;5;241;43m0\u001b[39;49m\u001b[43m)\u001b[49m\n\u001b[1;32m   4294\u001b[0m     \u001b[38;5;28;01mif\u001b[39;00m \u001b[38;5;129;01mnot\u001b[39;00m drop_level:\n\u001b[1;32m   4295\u001b[0m         \u001b[38;5;28;01mif\u001b[39;00m lib\u001b[38;5;241m.\u001b[39mis_integer(loc):\n\u001b[1;32m   4296\u001b[0m             \u001b[38;5;66;03m# Slice index must be an integer or None\u001b[39;00m\n",
      "File \u001b[0;32m/srv/conda/lib/python3.11/site-packages/pandas/core/indexes/multi.py:3290\u001b[0m, in \u001b[0;36mMultiIndex._get_loc_level\u001b[0;34m(self, key, level)\u001b[0m\n\u001b[1;32m   3288\u001b[0m         \u001b[38;5;28;01mreturn\u001b[39;00m indexer, maybe_mi_droplevels(indexer, ilevels)\n\u001b[1;32m   3289\u001b[0m \u001b[38;5;28;01melse\u001b[39;00m:\n\u001b[0;32m-> 3290\u001b[0m     indexer \u001b[38;5;241m=\u001b[39m \u001b[38;5;28;43mself\u001b[39;49m\u001b[38;5;241;43m.\u001b[39;49m\u001b[43m_get_level_indexer\u001b[49m\u001b[43m(\u001b[49m\u001b[43mkey\u001b[49m\u001b[43m,\u001b[49m\u001b[43m \u001b[49m\u001b[43mlevel\u001b[49m\u001b[38;5;241;43m=\u001b[39;49m\u001b[43mlevel\u001b[49m\u001b[43m)\u001b[49m\n\u001b[1;32m   3291\u001b[0m     \u001b[38;5;28;01mif\u001b[39;00m (\n\u001b[1;32m   3292\u001b[0m         \u001b[38;5;28misinstance\u001b[39m(key, \u001b[38;5;28mstr\u001b[39m)\n\u001b[1;32m   3293\u001b[0m         \u001b[38;5;129;01mand\u001b[39;00m \u001b[38;5;28mself\u001b[39m\u001b[38;5;241m.\u001b[39mlevels[level]\u001b[38;5;241m.\u001b[39m_supports_partial_string_indexing\n\u001b[1;32m   3294\u001b[0m     ):\n\u001b[1;32m   3295\u001b[0m         \u001b[38;5;66;03m# check to see if we did an exact lookup vs sliced\u001b[39;00m\n\u001b[1;32m   3296\u001b[0m         check \u001b[38;5;241m=\u001b[39m \u001b[38;5;28mself\u001b[39m\u001b[38;5;241m.\u001b[39mlevels[level]\u001b[38;5;241m.\u001b[39mget_loc(key)\n",
      "File \u001b[0;32m/srv/conda/lib/python3.11/site-packages/pandas/core/indexes/multi.py:3391\u001b[0m, in \u001b[0;36mMultiIndex._get_level_indexer\u001b[0;34m(self, key, level, indexer)\u001b[0m\n\u001b[1;32m   3388\u001b[0m         \u001b[38;5;28;01mreturn\u001b[39;00m \u001b[38;5;28mslice\u001b[39m(i, j, step)\n\u001b[1;32m   3390\u001b[0m \u001b[38;5;28;01melse\u001b[39;00m:\n\u001b[0;32m-> 3391\u001b[0m     idx \u001b[38;5;241m=\u001b[39m \u001b[38;5;28;43mself\u001b[39;49m\u001b[38;5;241;43m.\u001b[39;49m\u001b[43m_get_loc_single_level_index\u001b[49m\u001b[43m(\u001b[49m\u001b[43mlevel_index\u001b[49m\u001b[43m,\u001b[49m\u001b[43m \u001b[49m\u001b[43mkey\u001b[49m\u001b[43m)\u001b[49m\n\u001b[1;32m   3393\u001b[0m     \u001b[38;5;28;01mif\u001b[39;00m level \u001b[38;5;241m>\u001b[39m \u001b[38;5;241m0\u001b[39m \u001b[38;5;129;01mor\u001b[39;00m \u001b[38;5;28mself\u001b[39m\u001b[38;5;241m.\u001b[39m_lexsort_depth \u001b[38;5;241m==\u001b[39m \u001b[38;5;241m0\u001b[39m:\n\u001b[1;32m   3394\u001b[0m         \u001b[38;5;66;03m# Desired level is not sorted\u001b[39;00m\n\u001b[1;32m   3395\u001b[0m         \u001b[38;5;28;01mif\u001b[39;00m \u001b[38;5;28misinstance\u001b[39m(idx, \u001b[38;5;28mslice\u001b[39m):\n\u001b[1;32m   3396\u001b[0m             \u001b[38;5;66;03m# test_get_loc_partial_timestamp_multiindex\u001b[39;00m\n",
      "File \u001b[0;32m/srv/conda/lib/python3.11/site-packages/pandas/core/indexes/multi.py:2980\u001b[0m, in \u001b[0;36mMultiIndex._get_loc_single_level_index\u001b[0;34m(self, level_index, key)\u001b[0m\n\u001b[1;32m   2978\u001b[0m     \u001b[38;5;28;01mreturn\u001b[39;00m \u001b[38;5;241m-\u001b[39m\u001b[38;5;241m1\u001b[39m\n\u001b[1;32m   2979\u001b[0m \u001b[38;5;28;01melse\u001b[39;00m:\n\u001b[0;32m-> 2980\u001b[0m     \u001b[38;5;28;01mreturn\u001b[39;00m \u001b[43mlevel_index\u001b[49m\u001b[38;5;241;43m.\u001b[39;49m\u001b[43mget_loc\u001b[49m\u001b[43m(\u001b[49m\u001b[43mkey\u001b[49m\u001b[43m)\u001b[49m\n",
      "File \u001b[0;32m/srv/conda/lib/python3.11/site-packages/pandas/core/indexes/base.py:3812\u001b[0m, in \u001b[0;36mIndex.get_loc\u001b[0;34m(self, key)\u001b[0m\n\u001b[1;32m   3807\u001b[0m     \u001b[38;5;28;01mif\u001b[39;00m \u001b[38;5;28misinstance\u001b[39m(casted_key, \u001b[38;5;28mslice\u001b[39m) \u001b[38;5;129;01mor\u001b[39;00m (\n\u001b[1;32m   3808\u001b[0m         \u001b[38;5;28misinstance\u001b[39m(casted_key, abc\u001b[38;5;241m.\u001b[39mIterable)\n\u001b[1;32m   3809\u001b[0m         \u001b[38;5;129;01mand\u001b[39;00m \u001b[38;5;28many\u001b[39m(\u001b[38;5;28misinstance\u001b[39m(x, \u001b[38;5;28mslice\u001b[39m) \u001b[38;5;28;01mfor\u001b[39;00m x \u001b[38;5;129;01min\u001b[39;00m casted_key)\n\u001b[1;32m   3810\u001b[0m     ):\n\u001b[1;32m   3811\u001b[0m         \u001b[38;5;28;01mraise\u001b[39;00m InvalidIndexError(key)\n\u001b[0;32m-> 3812\u001b[0m     \u001b[38;5;28;01mraise\u001b[39;00m \u001b[38;5;167;01mKeyError\u001b[39;00m(key) \u001b[38;5;28;01mfrom\u001b[39;00m\u001b[38;5;250m \u001b[39m\u001b[38;5;21;01merr\u001b[39;00m\n\u001b[1;32m   3813\u001b[0m \u001b[38;5;28;01mexcept\u001b[39;00m \u001b[38;5;167;01mTypeError\u001b[39;00m:\n\u001b[1;32m   3814\u001b[0m     \u001b[38;5;66;03m# If we have a listlike key, _check_indexing_error will raise\u001b[39;00m\n\u001b[1;32m   3815\u001b[0m     \u001b[38;5;66;03m#  InvalidIndexError. Otherwise we fall through and re-raise\u001b[39;00m\n\u001b[1;32m   3816\u001b[0m     \u001b[38;5;66;03m#  the TypeError.\u001b[39;00m\n\u001b[1;32m   3817\u001b[0m     \u001b[38;5;28mself\u001b[39m\u001b[38;5;241m.\u001b[39m_check_indexing_error(key)\n",
      "\u001b[0;31mKeyError\u001b[0m: '2022-01-01'"
     ]
    }
   ],
   "source": [
    "# Population Pyramid for SA\n",
    "countries = {\"BGD\":\"Bangladesh\",\n",
    "             \"BTN\":\"Bhutan\",\n",
    "             \"IND\": \"India\",\n",
    "             \"MDV\": \"Maldives\",\n",
    "             \"NPL\": \"Nepal\",\n",
    "             \"PAK\": \"Pakistan\",\n",
    "             \"LKA\": \"Sri Lanka\",\n",
    "             \"TSA\":\"South Asia (IDA & IBRD)\"\n",
    "            }\n",
    "age_ranges = []\n",
    "for i in range(0,80,5):\n",
    "    age_ranges.append(f\"{i:02d}\"+f\"{i+4:02d}\")\n",
    "age_ranges.append(\"80UP\")\n",
    "\n",
    "male_variables = {\"SP.POP.\"+age_range+\".MA\":\"Males \"+age_range for age_range in age_ranges}\n",
    "female_variables = {\"SP.POP.\"+age_range+\".FE\":\"Females \"+age_range for age_range in age_ranges}\n",
    "variables = male_variables\n",
    "variables.update(female_variables)\n",
    "\n",
    "SApyramid = wbdata.get_dataframe(variables,country=countries,parse_dates=True)\n",
    "\n",
    "import plotly.offline as py\n",
    "import plotly.graph_objs as go\n",
    "import pandas as pd\n",
    "import numpy as np\n",
    "\n",
    "py.init_notebook_mode(connected=True)\n",
    "\n",
    "layout = go.Layout(barmode='overlay',\n",
    "                   yaxis=go.layout.YAxis(range=[0, 90], title='Age'),\n",
    "                   xaxis=go.layout.XAxis(title='Number'))\n",
    "\n",
    "year = '2022-01-01'\n",
    "\n",
    "bins = [go.Bar(x = SApyramid.loc[str(year),:].filter(regex=\"Male\").values,\n",
    "               y = [int(s[:2])+1 for s in age_ranges],\n",
    "               orientation='h',\n",
    "               name='Men',\n",
    "               marker=dict(color='purple'),\n",
    "               hoverinfo='skip'\n",
    "               ),\n",
    "\n",
    "        go.Bar(x = -SApyramid.loc[str(year),:].filter(regex=\"Female\").values,\n",
    "               y=[int(s[:2])+1 for s in age_ranges],\n",
    "               orientation='h',\n",
    "               name='Women',\n",
    "               marker=dict(color='pink'),\n",
    "               hoverinfo='skip',\n",
    "               )\n",
    "        ]\n",
    "py.iplot(dict(data=bins, layout=layout))"
   ]
  },
  {
   "cell_type": "code",
   "execution_count": null,
   "id": "049802b6-1053-43da-afa7-fe07f6cfe4a4",
   "metadata": {},
   "outputs": [],
   "source": []
  }
 ],
 "metadata": {
  "kernelspec": {
   "display_name": "Python 3 (ipykernel)",
   "language": "python",
   "name": "python3"
  },
  "language_info": {
   "codemirror_mode": {
    "name": "ipython",
    "version": 3
   },
   "file_extension": ".py",
   "mimetype": "text/x-python",
   "name": "python",
   "nbconvert_exporter": "python",
   "pygments_lexer": "ipython3",
   "version": "3.11.11"
  }
 },
 "nbformat": 4,
 "nbformat_minor": 5
}
