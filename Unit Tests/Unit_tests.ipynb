{
 "cells": [
  {
   "cell_type": "markdown",
   "id": "687731c9-78f2-4faf-b558-c437b478c11e",
   "metadata": {},
   "source": [
    "Unit tests for various functions to ensure they are working correctly and representing the database accurately as intended to."
   ]
  }
 ],
 "metadata": {
  "kernelspec": {
   "display_name": "Python 3 (ipykernel)",
   "language": "python",
   "name": "python3"
  },
  "language_info": {
   "codemirror_mode": {
    "name": "ipython",
    "version": 3
   },
   "file_extension": ".py",
   "mimetype": "text/x-python",
   "name": "python",
   "nbconvert_exporter": "python",
   "pygments_lexer": "ipython3",
   "version": "3.11.11"
  }
 },
 "nbformat": 4,
 "nbformat_minor": 5
}
