{
 "cells": [
  {
   "cell_type": "markdown",
   "id": "35129e2f-3089-46f6-885c-e0c8d6a98c79",
   "metadata": {},
   "source": [
    "# Population, Agricultural Production, and the Green Revolution"
   ]
  },
  {
   "cell_type": "code",
   "execution_count": 1,
   "id": "332e6a91-745e-4e92-a88b-bc4de4c219e9",
   "metadata": {
    "collapsed": true,
    "jupyter": {
     "outputs_hidden": true
    },
    "scrolled": true
   },
   "outputs": [
    {
     "name": "stdout",
     "output_type": "stream",
     "text": [
      "Collecting wbdata\n",
      "  Using cached wbdata-1.0.0-py3-none-any.whl.metadata (2.6 kB)\n",
      "Collecting appdirs<2.0,>=1.4 (from wbdata)\n",
      "  Using cached appdirs-1.4.4-py2.py3-none-any.whl.metadata (9.0 kB)\n",
      "Collecting backoff<3.0.0,>=2.2.1 (from wbdata)\n",
      "  Using cached backoff-2.2.1-py3-none-any.whl.metadata (14 kB)\n",
      "Requirement already satisfied: cachetools<6.0.0,>=5.3.2 in /srv/conda/lib/python3.11/site-packages (from wbdata) (5.5.1)\n",
      "Collecting dateparser<2.0.0,>=1.2.0 (from wbdata)\n",
      "  Using cached dateparser-1.2.0-py2.py3-none-any.whl.metadata (28 kB)\n",
      "Requirement already satisfied: decorator<6.0.0,>=5.1.1 in /srv/conda/lib/python3.11/site-packages (from wbdata) (5.1.1)\n",
      "Requirement already satisfied: requests<3.0,>=2.0 in /srv/conda/lib/python3.11/site-packages (from wbdata) (2.32.3)\n",
      "Collecting shelved-cache<0.4.0,>=0.3.1 (from wbdata)\n",
      "  Using cached shelved_cache-0.3.1-py3-none-any.whl.metadata (4.7 kB)\n",
      "Collecting tabulate<0.9.0,>=0.8.5 (from wbdata)\n",
      "  Using cached tabulate-0.8.10-py3-none-any.whl.metadata (25 kB)\n",
      "Requirement already satisfied: python-dateutil in /srv/conda/lib/python3.11/site-packages (from dateparser<2.0.0,>=1.2.0->wbdata) (2.9.0.post0)\n",
      "Requirement already satisfied: pytz in /srv/conda/lib/python3.11/site-packages (from dateparser<2.0.0,>=1.2.0->wbdata) (2024.1)\n",
      "Requirement already satisfied: regex!=2019.02.19,!=2021.8.27 in /srv/conda/lib/python3.11/site-packages (from dateparser<2.0.0,>=1.2.0->wbdata) (2024.11.6)\n",
      "Collecting tzlocal (from dateparser<2.0.0,>=1.2.0->wbdata)\n",
      "  Using cached tzlocal-5.2-py3-none-any.whl.metadata (7.8 kB)\n",
      "Requirement already satisfied: charset_normalizer<4,>=2 in /srv/conda/lib/python3.11/site-packages (from requests<3.0,>=2.0->wbdata) (3.4.0)\n",
      "Requirement already satisfied: idna<4,>=2.5 in /srv/conda/lib/python3.11/site-packages (from requests<3.0,>=2.0->wbdata) (3.10)\n",
      "Requirement already satisfied: urllib3<3,>=1.21.1 in /srv/conda/lib/python3.11/site-packages (from requests<3.0,>=2.0->wbdata) (2.3.0)\n",
      "Requirement already satisfied: certifi>=2017.4.17 in /srv/conda/lib/python3.11/site-packages (from requests<3.0,>=2.0->wbdata) (2024.12.14)\n",
      "Requirement already satisfied: six>=1.5 in /srv/conda/lib/python3.11/site-packages (from python-dateutil->dateparser<2.0.0,>=1.2.0->wbdata) (1.17.0)\n",
      "Using cached wbdata-1.0.0-py3-none-any.whl (18 kB)\n",
      "Using cached appdirs-1.4.4-py2.py3-none-any.whl (9.6 kB)\n",
      "Using cached backoff-2.2.1-py3-none-any.whl (15 kB)\n",
      "Using cached dateparser-1.2.0-py2.py3-none-any.whl (294 kB)\n",
      "Using cached shelved_cache-0.3.1-py3-none-any.whl (7.8 kB)\n",
      "Using cached tabulate-0.8.10-py3-none-any.whl (29 kB)\n",
      "Using cached tzlocal-5.2-py3-none-any.whl (17 kB)\n",
      "Installing collected packages: appdirs, tzlocal, tabulate, shelved-cache, backoff, dateparser, wbdata\n",
      "Successfully installed appdirs-1.4.4 backoff-2.2.1 dateparser-1.2.0 shelved-cache-0.3.1 tabulate-0.8.10 tzlocal-5.2 wbdata-1.0.0\n",
      "Note: you may need to restart the kernel to use updated packages.\n"
     ]
    },
    {
     "name": "stderr",
     "output_type": "stream",
     "text": [
      "Key '8425591040186827258' not in persistent cache.\n",
      "Key '9133657167217425560' not in persistent cache.\n",
      "Key '-6502083518974840089' not in persistent cache.\n",
      "Key '7577909574699967850' not in persistent cache.\n",
      "Key '-3205645014026657332' not in persistent cache.\n",
      "Key '-7349764984461699497' not in persistent cache.\n",
      "Key '2935591912607956947' not in persistent cache.\n",
      "Key '1281152458594020137' not in persistent cache.\n",
      "Key '8944341943576946571' not in persistent cache.\n",
      "Key '6617992909022638486' not in persistent cache.\n",
      "Key '8308844255138528820' not in persistent cache.\n",
      "Key '-8544072014954465113' not in persistent cache.\n",
      "Key '-5279239912955906807' not in persistent cache.\n",
      "Key '2619844395444284677' not in persistent cache.\n",
      "Key '-6231266319094147884' not in persistent cache.\n",
      "Key '1025328495545504742' not in persistent cache.\n",
      "Key '-2022473266647726226' not in persistent cache.\n",
      "Key '3797440788890707441' not in persistent cache.\n",
      "Key '6608444176407993408' not in persistent cache.\n",
      "Key '7316510303438591710' not in persistent cache.\n",
      "Key '3081484402321020852' not in persistent cache.\n",
      "Key '5760762710921134000' not in persistent cache.\n",
      "Key '-5022791877805491182' not in persistent cache.\n",
      "Key '-9166911848240533347' not in persistent cache.\n",
      "Key '5516802431813491225' not in persistent cache.\n",
      "Key '-7582023693819670538' not in persistent cache.\n",
      "Key '81165791163255896' not in persistent cache.\n",
      "Key '4800846045243804636' not in persistent cache.\n",
      "Key '2343088318937229959' not in persistent cache.\n",
      "Key '3936916122553787642' not in persistent cache.\n",
      "Key '7201748224552345948' not in persistent cache.\n",
      "Key '-3345911540757014184' not in persistent cache.\n",
      "Key '6249721818414104871' not in persistent cache.\n",
      "Key '-542070057671425991' not in persistent cache.\n",
      "Key '-3589871819864656959' not in persistent cache.\n",
      "Key '-2168315147310591420' not in persistent cache.\n",
      "Key '5041045623191062675' not in persistent cache.\n",
      "Key '1350754367237292849' not in persistent cache.\n",
      "Key '1514085849104090119' not in persistent cache.\n",
      "Key '4193364157704203267' not in persistent cache.\n",
      "Key '7458196259702761573' not in persistent cache.\n",
      "Key '7712433672252087536' not in persistent cache.\n",
      "Key '-448953504387807636' not in persistent cache.\n",
      "Key '-9149422247036601271' not in persistent cache.\n",
      "Key '-5884590145038042965' not in persistent cache.\n",
      "Key '-1164909890957494225' not in persistent cache.\n",
      "Key '4691720507663727943' not in persistent cache.\n",
      "Key '6285548311280285626' not in persistent cache.\n",
      "Key '-8896363660430707684' not in persistent cache.\n",
      "Key '-997279352030516200' not in persistent cache.\n",
      "Key '8598354007140602855' not in persistent cache.\n",
      "Key '-2591795251929296135' not in persistent cache.\n",
      "Key '-1241239631138158975' not in persistent cache.\n",
      "Key '180317041415906564' not in persistent cache.\n",
      "Key '7389677811917560659' not in persistent cache.\n",
      "Key '3699386555963790833' not in persistent cache.\n",
      "Key '-535639345153780025' not in persistent cache.\n",
      "Key '6541996346430701251' not in persistent cache.\n",
      "Key '-8639915625280292059' not in persistent cache.\n",
      "Key '5662708477994217392' not in persistent cache.\n",
      "Key '1899678684338690348' not in persistent cache.\n",
      "Key '7247596632415080201' not in persistent cache.\n",
      "Key '-3535957956311544981' not in persistent cache.\n",
      "Key '1183722297769003759' not in persistent cache.\n",
      "Key '7478817006275025556' not in persistent cache.\n",
      "Key '-2328069975183111552' not in persistent cache.\n",
      "Key '-1710909778835041943' not in persistent cache.\n",
      "Key '-5212540255509545250' not in persistent cache.\n",
      "Key '-7061293567957651148' not in persistent cache.\n",
      "Key '-6807056155408325185' not in persistent cache.\n",
      "Key '8591886156107995463' not in persistent cache.\n",
      "Key '-8433301245047490614' not in persistent cache.\n",
      "Key '-8269969763180693344' not in persistent cache.\n",
      "Key '6486483054575088446' not in persistent cache.\n",
      "Key '-4750900248632809075' not in persistent cache.\n",
      "Key '-2071621940032695927' not in persistent cache.\n",
      "Key '-1454461743684626318' not in persistent cache.\n",
      "Key '-5598581714119668483' not in persistent cache.\n",
      "Key '4686775182949987961' not in persistent cache.\n",
      "Key '3032335728936051151' not in persistent cache.\n",
      "Key '6297167830934609457' not in persistent cache.\n",
      "Key '-3031538605710025291' not in persistent cache.\n",
      "Key '-4885628897097905292' not in persistent cache.\n",
      "Key '-3291801093481347609' not in persistent cache.\n",
      "Key '4371388391501578825' not in persistent cache.\n",
      "Key '-6176271373807781307' not in persistent cache.\n",
      "Key '-8025024686255887205' not in persistent cache.\n",
      "Key '-7770787273706561242' not in persistent cache.\n",
      "Key '7628155037809759406' not in persistent cache.\n",
      "Key '9049711710363824945' not in persistent cache.\n",
      "Key '-2187671592844072576' not in persistent cache.\n",
      "Key '-5877962848797842402' not in persistent cache.\n",
      "Key '-5714631366931045132' not in persistent cache.\n",
      "Key '-3035353058330931984' not in persistent cache.\n",
      "Key '229479043667626322' not in persistent cache.\n",
      "Key '-6562312832417904540' not in persistent cache.\n",
      "Key '-7677670720422942887' not in persistent cache.\n",
      "Key '2068604610637815094' not in persistent cache.\n",
      "Key '5333436712636373400' not in persistent cache.\n",
      "Key '-3995269724008261348' not in persistent cache.\n",
      "Key '-2847419286299579385' not in persistent cache.\n",
      "Key '-2571219586857185048' not in persistent cache.\n",
      "Key '-2359639368061037268' not in persistent cache.\n",
      "Key '3686721092392445228' not in persistent cache.\n",
      "Key '7928220801659491608' not in persistent cache.\n",
      "Key '4648301360633386539' not in persistent cache.\n",
      "Key '-3216590177423530993' not in persistent cache.\n",
      "Key '-1622762373806973310' not in persistent cache.\n",
      "Key '1642069728191584996' not in persistent cache.\n",
      "Key '-8905590037117775136' not in persistent cache.\n",
      "Key '690043322053343919' not in persistent cache.\n",
      "Key '944280734602669882' not in persistent cache.\n",
      "Key '-9149550316225417911' not in persistent cache.\n",
      "Key '-7727993643671352372' not in persistent cache.\n",
      "Key '-518632873169698277' not in persistent cache.\n",
      "Key '-4208924129123468103' not in persistent cache.\n",
      "Key '3000436641378185992' not in persistent cache.\n",
      "Key '-1366314338656557685' not in persistent cache.\n",
      "Key '1898517763342000621' not in persistent cache.\n",
      "Key '2152755175891326584' not in persistent cache.\n",
      "Key '-6008632000748568588' not in persistent cache.\n",
      "Key '-7663071454762505398' not in persistent cache.\n",
      "Key '7002475432310747699' not in persistent cache.\n",
      "Key '-6724588387318255177' not in persistent cache.\n",
      "Key '-6855871960548539317' not in persistent cache.\n",
      "Key '-5262044156931981634' not in persistent cache.\n",
      "Key '-1997212054933423328' not in persistent cache.\n",
      "Key '-1100485148623558507' not in persistent cache.\n",
      "Key '-2949238461071664405' not in persistent cache.\n",
      "Key '-2695001048522338442' not in persistent cache.\n",
      "Key '5657911974359125381' not in persistent cache.\n",
      "Key '-4321246138161503871' not in persistent cache.\n",
      "Key '-4157914656294706601' not in persistent cache.\n",
      "Key '-7848205912248476427' not in persistent cache.\n",
      "Key '-638845141746822332' not in persistent cache.\n",
      "Key '-5005596121781566009' not in persistent cache.\n",
      "Key '-1740764019783007703' not in persistent cache.\n",
      "Key '-1486526607233681740' not in persistent cache.\n",
      "Key '8798830289835974704' not in persistent cache.\n",
      "Key '7144390835822037894' not in persistent cache.\n",
      "Key '-8037521135888955416' not in persistent cache.\n",
      "Key '-5965512787458895373' not in persistent cache.\n",
      "Key '-6813088298110811928' not in persistent cache.\n",
      "Key '-5219260494494254245' not in persistent cache.\n",
      "Key '-1954428392495695939' not in persistent cache.\n",
      "Key '5944655915904495545' not in persistent cache.\n",
      "Key '-2906454798633937016' not in persistent cache.\n",
      "Key '-2652217386084611053' not in persistent cache.\n",
      "Key '5700695636796852770' not in persistent cache.\n",
      "Key '7122252309350918309' not in persistent cache.\n",
      "Key '-4115130993856979212' not in persistent cache.\n",
      "Key '-7805422249810749038' not in persistent cache.\n",
      "Key '-7642090767943951768' not in persistent cache.\n",
      "Key '-4962812459343838620' not in persistent cache.\n",
      "Key '-1697980357345280314' not in persistent cache.\n",
      "Key '-1443742944795954351' not in persistent cache.\n",
      "Key '8841613952273702093' not in persistent cache.\n",
      "Key '141145209624908458' not in persistent cache.\n",
      "Key '3405977311623466764' not in persistent cache.\n",
      "Key '8125657565704015504' not in persistent cache.\n",
      "Key '-76848647158197015' not in persistent cache.\n",
      "Key '8563008445093217493' not in persistent cache.\n",
      "Key '4781811258456918974' not in persistent cache.\n",
      "Key '1280180781782415667' not in persistent cache.\n",
      "Key '3829784852318677897' not in persistent cache.\n",
      "Key '-314335118116364268' not in persistent cache.\n",
      "Key '-3362136880309595236' not in persistent cache.\n",
      "Key '2457777175228838431' not in persistent cache.\n",
      "Key '8425591040186827258' not in persistent cache.\n",
      "Key '9133657167217425560' not in persistent cache.\n",
      "Key '-6502083518974840089' not in persistent cache.\n",
      "Key '7577909574699967850' not in persistent cache.\n",
      "Key '-3205645014026657332' not in persistent cache.\n",
      "Key '-7349764984461699497' not in persistent cache.\n",
      "Key '2935591912607956947' not in persistent cache.\n",
      "Key '1281152458594020137' not in persistent cache.\n",
      "Key '8944341943576946571' not in persistent cache.\n",
      "Key '6617992909022638486' not in persistent cache.\n",
      "Key '8308844255138528820' not in persistent cache.\n",
      "Key '-8544072014954465113' not in persistent cache.\n",
      "Key '-5279239912955906807' not in persistent cache.\n",
      "Key '2619844395444284677' not in persistent cache.\n",
      "Key '-6231266319094147884' not in persistent cache.\n",
      "Key '1025328495545504742' not in persistent cache.\n",
      "Key '-2022473266647726226' not in persistent cache.\n",
      "Key '3797440788890707441' not in persistent cache.\n",
      "Key '6608444176407993408' not in persistent cache.\n",
      "Key '7316510303438591710' not in persistent cache.\n",
      "Key '3081484402321020852' not in persistent cache.\n",
      "Key '5760762710921134000' not in persistent cache.\n",
      "Key '-5022791877805491182' not in persistent cache.\n",
      "Key '-9166911848240533347' not in persistent cache.\n",
      "Key '5516802431813491225' not in persistent cache.\n",
      "Key '-7582023693819670538' not in persistent cache.\n",
      "Key '81165791163255896' not in persistent cache.\n",
      "Key '4800846045243804636' not in persistent cache.\n",
      "Key '2343088318937229959' not in persistent cache.\n",
      "Key '3936916122553787642' not in persistent cache.\n",
      "Key '7201748224552345948' not in persistent cache.\n",
      "Key '-3345911540757014184' not in persistent cache.\n",
      "Key '6249721818414104871' not in persistent cache.\n",
      "Key '-542070057671425991' not in persistent cache.\n",
      "Key '-3589871819864656959' not in persistent cache.\n",
      "Key '-2168315147310591420' not in persistent cache.\n",
      "Key '5041045623191062675' not in persistent cache.\n",
      "Key '1350754367237292849' not in persistent cache.\n",
      "Key '1514085849104090119' not in persistent cache.\n",
      "Key '4193364157704203267' not in persistent cache.\n",
      "Key '7458196259702761573' not in persistent cache.\n",
      "Key '7712433672252087536' not in persistent cache.\n",
      "Key '-448953504387807636' not in persistent cache.\n",
      "Key '-9149422247036601271' not in persistent cache.\n",
      "Key '-5884590145038042965' not in persistent cache.\n",
      "Key '-1164909890957494225' not in persistent cache.\n",
      "Key '4691720507663727943' not in persistent cache.\n",
      "Key '6285548311280285626' not in persistent cache.\n",
      "Key '-8896363660430707684' not in persistent cache.\n",
      "Key '-997279352030516200' not in persistent cache.\n",
      "Key '8598354007140602855' not in persistent cache.\n",
      "Key '-2591795251929296135' not in persistent cache.\n",
      "Key '-1241239631138158975' not in persistent cache.\n",
      "Key '180317041415906564' not in persistent cache.\n",
      "Key '7389677811917560659' not in persistent cache.\n",
      "Key '3699386555963790833' not in persistent cache.\n",
      "Key '-535639345153780025' not in persistent cache.\n",
      "Key '6541996346430701251' not in persistent cache.\n",
      "Key '-8639915625280292059' not in persistent cache.\n",
      "Key '5662708477994217392' not in persistent cache.\n",
      "Key '1899678684338690348' not in persistent cache.\n",
      "Key '7247596632415080201' not in persistent cache.\n",
      "Key '-3535957956311544981' not in persistent cache.\n",
      "Key '1183722297769003759' not in persistent cache.\n",
      "Key '7478817006275025556' not in persistent cache.\n",
      "Key '-2328069975183111552' not in persistent cache.\n",
      "Key '-1710909778835041943' not in persistent cache.\n",
      "Key '-5212540255509545250' not in persistent cache.\n",
      "Key '-7061293567957651148' not in persistent cache.\n",
      "Key '-6807056155408325185' not in persistent cache.\n",
      "Key '8591886156107995463' not in persistent cache.\n",
      "Key '-8433301245047490614' not in persistent cache.\n",
      "Key '-8269969763180693344' not in persistent cache.\n",
      "Key '6486483054575088446' not in persistent cache.\n",
      "Key '-4750900248632809075' not in persistent cache.\n",
      "Key '-2071621940032695927' not in persistent cache.\n",
      "Key '-1454461743684626318' not in persistent cache.\n",
      "Key '-5598581714119668483' not in persistent cache.\n",
      "Key '4686775182949987961' not in persistent cache.\n",
      "Key '3032335728936051151' not in persistent cache.\n",
      "Key '6297167830934609457' not in persistent cache.\n",
      "Key '-3031538605710025291' not in persistent cache.\n",
      "Key '-4885628897097905292' not in persistent cache.\n",
      "Key '-3291801093481347609' not in persistent cache.\n",
      "Key '4371388391501578825' not in persistent cache.\n",
      "Key '-6176271373807781307' not in persistent cache.\n",
      "Key '-8025024686255887205' not in persistent cache.\n",
      "Key '-7770787273706561242' not in persistent cache.\n",
      "Key '7628155037809759406' not in persistent cache.\n",
      "Key '9049711710363824945' not in persistent cache.\n",
      "Key '-2187671592844072576' not in persistent cache.\n",
      "Key '-5877962848797842402' not in persistent cache.\n",
      "Key '-5714631366931045132' not in persistent cache.\n",
      "Key '-3035353058330931984' not in persistent cache.\n",
      "Key '229479043667626322' not in persistent cache.\n",
      "Key '-6562312832417904540' not in persistent cache.\n",
      "Key '-7677670720422942887' not in persistent cache.\n",
      "Key '2068604610637815094' not in persistent cache.\n",
      "Key '5333436712636373400' not in persistent cache.\n",
      "Key '-3995269724008261348' not in persistent cache.\n",
      "Key '-2847419286299579385' not in persistent cache.\n",
      "Key '-2571219586857185048' not in persistent cache.\n",
      "Key '-2359639368061037268' not in persistent cache.\n",
      "Key '3686721092392445228' not in persistent cache.\n",
      "Key '7928220801659491608' not in persistent cache.\n",
      "Key '4648301360633386539' not in persistent cache.\n",
      "Key '-3216590177423530993' not in persistent cache.\n",
      "Key '-1622762373806973310' not in persistent cache.\n",
      "Key '1642069728191584996' not in persistent cache.\n",
      "Key '-8905590037117775136' not in persistent cache.\n",
      "Key '690043322053343919' not in persistent cache.\n",
      "Key '944280734602669882' not in persistent cache.\n",
      "Key '-9149550316225417911' not in persistent cache.\n",
      "Key '-7727993643671352372' not in persistent cache.\n",
      "Key '-518632873169698277' not in persistent cache.\n",
      "Key '-4208924129123468103' not in persistent cache.\n",
      "Key '3000436641378185992' not in persistent cache.\n",
      "Key '-1366314338656557685' not in persistent cache.\n",
      "Key '1898517763342000621' not in persistent cache.\n",
      "Key '2152755175891326584' not in persistent cache.\n",
      "Key '-6008632000748568588' not in persistent cache.\n",
      "Key '-7663071454762505398' not in persistent cache.\n",
      "Key '7002475432310747699' not in persistent cache.\n",
      "Key '-6724588387318255177' not in persistent cache.\n",
      "Key '-6855871960548539317' not in persistent cache.\n",
      "Key '-5262044156931981634' not in persistent cache.\n",
      "Key '-1997212054933423328' not in persistent cache.\n",
      "Key '-1100485148623558507' not in persistent cache.\n",
      "Key '-2949238461071664405' not in persistent cache.\n",
      "Key '-2695001048522338442' not in persistent cache.\n",
      "Key '5657911974359125381' not in persistent cache.\n",
      "Key '-4321246138161503871' not in persistent cache.\n",
      "Key '-4157914656294706601' not in persistent cache.\n",
      "Key '-7848205912248476427' not in persistent cache.\n",
      "Key '-638845141746822332' not in persistent cache.\n",
      "Key '-5005596121781566009' not in persistent cache.\n",
      "Key '-1740764019783007703' not in persistent cache.\n",
      "Key '-1486526607233681740' not in persistent cache.\n",
      "Key '8798830289835974704' not in persistent cache.\n",
      "Key '7144390835822037894' not in persistent cache.\n",
      "Key '-8037521135888955416' not in persistent cache.\n",
      "Key '-5965512787458895373' not in persistent cache.\n",
      "Key '-6813088298110811928' not in persistent cache.\n",
      "Key '-5219260494494254245' not in persistent cache.\n",
      "Key '-1954428392495695939' not in persistent cache.\n",
      "Key '5944655915904495545' not in persistent cache.\n",
      "Key '-2906454798633937016' not in persistent cache.\n",
      "Key '-2652217386084611053' not in persistent cache.\n",
      "Key '5700695636796852770' not in persistent cache.\n",
      "Key '7122252309350918309' not in persistent cache.\n",
      "Key '-4115130993856979212' not in persistent cache.\n",
      "Key '-7805422249810749038' not in persistent cache.\n",
      "Key '-7642090767943951768' not in persistent cache.\n",
      "Key '-4962812459343838620' not in persistent cache.\n",
      "Key '-1697980357345280314' not in persistent cache.\n",
      "Key '-1443742944795954351' not in persistent cache.\n",
      "Key '8841613952273702093' not in persistent cache.\n",
      "Key '141145209624908458' not in persistent cache.\n",
      "Key '3405977311623466764' not in persistent cache.\n",
      "Key '8125657565704015504' not in persistent cache.\n",
      "Key '-76848647158197015' not in persistent cache.\n",
      "Key '8563008445093217493' not in persistent cache.\n",
      "Key '4781811258456918974' not in persistent cache.\n",
      "Key '1280180781782415667' not in persistent cache.\n",
      "Key '3829784852318677897' not in persistent cache.\n",
      "Key '-314335118116364268' not in persistent cache.\n",
      "Key '-3362136880309595236' not in persistent cache.\n",
      "Key '2457777175228838431' not in persistent cache.\n",
      "Key '8425591040186827258' not in persistent cache.\n",
      "Key '9133657167217425560' not in persistent cache.\n",
      "Key '-6502083518974840089' not in persistent cache.\n",
      "Key '7577909574699967850' not in persistent cache.\n",
      "Key '-3205645014026657332' not in persistent cache.\n",
      "Key '-7349764984461699497' not in persistent cache.\n",
      "Key '2935591912607956947' not in persistent cache.\n",
      "Key '1281152458594020137' not in persistent cache.\n",
      "Key '8944341943576946571' not in persistent cache.\n",
      "Key '6617992909022638486' not in persistent cache.\n",
      "Key '8308844255138528820' not in persistent cache.\n",
      "Key '-8544072014954465113' not in persistent cache.\n",
      "Key '-5279239912955906807' not in persistent cache.\n",
      "Key '2619844395444284677' not in persistent cache.\n",
      "Key '-6231266319094147884' not in persistent cache.\n",
      "Key '1025328495545504742' not in persistent cache.\n",
      "Key '-2022473266647726226' not in persistent cache.\n",
      "Key '3797440788890707441' not in persistent cache.\n",
      "Key '6608444176407993408' not in persistent cache.\n",
      "Key '7316510303438591710' not in persistent cache.\n",
      "Key '3081484402321020852' not in persistent cache.\n",
      "Key '5760762710921134000' not in persistent cache.\n",
      "Key '-5022791877805491182' not in persistent cache.\n",
      "Key '-9166911848240533347' not in persistent cache.\n",
      "Key '5516802431813491225' not in persistent cache.\n",
      "Key '-7582023693819670538' not in persistent cache.\n",
      "Key '81165791163255896' not in persistent cache.\n",
      "Key '4800846045243804636' not in persistent cache.\n",
      "Key '2343088318937229959' not in persistent cache.\n",
      "Key '3936916122553787642' not in persistent cache.\n",
      "Key '7201748224552345948' not in persistent cache.\n",
      "Key '-3345911540757014184' not in persistent cache.\n",
      "Key '6249721818414104871' not in persistent cache.\n",
      "Key '-542070057671425991' not in persistent cache.\n",
      "Key '-3589871819864656959' not in persistent cache.\n",
      "Key '-2168315147310591420' not in persistent cache.\n",
      "Key '5041045623191062675' not in persistent cache.\n",
      "Key '1350754367237292849' not in persistent cache.\n",
      "Key '1514085849104090119' not in persistent cache.\n",
      "Key '4193364157704203267' not in persistent cache.\n",
      "Key '7458196259702761573' not in persistent cache.\n",
      "Key '7712433672252087536' not in persistent cache.\n",
      "Key '-448953504387807636' not in persistent cache.\n",
      "Key '-9149422247036601271' not in persistent cache.\n",
      "Key '-5884590145038042965' not in persistent cache.\n",
      "Key '-1164909890957494225' not in persistent cache.\n",
      "Key '4691720507663727943' not in persistent cache.\n",
      "Key '6285548311280285626' not in persistent cache.\n",
      "Key '-8896363660430707684' not in persistent cache.\n",
      "Key '-997279352030516200' not in persistent cache.\n",
      "Key '8598354007140602855' not in persistent cache.\n",
      "Key '-2591795251929296135' not in persistent cache.\n",
      "Key '-1241239631138158975' not in persistent cache.\n",
      "Key '180317041415906564' not in persistent cache.\n",
      "Key '7389677811917560659' not in persistent cache.\n",
      "Key '3699386555963790833' not in persistent cache.\n",
      "Key '-535639345153780025' not in persistent cache.\n",
      "Key '6541996346430701251' not in persistent cache.\n",
      "Key '-8639915625280292059' not in persistent cache.\n",
      "Key '5662708477994217392' not in persistent cache.\n",
      "Key '1899678684338690348' not in persistent cache.\n",
      "Key '7247596632415080201' not in persistent cache.\n",
      "Key '-3535957956311544981' not in persistent cache.\n",
      "Key '1183722297769003759' not in persistent cache.\n",
      "Key '7478817006275025556' not in persistent cache.\n",
      "Key '-2328069975183111552' not in persistent cache.\n",
      "Key '-1710909778835041943' not in persistent cache.\n",
      "Key '-5212540255509545250' not in persistent cache.\n",
      "Key '-7061293567957651148' not in persistent cache.\n",
      "Key '-6807056155408325185' not in persistent cache.\n",
      "Key '8591886156107995463' not in persistent cache.\n",
      "Key '-8433301245047490614' not in persistent cache.\n",
      "Key '-8269969763180693344' not in persistent cache.\n",
      "Key '6486483054575088446' not in persistent cache.\n",
      "Key '-4750900248632809075' not in persistent cache.\n",
      "Key '-2071621940032695927' not in persistent cache.\n",
      "Key '-1454461743684626318' not in persistent cache.\n",
      "Key '-5598581714119668483' not in persistent cache.\n",
      "Key '4686775182949987961' not in persistent cache.\n",
      "Key '3032335728936051151' not in persistent cache.\n",
      "Key '6297167830934609457' not in persistent cache.\n",
      "Key '-3031538605710025291' not in persistent cache.\n",
      "Key '-4885628897097905292' not in persistent cache.\n",
      "Key '-3291801093481347609' not in persistent cache.\n",
      "Key '4371388391501578825' not in persistent cache.\n",
      "Key '-6176271373807781307' not in persistent cache.\n",
      "Key '-8025024686255887205' not in persistent cache.\n",
      "Key '-7770787273706561242' not in persistent cache.\n",
      "Key '7628155037809759406' not in persistent cache.\n",
      "Key '9049711710363824945' not in persistent cache.\n",
      "Key '-2187671592844072576' not in persistent cache.\n",
      "Key '-5877962848797842402' not in persistent cache.\n",
      "Key '-5714631366931045132' not in persistent cache.\n",
      "Key '-3035353058330931984' not in persistent cache.\n",
      "Key '229479043667626322' not in persistent cache.\n",
      "Key '-6562312832417904540' not in persistent cache.\n",
      "Key '-7677670720422942887' not in persistent cache.\n",
      "Key '2068604610637815094' not in persistent cache.\n",
      "Key '5333436712636373400' not in persistent cache.\n",
      "Key '-3995269724008261348' not in persistent cache.\n",
      "Key '-2847419286299579385' not in persistent cache.\n",
      "Key '-2571219586857185048' not in persistent cache.\n",
      "Key '-2359639368061037268' not in persistent cache.\n",
      "Key '3686721092392445228' not in persistent cache.\n",
      "Key '7928220801659491608' not in persistent cache.\n",
      "Key '4648301360633386539' not in persistent cache.\n",
      "Key '-3216590177423530993' not in persistent cache.\n",
      "Key '-1622762373806973310' not in persistent cache.\n",
      "Key '1642069728191584996' not in persistent cache.\n",
      "Key '-8905590037117775136' not in persistent cache.\n",
      "Key '690043322053343919' not in persistent cache.\n",
      "Key '944280734602669882' not in persistent cache.\n",
      "Key '-9149550316225417911' not in persistent cache.\n",
      "Key '-7727993643671352372' not in persistent cache.\n",
      "Key '-518632873169698277' not in persistent cache.\n",
      "Key '-4208924129123468103' not in persistent cache.\n",
      "Key '3000436641378185992' not in persistent cache.\n",
      "Key '-1366314338656557685' not in persistent cache.\n",
      "Key '1898517763342000621' not in persistent cache.\n",
      "Key '2152755175891326584' not in persistent cache.\n",
      "Key '-6008632000748568588' not in persistent cache.\n",
      "Key '-7663071454762505398' not in persistent cache.\n",
      "Key '7002475432310747699' not in persistent cache.\n",
      "Key '-6724588387318255177' not in persistent cache.\n",
      "Key '-6855871960548539317' not in persistent cache.\n",
      "Key '-5262044156931981634' not in persistent cache.\n",
      "Key '-1997212054933423328' not in persistent cache.\n",
      "Key '-1100485148623558507' not in persistent cache.\n",
      "Key '-2949238461071664405' not in persistent cache.\n",
      "Key '-2695001048522338442' not in persistent cache.\n",
      "Key '5657911974359125381' not in persistent cache.\n",
      "Key '-4321246138161503871' not in persistent cache.\n",
      "Key '-4157914656294706601' not in persistent cache.\n",
      "Key '-7848205912248476427' not in persistent cache.\n",
      "Key '-638845141746822332' not in persistent cache.\n",
      "Key '-5005596121781566009' not in persistent cache.\n",
      "Key '-1740764019783007703' not in persistent cache.\n",
      "Key '-1486526607233681740' not in persistent cache.\n",
      "Key '8798830289835974704' not in persistent cache.\n",
      "Key '7144390835822037894' not in persistent cache.\n",
      "Key '-8037521135888955416' not in persistent cache.\n",
      "Key '-5965512787458895373' not in persistent cache.\n",
      "Key '-6813088298110811928' not in persistent cache.\n",
      "Key '-5219260494494254245' not in persistent cache.\n",
      "Key '-1954428392495695939' not in persistent cache.\n",
      "Key '5944655915904495545' not in persistent cache.\n",
      "Key '-2906454798633937016' not in persistent cache.\n",
      "Key '-2652217386084611053' not in persistent cache.\n",
      "Key '5700695636796852770' not in persistent cache.\n",
      "Key '7122252309350918309' not in persistent cache.\n",
      "Key '-4115130993856979212' not in persistent cache.\n",
      "Key '-7805422249810749038' not in persistent cache.\n",
      "Key '-7642090767943951768' not in persistent cache.\n",
      "Key '-4962812459343838620' not in persistent cache.\n",
      "Key '-1697980357345280314' not in persistent cache.\n",
      "Key '-1443742944795954351' not in persistent cache.\n",
      "Key '8841613952273702093' not in persistent cache.\n",
      "Key '141145209624908458' not in persistent cache.\n",
      "Key '3405977311623466764' not in persistent cache.\n",
      "Key '8125657565704015504' not in persistent cache.\n",
      "Key '-76848647158197015' not in persistent cache.\n",
      "Key '8563008445093217493' not in persistent cache.\n",
      "Key '4781811258456918974' not in persistent cache.\n",
      "Key '1280180781782415667' not in persistent cache.\n",
      "Key '3829784852318677897' not in persistent cache.\n",
      "Key '-314335118116364268' not in persistent cache.\n",
      "Key '-3362136880309595236' not in persistent cache.\n",
      "Key '2457777175228838431' not in persistent cache.\n",
      "Key '8425591040186827258' not in persistent cache.\n",
      "Key '9133657167217425560' not in persistent cache.\n",
      "Key '-6502083518974840089' not in persistent cache.\n",
      "Key '7577909574699967850' not in persistent cache.\n",
      "Key '-3205645014026657332' not in persistent cache.\n",
      "Key '-7349764984461699497' not in persistent cache.\n",
      "Key '2935591912607956947' not in persistent cache.\n",
      "Key '1281152458594020137' not in persistent cache.\n",
      "Key '8944341943576946571' not in persistent cache.\n",
      "Key '6617992909022638486' not in persistent cache.\n",
      "Key '8308844255138528820' not in persistent cache.\n",
      "Key '-8544072014954465113' not in persistent cache.\n",
      "Key '-5279239912955906807' not in persistent cache.\n",
      "Key '2619844395444284677' not in persistent cache.\n",
      "Key '-6231266319094147884' not in persistent cache.\n",
      "Key '1025328495545504742' not in persistent cache.\n",
      "Key '-2022473266647726226' not in persistent cache.\n",
      "Key '3797440788890707441' not in persistent cache.\n",
      "Key '6608444176407993408' not in persistent cache.\n",
      "Key '7316510303438591710' not in persistent cache.\n",
      "Key '3081484402321020852' not in persistent cache.\n",
      "Key '5760762710921134000' not in persistent cache.\n",
      "Key '-5022791877805491182' not in persistent cache.\n",
      "Key '-9166911848240533347' not in persistent cache.\n",
      "Key '5516802431813491225' not in persistent cache.\n",
      "Key '-7582023693819670538' not in persistent cache.\n",
      "Key '81165791163255896' not in persistent cache.\n",
      "Key '4800846045243804636' not in persistent cache.\n",
      "Key '2343088318937229959' not in persistent cache.\n",
      "Key '3936916122553787642' not in persistent cache.\n",
      "Key '7201748224552345948' not in persistent cache.\n",
      "Key '-3345911540757014184' not in persistent cache.\n",
      "Key '6249721818414104871' not in persistent cache.\n",
      "Key '-542070057671425991' not in persistent cache.\n",
      "Key '-3589871819864656959' not in persistent cache.\n",
      "Key '-2168315147310591420' not in persistent cache.\n",
      "Key '5041045623191062675' not in persistent cache.\n",
      "Key '1350754367237292849' not in persistent cache.\n",
      "Key '1514085849104090119' not in persistent cache.\n",
      "Key '4193364157704203267' not in persistent cache.\n",
      "Key '7458196259702761573' not in persistent cache.\n",
      "Key '7712433672252087536' not in persistent cache.\n",
      "Key '-448953504387807636' not in persistent cache.\n",
      "Key '-9149422247036601271' not in persistent cache.\n",
      "Key '-5884590145038042965' not in persistent cache.\n",
      "Key '-1164909890957494225' not in persistent cache.\n",
      "Key '4691720507663727943' not in persistent cache.\n",
      "Key '6285548311280285626' not in persistent cache.\n",
      "Key '-8896363660430707684' not in persistent cache.\n",
      "Key '-997279352030516200' not in persistent cache.\n",
      "Key '8598354007140602855' not in persistent cache.\n",
      "Key '-2591795251929296135' not in persistent cache.\n",
      "Key '-1241239631138158975' not in persistent cache.\n",
      "Key '180317041415906564' not in persistent cache.\n",
      "Key '7389677811917560659' not in persistent cache.\n",
      "Key '3699386555963790833' not in persistent cache.\n",
      "Key '-535639345153780025' not in persistent cache.\n",
      "Key '6541996346430701251' not in persistent cache.\n",
      "Key '-8639915625280292059' not in persistent cache.\n",
      "Key '5662708477994217392' not in persistent cache.\n",
      "Key '1899678684338690348' not in persistent cache.\n",
      "Key '7247596632415080201' not in persistent cache.\n",
      "Key '-3535957956311544981' not in persistent cache.\n",
      "Key '1183722297769003759' not in persistent cache.\n",
      "Key '7478817006275025556' not in persistent cache.\n",
      "Key '-2328069975183111552' not in persistent cache.\n",
      "Key '-1710909778835041943' not in persistent cache.\n",
      "Key '-5212540255509545250' not in persistent cache.\n",
      "Key '-7061293567957651148' not in persistent cache.\n",
      "Key '-6807056155408325185' not in persistent cache.\n",
      "Key '8591886156107995463' not in persistent cache.\n",
      "Key '-8433301245047490614' not in persistent cache.\n",
      "Key '-8269969763180693344' not in persistent cache.\n",
      "Key '6486483054575088446' not in persistent cache.\n",
      "Key '-4750900248632809075' not in persistent cache.\n",
      "Key '-2071621940032695927' not in persistent cache.\n",
      "Key '-1454461743684626318' not in persistent cache.\n",
      "Key '-5598581714119668483' not in persistent cache.\n",
      "Key '4686775182949987961' not in persistent cache.\n",
      "Key '3032335728936051151' not in persistent cache.\n",
      "Key '6297167830934609457' not in persistent cache.\n",
      "Key '-3031538605710025291' not in persistent cache.\n",
      "Key '-4885628897097905292' not in persistent cache.\n",
      "Key '-3291801093481347609' not in persistent cache.\n",
      "Key '4371388391501578825' not in persistent cache.\n",
      "Key '-6176271373807781307' not in persistent cache.\n",
      "Key '-8025024686255887205' not in persistent cache.\n",
      "Key '-7770787273706561242' not in persistent cache.\n",
      "Key '7628155037809759406' not in persistent cache.\n",
      "Key '9049711710363824945' not in persistent cache.\n",
      "Key '-2187671592844072576' not in persistent cache.\n",
      "Key '-5877962848797842402' not in persistent cache.\n",
      "Key '-5714631366931045132' not in persistent cache.\n",
      "Key '-3035353058330931984' not in persistent cache.\n",
      "Key '229479043667626322' not in persistent cache.\n",
      "Key '-6562312832417904540' not in persistent cache.\n",
      "Key '-7677670720422942887' not in persistent cache.\n",
      "Key '2068604610637815094' not in persistent cache.\n",
      "Key '5333436712636373400' not in persistent cache.\n",
      "Key '-3995269724008261348' not in persistent cache.\n",
      "Key '-2847419286299579385' not in persistent cache.\n",
      "Key '-2571219586857185048' not in persistent cache.\n",
      "Key '-2359639368061037268' not in persistent cache.\n",
      "Key '3686721092392445228' not in persistent cache.\n",
      "Key '7928220801659491608' not in persistent cache.\n",
      "Key '4648301360633386539' not in persistent cache.\n",
      "Key '-3216590177423530993' not in persistent cache.\n",
      "Key '-1622762373806973310' not in persistent cache.\n",
      "Key '1642069728191584996' not in persistent cache.\n",
      "Key '-8905590037117775136' not in persistent cache.\n",
      "Key '690043322053343919' not in persistent cache.\n",
      "Key '944280734602669882' not in persistent cache.\n",
      "Key '-9149550316225417911' not in persistent cache.\n",
      "Key '-7727993643671352372' not in persistent cache.\n",
      "Key '-518632873169698277' not in persistent cache.\n",
      "Key '-4208924129123468103' not in persistent cache.\n",
      "Key '3000436641378185992' not in persistent cache.\n",
      "Key '-1366314338656557685' not in persistent cache.\n",
      "Key '1898517763342000621' not in persistent cache.\n",
      "Key '2152755175891326584' not in persistent cache.\n",
      "Key '-6008632000748568588' not in persistent cache.\n",
      "Key '-7663071454762505398' not in persistent cache.\n",
      "Key '7002475432310747699' not in persistent cache.\n",
      "Key '-6724588387318255177' not in persistent cache.\n",
      "Key '-6855871960548539317' not in persistent cache.\n",
      "Key '-5262044156931981634' not in persistent cache.\n",
      "Key '-1997212054933423328' not in persistent cache.\n",
      "Key '-1100485148623558507' not in persistent cache.\n",
      "Key '-2949238461071664405' not in persistent cache.\n",
      "Key '-2695001048522338442' not in persistent cache.\n",
      "Key '5657911974359125381' not in persistent cache.\n",
      "Key '-4321246138161503871' not in persistent cache.\n",
      "Key '-4157914656294706601' not in persistent cache.\n",
      "Key '-7848205912248476427' not in persistent cache.\n",
      "Key '-638845141746822332' not in persistent cache.\n",
      "Key '-5005596121781566009' not in persistent cache.\n",
      "Key '-1740764019783007703' not in persistent cache.\n",
      "Key '-1486526607233681740' not in persistent cache.\n",
      "Key '8798830289835974704' not in persistent cache.\n",
      "Key '7144390835822037894' not in persistent cache.\n",
      "Key '-8037521135888955416' not in persistent cache.\n",
      "Key '-5965512787458895373' not in persistent cache.\n",
      "Key '-6813088298110811928' not in persistent cache.\n",
      "Key '-5219260494494254245' not in persistent cache.\n",
      "Key '-1954428392495695939' not in persistent cache.\n",
      "Key '5944655915904495545' not in persistent cache.\n",
      "Key '-2906454798633937016' not in persistent cache.\n",
      "Key '-2652217386084611053' not in persistent cache.\n",
      "Key '5700695636796852770' not in persistent cache.\n",
      "Key '7122252309350918309' not in persistent cache.\n",
      "Key '-4115130993856979212' not in persistent cache.\n",
      "Key '-7805422249810749038' not in persistent cache.\n",
      "Key '-7642090767943951768' not in persistent cache.\n",
      "Key '-4962812459343838620' not in persistent cache.\n",
      "Key '-1697980357345280314' not in persistent cache.\n",
      "Key '-1443742944795954351' not in persistent cache.\n",
      "Key '8841613952273702093' not in persistent cache.\n",
      "Key '141145209624908458' not in persistent cache.\n",
      "Key '3405977311623466764' not in persistent cache.\n",
      "Key '8125657565704015504' not in persistent cache.\n",
      "Key '-76848647158197015' not in persistent cache.\n",
      "Key '8563008445093217493' not in persistent cache.\n",
      "Key '4781811258456918974' not in persistent cache.\n",
      "Key '1280180781782415667' not in persistent cache.\n",
      "Key '3829784852318677897' not in persistent cache.\n",
      "Key '-314335118116364268' not in persistent cache.\n",
      "Key '-3362136880309595236' not in persistent cache.\n",
      "Key '2457777175228838431' not in persistent cache.\n",
      "Key '8425591040186827258' not in persistent cache.\n",
      "Key '9133657167217425560' not in persistent cache.\n",
      "Key '-6502083518974840089' not in persistent cache.\n",
      "Key '7577909574699967850' not in persistent cache.\n",
      "Key '-3205645014026657332' not in persistent cache.\n",
      "Key '-7349764984461699497' not in persistent cache.\n",
      "Key '2935591912607956947' not in persistent cache.\n",
      "Key '1281152458594020137' not in persistent cache.\n",
      "Key '8944341943576946571' not in persistent cache.\n",
      "Key '6617992909022638486' not in persistent cache.\n",
      "Key '8308844255138528820' not in persistent cache.\n",
      "Key '-8544072014954465113' not in persistent cache.\n",
      "Key '-5279239912955906807' not in persistent cache.\n",
      "Key '2619844395444284677' not in persistent cache.\n",
      "Key '-6231266319094147884' not in persistent cache.\n",
      "Key '1025328495545504742' not in persistent cache.\n",
      "Key '-2022473266647726226' not in persistent cache.\n",
      "Key '3797440788890707441' not in persistent cache.\n",
      "Key '6608444176407993408' not in persistent cache.\n",
      "Key '7316510303438591710' not in persistent cache.\n",
      "Key '3081484402321020852' not in persistent cache.\n",
      "Key '5760762710921134000' not in persistent cache.\n",
      "Key '-5022791877805491182' not in persistent cache.\n",
      "Key '-9166911848240533347' not in persistent cache.\n",
      "Key '5516802431813491225' not in persistent cache.\n",
      "Key '-7582023693819670538' not in persistent cache.\n",
      "Key '81165791163255896' not in persistent cache.\n",
      "Key '4800846045243804636' not in persistent cache.\n",
      "Key '2343088318937229959' not in persistent cache.\n",
      "Key '3936916122553787642' not in persistent cache.\n",
      "Key '7201748224552345948' not in persistent cache.\n",
      "Key '-3345911540757014184' not in persistent cache.\n",
      "Key '6249721818414104871' not in persistent cache.\n",
      "Key '-542070057671425991' not in persistent cache.\n",
      "Key '-3589871819864656959' not in persistent cache.\n",
      "Key '-2168315147310591420' not in persistent cache.\n",
      "Key '5041045623191062675' not in persistent cache.\n",
      "Key '1350754367237292849' not in persistent cache.\n",
      "Key '1514085849104090119' not in persistent cache.\n",
      "Key '4193364157704203267' not in persistent cache.\n",
      "Key '7458196259702761573' not in persistent cache.\n",
      "Key '7712433672252087536' not in persistent cache.\n",
      "Key '-448953504387807636' not in persistent cache.\n",
      "Key '-9149422247036601271' not in persistent cache.\n",
      "Key '-5884590145038042965' not in persistent cache.\n",
      "Key '-1164909890957494225' not in persistent cache.\n",
      "Key '4691720507663727943' not in persistent cache.\n",
      "Key '6285548311280285626' not in persistent cache.\n",
      "Key '-8896363660430707684' not in persistent cache.\n",
      "Key '-997279352030516200' not in persistent cache.\n",
      "Key '8598354007140602855' not in persistent cache.\n",
      "Key '-2591795251929296135' not in persistent cache.\n",
      "Key '-1241239631138158975' not in persistent cache.\n",
      "Key '180317041415906564' not in persistent cache.\n",
      "Key '7389677811917560659' not in persistent cache.\n",
      "Key '3699386555963790833' not in persistent cache.\n",
      "Key '-535639345153780025' not in persistent cache.\n",
      "Key '6541996346430701251' not in persistent cache.\n",
      "Key '-8639915625280292059' not in persistent cache.\n",
      "Key '5662708477994217392' not in persistent cache.\n",
      "Key '1899678684338690348' not in persistent cache.\n",
      "Key '7247596632415080201' not in persistent cache.\n",
      "Key '-3535957956311544981' not in persistent cache.\n",
      "Key '1183722297769003759' not in persistent cache.\n",
      "Key '7478817006275025556' not in persistent cache.\n",
      "Key '-2328069975183111552' not in persistent cache.\n",
      "Key '-1710909778835041943' not in persistent cache.\n",
      "Key '-5212540255509545250' not in persistent cache.\n",
      "Key '-7061293567957651148' not in persistent cache.\n",
      "Key '-6807056155408325185' not in persistent cache.\n",
      "Key '8591886156107995463' not in persistent cache.\n",
      "Key '-8433301245047490614' not in persistent cache.\n",
      "Key '-8269969763180693344' not in persistent cache.\n",
      "Key '6486483054575088446' not in persistent cache.\n",
      "Key '-4750900248632809075' not in persistent cache.\n",
      "Key '-2071621940032695927' not in persistent cache.\n",
      "Key '-1454461743684626318' not in persistent cache.\n",
      "Key '-5598581714119668483' not in persistent cache.\n",
      "Key '4686775182949987961' not in persistent cache.\n",
      "Key '3032335728936051151' not in persistent cache.\n",
      "Key '6297167830934609457' not in persistent cache.\n",
      "Key '-3031538605710025291' not in persistent cache.\n",
      "Key '-4885628897097905292' not in persistent cache.\n",
      "Key '-3291801093481347609' not in persistent cache.\n",
      "Key '4371388391501578825' not in persistent cache.\n",
      "Key '-6176271373807781307' not in persistent cache.\n",
      "Key '-8025024686255887205' not in persistent cache.\n",
      "Key '-7770787273706561242' not in persistent cache.\n",
      "Key '7628155037809759406' not in persistent cache.\n",
      "Key '9049711710363824945' not in persistent cache.\n",
      "Key '-2187671592844072576' not in persistent cache.\n",
      "Key '-5877962848797842402' not in persistent cache.\n",
      "Key '-5714631366931045132' not in persistent cache.\n",
      "Key '-3035353058330931984' not in persistent cache.\n",
      "Key '229479043667626322' not in persistent cache.\n",
      "Key '-6562312832417904540' not in persistent cache.\n",
      "Key '-7677670720422942887' not in persistent cache.\n",
      "Key '2068604610637815094' not in persistent cache.\n",
      "Key '5333436712636373400' not in persistent cache.\n",
      "Key '-3995269724008261348' not in persistent cache.\n",
      "Key '-2847419286299579385' not in persistent cache.\n",
      "Key '-2571219586857185048' not in persistent cache.\n",
      "Key '-2359639368061037268' not in persistent cache.\n",
      "Key '3686721092392445228' not in persistent cache.\n",
      "Key '7928220801659491608' not in persistent cache.\n",
      "Key '4648301360633386539' not in persistent cache.\n",
      "Key '-3216590177423530993' not in persistent cache.\n",
      "Key '-1622762373806973310' not in persistent cache.\n",
      "Key '1642069728191584996' not in persistent cache.\n",
      "Key '-8905590037117775136' not in persistent cache.\n",
      "Key '690043322053343919' not in persistent cache.\n",
      "Key '944280734602669882' not in persistent cache.\n",
      "Key '-9149550316225417911' not in persistent cache.\n",
      "Key '-7727993643671352372' not in persistent cache.\n",
      "Key '-518632873169698277' not in persistent cache.\n",
      "Key '-4208924129123468103' not in persistent cache.\n",
      "Key '3000436641378185992' not in persistent cache.\n",
      "Key '-1366314338656557685' not in persistent cache.\n",
      "Key '1898517763342000621' not in persistent cache.\n",
      "Key '2152755175891326584' not in persistent cache.\n",
      "Key '-6008632000748568588' not in persistent cache.\n",
      "Key '-7663071454762505398' not in persistent cache.\n",
      "Key '7002475432310747699' not in persistent cache.\n",
      "Key '-6724588387318255177' not in persistent cache.\n",
      "Key '-6855871960548539317' not in persistent cache.\n",
      "Key '-5262044156931981634' not in persistent cache.\n",
      "Key '-1997212054933423328' not in persistent cache.\n",
      "Key '-1100485148623558507' not in persistent cache.\n",
      "Key '-2949238461071664405' not in persistent cache.\n",
      "Key '-2695001048522338442' not in persistent cache.\n",
      "Key '5657911974359125381' not in persistent cache.\n",
      "Key '-4321246138161503871' not in persistent cache.\n",
      "Key '-4157914656294706601' not in persistent cache.\n",
      "Key '-7848205912248476427' not in persistent cache.\n",
      "Key '-638845141746822332' not in persistent cache.\n",
      "Key '-5005596121781566009' not in persistent cache.\n",
      "Key '-1740764019783007703' not in persistent cache.\n",
      "Key '-1486526607233681740' not in persistent cache.\n",
      "Key '8798830289835974704' not in persistent cache.\n",
      "Key '7144390835822037894' not in persistent cache.\n",
      "Key '-8037521135888955416' not in persistent cache.\n",
      "Key '-5965512787458895373' not in persistent cache.\n",
      "Key '-6813088298110811928' not in persistent cache.\n",
      "Key '-5219260494494254245' not in persistent cache.\n",
      "Key '-1954428392495695939' not in persistent cache.\n",
      "Key '5944655915904495545' not in persistent cache.\n",
      "Key '-2906454798633937016' not in persistent cache.\n",
      "Key '-2652217386084611053' not in persistent cache.\n",
      "Key '5700695636796852770' not in persistent cache.\n",
      "Key '7122252309350918309' not in persistent cache.\n",
      "Key '-4115130993856979212' not in persistent cache.\n",
      "Key '-7805422249810749038' not in persistent cache.\n",
      "Key '-7642090767943951768' not in persistent cache.\n",
      "Key '-4962812459343838620' not in persistent cache.\n",
      "Key '-1697980357345280314' not in persistent cache.\n",
      "Key '-1443742944795954351' not in persistent cache.\n",
      "Key '8841613952273702093' not in persistent cache.\n",
      "Key '141145209624908458' not in persistent cache.\n",
      "Key '3405977311623466764' not in persistent cache.\n",
      "Key '8125657565704015504' not in persistent cache.\n",
      "Key '-76848647158197015' not in persistent cache.\n",
      "Key '8563008445093217493' not in persistent cache.\n",
      "Key '4781811258456918974' not in persistent cache.\n",
      "Key '1280180781782415667' not in persistent cache.\n",
      "Key '3829784852318677897' not in persistent cache.\n",
      "Key '-314335118116364268' not in persistent cache.\n",
      "Key '-3362136880309595236' not in persistent cache.\n",
      "Key '2457777175228838431' not in persistent cache.\n",
      "Key '8425591040186827258' not in persistent cache.\n",
      "Key '9133657167217425560' not in persistent cache.\n",
      "Key '-6502083518974840089' not in persistent cache.\n",
      "Key '7577909574699967850' not in persistent cache.\n",
      "Key '-3205645014026657332' not in persistent cache.\n",
      "Key '-7349764984461699497' not in persistent cache.\n",
      "Key '2935591912607956947' not in persistent cache.\n",
      "Key '1281152458594020137' not in persistent cache.\n",
      "Key '8944341943576946571' not in persistent cache.\n",
      "Key '6617992909022638486' not in persistent cache.\n",
      "Key '8308844255138528820' not in persistent cache.\n",
      "Key '-8544072014954465113' not in persistent cache.\n",
      "Key '-5279239912955906807' not in persistent cache.\n",
      "Key '2619844395444284677' not in persistent cache.\n",
      "Key '-6231266319094147884' not in persistent cache.\n",
      "Key '1025328495545504742' not in persistent cache.\n",
      "Key '-2022473266647726226' not in persistent cache.\n",
      "Key '3797440788890707441' not in persistent cache.\n",
      "Key '6608444176407993408' not in persistent cache.\n",
      "Key '7316510303438591710' not in persistent cache.\n",
      "Key '3081484402321020852' not in persistent cache.\n",
      "Key '5760762710921134000' not in persistent cache.\n",
      "Key '-5022791877805491182' not in persistent cache.\n",
      "Key '-9166911848240533347' not in persistent cache.\n",
      "Key '5516802431813491225' not in persistent cache.\n",
      "Key '-7582023693819670538' not in persistent cache.\n",
      "Key '81165791163255896' not in persistent cache.\n",
      "Key '4800846045243804636' not in persistent cache.\n",
      "Key '2343088318937229959' not in persistent cache.\n",
      "Key '3936916122553787642' not in persistent cache.\n",
      "Key '7201748224552345948' not in persistent cache.\n",
      "Key '-3345911540757014184' not in persistent cache.\n",
      "Key '6249721818414104871' not in persistent cache.\n",
      "Key '-542070057671425991' not in persistent cache.\n",
      "Key '-3589871819864656959' not in persistent cache.\n",
      "Key '-2168315147310591420' not in persistent cache.\n",
      "Key '5041045623191062675' not in persistent cache.\n",
      "Key '1350754367237292849' not in persistent cache.\n",
      "Key '1514085849104090119' not in persistent cache.\n",
      "Key '4193364157704203267' not in persistent cache.\n",
      "Key '7458196259702761573' not in persistent cache.\n",
      "Key '7712433672252087536' not in persistent cache.\n",
      "Key '-448953504387807636' not in persistent cache.\n",
      "Key '-9149422247036601271' not in persistent cache.\n",
      "Key '-5884590145038042965' not in persistent cache.\n",
      "Key '-1164909890957494225' not in persistent cache.\n",
      "Key '4691720507663727943' not in persistent cache.\n",
      "Key '6285548311280285626' not in persistent cache.\n",
      "Key '-8896363660430707684' not in persistent cache.\n",
      "Key '-997279352030516200' not in persistent cache.\n",
      "Key '8598354007140602855' not in persistent cache.\n",
      "Key '-2591795251929296135' not in persistent cache.\n",
      "Key '-1241239631138158975' not in persistent cache.\n",
      "Key '180317041415906564' not in persistent cache.\n",
      "Key '7389677811917560659' not in persistent cache.\n",
      "Key '3699386555963790833' not in persistent cache.\n",
      "Key '-535639345153780025' not in persistent cache.\n",
      "Key '6541996346430701251' not in persistent cache.\n",
      "Key '-8639915625280292059' not in persistent cache.\n",
      "Key '5662708477994217392' not in persistent cache.\n",
      "Key '1899678684338690348' not in persistent cache.\n",
      "Key '7247596632415080201' not in persistent cache.\n",
      "Key '-3535957956311544981' not in persistent cache.\n",
      "Key '1183722297769003759' not in persistent cache.\n",
      "Key '7478817006275025556' not in persistent cache.\n",
      "Key '-2328069975183111552' not in persistent cache.\n",
      "Key '-1710909778835041943' not in persistent cache.\n",
      "Key '-5212540255509545250' not in persistent cache.\n",
      "Key '-7061293567957651148' not in persistent cache.\n",
      "Key '-6807056155408325185' not in persistent cache.\n",
      "Key '8591886156107995463' not in persistent cache.\n",
      "Key '-8433301245047490614' not in persistent cache.\n",
      "Key '-8269969763180693344' not in persistent cache.\n",
      "Key '6486483054575088446' not in persistent cache.\n",
      "Key '-4750900248632809075' not in persistent cache.\n",
      "Key '-2071621940032695927' not in persistent cache.\n",
      "Key '-1454461743684626318' not in persistent cache.\n",
      "Key '-5598581714119668483' not in persistent cache.\n",
      "Key '4686775182949987961' not in persistent cache.\n",
      "Key '3032335728936051151' not in persistent cache.\n",
      "Key '6297167830934609457' not in persistent cache.\n",
      "Key '-3031538605710025291' not in persistent cache.\n",
      "Key '-4885628897097905292' not in persistent cache.\n",
      "Key '-3291801093481347609' not in persistent cache.\n",
      "Key '4371388391501578825' not in persistent cache.\n",
      "Key '-6176271373807781307' not in persistent cache.\n",
      "Key '-8025024686255887205' not in persistent cache.\n",
      "Key '-7770787273706561242' not in persistent cache.\n",
      "Key '7628155037809759406' not in persistent cache.\n",
      "Key '9049711710363824945' not in persistent cache.\n",
      "Key '-2187671592844072576' not in persistent cache.\n",
      "Key '-5877962848797842402' not in persistent cache.\n",
      "Key '-5714631366931045132' not in persistent cache.\n",
      "Key '-3035353058330931984' not in persistent cache.\n",
      "Key '229479043667626322' not in persistent cache.\n",
      "Key '-6562312832417904540' not in persistent cache.\n",
      "Key '-7677670720422942887' not in persistent cache.\n",
      "Key '2068604610637815094' not in persistent cache.\n",
      "Key '5333436712636373400' not in persistent cache.\n",
      "Key '-3995269724008261348' not in persistent cache.\n",
      "Key '-2847419286299579385' not in persistent cache.\n",
      "Key '-2571219586857185048' not in persistent cache.\n",
      "Key '-2359639368061037268' not in persistent cache.\n",
      "Key '3686721092392445228' not in persistent cache.\n",
      "Key '7928220801659491608' not in persistent cache.\n",
      "Key '4648301360633386539' not in persistent cache.\n",
      "Key '-3216590177423530993' not in persistent cache.\n",
      "Key '-1622762373806973310' not in persistent cache.\n",
      "Key '1642069728191584996' not in persistent cache.\n",
      "Key '-8905590037117775136' not in persistent cache.\n",
      "Key '690043322053343919' not in persistent cache.\n",
      "Key '944280734602669882' not in persistent cache.\n",
      "Key '-9149550316225417911' not in persistent cache.\n",
      "Key '-7727993643671352372' not in persistent cache.\n",
      "Key '-518632873169698277' not in persistent cache.\n",
      "Key '-4208924129123468103' not in persistent cache.\n",
      "Key '3000436641378185992' not in persistent cache.\n",
      "Key '-1366314338656557685' not in persistent cache.\n",
      "Key '1898517763342000621' not in persistent cache.\n",
      "Key '2152755175891326584' not in persistent cache.\n",
      "Key '-6008632000748568588' not in persistent cache.\n",
      "Key '-7663071454762505398' not in persistent cache.\n",
      "Key '7002475432310747699' not in persistent cache.\n",
      "Key '-6724588387318255177' not in persistent cache.\n",
      "Key '-6855871960548539317' not in persistent cache.\n",
      "Key '-5262044156931981634' not in persistent cache.\n",
      "Key '-1997212054933423328' not in persistent cache.\n",
      "Key '-1100485148623558507' not in persistent cache.\n",
      "Key '-2949238461071664405' not in persistent cache.\n",
      "Key '-2695001048522338442' not in persistent cache.\n",
      "Key '5657911974359125381' not in persistent cache.\n",
      "Key '-4321246138161503871' not in persistent cache.\n",
      "Key '-4157914656294706601' not in persistent cache.\n",
      "Key '-7848205912248476427' not in persistent cache.\n",
      "Key '-638845141746822332' not in persistent cache.\n",
      "Key '-5005596121781566009' not in persistent cache.\n",
      "Key '-1740764019783007703' not in persistent cache.\n",
      "Key '-1486526607233681740' not in persistent cache.\n",
      "Key '8798830289835974704' not in persistent cache.\n",
      "Key '7144390835822037894' not in persistent cache.\n",
      "Key '-8037521135888955416' not in persistent cache.\n",
      "Key '-5965512787458895373' not in persistent cache.\n",
      "Key '-6813088298110811928' not in persistent cache.\n",
      "Key '-5219260494494254245' not in persistent cache.\n",
      "Key '-1954428392495695939' not in persistent cache.\n",
      "Key '5944655915904495545' not in persistent cache.\n",
      "Key '-2906454798633937016' not in persistent cache.\n",
      "Key '-2652217386084611053' not in persistent cache.\n",
      "Key '5700695636796852770' not in persistent cache.\n",
      "Key '7122252309350918309' not in persistent cache.\n",
      "Key '-4115130993856979212' not in persistent cache.\n",
      "Key '-7805422249810749038' not in persistent cache.\n",
      "Key '-7642090767943951768' not in persistent cache.\n",
      "Key '-4962812459343838620' not in persistent cache.\n",
      "Key '-1697980357345280314' not in persistent cache.\n",
      "Key '-1443742944795954351' not in persistent cache.\n",
      "Key '8841613952273702093' not in persistent cache.\n",
      "Key '141145209624908458' not in persistent cache.\n",
      "Key '3405977311623466764' not in persistent cache.\n",
      "Key '8125657565704015504' not in persistent cache.\n",
      "Key '-76848647158197015' not in persistent cache.\n",
      "Key '8563008445093217493' not in persistent cache.\n",
      "Key '4781811258456918974' not in persistent cache.\n",
      "Key '1280180781782415667' not in persistent cache.\n",
      "Key '3829784852318677897' not in persistent cache.\n",
      "Key '-314335118116364268' not in persistent cache.\n",
      "Key '-3362136880309595236' not in persistent cache.\n",
      "Key '2457777175228838431' not in persistent cache.\n",
      "Key '8425591040186827258' not in persistent cache.\n",
      "Key '9133657167217425560' not in persistent cache.\n",
      "Key '-6502083518974840089' not in persistent cache.\n",
      "Key '7577909574699967850' not in persistent cache.\n",
      "Key '-3205645014026657332' not in persistent cache.\n",
      "Key '-7349764984461699497' not in persistent cache.\n",
      "Key '2935591912607956947' not in persistent cache.\n",
      "Key '1281152458594020137' not in persistent cache.\n",
      "Key '8944341943576946571' not in persistent cache.\n",
      "Key '6617992909022638486' not in persistent cache.\n",
      "Key '8308844255138528820' not in persistent cache.\n",
      "Key '-8544072014954465113' not in persistent cache.\n",
      "Key '-5279239912955906807' not in persistent cache.\n",
      "Key '2619844395444284677' not in persistent cache.\n",
      "Key '-6231266319094147884' not in persistent cache.\n",
      "Key '1025328495545504742' not in persistent cache.\n",
      "Key '-2022473266647726226' not in persistent cache.\n",
      "Key '3797440788890707441' not in persistent cache.\n",
      "Key '6608444176407993408' not in persistent cache.\n",
      "Key '7316510303438591710' not in persistent cache.\n",
      "Key '3081484402321020852' not in persistent cache.\n",
      "Key '5760762710921134000' not in persistent cache.\n",
      "Key '-5022791877805491182' not in persistent cache.\n",
      "Key '-9166911848240533347' not in persistent cache.\n",
      "Key '5516802431813491225' not in persistent cache.\n",
      "Key '-7582023693819670538' not in persistent cache.\n",
      "Key '81165791163255896' not in persistent cache.\n",
      "Key '4800846045243804636' not in persistent cache.\n",
      "Key '2343088318937229959' not in persistent cache.\n",
      "Key '3936916122553787642' not in persistent cache.\n",
      "Key '7201748224552345948' not in persistent cache.\n",
      "Key '-3345911540757014184' not in persistent cache.\n",
      "Key '6249721818414104871' not in persistent cache.\n",
      "Key '-542070057671425991' not in persistent cache.\n",
      "Key '-3589871819864656959' not in persistent cache.\n",
      "Key '-2168315147310591420' not in persistent cache.\n",
      "Key '5041045623191062675' not in persistent cache.\n",
      "Key '1350754367237292849' not in persistent cache.\n",
      "Key '1514085849104090119' not in persistent cache.\n",
      "Key '4193364157704203267' not in persistent cache.\n",
      "Key '7458196259702761573' not in persistent cache.\n",
      "Key '7712433672252087536' not in persistent cache.\n",
      "Key '-448953504387807636' not in persistent cache.\n",
      "Key '-9149422247036601271' not in persistent cache.\n",
      "Key '-5884590145038042965' not in persistent cache.\n",
      "Key '-1164909890957494225' not in persistent cache.\n",
      "Key '4691720507663727943' not in persistent cache.\n",
      "Key '6285548311280285626' not in persistent cache.\n",
      "Key '-8896363660430707684' not in persistent cache.\n",
      "Key '-997279352030516200' not in persistent cache.\n",
      "Key '8598354007140602855' not in persistent cache.\n",
      "Key '-2591795251929296135' not in persistent cache.\n",
      "Key '-1241239631138158975' not in persistent cache.\n",
      "Key '180317041415906564' not in persistent cache.\n",
      "Key '7389677811917560659' not in persistent cache.\n",
      "Key '3699386555963790833' not in persistent cache.\n",
      "Key '-535639345153780025' not in persistent cache.\n",
      "Key '6541996346430701251' not in persistent cache.\n",
      "Key '-8639915625280292059' not in persistent cache.\n",
      "Key '5662708477994217392' not in persistent cache.\n",
      "Key '1899678684338690348' not in persistent cache.\n",
      "Key '7247596632415080201' not in persistent cache.\n",
      "Key '-3535957956311544981' not in persistent cache.\n",
      "Key '1183722297769003759' not in persistent cache.\n",
      "Key '7478817006275025556' not in persistent cache.\n",
      "Key '-2328069975183111552' not in persistent cache.\n",
      "Key '-1710909778835041943' not in persistent cache.\n",
      "Key '-5212540255509545250' not in persistent cache.\n",
      "Key '-7061293567957651148' not in persistent cache.\n",
      "Key '-6807056155408325185' not in persistent cache.\n",
      "Key '8591886156107995463' not in persistent cache.\n",
      "Key '-8433301245047490614' not in persistent cache.\n",
      "Key '-8269969763180693344' not in persistent cache.\n",
      "Key '6486483054575088446' not in persistent cache.\n",
      "Key '-4750900248632809075' not in persistent cache.\n",
      "Key '-2071621940032695927' not in persistent cache.\n",
      "Key '-1454461743684626318' not in persistent cache.\n",
      "Key '-5598581714119668483' not in persistent cache.\n",
      "Key '4686775182949987961' not in persistent cache.\n",
      "Key '3032335728936051151' not in persistent cache.\n",
      "Key '6297167830934609457' not in persistent cache.\n",
      "Key '-3031538605710025291' not in persistent cache.\n",
      "Key '-4885628897097905292' not in persistent cache.\n",
      "Key '-3291801093481347609' not in persistent cache.\n",
      "Key '4371388391501578825' not in persistent cache.\n",
      "Key '-6176271373807781307' not in persistent cache.\n",
      "Key '-8025024686255887205' not in persistent cache.\n",
      "Key '-7770787273706561242' not in persistent cache.\n",
      "Key '7628155037809759406' not in persistent cache.\n",
      "Key '9049711710363824945' not in persistent cache.\n",
      "Key '-2187671592844072576' not in persistent cache.\n",
      "Key '-5877962848797842402' not in persistent cache.\n",
      "Key '-5714631366931045132' not in persistent cache.\n",
      "Key '-3035353058330931984' not in persistent cache.\n",
      "Key '229479043667626322' not in persistent cache.\n",
      "Key '-6562312832417904540' not in persistent cache.\n",
      "Key '-7677670720422942887' not in persistent cache.\n",
      "Key '2068604610637815094' not in persistent cache.\n",
      "Key '5333436712636373400' not in persistent cache.\n",
      "Key '-3995269724008261348' not in persistent cache.\n",
      "Key '-2847419286299579385' not in persistent cache.\n",
      "Key '-2571219586857185048' not in persistent cache.\n",
      "Key '-2359639368061037268' not in persistent cache.\n",
      "Key '3686721092392445228' not in persistent cache.\n",
      "Key '7928220801659491608' not in persistent cache.\n",
      "Key '4648301360633386539' not in persistent cache.\n",
      "Key '-3216590177423530993' not in persistent cache.\n",
      "Key '-1622762373806973310' not in persistent cache.\n",
      "Key '1642069728191584996' not in persistent cache.\n",
      "Key '-8905590037117775136' not in persistent cache.\n",
      "Key '690043322053343919' not in persistent cache.\n",
      "Key '944280734602669882' not in persistent cache.\n",
      "Key '-9149550316225417911' not in persistent cache.\n",
      "Key '-7727993643671352372' not in persistent cache.\n",
      "Key '-518632873169698277' not in persistent cache.\n",
      "Key '-4208924129123468103' not in persistent cache.\n",
      "Key '3000436641378185992' not in persistent cache.\n",
      "Key '-1366314338656557685' not in persistent cache.\n",
      "Key '1898517763342000621' not in persistent cache.\n",
      "Key '2152755175891326584' not in persistent cache.\n",
      "Key '-6008632000748568588' not in persistent cache.\n",
      "Key '-7663071454762505398' not in persistent cache.\n",
      "Key '7002475432310747699' not in persistent cache.\n",
      "Key '-6724588387318255177' not in persistent cache.\n",
      "Key '-6855871960548539317' not in persistent cache.\n",
      "Key '-5262044156931981634' not in persistent cache.\n",
      "Key '-1997212054933423328' not in persistent cache.\n",
      "Key '-1100485148623558507' not in persistent cache.\n",
      "Key '-2949238461071664405' not in persistent cache.\n",
      "Key '-2695001048522338442' not in persistent cache.\n",
      "Key '5657911974359125381' not in persistent cache.\n",
      "Key '-4321246138161503871' not in persistent cache.\n",
      "Key '-4157914656294706601' not in persistent cache.\n",
      "Key '-7848205912248476427' not in persistent cache.\n",
      "Key '-638845141746822332' not in persistent cache.\n",
      "Key '-5005596121781566009' not in persistent cache.\n",
      "Key '-1740764019783007703' not in persistent cache.\n",
      "Key '-1486526607233681740' not in persistent cache.\n",
      "Key '8798830289835974704' not in persistent cache.\n",
      "Key '7144390835822037894' not in persistent cache.\n",
      "Key '-8037521135888955416' not in persistent cache.\n",
      "Key '-5965512787458895373' not in persistent cache.\n",
      "Key '-6813088298110811928' not in persistent cache.\n",
      "Key '-5219260494494254245' not in persistent cache.\n",
      "Key '-1954428392495695939' not in persistent cache.\n",
      "Key '5944655915904495545' not in persistent cache.\n",
      "Key '-2906454798633937016' not in persistent cache.\n",
      "Key '-2652217386084611053' not in persistent cache.\n",
      "Key '5700695636796852770' not in persistent cache.\n",
      "Key '7122252309350918309' not in persistent cache.\n",
      "Key '-4115130993856979212' not in persistent cache.\n",
      "Key '-7805422249810749038' not in persistent cache.\n",
      "Key '-7642090767943951768' not in persistent cache.\n",
      "Key '-4962812459343838620' not in persistent cache.\n",
      "Key '-1697980357345280314' not in persistent cache.\n",
      "Key '-1443742944795954351' not in persistent cache.\n",
      "Key '8841613952273702093' not in persistent cache.\n",
      "Key '141145209624908458' not in persistent cache.\n",
      "Key '3405977311623466764' not in persistent cache.\n",
      "Key '8125657565704015504' not in persistent cache.\n",
      "Key '-76848647158197015' not in persistent cache.\n",
      "Key '8563008445093217493' not in persistent cache.\n",
      "Key '4781811258456918974' not in persistent cache.\n",
      "Key '1280180781782415667' not in persistent cache.\n",
      "Key '3829784852318677897' not in persistent cache.\n",
      "Key '-314335118116364268' not in persistent cache.\n",
      "Key '-3362136880309595236' not in persistent cache.\n",
      "Key '2457777175228838431' not in persistent cache.\n",
      "Key '8425591040186827258' not in persistent cache.\n",
      "Key '9133657167217425560' not in persistent cache.\n",
      "Key '-6502083518974840089' not in persistent cache.\n",
      "Key '7577909574699967850' not in persistent cache.\n",
      "Key '-3205645014026657332' not in persistent cache.\n",
      "Key '-7349764984461699497' not in persistent cache.\n",
      "Key '2935591912607956947' not in persistent cache.\n",
      "Key '1281152458594020137' not in persistent cache.\n",
      "Key '8944341943576946571' not in persistent cache.\n",
      "Key '6617992909022638486' not in persistent cache.\n",
      "Key '8308844255138528820' not in persistent cache.\n",
      "Key '-8544072014954465113' not in persistent cache.\n",
      "Key '-5279239912955906807' not in persistent cache.\n",
      "Key '2619844395444284677' not in persistent cache.\n",
      "Key '-6231266319094147884' not in persistent cache.\n",
      "Key '1025328495545504742' not in persistent cache.\n",
      "Key '-2022473266647726226' not in persistent cache.\n",
      "Key '3797440788890707441' not in persistent cache.\n",
      "Key '6608444176407993408' not in persistent cache.\n",
      "Key '7316510303438591710' not in persistent cache.\n",
      "Key '3081484402321020852' not in persistent cache.\n",
      "Key '5760762710921134000' not in persistent cache.\n",
      "Key '-5022791877805491182' not in persistent cache.\n",
      "Key '-9166911848240533347' not in persistent cache.\n",
      "Key '5516802431813491225' not in persistent cache.\n",
      "Key '-7582023693819670538' not in persistent cache.\n",
      "Key '81165791163255896' not in persistent cache.\n",
      "Key '4800846045243804636' not in persistent cache.\n",
      "Key '2343088318937229959' not in persistent cache.\n",
      "Key '3936916122553787642' not in persistent cache.\n",
      "Key '7201748224552345948' not in persistent cache.\n",
      "Key '-3345911540757014184' not in persistent cache.\n",
      "Key '6249721818414104871' not in persistent cache.\n",
      "Key '-542070057671425991' not in persistent cache.\n",
      "Key '-3589871819864656959' not in persistent cache.\n",
      "Key '-2168315147310591420' not in persistent cache.\n",
      "Key '5041045623191062675' not in persistent cache.\n",
      "Key '1350754367237292849' not in persistent cache.\n",
      "Key '1514085849104090119' not in persistent cache.\n",
      "Key '4193364157704203267' not in persistent cache.\n",
      "Key '7458196259702761573' not in persistent cache.\n",
      "Key '7712433672252087536' not in persistent cache.\n",
      "Key '-448953504387807636' not in persistent cache.\n",
      "Key '-9149422247036601271' not in persistent cache.\n",
      "Key '-5884590145038042965' not in persistent cache.\n",
      "Key '-1164909890957494225' not in persistent cache.\n",
      "Key '4691720507663727943' not in persistent cache.\n",
      "Key '6285548311280285626' not in persistent cache.\n",
      "Key '-8896363660430707684' not in persistent cache.\n",
      "Key '-997279352030516200' not in persistent cache.\n",
      "Key '8598354007140602855' not in persistent cache.\n",
      "Key '-2591795251929296135' not in persistent cache.\n",
      "Key '-1241239631138158975' not in persistent cache.\n",
      "Key '180317041415906564' not in persistent cache.\n",
      "Key '7389677811917560659' not in persistent cache.\n",
      "Key '3699386555963790833' not in persistent cache.\n",
      "Key '-535639345153780025' not in persistent cache.\n",
      "Key '6541996346430701251' not in persistent cache.\n",
      "Key '-8639915625280292059' not in persistent cache.\n",
      "Key '5662708477994217392' not in persistent cache.\n",
      "Key '1899678684338690348' not in persistent cache.\n",
      "Key '7247596632415080201' not in persistent cache.\n",
      "Key '-3535957956311544981' not in persistent cache.\n",
      "Key '1183722297769003759' not in persistent cache.\n",
      "Key '7478817006275025556' not in persistent cache.\n",
      "Key '-2328069975183111552' not in persistent cache.\n",
      "Key '-1710909778835041943' not in persistent cache.\n",
      "Key '-5212540255509545250' not in persistent cache.\n",
      "Key '-7061293567957651148' not in persistent cache.\n",
      "Key '-6807056155408325185' not in persistent cache.\n",
      "Key '8591886156107995463' not in persistent cache.\n",
      "Key '-8433301245047490614' not in persistent cache.\n",
      "Key '-8269969763180693344' not in persistent cache.\n",
      "Key '6486483054575088446' not in persistent cache.\n",
      "Key '-4750900248632809075' not in persistent cache.\n",
      "Key '-2071621940032695927' not in persistent cache.\n",
      "Key '-1454461743684626318' not in persistent cache.\n",
      "Key '-5598581714119668483' not in persistent cache.\n",
      "Key '4686775182949987961' not in persistent cache.\n",
      "Key '3032335728936051151' not in persistent cache.\n",
      "Key '6297167830934609457' not in persistent cache.\n",
      "Key '-3031538605710025291' not in persistent cache.\n",
      "Key '-4885628897097905292' not in persistent cache.\n",
      "Key '-3291801093481347609' not in persistent cache.\n",
      "Key '4371388391501578825' not in persistent cache.\n",
      "Key '-6176271373807781307' not in persistent cache.\n",
      "Key '-8025024686255887205' not in persistent cache.\n",
      "Key '-7770787273706561242' not in persistent cache.\n",
      "Key '7628155037809759406' not in persistent cache.\n",
      "Key '9049711710363824945' not in persistent cache.\n",
      "Key '-2187671592844072576' not in persistent cache.\n",
      "Key '-5877962848797842402' not in persistent cache.\n",
      "Key '-5714631366931045132' not in persistent cache.\n",
      "Key '-3035353058330931984' not in persistent cache.\n",
      "Key '229479043667626322' not in persistent cache.\n",
      "Key '-6562312832417904540' not in persistent cache.\n",
      "Key '-7677670720422942887' not in persistent cache.\n",
      "Key '2068604610637815094' not in persistent cache.\n",
      "Key '5333436712636373400' not in persistent cache.\n",
      "Key '-3995269724008261348' not in persistent cache.\n",
      "Key '-2847419286299579385' not in persistent cache.\n",
      "Key '-2571219586857185048' not in persistent cache.\n",
      "Key '-2359639368061037268' not in persistent cache.\n",
      "Key '3686721092392445228' not in persistent cache.\n",
      "Key '7928220801659491608' not in persistent cache.\n",
      "Key '4648301360633386539' not in persistent cache.\n",
      "Key '-3216590177423530993' not in persistent cache.\n",
      "Key '-1622762373806973310' not in persistent cache.\n",
      "Key '1642069728191584996' not in persistent cache.\n",
      "Key '-8905590037117775136' not in persistent cache.\n",
      "Key '690043322053343919' not in persistent cache.\n",
      "Key '944280734602669882' not in persistent cache.\n",
      "Key '-9149550316225417911' not in persistent cache.\n",
      "Key '-7727993643671352372' not in persistent cache.\n",
      "Key '-518632873169698277' not in persistent cache.\n",
      "Key '-4208924129123468103' not in persistent cache.\n",
      "Key '3000436641378185992' not in persistent cache.\n",
      "Key '-1366314338656557685' not in persistent cache.\n",
      "Key '1898517763342000621' not in persistent cache.\n",
      "Key '2152755175891326584' not in persistent cache.\n",
      "Key '-6008632000748568588' not in persistent cache.\n",
      "Key '-7663071454762505398' not in persistent cache.\n",
      "Key '7002475432310747699' not in persistent cache.\n",
      "Key '-6724588387318255177' not in persistent cache.\n",
      "Key '-6855871960548539317' not in persistent cache.\n",
      "Key '-5262044156931981634' not in persistent cache.\n",
      "Key '-1997212054933423328' not in persistent cache.\n",
      "Key '-1100485148623558507' not in persistent cache.\n",
      "Key '-2949238461071664405' not in persistent cache.\n",
      "Key '-2695001048522338442' not in persistent cache.\n",
      "Key '5657911974359125381' not in persistent cache.\n",
      "Key '-4321246138161503871' not in persistent cache.\n",
      "Key '-4157914656294706601' not in persistent cache.\n",
      "Key '-7848205912248476427' not in persistent cache.\n",
      "Key '-638845141746822332' not in persistent cache.\n",
      "Key '-5005596121781566009' not in persistent cache.\n",
      "Key '-1740764019783007703' not in persistent cache.\n",
      "Key '-1486526607233681740' not in persistent cache.\n",
      "Key '8798830289835974704' not in persistent cache.\n",
      "Key '7144390835822037894' not in persistent cache.\n",
      "Key '-8037521135888955416' not in persistent cache.\n",
      "Key '-5965512787458895373' not in persistent cache.\n",
      "Key '-6813088298110811928' not in persistent cache.\n",
      "Key '-5219260494494254245' not in persistent cache.\n",
      "Key '-1954428392495695939' not in persistent cache.\n",
      "Key '5944655915904495545' not in persistent cache.\n",
      "Key '-2906454798633937016' not in persistent cache.\n",
      "Key '-2652217386084611053' not in persistent cache.\n",
      "Key '5700695636796852770' not in persistent cache.\n",
      "Key '7122252309350918309' not in persistent cache.\n",
      "Key '-4115130993856979212' not in persistent cache.\n",
      "Key '-7805422249810749038' not in persistent cache.\n",
      "Key '-7642090767943951768' not in persistent cache.\n",
      "Key '-4962812459343838620' not in persistent cache.\n",
      "Key '-1697980357345280314' not in persistent cache.\n",
      "Key '-1443742944795954351' not in persistent cache.\n",
      "Key '8841613952273702093' not in persistent cache.\n",
      "Key '141145209624908458' not in persistent cache.\n",
      "Key '3405977311623466764' not in persistent cache.\n",
      "Key '8125657565704015504' not in persistent cache.\n",
      "Key '-76848647158197015' not in persistent cache.\n",
      "Key '8563008445093217493' not in persistent cache.\n",
      "Key '4781811258456918974' not in persistent cache.\n",
      "Key '1280180781782415667' not in persistent cache.\n",
      "Key '3829784852318677897' not in persistent cache.\n",
      "Key '-314335118116364268' not in persistent cache.\n",
      "Key '-3362136880309595236' not in persistent cache.\n",
      "Key '2457777175228838431' not in persistent cache.\n",
      "Key '8425591040186827258' not in persistent cache.\n",
      "Key '9133657167217425560' not in persistent cache.\n",
      "Key '-6502083518974840089' not in persistent cache.\n",
      "Key '7577909574699967850' not in persistent cache.\n",
      "Key '-3205645014026657332' not in persistent cache.\n",
      "Key '-7349764984461699497' not in persistent cache.\n",
      "Key '2935591912607956947' not in persistent cache.\n",
      "Key '1281152458594020137' not in persistent cache.\n",
      "Key '8944341943576946571' not in persistent cache.\n",
      "Key '6617992909022638486' not in persistent cache.\n",
      "Key '8308844255138528820' not in persistent cache.\n",
      "Key '-8544072014954465113' not in persistent cache.\n",
      "Key '-5279239912955906807' not in persistent cache.\n",
      "Key '2619844395444284677' not in persistent cache.\n",
      "Key '-6231266319094147884' not in persistent cache.\n",
      "Key '1025328495545504742' not in persistent cache.\n",
      "Key '-2022473266647726226' not in persistent cache.\n",
      "Key '3797440788890707441' not in persistent cache.\n",
      "Key '6608444176407993408' not in persistent cache.\n",
      "Key '7316510303438591710' not in persistent cache.\n",
      "Key '3081484402321020852' not in persistent cache.\n",
      "Key '5760762710921134000' not in persistent cache.\n",
      "Key '-5022791877805491182' not in persistent cache.\n",
      "Key '-9166911848240533347' not in persistent cache.\n",
      "Key '5516802431813491225' not in persistent cache.\n",
      "Key '-7582023693819670538' not in persistent cache.\n",
      "Key '81165791163255896' not in persistent cache.\n",
      "Key '4800846045243804636' not in persistent cache.\n",
      "Key '2343088318937229959' not in persistent cache.\n",
      "Key '3936916122553787642' not in persistent cache.\n",
      "Key '7201748224552345948' not in persistent cache.\n",
      "Key '-3345911540757014184' not in persistent cache.\n",
      "Key '6249721818414104871' not in persistent cache.\n",
      "Key '-542070057671425991' not in persistent cache.\n",
      "Key '-3589871819864656959' not in persistent cache.\n",
      "Key '-2168315147310591420' not in persistent cache.\n",
      "Key '5041045623191062675' not in persistent cache.\n",
      "Key '1350754367237292849' not in persistent cache.\n",
      "Key '1514085849104090119' not in persistent cache.\n",
      "Key '4193364157704203267' not in persistent cache.\n",
      "Key '7458196259702761573' not in persistent cache.\n",
      "Key '7712433672252087536' not in persistent cache.\n",
      "Key '-448953504387807636' not in persistent cache.\n",
      "Key '-9149422247036601271' not in persistent cache.\n",
      "Key '-5884590145038042965' not in persistent cache.\n",
      "Key '-1164909890957494225' not in persistent cache.\n",
      "Key '4691720507663727943' not in persistent cache.\n",
      "Key '6285548311280285626' not in persistent cache.\n",
      "Key '-8896363660430707684' not in persistent cache.\n",
      "Key '-997279352030516200' not in persistent cache.\n",
      "Key '8598354007140602855' not in persistent cache.\n",
      "Key '-2591795251929296135' not in persistent cache.\n",
      "Key '-1241239631138158975' not in persistent cache.\n",
      "Key '180317041415906564' not in persistent cache.\n",
      "Key '7389677811917560659' not in persistent cache.\n",
      "Key '3699386555963790833' not in persistent cache.\n",
      "Key '-535639345153780025' not in persistent cache.\n",
      "Key '6541996346430701251' not in persistent cache.\n",
      "Key '-8639915625280292059' not in persistent cache.\n",
      "Key '5662708477994217392' not in persistent cache.\n",
      "Key '1899678684338690348' not in persistent cache.\n",
      "Key '7247596632415080201' not in persistent cache.\n",
      "Key '-3535957956311544981' not in persistent cache.\n",
      "Key '1183722297769003759' not in persistent cache.\n",
      "Key '7478817006275025556' not in persistent cache.\n",
      "Key '-2328069975183111552' not in persistent cache.\n",
      "Key '-1710909778835041943' not in persistent cache.\n",
      "Key '-5212540255509545250' not in persistent cache.\n",
      "Key '-7061293567957651148' not in persistent cache.\n",
      "Key '-6807056155408325185' not in persistent cache.\n",
      "Key '8591886156107995463' not in persistent cache.\n",
      "Key '-8433301245047490614' not in persistent cache.\n",
      "Key '-8269969763180693344' not in persistent cache.\n",
      "Key '6486483054575088446' not in persistent cache.\n",
      "Key '-4750900248632809075' not in persistent cache.\n",
      "Key '-2071621940032695927' not in persistent cache.\n",
      "Key '-1454461743684626318' not in persistent cache.\n",
      "Key '-5598581714119668483' not in persistent cache.\n",
      "Key '4686775182949987961' not in persistent cache.\n",
      "Key '3032335728936051151' not in persistent cache.\n",
      "Key '6297167830934609457' not in persistent cache.\n",
      "Key '-3031538605710025291' not in persistent cache.\n",
      "Key '-4885628897097905292' not in persistent cache.\n",
      "Key '-3291801093481347609' not in persistent cache.\n",
      "Key '4371388391501578825' not in persistent cache.\n",
      "Key '-6176271373807781307' not in persistent cache.\n",
      "Key '-8025024686255887205' not in persistent cache.\n",
      "Key '-7770787273706561242' not in persistent cache.\n",
      "Key '7628155037809759406' not in persistent cache.\n",
      "Key '9049711710363824945' not in persistent cache.\n",
      "Key '-2187671592844072576' not in persistent cache.\n",
      "Key '-5877962848797842402' not in persistent cache.\n",
      "Key '-5714631366931045132' not in persistent cache.\n",
      "Key '-3035353058330931984' not in persistent cache.\n",
      "Key '229479043667626322' not in persistent cache.\n",
      "Key '-6562312832417904540' not in persistent cache.\n",
      "Key '-7677670720422942887' not in persistent cache.\n",
      "Key '2068604610637815094' not in persistent cache.\n",
      "Key '5333436712636373400' not in persistent cache.\n",
      "Key '-3995269724008261348' not in persistent cache.\n",
      "Key '-2847419286299579385' not in persistent cache.\n",
      "Key '-2571219586857185048' not in persistent cache.\n",
      "Key '-2359639368061037268' not in persistent cache.\n",
      "Key '3686721092392445228' not in persistent cache.\n",
      "Key '7928220801659491608' not in persistent cache.\n",
      "Key '4648301360633386539' not in persistent cache.\n",
      "Key '-3216590177423530993' not in persistent cache.\n",
      "Key '-1622762373806973310' not in persistent cache.\n",
      "Key '1642069728191584996' not in persistent cache.\n",
      "Key '-8905590037117775136' not in persistent cache.\n",
      "Key '690043322053343919' not in persistent cache.\n",
      "Key '944280734602669882' not in persistent cache.\n",
      "Key '-9149550316225417911' not in persistent cache.\n",
      "Key '-7727993643671352372' not in persistent cache.\n",
      "Key '-518632873169698277' not in persistent cache.\n",
      "Key '-4208924129123468103' not in persistent cache.\n",
      "Key '3000436641378185992' not in persistent cache.\n",
      "Key '-1366314338656557685' not in persistent cache.\n",
      "Key '1898517763342000621' not in persistent cache.\n",
      "Key '2152755175891326584' not in persistent cache.\n",
      "Key '-6008632000748568588' not in persistent cache.\n",
      "Key '-7663071454762505398' not in persistent cache.\n",
      "Key '7002475432310747699' not in persistent cache.\n",
      "Key '-6724588387318255177' not in persistent cache.\n",
      "Key '-6855871960548539317' not in persistent cache.\n",
      "Key '-5262044156931981634' not in persistent cache.\n",
      "Key '-1997212054933423328' not in persistent cache.\n",
      "Key '-1100485148623558507' not in persistent cache.\n",
      "Key '-2949238461071664405' not in persistent cache.\n",
      "Key '-2695001048522338442' not in persistent cache.\n",
      "Key '5657911974359125381' not in persistent cache.\n",
      "Key '-4321246138161503871' not in persistent cache.\n",
      "Key '-4157914656294706601' not in persistent cache.\n",
      "Key '-7848205912248476427' not in persistent cache.\n",
      "Key '-638845141746822332' not in persistent cache.\n",
      "Key '-5005596121781566009' not in persistent cache.\n",
      "Key '-1740764019783007703' not in persistent cache.\n",
      "Key '-1486526607233681740' not in persistent cache.\n",
      "Key '8798830289835974704' not in persistent cache.\n",
      "Key '7144390835822037894' not in persistent cache.\n",
      "Key '-8037521135888955416' not in persistent cache.\n",
      "Key '-5965512787458895373' not in persistent cache.\n",
      "Key '-6813088298110811928' not in persistent cache.\n",
      "Key '-5219260494494254245' not in persistent cache.\n",
      "Key '-1954428392495695939' not in persistent cache.\n",
      "Key '5944655915904495545' not in persistent cache.\n",
      "Key '-2906454798633937016' not in persistent cache.\n",
      "Key '-2652217386084611053' not in persistent cache.\n",
      "Key '5700695636796852770' not in persistent cache.\n",
      "Key '7122252309350918309' not in persistent cache.\n",
      "Key '-4115130993856979212' not in persistent cache.\n",
      "Key '-7805422249810749038' not in persistent cache.\n",
      "Key '-7642090767943951768' not in persistent cache.\n",
      "Key '-4962812459343838620' not in persistent cache.\n",
      "Key '-1697980357345280314' not in persistent cache.\n",
      "Key '-1443742944795954351' not in persistent cache.\n",
      "Key '8841613952273702093' not in persistent cache.\n",
      "Key '141145209624908458' not in persistent cache.\n",
      "Key '3405977311623466764' not in persistent cache.\n",
      "Key '8125657565704015504' not in persistent cache.\n",
      "Key '-76848647158197015' not in persistent cache.\n",
      "Key '8563008445093217493' not in persistent cache.\n",
      "Key '4781811258456918974' not in persistent cache.\n",
      "Key '1280180781782415667' not in persistent cache.\n",
      "Key '3829784852318677897' not in persistent cache.\n",
      "Key '-314335118116364268' not in persistent cache.\n",
      "Key '-3362136880309595236' not in persistent cache.\n",
      "Key '2457777175228838431' not in persistent cache.\n"
     ]
    }
   ],
   "source": [
    "# Load packages and World Bank Data\n",
    "\n",
    "import numpy as np\n",
    "import matplotlib.pyplot as plt\n",
    "import geopandas as gpd\n",
    "import pandas as pd\n",
    "pd.options.plotting.backend = \"plotly\"\n",
    "%pip install wbdata\n",
    "import wbdata\n",
    "import warnings\n",
    "warnings.filterwarnings('ignore', category=UserWarning, module='wbdata')"
   ]
  },
  {
   "cell_type": "code",
   "execution_count": 3,
   "id": "8e16aa11-04a9-421a-8b28-f3d3ab361037",
   "metadata": {
    "scrolled": true
   },
   "outputs": [
    {
     "data": {
      "text/plain": [
       "id                    name\n",
       "--------------------  ------------------------------------------------------------------------------------------\n",
       "AG.AGR.TRAC.NO        Agricultural machinery, tractors\n",
       "AG.CON.FERT.PT.ZS     Fertilizer consumption (% of fertilizer production)\n",
       "AG.CON.FERT.ZS        Fertilizer consumption (kilograms per hectare of arable land)\n",
       "AG.LND.AGRI.K2        Agricultural land (sq. km)\n",
       "AG.LND.AGRI.ZS        Agricultural land (% of land area)\n",
       "AG.LND.ARBL.HA        Arable land (hectares)\n",
       "AG.LND.ARBL.HA.PC     Arable land (hectares per person)\n",
       "AG.LND.ARBL.ZS        Arable land (% of land area)\n",
       "AG.LND.CREL.HA        Land under cereal production (hectares)\n",
       "AG.LND.CROP.ZS        Permanent cropland (% of land area)\n",
       "AG.LND.EL5M.RU.K2     Rural land area where elevation is below 5 meters (sq. km)\n",
       "AG.LND.EL5M.RU.ZS     Rural land area where elevation is below 5 meters (% of total land area)\n",
       "AG.LND.FRST.K2        Forest area (sq. km)\n",
       "AG.LND.FRST.ZS        Forest area (% of land area)\n",
       "AG.LND.IRIG.AG.ZS     Agricultural irrigated land (% of total agricultural land)\n",
       "AG.LND.PRCP.MM        Average precipitation in depth (mm per year)\n",
       "AG.LND.TOTL.K2        Land area (sq. km)\n",
       "AG.LND.TOTL.RU.K2     Rural land area (sq. km)\n",
       "AG.LND.TRAC.ZS        Agricultural machinery, tractors per 100 sq. km of arable land\n",
       "AG.PRD.CREL.MT        Cereal production (metric tons)\n",
       "AG.PRD.CROP.XD        Crop production index (2014-2016 = 100)\n",
       "AG.PRD.FOOD.XD        Food production index (2014-2016 = 100)\n",
       "AG.PRD.LVSK.XD        Livestock production index (2014-2016 = 100)\n",
       "AG.SRF.TOTL.K2        Surface area (sq. km)\n",
       "AG.YLD.CREL.KG        Cereal yield (kg per hectare)\n",
       "EA.PRD.AGRI.KD        Agriculture value added per worker (constant 2010 US$)\n",
       "EG.ELC.ACCS.RU.ZS     Access to electricity, rural (% of rural population)\n",
       "EG.NSF.ACCS.RU.ZS     Access to non-solid fuel, rural (% of rural population)\n",
       "EN.AGR.EMPL           Economically active population in agriculture (number)\n",
       "EN.ATM.METH.AG.KT.CE  Agricultural methane emissions (thousand metric tons of CO2 equivalent)\n",
       "EN.ATM.METH.AG.ZS     Agricultural methane emissions (% of total)\n",
       "EN.ATM.NOXE.AG.KT.CE  Agricultural nitrous oxide emissions (thousand metric tons of CO2 equivalent)\n",
       "EN.ATM.NOXE.AG.ZS     Agricultural nitrous oxide emissions (% of total)\n",
       "EN.POP.EL5M.RU.ZS     Rural population living in areas where elevation is below 5 meters (% of total population)\n",
       "ER.H2O.FWAG.ZS        Annual freshwater withdrawals, agriculture (% of total freshwater withdrawal)\n",
       "NV.AGR.TOTL.CD        Agriculture, forestry, and fishing, value added (current US$)\n",
       "NV.AGR.TOTL.ZS        Agriculture, forestry, and fishing, value added (% of GDP)\n",
       "SH.H2O.SAFE.RU.ZS     Improved water source, rural (% of rural population with access)\n",
       "SH.STA.ACSN.RU        Improved sanitation facilities, rural (% of rural population with access)\n",
       "SI.POV.RUGP           Rural poverty gap at national poverty lines (%)\n",
       "SI.POV.RUHC           Rural poverty headcount ratio at national poverty lines (% of rural population)\n",
       "SL.AGR.EMPL.FE.ZS     Employment in agriculture, female (% of female employment) (modeled ILO estimate)\n",
       "SL.AGR.EMPL.MA.ZS     Employment in agriculture, male (% of male employment) (modeled ILO estimate)\n",
       "SL.AGR.EMPL.ZS        Employment in agriculture (% of total employment) (modeled ILO estimate)\n",
       "SP.RUR.TOTL           Rural population\n",
       "SP.RUR.TOTL.ZG        Rural population growth (annual %)\n",
       "SP.RUR.TOTL.ZS        Rural population (% of total population)\n",
       "TM.VAL.AGRI.ZS.UN     Agricultural raw materials imports (% of merchandise imports)\n",
       "TX.VAL.AGRI.ZS.UN     Agricultural raw materials exports (% of merchandise exports)"
      ]
     },
     "execution_count": 3,
     "metadata": {},
     "output_type": "execute_result"
    }
   ],
   "source": [
    "# Set World Bank Data Sources/Indicators for Agriculutre\n",
    " \n",
    "ag_indicators = wbdata.get_indicators(topic=1)\n",
    "ag_indicators"
   ]
  },
  {
   "cell_type": "markdown",
   "id": "8f268e43-3cd3-4b8d-9ff0-ecd3efb13b4f",
   "metadata": {},
   "source": [
    "## Agricultural Analysis"
   ]
  },
  {
   "cell_type": "markdown",
   "id": "bc80475f-f4fb-4f7d-9be2-ce954903cc83",
   "metadata": {},
   "source": [
    "### South Asia (Bangladesh, Bhutan, India, Maldives, Nepal, Pakistan, Sri Lanka)"
   ]
  },
  {
   "cell_type": "code",
   "execution_count": 38,
   "id": "97f0f467-7975-4602-94d3-22520d1b0c99",
   "metadata": {},
   "outputs": [
    {
     "data": {
      "text/html": [
       "<div>\n",
       "<style scoped>\n",
       "    .dataframe tbody tr th:only-of-type {\n",
       "        vertical-align: middle;\n",
       "    }\n",
       "\n",
       "    .dataframe tbody tr th {\n",
       "        vertical-align: top;\n",
       "    }\n",
       "\n",
       "    .dataframe thead th {\n",
       "        text-align: right;\n",
       "    }\n",
       "</style>\n",
       "<table border=\"1\" class=\"dataframe\">\n",
       "  <thead>\n",
       "    <tr style=\"text-align: right;\">\n",
       "      <th></th>\n",
       "      <th>Country</th>\n",
       "      <th>Cereal Production (MT)</th>\n",
       "      <th>Crop Production Index</th>\n",
       "      <th>Food Production Index</th>\n",
       "      <th>Total Rural Population</th>\n",
       "    </tr>\n",
       "    <tr>\n",
       "      <th>Date</th>\n",
       "      <th></th>\n",
       "      <th></th>\n",
       "      <th></th>\n",
       "      <th></th>\n",
       "      <th></th>\n",
       "    </tr>\n",
       "  </thead>\n",
       "  <tbody>\n",
       "    <tr>\n",
       "      <th>1961-01-01</th>\n",
       "      <td>South Asia (IDA &amp; IBRD)</td>\n",
       "      <td>1.165423e+08</td>\n",
       "      <td>100.00</td>\n",
       "      <td>100.00</td>\n",
       "      <td>479825865.0</td>\n",
       "    </tr>\n",
       "    <tr>\n",
       "      <th>1961-01-01</th>\n",
       "      <td>Sri Lanka</td>\n",
       "      <td>9.518680e+05</td>\n",
       "      <td>22.90</td>\n",
       "      <td>22.43</td>\n",
       "      <td>8256868.0</td>\n",
       "    </tr>\n",
       "    <tr>\n",
       "      <th>1961-01-01</th>\n",
       "      <td>Bangladesh</td>\n",
       "      <td>1.452370e+07</td>\n",
       "      <td>27.03</td>\n",
       "      <td>24.29</td>\n",
       "      <td>50496628.0</td>\n",
       "    </tr>\n",
       "    <tr>\n",
       "      <th>1961-01-01</th>\n",
       "      <td>India</td>\n",
       "      <td>8.737650e+07</td>\n",
       "      <td>24.73</td>\n",
       "      <td>22.43</td>\n",
       "      <td>366040177.0</td>\n",
       "    </tr>\n",
       "    <tr>\n",
       "      <th>1961-01-01</th>\n",
       "      <td>Pakistan</td>\n",
       "      <td>6.729680e+06</td>\n",
       "      <td>17.81</td>\n",
       "      <td>13.71</td>\n",
       "      <td>36363520.0</td>\n",
       "    </tr>\n",
       "    <tr>\n",
       "      <th>...</th>\n",
       "      <td>...</td>\n",
       "      <td>...</td>\n",
       "      <td>...</td>\n",
       "      <td>...</td>\n",
       "      <td>...</td>\n",
       "    </tr>\n",
       "    <tr>\n",
       "      <th>2022-01-01</th>\n",
       "      <td>Bhutan</td>\n",
       "      <td>7.136470e+04</td>\n",
       "      <td>68.09</td>\n",
       "      <td>77.75</td>\n",
       "      <td>439764.0</td>\n",
       "    </tr>\n",
       "    <tr>\n",
       "      <th>2022-01-01</th>\n",
       "      <td>Maldives</td>\n",
       "      <td>2.044000e+02</td>\n",
       "      <td>93.70</td>\n",
       "      <td>94.49</td>\n",
       "      <td>306413.0</td>\n",
       "    </tr>\n",
       "    <tr>\n",
       "      <th>2022-01-01</th>\n",
       "      <td>Nepal</td>\n",
       "      <td>1.112837e+07</td>\n",
       "      <td>116.66</td>\n",
       "      <td>123.18</td>\n",
       "      <td>23341178.0</td>\n",
       "    </tr>\n",
       "    <tr>\n",
       "      <th>2022-01-01</th>\n",
       "      <td>Pakistan</td>\n",
       "      <td>4.771793e+07</td>\n",
       "      <td>104.13</td>\n",
       "      <td>122.43</td>\n",
       "      <td>151749968.0</td>\n",
       "    </tr>\n",
       "    <tr>\n",
       "      <th>2022-01-01</th>\n",
       "      <td>Bangladesh</td>\n",
       "      <td>6.254953e+07</td>\n",
       "      <td>119.10</td>\n",
       "      <td>125.20</td>\n",
       "      <td>102120461.0</td>\n",
       "    </tr>\n",
       "  </tbody>\n",
       "</table>\n",
       "<p>494 rows × 5 columns</p>\n",
       "</div>"
      ],
      "text/plain": [
       "                            Country  Cereal Production (MT)  \\\n",
       "Date                                                          \n",
       "1961-01-01  South Asia (IDA & IBRD)            1.165423e+08   \n",
       "1961-01-01                Sri Lanka            9.518680e+05   \n",
       "1961-01-01               Bangladesh            1.452370e+07   \n",
       "1961-01-01                    India            8.737650e+07   \n",
       "1961-01-01                 Pakistan            6.729680e+06   \n",
       "...                             ...                     ...   \n",
       "2022-01-01                   Bhutan            7.136470e+04   \n",
       "2022-01-01                 Maldives            2.044000e+02   \n",
       "2022-01-01                    Nepal            1.112837e+07   \n",
       "2022-01-01                 Pakistan            4.771793e+07   \n",
       "2022-01-01               Bangladesh            6.254953e+07   \n",
       "\n",
       "            Crop Production Index  Food Production Index  \\\n",
       "Date                                                       \n",
       "1961-01-01                 100.00                 100.00   \n",
       "1961-01-01                  22.90                  22.43   \n",
       "1961-01-01                  27.03                  24.29   \n",
       "1961-01-01                  24.73                  22.43   \n",
       "1961-01-01                  17.81                  13.71   \n",
       "...                           ...                    ...   \n",
       "2022-01-01                  68.09                  77.75   \n",
       "2022-01-01                  93.70                  94.49   \n",
       "2022-01-01                 116.66                 123.18   \n",
       "2022-01-01                 104.13                 122.43   \n",
       "2022-01-01                 119.10                 125.20   \n",
       "\n",
       "            Total Rural Population  \n",
       "Date                                \n",
       "1961-01-01             479825865.0  \n",
       "1961-01-01               8256868.0  \n",
       "1961-01-01              50496628.0  \n",
       "1961-01-01             366040177.0  \n",
       "1961-01-01              36363520.0  \n",
       "...                            ...  \n",
       "2022-01-01                439764.0  \n",
       "2022-01-01                306413.0  \n",
       "2022-01-01              23341178.0  \n",
       "2022-01-01             151749968.0  \n",
       "2022-01-01             102120461.0  \n",
       "\n",
       "[494 rows x 5 columns]"
      ]
     },
     "execution_count": 38,
     "metadata": {},
     "output_type": "execute_result"
    }
   ],
   "source": [
    "variable_labels = {\"AG.PRD.CREL.MT\":\"Cereal Production (MT)\",\n",
    "                   \"AG.PRD.CROP.XD\":\"Crop Production Index\",\n",
    "                  \"AG.PRD.FOOD.XD\":\"Food Production Index\",\n",
    "                   'SP.RUR.TOTL': 'Total Rural Population'\n",
    "                  # \"EA.PRD.AGRI.KD\":\"Agricultural Value Added per Worker\"\n",
    "                  }\n",
    "SA_ag = wbdata.get_dataframe(variable_labels, country = countries,parse_dates=True)\n",
    "SA_ag = SA_ag.reset_index()\n",
    "SA_ag = SA_ag.rename(columns={'date': 'Date', 'country':'Country'})\n",
    "SA_ag = SA_ag.set_index(['Date']).sort_index()\n",
    "SA_ag = SA_ag.dropna(subset=[\"Cereal Production (MT)\", \"Crop Production Index\", \"Food Production Index\"])\n",
    "SA_ag"
   ]
  },
  {
   "cell_type": "code",
   "execution_count": 39,
   "id": "68ed05fe-b0db-4f59-9c52-c42356d97c9b",
   "metadata": {},
   "outputs": [
    {
     "data": {
      "application/vnd.plotly.v1+json": {
       "config": {
        "plotlyServerURL": "https://plot.ly"
       },
       "data": [
        {
         "line": {
          "color": "blue",
          "dash": "solid"
         },
         "mode": "lines+markers",
         "name": "Bangladesh",
         "type": "scatter",
         "x": [
          "1961-01-01T00:00:00",
          "1962-01-01T00:00:00",
          "1963-01-01T00:00:00",
          "1964-01-01T00:00:00",
          "1965-01-01T00:00:00",
          "1966-01-01T00:00:00",
          "1967-01-01T00:00:00",
          "1968-01-01T00:00:00",
          "1969-01-01T00:00:00",
          "1970-01-01T00:00:00",
          "1971-01-01T00:00:00",
          "1972-01-01T00:00:00",
          "1973-01-01T00:00:00",
          "1974-01-01T00:00:00",
          "1975-01-01T00:00:00",
          "1976-01-01T00:00:00",
          "1977-01-01T00:00:00",
          "1978-01-01T00:00:00",
          "1979-01-01T00:00:00",
          "1980-01-01T00:00:00",
          "1981-01-01T00:00:00",
          "1982-01-01T00:00:00",
          "1983-01-01T00:00:00",
          "1984-01-01T00:00:00",
          "1985-01-01T00:00:00",
          "1986-01-01T00:00:00",
          "1987-01-01T00:00:00",
          "1988-01-01T00:00:00",
          "1989-01-01T00:00:00",
          "1990-01-01T00:00:00",
          "1991-01-01T00:00:00",
          "1992-01-01T00:00:00",
          "1993-01-01T00:00:00",
          "1994-01-01T00:00:00",
          "1995-01-01T00:00:00",
          "1996-01-01T00:00:00",
          "1997-01-01T00:00:00",
          "1998-01-01T00:00:00",
          "1999-01-01T00:00:00",
          "2000-01-01T00:00:00",
          "2001-01-01T00:00:00",
          "2002-01-01T00:00:00",
          "2003-01-01T00:00:00",
          "2004-01-01T00:00:00",
          "2005-01-01T00:00:00",
          "2006-01-01T00:00:00",
          "2007-01-01T00:00:00",
          "2008-01-01T00:00:00",
          "2009-01-01T00:00:00",
          "2010-01-01T00:00:00",
          "2011-01-01T00:00:00",
          "2012-01-01T00:00:00",
          "2013-01-01T00:00:00",
          "2014-01-01T00:00:00",
          "2015-01-01T00:00:00",
          "2016-01-01T00:00:00",
          "2017-01-01T00:00:00",
          "2018-01-01T00:00:00",
          "2019-01-01T00:00:00",
          "2020-01-01T00:00:00",
          "2021-01-01T00:00:00",
          "2022-01-01T00:00:00"
         ],
         "y": [
          14523696,
          13408128,
          16042664,
          15842004,
          15852140,
          14464297,
          16876448,
          17160028,
          18187398,
          16905215,
          15088878,
          15323537,
          18021512,
          17105414,
          19322564,
          17908126,
          19772481,
          19984399,
          19658591,
          21698327,
          21591389,
          22339648,
          22990185,
          23256274,
          24134965,
          24266331,
          24304321,
          24449929,
          27886213,
          27746673,
          28326730,
          28516927,
          28177410,
          26325480,
          27704115,
          29620075,
          29673515,
          31577495,
          36403000,
          39503000,
          38029335,
          39341455,
          40015280,
          37759046,
          41146756,
          42044685,
          44841300,
          48946800,
          49735853,
          51862850,
          52628364,
          52801014,
          54357477,
          55241123,
          55438379,
          54262297,
          58495624,
          58816519.33,
          59185501.11,
          59962356.15,
          61597969.2,
          62549531.82
         ]
        }
       ],
       "layout": {
        "template": {
         "data": {
          "bar": [
           {
            "error_x": {
             "color": "#2a3f5f"
            },
            "error_y": {
             "color": "#2a3f5f"
            },
            "marker": {
             "line": {
              "color": "#E5ECF6",
              "width": 0.5
             },
             "pattern": {
              "fillmode": "overlay",
              "size": 10,
              "solidity": 0.2
             }
            },
            "type": "bar"
           }
          ],
          "barpolar": [
           {
            "marker": {
             "line": {
              "color": "#E5ECF6",
              "width": 0.5
             },
             "pattern": {
              "fillmode": "overlay",
              "size": 10,
              "solidity": 0.2
             }
            },
            "type": "barpolar"
           }
          ],
          "carpet": [
           {
            "aaxis": {
             "endlinecolor": "#2a3f5f",
             "gridcolor": "white",
             "linecolor": "white",
             "minorgridcolor": "white",
             "startlinecolor": "#2a3f5f"
            },
            "baxis": {
             "endlinecolor": "#2a3f5f",
             "gridcolor": "white",
             "linecolor": "white",
             "minorgridcolor": "white",
             "startlinecolor": "#2a3f5f"
            },
            "type": "carpet"
           }
          ],
          "choropleth": [
           {
            "colorbar": {
             "outlinewidth": 0,
             "ticks": ""
            },
            "type": "choropleth"
           }
          ],
          "contour": [
           {
            "colorbar": {
             "outlinewidth": 0,
             "ticks": ""
            },
            "colorscale": [
             [
              0,
              "#0d0887"
             ],
             [
              0.1111111111111111,
              "#46039f"
             ],
             [
              0.2222222222222222,
              "#7201a8"
             ],
             [
              0.3333333333333333,
              "#9c179e"
             ],
             [
              0.4444444444444444,
              "#bd3786"
             ],
             [
              0.5555555555555556,
              "#d8576b"
             ],
             [
              0.6666666666666666,
              "#ed7953"
             ],
             [
              0.7777777777777778,
              "#fb9f3a"
             ],
             [
              0.8888888888888888,
              "#fdca26"
             ],
             [
              1,
              "#f0f921"
             ]
            ],
            "type": "contour"
           }
          ],
          "contourcarpet": [
           {
            "colorbar": {
             "outlinewidth": 0,
             "ticks": ""
            },
            "type": "contourcarpet"
           }
          ],
          "heatmap": [
           {
            "colorbar": {
             "outlinewidth": 0,
             "ticks": ""
            },
            "colorscale": [
             [
              0,
              "#0d0887"
             ],
             [
              0.1111111111111111,
              "#46039f"
             ],
             [
              0.2222222222222222,
              "#7201a8"
             ],
             [
              0.3333333333333333,
              "#9c179e"
             ],
             [
              0.4444444444444444,
              "#bd3786"
             ],
             [
              0.5555555555555556,
              "#d8576b"
             ],
             [
              0.6666666666666666,
              "#ed7953"
             ],
             [
              0.7777777777777778,
              "#fb9f3a"
             ],
             [
              0.8888888888888888,
              "#fdca26"
             ],
             [
              1,
              "#f0f921"
             ]
            ],
            "type": "heatmap"
           }
          ],
          "heatmapgl": [
           {
            "colorbar": {
             "outlinewidth": 0,
             "ticks": ""
            },
            "colorscale": [
             [
              0,
              "#0d0887"
             ],
             [
              0.1111111111111111,
              "#46039f"
             ],
             [
              0.2222222222222222,
              "#7201a8"
             ],
             [
              0.3333333333333333,
              "#9c179e"
             ],
             [
              0.4444444444444444,
              "#bd3786"
             ],
             [
              0.5555555555555556,
              "#d8576b"
             ],
             [
              0.6666666666666666,
              "#ed7953"
             ],
             [
              0.7777777777777778,
              "#fb9f3a"
             ],
             [
              0.8888888888888888,
              "#fdca26"
             ],
             [
              1,
              "#f0f921"
             ]
            ],
            "type": "heatmapgl"
           }
          ],
          "histogram": [
           {
            "marker": {
             "pattern": {
              "fillmode": "overlay",
              "size": 10,
              "solidity": 0.2
             }
            },
            "type": "histogram"
           }
          ],
          "histogram2d": [
           {
            "colorbar": {
             "outlinewidth": 0,
             "ticks": ""
            },
            "colorscale": [
             [
              0,
              "#0d0887"
             ],
             [
              0.1111111111111111,
              "#46039f"
             ],
             [
              0.2222222222222222,
              "#7201a8"
             ],
             [
              0.3333333333333333,
              "#9c179e"
             ],
             [
              0.4444444444444444,
              "#bd3786"
             ],
             [
              0.5555555555555556,
              "#d8576b"
             ],
             [
              0.6666666666666666,
              "#ed7953"
             ],
             [
              0.7777777777777778,
              "#fb9f3a"
             ],
             [
              0.8888888888888888,
              "#fdca26"
             ],
             [
              1,
              "#f0f921"
             ]
            ],
            "type": "histogram2d"
           }
          ],
          "histogram2dcontour": [
           {
            "colorbar": {
             "outlinewidth": 0,
             "ticks": ""
            },
            "colorscale": [
             [
              0,
              "#0d0887"
             ],
             [
              0.1111111111111111,
              "#46039f"
             ],
             [
              0.2222222222222222,
              "#7201a8"
             ],
             [
              0.3333333333333333,
              "#9c179e"
             ],
             [
              0.4444444444444444,
              "#bd3786"
             ],
             [
              0.5555555555555556,
              "#d8576b"
             ],
             [
              0.6666666666666666,
              "#ed7953"
             ],
             [
              0.7777777777777778,
              "#fb9f3a"
             ],
             [
              0.8888888888888888,
              "#fdca26"
             ],
             [
              1,
              "#f0f921"
             ]
            ],
            "type": "histogram2dcontour"
           }
          ],
          "mesh3d": [
           {
            "colorbar": {
             "outlinewidth": 0,
             "ticks": ""
            },
            "type": "mesh3d"
           }
          ],
          "parcoords": [
           {
            "line": {
             "colorbar": {
              "outlinewidth": 0,
              "ticks": ""
             }
            },
            "type": "parcoords"
           }
          ],
          "pie": [
           {
            "automargin": true,
            "type": "pie"
           }
          ],
          "scatter": [
           {
            "fillpattern": {
             "fillmode": "overlay",
             "size": 10,
             "solidity": 0.2
            },
            "type": "scatter"
           }
          ],
          "scatter3d": [
           {
            "line": {
             "colorbar": {
              "outlinewidth": 0,
              "ticks": ""
             }
            },
            "marker": {
             "colorbar": {
              "outlinewidth": 0,
              "ticks": ""
             }
            },
            "type": "scatter3d"
           }
          ],
          "scattercarpet": [
           {
            "marker": {
             "colorbar": {
              "outlinewidth": 0,
              "ticks": ""
             }
            },
            "type": "scattercarpet"
           }
          ],
          "scattergeo": [
           {
            "marker": {
             "colorbar": {
              "outlinewidth": 0,
              "ticks": ""
             }
            },
            "type": "scattergeo"
           }
          ],
          "scattergl": [
           {
            "marker": {
             "colorbar": {
              "outlinewidth": 0,
              "ticks": ""
             }
            },
            "type": "scattergl"
           }
          ],
          "scattermapbox": [
           {
            "marker": {
             "colorbar": {
              "outlinewidth": 0,
              "ticks": ""
             }
            },
            "type": "scattermapbox"
           }
          ],
          "scatterpolar": [
           {
            "marker": {
             "colorbar": {
              "outlinewidth": 0,
              "ticks": ""
             }
            },
            "type": "scatterpolar"
           }
          ],
          "scatterpolargl": [
           {
            "marker": {
             "colorbar": {
              "outlinewidth": 0,
              "ticks": ""
             }
            },
            "type": "scatterpolargl"
           }
          ],
          "scatterternary": [
           {
            "marker": {
             "colorbar": {
              "outlinewidth": 0,
              "ticks": ""
             }
            },
            "type": "scatterternary"
           }
          ],
          "surface": [
           {
            "colorbar": {
             "outlinewidth": 0,
             "ticks": ""
            },
            "colorscale": [
             [
              0,
              "#0d0887"
             ],
             [
              0.1111111111111111,
              "#46039f"
             ],
             [
              0.2222222222222222,
              "#7201a8"
             ],
             [
              0.3333333333333333,
              "#9c179e"
             ],
             [
              0.4444444444444444,
              "#bd3786"
             ],
             [
              0.5555555555555556,
              "#d8576b"
             ],
             [
              0.6666666666666666,
              "#ed7953"
             ],
             [
              0.7777777777777778,
              "#fb9f3a"
             ],
             [
              0.8888888888888888,
              "#fdca26"
             ],
             [
              1,
              "#f0f921"
             ]
            ],
            "type": "surface"
           }
          ],
          "table": [
           {
            "cells": {
             "fill": {
              "color": "#EBF0F8"
             },
             "line": {
              "color": "white"
             }
            },
            "header": {
             "fill": {
              "color": "#C8D4E3"
             },
             "line": {
              "color": "white"
             }
            },
            "type": "table"
           }
          ]
         },
         "layout": {
          "annotationdefaults": {
           "arrowcolor": "#2a3f5f",
           "arrowhead": 0,
           "arrowwidth": 1
          },
          "autotypenumbers": "strict",
          "coloraxis": {
           "colorbar": {
            "outlinewidth": 0,
            "ticks": ""
           }
          },
          "colorscale": {
           "diverging": [
            [
             0,
             "#8e0152"
            ],
            [
             0.1,
             "#c51b7d"
            ],
            [
             0.2,
             "#de77ae"
            ],
            [
             0.3,
             "#f1b6da"
            ],
            [
             0.4,
             "#fde0ef"
            ],
            [
             0.5,
             "#f7f7f7"
            ],
            [
             0.6,
             "#e6f5d0"
            ],
            [
             0.7,
             "#b8e186"
            ],
            [
             0.8,
             "#7fbc41"
            ],
            [
             0.9,
             "#4d9221"
            ],
            [
             1,
             "#276419"
            ]
           ],
           "sequential": [
            [
             0,
             "#0d0887"
            ],
            [
             0.1111111111111111,
             "#46039f"
            ],
            [
             0.2222222222222222,
             "#7201a8"
            ],
            [
             0.3333333333333333,
             "#9c179e"
            ],
            [
             0.4444444444444444,
             "#bd3786"
            ],
            [
             0.5555555555555556,
             "#d8576b"
            ],
            [
             0.6666666666666666,
             "#ed7953"
            ],
            [
             0.7777777777777778,
             "#fb9f3a"
            ],
            [
             0.8888888888888888,
             "#fdca26"
            ],
            [
             1,
             "#f0f921"
            ]
           ],
           "sequentialminus": [
            [
             0,
             "#0d0887"
            ],
            [
             0.1111111111111111,
             "#46039f"
            ],
            [
             0.2222222222222222,
             "#7201a8"
            ],
            [
             0.3333333333333333,
             "#9c179e"
            ],
            [
             0.4444444444444444,
             "#bd3786"
            ],
            [
             0.5555555555555556,
             "#d8576b"
            ],
            [
             0.6666666666666666,
             "#ed7953"
            ],
            [
             0.7777777777777778,
             "#fb9f3a"
            ],
            [
             0.8888888888888888,
             "#fdca26"
            ],
            [
             1,
             "#f0f921"
            ]
           ]
          },
          "colorway": [
           "#636efa",
           "#EF553B",
           "#00cc96",
           "#ab63fa",
           "#FFA15A",
           "#19d3f3",
           "#FF6692",
           "#B6E880",
           "#FF97FF",
           "#FECB52"
          ],
          "font": {
           "color": "#2a3f5f"
          },
          "geo": {
           "bgcolor": "white",
           "lakecolor": "white",
           "landcolor": "#E5ECF6",
           "showlakes": true,
           "showland": true,
           "subunitcolor": "white"
          },
          "hoverlabel": {
           "align": "left"
          },
          "hovermode": "closest",
          "mapbox": {
           "style": "light"
          },
          "paper_bgcolor": "white",
          "plot_bgcolor": "#E5ECF6",
          "polar": {
           "angularaxis": {
            "gridcolor": "white",
            "linecolor": "white",
            "ticks": ""
           },
           "bgcolor": "#E5ECF6",
           "radialaxis": {
            "gridcolor": "white",
            "linecolor": "white",
            "ticks": ""
           }
          },
          "scene": {
           "xaxis": {
            "backgroundcolor": "#E5ECF6",
            "gridcolor": "white",
            "gridwidth": 2,
            "linecolor": "white",
            "showbackground": true,
            "ticks": "",
            "zerolinecolor": "white"
           },
           "yaxis": {
            "backgroundcolor": "#E5ECF6",
            "gridcolor": "white",
            "gridwidth": 2,
            "linecolor": "white",
            "showbackground": true,
            "ticks": "",
            "zerolinecolor": "white"
           },
           "zaxis": {
            "backgroundcolor": "#E5ECF6",
            "gridcolor": "white",
            "gridwidth": 2,
            "linecolor": "white",
            "showbackground": true,
            "ticks": "",
            "zerolinecolor": "white"
           }
          },
          "shapedefaults": {
           "line": {
            "color": "#2a3f5f"
           }
          },
          "ternary": {
           "aaxis": {
            "gridcolor": "white",
            "linecolor": "white",
            "ticks": ""
           },
           "baxis": {
            "gridcolor": "white",
            "linecolor": "white",
            "ticks": ""
           },
           "bgcolor": "#E5ECF6",
           "caxis": {
            "gridcolor": "white",
            "linecolor": "white",
            "ticks": ""
           }
          },
          "title": {
           "x": 0.05
          },
          "xaxis": {
           "automargin": true,
           "gridcolor": "white",
           "linecolor": "white",
           "ticks": "",
           "title": {
            "standoff": 15
           },
           "zerolinecolor": "white",
           "zerolinewidth": 2
          },
          "yaxis": {
           "automargin": true,
           "gridcolor": "white",
           "linecolor": "white",
           "ticks": "",
           "title": {
            "standoff": 15
           },
           "zerolinecolor": "white",
           "zerolinewidth": 2
          }
         }
        },
        "title": {
         "text": "Cereal Production Over Time (Bangladesh)"
        },
        "xaxis": {
         "title": {
          "text": "Year"
         }
        },
        "yaxis": {
         "title": {
          "text": "Cereal Production (MT)"
         }
        }
       }
      },
      "image/png": "[encoded data removed]",
      "text/html": [
       "<div>                            <div id=\"2c22b84b-3003-4a0f-ae36-4427add370c2\" class=\"plotly-graph-div\" style=\"height:525px; width:100%;\"></div>            <script type=\"text/javascript\">                require([\"plotly\"], function(Plotly) {                    window.PLOTLYENV=window.PLOTLYENV || {};                                    if (document.getElementById(\"2c22b84b-3003-4a0f-ae36-4427add370c2\")) {                    Plotly.newPlot(                        \"2c22b84b-3003-4a0f-ae36-4427add370c2\",                        [{\"line\":{\"color\":\"blue\",\"dash\":\"solid\"},\"mode\":\"lines+markers\",\"name\":\"Bangladesh\",\"x\":[\"1961-01-01T00:00:00\",\"1962-01-01T00:00:00\",\"1963-01-01T00:00:00\",\"1964-01-01T00:00:00\",\"1965-01-01T00:00:00\",\"1966-01-01T00:00:00\",\"1967-01-01T00:00:00\",\"1968-01-01T00:00:00\",\"1969-01-01T00:00:00\",\"1970-01-01T00:00:00\",\"1971-01-01T00:00:00\",\"1972-01-01T00:00:00\",\"1973-01-01T00:00:00\",\"1974-01-01T00:00:00\",\"1975-01-01T00:00:00\",\"1976-01-01T00:00:00\",\"1977-01-01T00:00:00\",\"1978-01-01T00:00:00\",\"1979-01-01T00:00:00\",\"1980-01-01T00:00:00\",\"1981-01-01T00:00:00\",\"1982-01-01T00:00:00\",\"1983-01-01T00:00:00\",\"1984-01-01T00:00:00\",\"1985-01-01T00:00:00\",\"1986-01-01T00:00:00\",\"1987-01-01T00:00:00\",\"1988-01-01T00:00:00\",\"1989-01-01T00:00:00\",\"1990-01-01T00:00:00\",\"1991-01-01T00:00:00\",\"1992-01-01T00:00:00\",\"1993-01-01T00:00:00\",\"1994-01-01T00:00:00\",\"1995-01-01T00:00:00\",\"1996-01-01T00:00:00\",\"1997-01-01T00:00:00\",\"1998-01-01T00:00:00\",\"1999-01-01T00:00:00\",\"2000-01-01T00:00:00\",\"2001-01-01T00:00:00\",\"2002-01-01T00:00:00\",\"2003-01-01T00:00:00\",\"2004-01-01T00:00:00\",\"2005-01-01T00:00:00\",\"2006-01-01T00:00:00\",\"2007-01-01T00:00:00\",\"2008-01-01T00:00:00\",\"2009-01-01T00:00:00\",\"2010-01-01T00:00:00\",\"2011-01-01T00:00:00\",\"2012-01-01T00:00:00\",\"2013-01-01T00:00:00\",\"2014-01-01T00:00:00\",\"2015-01-01T00:00:00\",\"2016-01-01T00:00:00\",\"2017-01-01T00:00:00\",\"2018-01-01T00:00:00\",\"2019-01-01T00:00:00\",\"2020-01-01T00:00:00\",\"2021-01-01T00:00:00\",\"2022-01-01T00:00:00\"],\"y\":[14523696.0,13408128.0,16042664.0,15842004.0,15852140.0,14464297.0,16876448.0,17160028.0,18187398.0,16905215.0,15088878.0,15323537.0,18021512.0,17105414.0,19322564.0,17908126.0,19772481.0,19984399.0,19658591.0,21698327.0,21591389.0,22339648.0,22990185.0,23256274.0,24134965.0,24266331.0,24304321.0,24449929.0,27886213.0,27746673.0,28326730.0,28516927.0,28177410.0,26325480.0,27704115.0,29620075.0,29673515.0,31577495.0,36403000.0,39503000.0,38029335.0,39341455.0,40015280.0,37759046.0,41146756.0,42044685.0,44841300.0,48946800.0,49735853.0,51862850.0,52628364.0,52801014.0,54357477.0,55241123.0,55438379.0,54262297.0,58495624.0,58816519.33,59185501.11,59962356.15,61597969.2,62549531.82],\"type\":\"scatter\"}],                        {\"template\":{\"data\":{\"histogram2dcontour\":[{\"type\":\"histogram2dcontour\",\"colorbar\":{\"outlinewidth\":0,\"ticks\":\"\"},\"colorscale\":[[0.0,\"#0d0887\"],[0.1111111111111111,\"#46039f\"],[0.2222222222222222,\"#7201a8\"],[0.3333333333333333,\"#9c179e\"],[0.4444444444444444,\"#bd3786\"],[0.5555555555555556,\"#d8576b\"],[0.6666666666666666,\"#ed7953\"],[0.7777777777777778,\"#fb9f3a\"],[0.8888888888888888,\"#fdca26\"],[1.0,\"#f0f921\"]]}],\"choropleth\":[{\"type\":\"choropleth\",\"colorbar\":{\"outlinewidth\":0,\"ticks\":\"\"}}],\"histogram2d\":[{\"type\":\"histogram2d\",\"colorbar\":{\"outlinewidth\":0,\"ticks\":\"\"},\"colorscale\":[[0.0,\"#0d0887\"],[0.1111111111111111,\"#46039f\"],[0.2222222222222222,\"#7201a8\"],[0.3333333333333333,\"#9c179e\"],[0.4444444444444444,\"#bd3786\"],[0.5555555555555556,\"#d8576b\"],[0.6666666666666666,\"#ed7953\"],[0.7777777777777778,\"#fb9f3a\"],[0.8888888888888888,\"#fdca26\"],[1.0,\"#f0f921\"]]}],\"heatmap\":[{\"type\":\"heatmap\",\"colorbar\":{\"outlinewidth\":0,\"ticks\":\"\"},\"colorscale\":[[0.0,\"#0d0887\"],[0.1111111111111111,\"#46039f\"],[0.2222222222222222,\"#7201a8\"],[0.3333333333333333,\"#9c179e\"],[0.4444444444444444,\"#bd3786\"],[0.5555555555555556,\"#d8576b\"],[0.6666666666666666,\"#ed7953\"],[0.7777777777777778,\"#fb9f3a\"],[0.8888888888888888,\"#fdca26\"],[1.0,\"#f0f921\"]]}],\"heatmapgl\":[{\"type\":\"heatmapgl\",\"colorbar\":{\"outlinewidth\":0,\"ticks\":\"\"},\"colorscale\":[[0.0,\"#0d0887\"],[0.1111111111111111,\"#46039f\"],[0.2222222222222222,\"#7201a8\"],[0.3333333333333333,\"#9c179e\"],[0.4444444444444444,\"#bd3786\"],[0.5555555555555556,\"#d8576b\"],[0.6666666666666666,\"#ed7953\"],[0.7777777777777778,\"#fb9f3a\"],[0.8888888888888888,\"#fdca26\"],[1.0,\"#f0f921\"]]}],\"contourcarpet\":[{\"type\":\"contourcarpet\",\"colorbar\":{\"outlinewidth\":0,\"ticks\":\"\"}}],\"contour\":[{\"type\":\"contour\",\"colorbar\":{\"outlinewidth\":0,\"ticks\":\"\"},\"colorscale\":[[0.0,\"#0d0887\"],[0.1111111111111111,\"#46039f\"],[0.2222222222222222,\"#7201a8\"],[0.3333333333333333,\"#9c179e\"],[0.4444444444444444,\"#bd3786\"],[0.5555555555555556,\"#d8576b\"],[0.6666666666666666,\"#ed7953\"],[0.7777777777777778,\"#fb9f3a\"],[0.8888888888888888,\"#fdca26\"],[1.0,\"#f0f921\"]]}],\"surface\":[{\"type\":\"surface\",\"colorbar\":{\"outlinewidth\":0,\"ticks\":\"\"},\"colorscale\":[[0.0,\"#0d0887\"],[0.1111111111111111,\"#46039f\"],[0.2222222222222222,\"#7201a8\"],[0.3333333333333333,\"#9c179e\"],[0.4444444444444444,\"#bd3786\"],[0.5555555555555556,\"#d8576b\"],[0.6666666666666666,\"#ed7953\"],[0.7777777777777778,\"#fb9f3a\"],[0.8888888888888888,\"#fdca26\"],[1.0,\"#f0f921\"]]}],\"mesh3d\":[{\"type\":\"mesh3d\",\"colorbar\":{\"outlinewidth\":0,\"ticks\":\"\"}}],\"scatter\":[{\"fillpattern\":{\"fillmode\":\"overlay\",\"size\":10,\"solidity\":0.2},\"type\":\"scatter\"}],\"parcoords\":[{\"type\":\"parcoords\",\"line\":{\"colorbar\":{\"outlinewidth\":0,\"ticks\":\"\"}}}],\"scatterpolargl\":[{\"type\":\"scatterpolargl\",\"marker\":{\"colorbar\":{\"outlinewidth\":0,\"ticks\":\"\"}}}],\"bar\":[{\"error_x\":{\"color\":\"#2a3f5f\"},\"error_y\":{\"color\":\"#2a3f5f\"},\"marker\":{\"line\":{\"color\":\"#E5ECF6\",\"width\":0.5},\"pattern\":{\"fillmode\":\"overlay\",\"size\":10,\"solidity\":0.2}},\"type\":\"bar\"}],\"scattergeo\":[{\"type\":\"scattergeo\",\"marker\":{\"colorbar\":{\"outlinewidth\":0,\"ticks\":\"\"}}}],\"scatterpolar\":[{\"type\":\"scatterpolar\",\"marker\":{\"colorbar\":{\"outlinewidth\":0,\"ticks\":\"\"}}}],\"histogram\":[{\"marker\":{\"pattern\":{\"fillmode\":\"overlay\",\"size\":10,\"solidity\":0.2}},\"type\":\"histogram\"}],\"scattergl\":[{\"type\":\"scattergl\",\"marker\":{\"colorbar\":{\"outlinewidth\":0,\"ticks\":\"\"}}}],\"scatter3d\":[{\"type\":\"scatter3d\",\"line\":{\"colorbar\":{\"outlinewidth\":0,\"ticks\":\"\"}},\"marker\":{\"colorbar\":{\"outlinewidth\":0,\"ticks\":\"\"}}}],\"scattermapbox\":[{\"type\":\"scattermapbox\",\"marker\":{\"colorbar\":{\"outlinewidth\":0,\"ticks\":\"\"}}}],\"scatterternary\":[{\"type\":\"scatterternary\",\"marker\":{\"colorbar\":{\"outlinewidth\":0,\"ticks\":\"\"}}}],\"scattercarpet\":[{\"type\":\"scattercarpet\",\"marker\":{\"colorbar\":{\"outlinewidth\":0,\"ticks\":\"\"}}}],\"carpet\":[{\"aaxis\":{\"endlinecolor\":\"#2a3f5f\",\"gridcolor\":\"white\",\"linecolor\":\"white\",\"minorgridcolor\":\"white\",\"startlinecolor\":\"#2a3f5f\"},\"baxis\":{\"endlinecolor\":\"#2a3f5f\",\"gridcolor\":\"white\",\"linecolor\":\"white\",\"minorgridcolor\":\"white\",\"startlinecolor\":\"#2a3f5f\"},\"type\":\"carpet\"}],\"table\":[{\"cells\":{\"fill\":{\"color\":\"#EBF0F8\"},\"line\":{\"color\":\"white\"}},\"header\":{\"fill\":{\"color\":\"#C8D4E3\"},\"line\":{\"color\":\"white\"}},\"type\":\"table\"}],\"barpolar\":[{\"marker\":{\"line\":{\"color\":\"#E5ECF6\",\"width\":0.5},\"pattern\":{\"fillmode\":\"overlay\",\"size\":10,\"solidity\":0.2}},\"type\":\"barpolar\"}],\"pie\":[{\"automargin\":true,\"type\":\"pie\"}]},\"layout\":{\"autotypenumbers\":\"strict\",\"colorway\":[\"#636efa\",\"#EF553B\",\"#00cc96\",\"#ab63fa\",\"#FFA15A\",\"#19d3f3\",\"#FF6692\",\"#B6E880\",\"#FF97FF\",\"#FECB52\"],\"font\":{\"color\":\"#2a3f5f\"},\"hovermode\":\"closest\",\"hoverlabel\":{\"align\":\"left\"},\"paper_bgcolor\":\"white\",\"plot_bgcolor\":\"#E5ECF6\",\"polar\":{\"bgcolor\":\"#E5ECF6\",\"angularaxis\":{\"gridcolor\":\"white\",\"linecolor\":\"white\",\"ticks\":\"\"},\"radialaxis\":{\"gridcolor\":\"white\",\"linecolor\":\"white\",\"ticks\":\"\"}},\"ternary\":{\"bgcolor\":\"#E5ECF6\",\"aaxis\":{\"gridcolor\":\"white\",\"linecolor\":\"white\",\"ticks\":\"\"},\"baxis\":{\"gridcolor\":\"white\",\"linecolor\":\"white\",\"ticks\":\"\"},\"caxis\":{\"gridcolor\":\"white\",\"linecolor\":\"white\",\"ticks\":\"\"}},\"coloraxis\":{\"colorbar\":{\"outlinewidth\":0,\"ticks\":\"\"}},\"colorscale\":{\"sequential\":[[0.0,\"#0d0887\"],[0.1111111111111111,\"#46039f\"],[0.2222222222222222,\"#7201a8\"],[0.3333333333333333,\"#9c179e\"],[0.4444444444444444,\"#bd3786\"],[0.5555555555555556,\"#d8576b\"],[0.6666666666666666,\"#ed7953\"],[0.7777777777777778,\"#fb9f3a\"],[0.8888888888888888,\"#fdca26\"],[1.0,\"#f0f921\"]],\"sequentialminus\":[[0.0,\"#0d0887\"],[0.1111111111111111,\"#46039f\"],[0.2222222222222222,\"#7201a8\"],[0.3333333333333333,\"#9c179e\"],[0.4444444444444444,\"#bd3786\"],[0.5555555555555556,\"#d8576b\"],[0.6666666666666666,\"#ed7953\"],[0.7777777777777778,\"#fb9f3a\"],[0.8888888888888888,\"#fdca26\"],[1.0,\"#f0f921\"]],\"diverging\":[[0,\"#8e0152\"],[0.1,\"#c51b7d\"],[0.2,\"#de77ae\"],[0.3,\"#f1b6da\"],[0.4,\"#fde0ef\"],[0.5,\"#f7f7f7\"],[0.6,\"#e6f5d0\"],[0.7,\"#b8e186\"],[0.8,\"#7fbc41\"],[0.9,\"#4d9221\"],[1,\"#276419\"]]},\"xaxis\":{\"gridcolor\":\"white\",\"linecolor\":\"white\",\"ticks\":\"\",\"title\":{\"standoff\":15},\"zerolinecolor\":\"white\",\"automargin\":true,\"zerolinewidth\":2},\"yaxis\":{\"gridcolor\":\"white\",\"linecolor\":\"white\",\"ticks\":\"\",\"title\":{\"standoff\":15},\"zerolinecolor\":\"white\",\"automargin\":true,\"zerolinewidth\":2},\"scene\":{\"xaxis\":{\"backgroundcolor\":\"#E5ECF6\",\"gridcolor\":\"white\",\"linecolor\":\"white\",\"showbackground\":true,\"ticks\":\"\",\"zerolinecolor\":\"white\",\"gridwidth\":2},\"yaxis\":{\"backgroundcolor\":\"#E5ECF6\",\"gridcolor\":\"white\",\"linecolor\":\"white\",\"showbackground\":true,\"ticks\":\"\",\"zerolinecolor\":\"white\",\"gridwidth\":2},\"zaxis\":{\"backgroundcolor\":\"#E5ECF6\",\"gridcolor\":\"white\",\"linecolor\":\"white\",\"showbackground\":true,\"ticks\":\"\",\"zerolinecolor\":\"white\",\"gridwidth\":2}},\"shapedefaults\":{\"line\":{\"color\":\"#2a3f5f\"}},\"annotationdefaults\":{\"arrowcolor\":\"#2a3f5f\",\"arrowhead\":0,\"arrowwidth\":1},\"geo\":{\"bgcolor\":\"white\",\"landcolor\":\"#E5ECF6\",\"subunitcolor\":\"white\",\"showland\":true,\"showlakes\":true,\"lakecolor\":\"white\"},\"title\":{\"x\":0.05},\"mapbox\":{\"style\":\"light\"}}},\"title\":{\"text\":\"Cereal Production Over Time (Bangladesh)\"},\"xaxis\":{\"title\":{\"text\":\"Year\"}},\"yaxis\":{\"title\":{\"text\":\"Cereal Production (MT)\"}}},                        {\"responsive\": true}                    ).then(function(){\n",
       "                            \n",
       "var gd = document.getElementById('2c22b84b-3003-4a0f-ae36-4427add370c2');\n",
       "var x = new MutationObserver(function (mutations, observer) {{\n",
       "        var display = window.getComputedStyle(gd).display;\n",
       "        if (!display || display === 'none') {{\n",
       "            console.log([gd, 'removed!']);\n",
       "            Plotly.purge(gd);\n",
       "            observer.disconnect();\n",
       "        }}\n",
       "}});\n",
       "\n",
       "// Listen for the removal of the full notebook cells\n",
       "var notebookContainer = gd.closest('#notebook-container');\n",
       "if (notebookContainer) {{\n",
       "    x.observe(notebookContainer, {childList: true});\n",
       "}}\n",
       "\n",
       "// Listen for the clearing of the current output cell\n",
       "var outputEl = gd.closest('.output');\n",
       "if (outputEl) {{\n",
       "    x.observe(outputEl, {childList: true});\n",
       "}}\n",
       "\n",
       "                        })                };                });            </script>        </div>"
      ]
     },
     "metadata": {},
     "output_type": "display_data"
    },
    {
     "data": {
      "application/vnd.plotly.v1+json": {
       "config": {
        "plotlyServerURL": "https://plot.ly"
       },
       "data": [
        {
         "line": {
          "color": "red",
          "dash": "solid"
         },
         "mode": "lines+markers",
         "name": "Total Region",
         "type": "scatter",
         "x": [
          "1961-01-01T00:00:00",
          "1962-01-01T00:00:00",
          "1963-01-01T00:00:00",
          "1964-01-01T00:00:00",
          "1965-01-01T00:00:00",
          "1966-01-01T00:00:00",
          "1967-01-01T00:00:00",
          "1968-01-01T00:00:00",
          "1969-01-01T00:00:00",
          "1970-01-01T00:00:00",
          "1971-01-01T00:00:00",
          "1972-01-01T00:00:00",
          "1973-01-01T00:00:00",
          "1974-01-01T00:00:00",
          "1975-01-01T00:00:00",
          "1976-01-01T00:00:00",
          "1977-01-01T00:00:00",
          "1978-01-01T00:00:00",
          "1979-01-01T00:00:00",
          "1980-01-01T00:00:00",
          "1981-01-01T00:00:00",
          "1982-01-01T00:00:00",
          "1983-01-01T00:00:00",
          "1984-01-01T00:00:00",
          "1985-01-01T00:00:00",
          "1986-01-01T00:00:00",
          "1987-01-01T00:00:00",
          "1988-01-01T00:00:00",
          "1989-01-01T00:00:00",
          "1990-01-01T00:00:00",
          "1991-01-01T00:00:00",
          "1992-01-01T00:00:00",
          "1993-01-01T00:00:00",
          "1994-01-01T00:00:00",
          "1995-01-01T00:00:00",
          "1996-01-01T00:00:00",
          "1997-01-01T00:00:00",
          "1998-01-01T00:00:00",
          "1999-01-01T00:00:00",
          "2000-01-01T00:00:00",
          "2001-01-01T00:00:00",
          "2002-01-01T00:00:00",
          "2003-01-01T00:00:00",
          "2004-01-01T00:00:00",
          "2005-01-01T00:00:00",
          "2006-01-01T00:00:00",
          "2007-01-01T00:00:00",
          "2008-01-01T00:00:00",
          "2009-01-01T00:00:00",
          "2010-01-01T00:00:00",
          "2011-01-01T00:00:00",
          "2012-01-01T00:00:00",
          "2013-01-01T00:00:00",
          "2014-01-01T00:00:00",
          "2015-01-01T00:00:00",
          "2016-01-01T00:00:00",
          "2017-01-01T00:00:00",
          "2018-01-01T00:00:00",
          "2019-01-01T00:00:00",
          "2020-01-01T00:00:00",
          "2021-01-01T00:00:00",
          "2022-01-01T00:00:00"
         ],
         "y": [
          229389614,
          227591444,
          239351802,
          246934984,
          219102640,
          215757820,
          253763932,
          274303126,
          286039030,
          299988782,
          292648212,
          284812040,
          315467498,
          288269464,
          335409886,
          322583298,
          360849738,
          371270792,
          339685536,
          374838188,
          391413906,
          367918024,
          435358540,
          427869840,
          432760454,
          436863906,
          415240080,
          473962654,
          515205074,
          505045924,
          502677063.27,
          523262646.08,
          540148313.2,
          542157296.28,
          547166803.9200001,
          567912910.25,
          577709857.0699999,
          595601823.98,
          624020648.15,
          631862980.92,
          638052596.64,
          570443829.68,
          637330357.64,
          620212708,
          657091742,
          661786590,
          710743458,
          731540916,
          706955249.06,
          740625769.54,
          791167037.88,
          797982354.98,
          815308427.38,
          821714066.5799999,
          799051849.74,
          818850350.26,
          858393337.0699999,
          881234956.96,
          892903436.42,
          937926393.3,
          484341023.74,
          480208175.92
         ]
        }
       ],
       "layout": {
        "template": {
         "data": {
          "bar": [
           {
            "error_x": {
             "color": "#2a3f5f"
            },
            "error_y": {
             "color": "#2a3f5f"
            },
            "marker": {
             "line": {
              "color": "#E5ECF6",
              "width": 0.5
             },
             "pattern": {
              "fillmode": "overlay",
              "size": 10,
              "solidity": 0.2
             }
            },
            "type": "bar"
           }
          ],
          "barpolar": [
           {
            "marker": {
             "line": {
              "color": "#E5ECF6",
              "width": 0.5
             },
             "pattern": {
              "fillmode": "overlay",
              "size": 10,
              "solidity": 0.2
             }
            },
            "type": "barpolar"
           }
          ],
          "carpet": [
           {
            "aaxis": {
             "endlinecolor": "#2a3f5f",
             "gridcolor": "white",
             "linecolor": "white",
             "minorgridcolor": "white",
             "startlinecolor": "#2a3f5f"
            },
            "baxis": {
             "endlinecolor": "#2a3f5f",
             "gridcolor": "white",
             "linecolor": "white",
             "minorgridcolor": "white",
             "startlinecolor": "#2a3f5f"
            },
            "type": "carpet"
           }
          ],
          "choropleth": [
           {
            "colorbar": {
             "outlinewidth": 0,
             "ticks": ""
            },
            "type": "choropleth"
           }
          ],
          "contour": [
           {
            "colorbar": {
             "outlinewidth": 0,
             "ticks": ""
            },
            "colorscale": [
             [
              0,
              "#0d0887"
             ],
             [
              0.1111111111111111,
              "#46039f"
             ],
             [
              0.2222222222222222,
              "#7201a8"
             ],
             [
              0.3333333333333333,
              "#9c179e"
             ],
             [
              0.4444444444444444,
              "#bd3786"
             ],
             [
              0.5555555555555556,
              "#d8576b"
             ],
             [
              0.6666666666666666,
              "#ed7953"
             ],
             [
              0.7777777777777778,
              "#fb9f3a"
             ],
             [
              0.8888888888888888,
              "#fdca26"
             ],
             [
              1,
              "#f0f921"
             ]
            ],
            "type": "contour"
           }
          ],
          "contourcarpet": [
           {
            "colorbar": {
             "outlinewidth": 0,
             "ticks": ""
            },
            "type": "contourcarpet"
           }
          ],
          "heatmap": [
           {
            "colorbar": {
             "outlinewidth": 0,
             "ticks": ""
            },
            "colorscale": [
             [
              0,
              "#0d0887"
             ],
             [
              0.1111111111111111,
              "#46039f"
             ],
             [
              0.2222222222222222,
              "#7201a8"
             ],
             [
              0.3333333333333333,
              "#9c179e"
             ],
             [
              0.4444444444444444,
              "#bd3786"
             ],
             [
              0.5555555555555556,
              "#d8576b"
             ],
             [
              0.6666666666666666,
              "#ed7953"
             ],
             [
              0.7777777777777778,
              "#fb9f3a"
             ],
             [
              0.8888888888888888,
              "#fdca26"
             ],
             [
              1,
              "#f0f921"
             ]
            ],
            "type": "heatmap"
           }
          ],
          "heatmapgl": [
           {
            "colorbar": {
             "outlinewidth": 0,
             "ticks": ""
            },
            "colorscale": [
             [
              0,
              "#0d0887"
             ],
             [
              0.1111111111111111,
              "#46039f"
             ],
             [
              0.2222222222222222,
              "#7201a8"
             ],
             [
              0.3333333333333333,
              "#9c179e"
             ],
             [
              0.4444444444444444,
              "#bd3786"
             ],
             [
              0.5555555555555556,
              "#d8576b"
             ],
             [
              0.6666666666666666,
              "#ed7953"
             ],
             [
              0.7777777777777778,
              "#fb9f3a"
             ],
             [
              0.8888888888888888,
              "#fdca26"
             ],
             [
              1,
              "#f0f921"
             ]
            ],
            "type": "heatmapgl"
           }
          ],
          "histogram": [
           {
            "marker": {
             "pattern": {
              "fillmode": "overlay",
              "size": 10,
              "solidity": 0.2
             }
            },
            "type": "histogram"
           }
          ],
          "histogram2d": [
           {
            "colorbar": {
             "outlinewidth": 0,
             "ticks": ""
            },
            "colorscale": [
             [
              0,
              "#0d0887"
             ],
             [
              0.1111111111111111,
              "#46039f"
             ],
             [
              0.2222222222222222,
              "#7201a8"
             ],
             [
              0.3333333333333333,
              "#9c179e"
             ],
             [
              0.4444444444444444,
              "#bd3786"
             ],
             [
              0.5555555555555556,
              "#d8576b"
             ],
             [
              0.6666666666666666,
              "#ed7953"
             ],
             [
              0.7777777777777778,
              "#fb9f3a"
             ],
             [
              0.8888888888888888,
              "#fdca26"
             ],
             [
              1,
              "#f0f921"
             ]
            ],
            "type": "histogram2d"
           }
          ],
          "histogram2dcontour": [
           {
            "colorbar": {
             "outlinewidth": 0,
             "ticks": ""
            },
            "colorscale": [
             [
              0,
              "#0d0887"
             ],
             [
              0.1111111111111111,
              "#46039f"
             ],
             [
              0.2222222222222222,
              "#7201a8"
             ],
             [
              0.3333333333333333,
              "#9c179e"
             ],
             [
              0.4444444444444444,
              "#bd3786"
             ],
             [
              0.5555555555555556,
              "#d8576b"
             ],
             [
              0.6666666666666666,
              "#ed7953"
             ],
             [
              0.7777777777777778,
              "#fb9f3a"
             ],
             [
              0.8888888888888888,
              "#fdca26"
             ],
             [
              1,
              "#f0f921"
             ]
            ],
            "type": "histogram2dcontour"
           }
          ],
          "mesh3d": [
           {
            "colorbar": {
             "outlinewidth": 0,
             "ticks": ""
            },
            "type": "mesh3d"
           }
          ],
          "parcoords": [
           {
            "line": {
             "colorbar": {
              "outlinewidth": 0,
              "ticks": ""
             }
            },
            "type": "parcoords"
           }
          ],
          "pie": [
           {
            "automargin": true,
            "type": "pie"
           }
          ],
          "scatter": [
           {
            "fillpattern": {
             "fillmode": "overlay",
             "size": 10,
             "solidity": 0.2
            },
            "type": "scatter"
           }
          ],
          "scatter3d": [
           {
            "line": {
             "colorbar": {
              "outlinewidth": 0,
              "ticks": ""
             }
            },
            "marker": {
             "colorbar": {
              "outlinewidth": 0,
              "ticks": ""
             }
            },
            "type": "scatter3d"
           }
          ],
          "scattercarpet": [
           {
            "marker": {
             "colorbar": {
              "outlinewidth": 0,
              "ticks": ""
             }
            },
            "type": "scattercarpet"
           }
          ],
          "scattergeo": [
           {
            "marker": {
             "colorbar": {
              "outlinewidth": 0,
              "ticks": ""
             }
            },
            "type": "scattergeo"
           }
          ],
          "scattergl": [
           {
            "marker": {
             "colorbar": {
              "outlinewidth": 0,
              "ticks": ""
             }
            },
            "type": "scattergl"
           }
          ],
          "scattermapbox": [
           {
            "marker": {
             "colorbar": {
              "outlinewidth": 0,
              "ticks": ""
             }
            },
            "type": "scattermapbox"
           }
          ],
          "scatterpolar": [
           {
            "marker": {
             "colorbar": {
              "outlinewidth": 0,
              "ticks": ""
             }
            },
            "type": "scatterpolar"
           }
          ],
          "scatterpolargl": [
           {
            "marker": {
             "colorbar": {
              "outlinewidth": 0,
              "ticks": ""
             }
            },
            "type": "scatterpolargl"
           }
          ],
          "scatterternary": [
           {
            "marker": {
             "colorbar": {
              "outlinewidth": 0,
              "ticks": ""
             }
            },
            "type": "scatterternary"
           }
          ],
          "surface": [
           {
            "colorbar": {
             "outlinewidth": 0,
             "ticks": ""
            },
            "colorscale": [
             [
              0,
              "#0d0887"
             ],
             [
              0.1111111111111111,
              "#46039f"
             ],
             [
              0.2222222222222222,
              "#7201a8"
             ],
             [
              0.3333333333333333,
              "#9c179e"
             ],
             [
              0.4444444444444444,
              "#bd3786"
             ],
             [
              0.5555555555555556,
              "#d8576b"
             ],
             [
              0.6666666666666666,
              "#ed7953"
             ],
             [
              0.7777777777777778,
              "#fb9f3a"
             ],
             [
              0.8888888888888888,
              "#fdca26"
             ],
             [
              1,
              "#f0f921"
             ]
            ],
            "type": "surface"
           }
          ],
          "table": [
           {
            "cells": {
             "fill": {
              "color": "#EBF0F8"
             },
             "line": {
              "color": "white"
             }
            },
            "header": {
             "fill": {
              "color": "#C8D4E3"
             },
             "line": {
              "color": "white"
             }
            },
            "type": "table"
           }
          ]
         },
         "layout": {
          "annotationdefaults": {
           "arrowcolor": "#2a3f5f",
           "arrowhead": 0,
           "arrowwidth": 1
          },
          "autotypenumbers": "strict",
          "coloraxis": {
           "colorbar": {
            "outlinewidth": 0,
            "ticks": ""
           }
          },
          "colorscale": {
           "diverging": [
            [
             0,
             "#8e0152"
            ],
            [
             0.1,
             "#c51b7d"
            ],
            [
             0.2,
             "#de77ae"
            ],
            [
             0.3,
             "#f1b6da"
            ],
            [
             0.4,
             "#fde0ef"
            ],
            [
             0.5,
             "#f7f7f7"
            ],
            [
             0.6,
             "#e6f5d0"
            ],
            [
             0.7,
             "#b8e186"
            ],
            [
             0.8,
             "#7fbc41"
            ],
            [
             0.9,
             "#4d9221"
            ],
            [
             1,
             "#276419"
            ]
           ],
           "sequential": [
            [
             0,
             "#0d0887"
            ],
            [
             0.1111111111111111,
             "#46039f"
            ],
            [
             0.2222222222222222,
             "#7201a8"
            ],
            [
             0.3333333333333333,
             "#9c179e"
            ],
            [
             0.4444444444444444,
             "#bd3786"
            ],
            [
             0.5555555555555556,
             "#d8576b"
            ],
            [
             0.6666666666666666,
             "#ed7953"
            ],
            [
             0.7777777777777778,
             "#fb9f3a"
            ],
            [
             0.8888888888888888,
             "#fdca26"
            ],
            [
             1,
             "#f0f921"
            ]
           ],
           "sequentialminus": [
            [
             0,
             "#0d0887"
            ],
            [
             0.1111111111111111,
             "#46039f"
            ],
            [
             0.2222222222222222,
             "#7201a8"
            ],
            [
             0.3333333333333333,
             "#9c179e"
            ],
            [
             0.4444444444444444,
             "#bd3786"
            ],
            [
             0.5555555555555556,
             "#d8576b"
            ],
            [
             0.6666666666666666,
             "#ed7953"
            ],
            [
             0.7777777777777778,
             "#fb9f3a"
            ],
            [
             0.8888888888888888,
             "#fdca26"
            ],
            [
             1,
             "#f0f921"
            ]
           ]
          },
          "colorway": [
           "#636efa",
           "#EF553B",
           "#00cc96",
           "#ab63fa",
           "#FFA15A",
           "#19d3f3",
           "#FF6692",
           "#B6E880",
           "#FF97FF",
           "#FECB52"
          ],
          "font": {
           "color": "#2a3f5f"
          },
          "geo": {
           "bgcolor": "white",
           "lakecolor": "white",
           "landcolor": "#E5ECF6",
           "showlakes": true,
           "showland": true,
           "subunitcolor": "white"
          },
          "hoverlabel": {
           "align": "left"
          },
          "hovermode": "closest",
          "mapbox": {
           "style": "light"
          },
          "paper_bgcolor": "white",
          "plot_bgcolor": "#E5ECF6",
          "polar": {
           "angularaxis": {
            "gridcolor": "white",
            "linecolor": "white",
            "ticks": ""
           },
           "bgcolor": "#E5ECF6",
           "radialaxis": {
            "gridcolor": "white",
            "linecolor": "white",
            "ticks": ""
           }
          },
          "scene": {
           "xaxis": {
            "backgroundcolor": "#E5ECF6",
            "gridcolor": "white",
            "gridwidth": 2,
            "linecolor": "white",
            "showbackground": true,
            "ticks": "",
            "zerolinecolor": "white"
           },
           "yaxis": {
            "backgroundcolor": "#E5ECF6",
            "gridcolor": "white",
            "gridwidth": 2,
            "linecolor": "white",
            "showbackground": true,
            "ticks": "",
            "zerolinecolor": "white"
           },
           "zaxis": {
            "backgroundcolor": "#E5ECF6",
            "gridcolor": "white",
            "gridwidth": 2,
            "linecolor": "white",
            "showbackground": true,
            "ticks": "",
            "zerolinecolor": "white"
           }
          },
          "shapedefaults": {
           "line": {
            "color": "#2a3f5f"
           }
          },
          "ternary": {
           "aaxis": {
            "gridcolor": "white",
            "linecolor": "white",
            "ticks": ""
           },
           "baxis": {
            "gridcolor": "white",
            "linecolor": "white",
            "ticks": ""
           },
           "bgcolor": "#E5ECF6",
           "caxis": {
            "gridcolor": "white",
            "linecolor": "white",
            "ticks": ""
           }
          },
          "title": {
           "x": 0.05
          },
          "xaxis": {
           "automargin": true,
           "gridcolor": "white",
           "linecolor": "white",
           "ticks": "",
           "title": {
            "standoff": 15
           },
           "zerolinecolor": "white",
           "zerolinewidth": 2
          },
          "yaxis": {
           "automargin": true,
           "gridcolor": "white",
           "linecolor": "white",
           "ticks": "",
           "title": {
            "standoff": 15
           },
           "zerolinecolor": "white",
           "zerolinewidth": 2
          }
         }
        },
        "title": {
         "text": "Total Cereal Production Over Time (Region)"
        },
        "xaxis": {
         "title": {
          "text": "Year"
         }
        },
        "yaxis": {
         "title": {
          "text": "Cereal Production (MT)"
         }
        }
       }
      },
      "image/png": "[encoded data removed]",
      "text/html": [
       "<div>                            <div id=\"1e90cec4-15b1-4cfa-be49-b798f902c5ab\" class=\"plotly-graph-div\" style=\"height:525px; width:100%;\"></div>            <script type=\"text/javascript\">                require([\"plotly\"], function(Plotly) {                    window.PLOTLYENV=window.PLOTLYENV || {};                                    if (document.getElementById(\"1e90cec4-15b1-4cfa-be49-b798f902c5ab\")) {                    Plotly.newPlot(                        \"1e90cec4-15b1-4cfa-be49-b798f902c5ab\",                        [{\"line\":{\"color\":\"red\",\"dash\":\"solid\"},\"mode\":\"lines+markers\",\"name\":\"Total Region\",\"x\":[\"1961-01-01T00:00:00\",\"1962-01-01T00:00:00\",\"1963-01-01T00:00:00\",\"1964-01-01T00:00:00\",\"1965-01-01T00:00:00\",\"1966-01-01T00:00:00\",\"1967-01-01T00:00:00\",\"1968-01-01T00:00:00\",\"1969-01-01T00:00:00\",\"1970-01-01T00:00:00\",\"1971-01-01T00:00:00\",\"1972-01-01T00:00:00\",\"1973-01-01T00:00:00\",\"1974-01-01T00:00:00\",\"1975-01-01T00:00:00\",\"1976-01-01T00:00:00\",\"1977-01-01T00:00:00\",\"1978-01-01T00:00:00\",\"1979-01-01T00:00:00\",\"1980-01-01T00:00:00\",\"1981-01-01T00:00:00\",\"1982-01-01T00:00:00\",\"1983-01-01T00:00:00\",\"1984-01-01T00:00:00\",\"1985-01-01T00:00:00\",\"1986-01-01T00:00:00\",\"1987-01-01T00:00:00\",\"1988-01-01T00:00:00\",\"1989-01-01T00:00:00\",\"1990-01-01T00:00:00\",\"1991-01-01T00:00:00\",\"1992-01-01T00:00:00\",\"1993-01-01T00:00:00\",\"1994-01-01T00:00:00\",\"1995-01-01T00:00:00\",\"1996-01-01T00:00:00\",\"1997-01-01T00:00:00\",\"1998-01-01T00:00:00\",\"1999-01-01T00:00:00\",\"2000-01-01T00:00:00\",\"2001-01-01T00:00:00\",\"2002-01-01T00:00:00\",\"2003-01-01T00:00:00\",\"2004-01-01T00:00:00\",\"2005-01-01T00:00:00\",\"2006-01-01T00:00:00\",\"2007-01-01T00:00:00\",\"2008-01-01T00:00:00\",\"2009-01-01T00:00:00\",\"2010-01-01T00:00:00\",\"2011-01-01T00:00:00\",\"2012-01-01T00:00:00\",\"2013-01-01T00:00:00\",\"2014-01-01T00:00:00\",\"2015-01-01T00:00:00\",\"2016-01-01T00:00:00\",\"2017-01-01T00:00:00\",\"2018-01-01T00:00:00\",\"2019-01-01T00:00:00\",\"2020-01-01T00:00:00\",\"2021-01-01T00:00:00\",\"2022-01-01T00:00:00\"],\"y\":[229389614.0,227591444.0,239351802.0,246934984.0,219102640.0,215757820.0,253763932.0,274303126.0,286039030.0,299988782.0,292648212.0,284812040.0,315467498.0,288269464.0,335409886.0,322583298.0,360849738.0,371270792.0,339685536.0,374838188.0,391413906.0,367918024.0,435358540.0,427869840.0,432760454.0,436863906.0,415240080.0,473962654.0,515205074.0,505045924.0,502677063.27,523262646.08,540148313.2,542157296.28,547166803.9200001,567912910.25,577709857.0699999,595601823.98,624020648.15,631862980.92,638052596.64,570443829.68,637330357.64,620212708.0,657091742.0,661786590.0,710743458.0,731540916.0,706955249.06,740625769.54,791167037.88,797982354.98,815308427.38,821714066.5799999,799051849.74,818850350.26,858393337.0699999,881234956.96,892903436.42,937926393.3,484341023.74,480208175.92],\"type\":\"scatter\"}],                        {\"template\":{\"data\":{\"histogram2dcontour\":[{\"type\":\"histogram2dcontour\",\"colorbar\":{\"outlinewidth\":0,\"ticks\":\"\"},\"colorscale\":[[0.0,\"#0d0887\"],[0.1111111111111111,\"#46039f\"],[0.2222222222222222,\"#7201a8\"],[0.3333333333333333,\"#9c179e\"],[0.4444444444444444,\"#bd3786\"],[0.5555555555555556,\"#d8576b\"],[0.6666666666666666,\"#ed7953\"],[0.7777777777777778,\"#fb9f3a\"],[0.8888888888888888,\"#fdca26\"],[1.0,\"#f0f921\"]]}],\"choropleth\":[{\"type\":\"choropleth\",\"colorbar\":{\"outlinewidth\":0,\"ticks\":\"\"}}],\"histogram2d\":[{\"type\":\"histogram2d\",\"colorbar\":{\"outlinewidth\":0,\"ticks\":\"\"},\"colorscale\":[[0.0,\"#0d0887\"],[0.1111111111111111,\"#46039f\"],[0.2222222222222222,\"#7201a8\"],[0.3333333333333333,\"#9c179e\"],[0.4444444444444444,\"#bd3786\"],[0.5555555555555556,\"#d8576b\"],[0.6666666666666666,\"#ed7953\"],[0.7777777777777778,\"#fb9f3a\"],[0.8888888888888888,\"#fdca26\"],[1.0,\"#f0f921\"]]}],\"heatmap\":[{\"type\":\"heatmap\",\"colorbar\":{\"outlinewidth\":0,\"ticks\":\"\"},\"colorscale\":[[0.0,\"#0d0887\"],[0.1111111111111111,\"#46039f\"],[0.2222222222222222,\"#7201a8\"],[0.3333333333333333,\"#9c179e\"],[0.4444444444444444,\"#bd3786\"],[0.5555555555555556,\"#d8576b\"],[0.6666666666666666,\"#ed7953\"],[0.7777777777777778,\"#fb9f3a\"],[0.8888888888888888,\"#fdca26\"],[1.0,\"#f0f921\"]]}],\"heatmapgl\":[{\"type\":\"heatmapgl\",\"colorbar\":{\"outlinewidth\":0,\"ticks\":\"\"},\"colorscale\":[[0.0,\"#0d0887\"],[0.1111111111111111,\"#46039f\"],[0.2222222222222222,\"#7201a8\"],[0.3333333333333333,\"#9c179e\"],[0.4444444444444444,\"#bd3786\"],[0.5555555555555556,\"#d8576b\"],[0.6666666666666666,\"#ed7953\"],[0.7777777777777778,\"#fb9f3a\"],[0.8888888888888888,\"#fdca26\"],[1.0,\"#f0f921\"]]}],\"contourcarpet\":[{\"type\":\"contourcarpet\",\"colorbar\":{\"outlinewidth\":0,\"ticks\":\"\"}}],\"contour\":[{\"type\":\"contour\",\"colorbar\":{\"outlinewidth\":0,\"ticks\":\"\"},\"colorscale\":[[0.0,\"#0d0887\"],[0.1111111111111111,\"#46039f\"],[0.2222222222222222,\"#7201a8\"],[0.3333333333333333,\"#9c179e\"],[0.4444444444444444,\"#bd3786\"],[0.5555555555555556,\"#d8576b\"],[0.6666666666666666,\"#ed7953\"],[0.7777777777777778,\"#fb9f3a\"],[0.8888888888888888,\"#fdca26\"],[1.0,\"#f0f921\"]]}],\"surface\":[{\"type\":\"surface\",\"colorbar\":{\"outlinewidth\":0,\"ticks\":\"\"},\"colorscale\":[[0.0,\"#0d0887\"],[0.1111111111111111,\"#46039f\"],[0.2222222222222222,\"#7201a8\"],[0.3333333333333333,\"#9c179e\"],[0.4444444444444444,\"#bd3786\"],[0.5555555555555556,\"#d8576b\"],[0.6666666666666666,\"#ed7953\"],[0.7777777777777778,\"#fb9f3a\"],[0.8888888888888888,\"#fdca26\"],[1.0,\"#f0f921\"]]}],\"mesh3d\":[{\"type\":\"mesh3d\",\"colorbar\":{\"outlinewidth\":0,\"ticks\":\"\"}}],\"scatter\":[{\"fillpattern\":{\"fillmode\":\"overlay\",\"size\":10,\"solidity\":0.2},\"type\":\"scatter\"}],\"parcoords\":[{\"type\":\"parcoords\",\"line\":{\"colorbar\":{\"outlinewidth\":0,\"ticks\":\"\"}}}],\"scatterpolargl\":[{\"type\":\"scatterpolargl\",\"marker\":{\"colorbar\":{\"outlinewidth\":0,\"ticks\":\"\"}}}],\"bar\":[{\"error_x\":{\"color\":\"#2a3f5f\"},\"error_y\":{\"color\":\"#2a3f5f\"},\"marker\":{\"line\":{\"color\":\"#E5ECF6\",\"width\":0.5},\"pattern\":{\"fillmode\":\"overlay\",\"size\":10,\"solidity\":0.2}},\"type\":\"bar\"}],\"scattergeo\":[{\"type\":\"scattergeo\",\"marker\":{\"colorbar\":{\"outlinewidth\":0,\"ticks\":\"\"}}}],\"scatterpolar\":[{\"type\":\"scatterpolar\",\"marker\":{\"colorbar\":{\"outlinewidth\":0,\"ticks\":\"\"}}}],\"histogram\":[{\"marker\":{\"pattern\":{\"fillmode\":\"overlay\",\"size\":10,\"solidity\":0.2}},\"type\":\"histogram\"}],\"scattergl\":[{\"type\":\"scattergl\",\"marker\":{\"colorbar\":{\"outlinewidth\":0,\"ticks\":\"\"}}}],\"scatter3d\":[{\"type\":\"scatter3d\",\"line\":{\"colorbar\":{\"outlinewidth\":0,\"ticks\":\"\"}},\"marker\":{\"colorbar\":{\"outlinewidth\":0,\"ticks\":\"\"}}}],\"scattermapbox\":[{\"type\":\"scattermapbox\",\"marker\":{\"colorbar\":{\"outlinewidth\":0,\"ticks\":\"\"}}}],\"scatterternary\":[{\"type\":\"scatterternary\",\"marker\":{\"colorbar\":{\"outlinewidth\":0,\"ticks\":\"\"}}}],\"scattercarpet\":[{\"type\":\"scattercarpet\",\"marker\":{\"colorbar\":{\"outlinewidth\":0,\"ticks\":\"\"}}}],\"carpet\":[{\"aaxis\":{\"endlinecolor\":\"#2a3f5f\",\"gridcolor\":\"white\",\"linecolor\":\"white\",\"minorgridcolor\":\"white\",\"startlinecolor\":\"#2a3f5f\"},\"baxis\":{\"endlinecolor\":\"#2a3f5f\",\"gridcolor\":\"white\",\"linecolor\":\"white\",\"minorgridcolor\":\"white\",\"startlinecolor\":\"#2a3f5f\"},\"type\":\"carpet\"}],\"table\":[{\"cells\":{\"fill\":{\"color\":\"#EBF0F8\"},\"line\":{\"color\":\"white\"}},\"header\":{\"fill\":{\"color\":\"#C8D4E3\"},\"line\":{\"color\":\"white\"}},\"type\":\"table\"}],\"barpolar\":[{\"marker\":{\"line\":{\"color\":\"#E5ECF6\",\"width\":0.5},\"pattern\":{\"fillmode\":\"overlay\",\"size\":10,\"solidity\":0.2}},\"type\":\"barpolar\"}],\"pie\":[{\"automargin\":true,\"type\":\"pie\"}]},\"layout\":{\"autotypenumbers\":\"strict\",\"colorway\":[\"#636efa\",\"#EF553B\",\"#00cc96\",\"#ab63fa\",\"#FFA15A\",\"#19d3f3\",\"#FF6692\",\"#B6E880\",\"#FF97FF\",\"#FECB52\"],\"font\":{\"color\":\"#2a3f5f\"},\"hovermode\":\"closest\",\"hoverlabel\":{\"align\":\"left\"},\"paper_bgcolor\":\"white\",\"plot_bgcolor\":\"#E5ECF6\",\"polar\":{\"bgcolor\":\"#E5ECF6\",\"angularaxis\":{\"gridcolor\":\"white\",\"linecolor\":\"white\",\"ticks\":\"\"},\"radialaxis\":{\"gridcolor\":\"white\",\"linecolor\":\"white\",\"ticks\":\"\"}},\"ternary\":{\"bgcolor\":\"#E5ECF6\",\"aaxis\":{\"gridcolor\":\"white\",\"linecolor\":\"white\",\"ticks\":\"\"},\"baxis\":{\"gridcolor\":\"white\",\"linecolor\":\"white\",\"ticks\":\"\"},\"caxis\":{\"gridcolor\":\"white\",\"linecolor\":\"white\",\"ticks\":\"\"}},\"coloraxis\":{\"colorbar\":{\"outlinewidth\":0,\"ticks\":\"\"}},\"colorscale\":{\"sequential\":[[0.0,\"#0d0887\"],[0.1111111111111111,\"#46039f\"],[0.2222222222222222,\"#7201a8\"],[0.3333333333333333,\"#9c179e\"],[0.4444444444444444,\"#bd3786\"],[0.5555555555555556,\"#d8576b\"],[0.6666666666666666,\"#ed7953\"],[0.7777777777777778,\"#fb9f3a\"],[0.8888888888888888,\"#fdca26\"],[1.0,\"#f0f921\"]],\"sequentialminus\":[[0.0,\"#0d0887\"],[0.1111111111111111,\"#46039f\"],[0.2222222222222222,\"#7201a8\"],[0.3333333333333333,\"#9c179e\"],[0.4444444444444444,\"#bd3786\"],[0.5555555555555556,\"#d8576b\"],[0.6666666666666666,\"#ed7953\"],[0.7777777777777778,\"#fb9f3a\"],[0.8888888888888888,\"#fdca26\"],[1.0,\"#f0f921\"]],\"diverging\":[[0,\"#8e0152\"],[0.1,\"#c51b7d\"],[0.2,\"#de77ae\"],[0.3,\"#f1b6da\"],[0.4,\"#fde0ef\"],[0.5,\"#f7f7f7\"],[0.6,\"#e6f5d0\"],[0.7,\"#b8e186\"],[0.8,\"#7fbc41\"],[0.9,\"#4d9221\"],[1,\"#276419\"]]},\"xaxis\":{\"gridcolor\":\"white\",\"linecolor\":\"white\",\"ticks\":\"\",\"title\":{\"standoff\":15},\"zerolinecolor\":\"white\",\"automargin\":true,\"zerolinewidth\":2},\"yaxis\":{\"gridcolor\":\"white\",\"linecolor\":\"white\",\"ticks\":\"\",\"title\":{\"standoff\":15},\"zerolinecolor\":\"white\",\"automargin\":true,\"zerolinewidth\":2},\"scene\":{\"xaxis\":{\"backgroundcolor\":\"#E5ECF6\",\"gridcolor\":\"white\",\"linecolor\":\"white\",\"showbackground\":true,\"ticks\":\"\",\"zerolinecolor\":\"white\",\"gridwidth\":2},\"yaxis\":{\"backgroundcolor\":\"#E5ECF6\",\"gridcolor\":\"white\",\"linecolor\":\"white\",\"showbackground\":true,\"ticks\":\"\",\"zerolinecolor\":\"white\",\"gridwidth\":2},\"zaxis\":{\"backgroundcolor\":\"#E5ECF6\",\"gridcolor\":\"white\",\"linecolor\":\"white\",\"showbackground\":true,\"ticks\":\"\",\"zerolinecolor\":\"white\",\"gridwidth\":2}},\"shapedefaults\":{\"line\":{\"color\":\"#2a3f5f\"}},\"annotationdefaults\":{\"arrowcolor\":\"#2a3f5f\",\"arrowhead\":0,\"arrowwidth\":1},\"geo\":{\"bgcolor\":\"white\",\"landcolor\":\"#E5ECF6\",\"subunitcolor\":\"white\",\"showland\":true,\"showlakes\":true,\"lakecolor\":\"white\"},\"title\":{\"x\":0.05},\"mapbox\":{\"style\":\"light\"}}},\"title\":{\"text\":\"Total Cereal Production Over Time (Region)\"},\"xaxis\":{\"title\":{\"text\":\"Year\"}},\"yaxis\":{\"title\":{\"text\":\"Cereal Production (MT)\"}}},                        {\"responsive\": true}                    ).then(function(){\n",
       "                            \n",
       "var gd = document.getElementById('1e90cec4-15b1-4cfa-be49-b798f902c5ab');\n",
       "var x = new MutationObserver(function (mutations, observer) {{\n",
       "        var display = window.getComputedStyle(gd).display;\n",
       "        if (!display || display === 'none') {{\n",
       "            console.log([gd, 'removed!']);\n",
       "            Plotly.purge(gd);\n",
       "            observer.disconnect();\n",
       "        }}\n",
       "}});\n",
       "\n",
       "// Listen for the removal of the full notebook cells\n",
       "var notebookContainer = gd.closest('#notebook-container');\n",
       "if (notebookContainer) {{\n",
       "    x.observe(notebookContainer, {childList: true});\n",
       "}}\n",
       "\n",
       "// Listen for the clearing of the current output cell\n",
       "var outputEl = gd.closest('.output');\n",
       "if (outputEl) {{\n",
       "    x.observe(outputEl, {childList: true});\n",
       "}}\n",
       "\n",
       "                        })                };                });            </script>        </div>"
      ]
     },
     "metadata": {},
     "output_type": "display_data"
    }
   ],
   "source": [
    "import plotly.graph_objects as go\n",
    "\n",
    "def overlay_cereal_production(country_name, df):\n",
    "    \"\"\"\n",
    "    Function to overlay cereal production over time for a given country.\n",
    "    \n",
    "    Parameters:\n",
    "    - country_name (str): The name of the country whose data will be plotted.\n",
    "    - df (pd.DataFrame): The DataFrame containing the cereal production data.\n",
    "    \n",
    "    Returns:\n",
    "    - A Plotly figure with the cereal production data for the country.\n",
    "    \"\"\"\n",
    "    df = df.reset_index()\n",
    "    # Check if the country exists in the DataFrame\n",
    "    if country_name not in df['Country'].values:\n",
    "        print(f\"Country '{country_name}' not found in the dataset.\")\n",
    "        return\n",
    "    \n",
    "    # Filter data for the given country\n",
    "    country_df = df[df['Country'] == country_name]\n",
    "    \n",
    "    # Create a figure\n",
    "    fig = go.Figure()\n",
    "    \n",
    "    # Add the cereal production plot for the country\n",
    "    fig.add_trace(go.Scatter(x=country_df['Date'], y=country_df['Cereal Production (MT)'], \n",
    "                             mode='lines+markers', name=country_name, \n",
    "                             line=dict(dash='solid', color='blue')))\n",
    "    \n",
    "    # Add title and labels\n",
    "    fig.update_layout(title=f\"Cereal Production Over Time ({country_name})\",\n",
    "                      xaxis_title=\"Year\",\n",
    "                      yaxis_title=\"Cereal Production (MT)\")\n",
    "    \n",
    "    # Show the plot\n",
    "    fig.show()\n",
    "\n",
    "def overlay_cereal_production_region(df):\n",
    "    \"\"\"\n",
    "    Function to overlay total cereal production over time for the whole region.\n",
    "    \n",
    "    Parameters:\n",
    "    - df (pd.DataFrame): The DataFrame containing the cereal production data.\n",
    "    \n",
    "    Returns:\n",
    "    - A Plotly figure with total cereal production for the region.\n",
    "    \"\"\"\n",
    "    df = df.reset_index()\n",
    "    # Group data by year and sum the production\n",
    "    region_df = df.groupby('Date')['Cereal Production (MT)'].sum().reset_index()\n",
    "    \n",
    "    # Create a figure\n",
    "    fig = go.Figure()\n",
    "    \n",
    "    # Add the total cereal production plot for the region\n",
    "    fig.add_trace(go.Scatter(x=region_df['Date'], y=region_df['Cereal Production (MT)'], \n",
    "                             mode='lines+markers', name=\"Total Region\", \n",
    "                             line=dict(dash='solid', color='red')))\n",
    "    \n",
    "    # Add title and labels\n",
    "    fig.update_layout(title=\"Total Cereal Production Over Time (Region)\",\n",
    "                      xaxis_title=\"Year\",\n",
    "                      yaxis_title=\"Cereal Production (MT)\")\n",
    "    \n",
    "    # Show the plot\n",
    "    fig.show()\n",
    "\n",
    "# Example usage:\n",
    "overlay_cereal_production(\"Bangladesh\", SA_ag)\n",
    "overlay_cereal_production_region(SA_ag)"
   ]
  },
  {
   "cell_type": "code",
   "execution_count": 40,
   "id": "35c98780-17ae-4e7b-a002-ff6e95c0be19",
   "metadata": {},
   "outputs": [
    {
     "data": {
      "image/png": "[encoded data removed]",
      "text/plain": [
       "<Figure size 1200x600 with 1 Axes>"
      ]
     },
     "metadata": {},
     "output_type": "display_data"
    },
    {
     "data": {
      "image/png": "[encoded data removed]",
      "text/plain": [
       "<Figure size 1200x600 with 1 Axes>"
      ]
     },
     "metadata": {},
     "output_type": "display_data"
    }
   ],
   "source": [
    "# Produce total cereal production over time plot for each country, specifying each type of cereal\n",
    "# Produce same plot for the whole region\n",
    "import seaborn as sns\n",
    "plt.figure(figsize=(12, 6))\n",
    "sns.lineplot(data=SA_ag, x=\"Date\", y=\"Cereal Production (MT)\", hue=\"Country\", marker=\"o\")\n",
    "plt.xlabel(\"Year\")\n",
    "plt.ylabel(\"Total Cereal Production (MT)\")\n",
    "plt.title(\"Total Cereal Production Over Time by Country\")\n",
    "plt.legend(title=\"Country\", bbox_to_anchor=(1.05, 1), loc='upper left')\n",
    "plt.grid(True)\n",
    "plt.show()\n",
    "\n",
    "regional_production = SA_ag.groupby(\"Date\")[\"Cereal Production (MT)\"].sum().reset_index()\n",
    "\n",
    "plt.figure(figsize=(12, 6))\n",
    "sns.lineplot(data=regional_production, x=\"Date\", y=\"Cereal Production (MT)\", marker=\"o\", color='red')\n",
    "plt.xlabel(\"Year\")\n",
    "plt.ylabel(\"Total Cereal Production (MT)\")\n",
    "plt.title(\"Total Cereal Production Over Time for the Entire Region\")\n",
    "plt.grid(True)\n",
    "plt.show()"
   ]
  },
  {
   "cell_type": "code",
   "execution_count": 41,
   "id": "74f5a410-13ae-4bb0-a963-04c64bae05cd",
   "metadata": {},
   "outputs": [
    {
     "data": {
      "image/png": "[encoded data removed]",
      "text/plain": [
       "<Figure size 1200x600 with 1 Axes>"
      ]
     },
     "metadata": {},
     "output_type": "display_data"
    }
   ],
   "source": [
    "# Produce Crop Production Index over time plot for each country, specifying top 5 crops (or crops of interest\n",
    "# for the Green revolution)\n",
    "\n",
    "SA_ag = SA_ag.reset_index() \n",
    "SA_ag = SA_ag.rename(columns={'date': 'Date'})  # Ensure correct column name\n",
    "\n",
    "plt.figure(figsize=(12, 6))\n",
    "\n",
    "# Line plot for Crop Production Index over time\n",
    "sns.lineplot(data=SA_ag, x=\"Date\", y=\"Crop Production Index\", hue=\"Country\", marker=\"o\")\n",
    "\n",
    "plt.xlabel(\"Year\")\n",
    "plt.ylabel(\"Crop Production Index\")\n",
    "plt.title(\"Crop Production Index Over Time by Country\")\n",
    "plt.legend(title=\"Country\", bbox_to_anchor=(1.05, 1), loc=\"upper left\")\n",
    "plt.xticks(rotation=45)\n",
    "plt.show()\n",
    "\n",
    "# green_rev_crops = [\"Wheat\", \"Rice\", \"Maize\", \"Sorghum\", \"Barley\"]\n",
    "\n",
    "# plt.figure(figsize=(12, 6))\n",
    "\n",
    "# # Filter dataset for only Green Revolution crops\n",
    "# for crop in green_rev_crops:\n",
    "#     if crop in SA_ag.columns:\n",
    "#         sns.lineplot(data=SA_ag, x=\"Date\", y=crop, label=crop)\n",
    "\n",
    "# plt.xlabel(\"Year\")\n",
    "# plt.ylabel(\"Production Index\")\n",
    "# plt.title(\"Top Green Revolution Crops Over Time\")\n",
    "# plt.legend(title=\"Crop\", bbox_to_anchor=(1.05, 1), loc=\"upper left\")\n",
    "# plt.xticks(rotation=45)\n",
    "# plt.show()"
   ]
  },
  {
   "cell_type": "code",
   "execution_count": 37,
   "id": "cae1f65b-6067-47d3-bc52-23eeb102cc51",
   "metadata": {},
   "outputs": [],
   "source": [
    "# Produce Food Production Index over time plot for each country, specifying top 5 crops (or crops of interest\n",
    "# for the Green revolution)\n",
    "\n",
    "# Unable to do so because data not granual to crop type just production index"
   ]
  },
  {
   "cell_type": "code",
   "execution_count": null,
   "id": "fae9c03a-57da-4ff2-8654-71707bfdf91d",
   "metadata": {},
   "outputs": [],
   "source": [
    "# Produce plot of Agricultural Value Added per Worker for each country\n",
    "\n",
    "# Indicator no longer available in dataset?"
   ]
  },
  {
   "cell_type": "markdown",
   "id": "b6464b02-b079-40a3-90c6-8dc459c53e3c",
   "metadata": {},
   "source": [
    "# Combined Analysis"
   ]
  },
  {
   "cell_type": "markdown",
   "id": "fd3acd1b-28ab-47de-bb3d-17f85513bd68",
   "metadata": {},
   "source": [
    "**Question:** Given that we cannot load the agricultural data and the population data set at the same time, how can we approach making combined graphs?"
   ]
  },
  {
   "cell_type": "markdown",
   "id": "95616575-f362-4e21-9325-bfeb3860fb8b",
   "metadata": {},
   "source": [
    "### South Asia (Bangladesh, Bhutan, India, Maldives, Nepal, Pakistan, Sri Lanka)"
   ]
  },
  {
   "cell_type": "code",
   "execution_count": 46,
   "id": "f2a17231-1688-4fde-b3a9-a43deba76e1b",
   "metadata": {},
   "outputs": [
    {
     "ename": "IndexError",
     "evalue": "Too many levels: Index has only 1 level, not 2",
     "output_type": "error",
     "traceback": [
      "\u001b[0;31m---------------------------------------------------------------------------\u001b[0m",
      "\u001b[0;31mIndexError\u001b[0m                                Traceback (most recent call last)",
      "Cell \u001b[0;32mIn[46], line 40\u001b[0m\n\u001b[1;32m     37\u001b[0m     plt\u001b[38;5;241m.\u001b[39mshow()\n\u001b[1;32m     39\u001b[0m \u001b[38;5;66;03m# Example usage: Overlay for a country (e.g., \"India\")\u001b[39;00m\n\u001b[0;32m---> 40\u001b[0m \u001b[43moverlay_rural_population_growth_and_crop_index\u001b[49m\u001b[43m(\u001b[49m\u001b[38;5;124;43m\"\u001b[39;49m\u001b[38;5;124;43mIndia\u001b[39;49m\u001b[38;5;124;43m\"\u001b[39;49m\u001b[43m,\u001b[49m\u001b[43m \u001b[49m\u001b[43mSA_ag\u001b[49m\u001b[43m)\u001b[49m\n",
      "Cell \u001b[0;32mIn[46], line 11\u001b[0m, in \u001b[0;36moverlay_rural_population_growth_and_crop_index\u001b[0;34m(country_name, df)\u001b[0m\n\u001b[1;32m      8\u001b[0m country_name \u001b[38;5;241m=\u001b[39m country_name\u001b[38;5;241m.\u001b[39mstrip()\u001b[38;5;241m.\u001b[39mlower()\n\u001b[1;32m     10\u001b[0m \u001b[38;5;66;03m# Check if the country exists in the dataset\u001b[39;00m\n\u001b[0;32m---> 11\u001b[0m \u001b[38;5;28;01mif\u001b[39;00m country_name \u001b[38;5;129;01mnot\u001b[39;00m \u001b[38;5;129;01min\u001b[39;00m [col\u001b[38;5;241m.\u001b[39mlower() \u001b[38;5;28;01mfor\u001b[39;00m col \u001b[38;5;129;01min\u001b[39;00m \u001b[43mdf\u001b[49m\u001b[38;5;241;43m.\u001b[39;49m\u001b[43mcolumns\u001b[49m\u001b[38;5;241;43m.\u001b[39;49m\u001b[43mget_level_values\u001b[49m\u001b[43m(\u001b[49m\u001b[38;5;241;43m1\u001b[39;49m\u001b[43m)\u001b[49m]:\n\u001b[1;32m     12\u001b[0m     \u001b[38;5;28mprint\u001b[39m(\u001b[38;5;124mf\u001b[39m\u001b[38;5;124m\"\u001b[39m\u001b[38;5;124mCountry \u001b[39m\u001b[38;5;124m'\u001b[39m\u001b[38;5;132;01m{\u001b[39;00mcountry_name\u001b[38;5;132;01m}\u001b[39;00m\u001b[38;5;124m'\u001b[39m\u001b[38;5;124m not found in the dataset.\u001b[39m\u001b[38;5;124m\"\u001b[39m)\n\u001b[1;32m     13\u001b[0m     \u001b[38;5;28;01mreturn\u001b[39;00m\n",
      "File \u001b[0;32m/srv/conda/lib/python3.11/site-packages/pandas/core/indexes/base.py:2102\u001b[0m, in \u001b[0;36mIndex._get_level_values\u001b[0;34m(self, level)\u001b[0m\n\u001b[1;32m   2066\u001b[0m \u001b[38;5;28;01mdef\u001b[39;00m\u001b[38;5;250m \u001b[39m\u001b[38;5;21m_get_level_values\u001b[39m(\u001b[38;5;28mself\u001b[39m, level) \u001b[38;5;241m-\u001b[39m\u001b[38;5;241m>\u001b[39m Index:\n\u001b[1;32m   2067\u001b[0m \u001b[38;5;250m    \u001b[39m\u001b[38;5;124;03m\"\"\"\u001b[39;00m\n\u001b[1;32m   2068\u001b[0m \u001b[38;5;124;03m    Return an Index of values for requested level.\u001b[39;00m\n\u001b[1;32m   2069\u001b[0m \n\u001b[0;32m   (...)\u001b[0m\n\u001b[1;32m   2100\u001b[0m \u001b[38;5;124;03m    Index(['a', 'b', 'c'], dtype='object')\u001b[39;00m\n\u001b[1;32m   2101\u001b[0m \u001b[38;5;124;03m    \"\"\"\u001b[39;00m\n\u001b[0;32m-> 2102\u001b[0m     \u001b[38;5;28;43mself\u001b[39;49m\u001b[38;5;241;43m.\u001b[39;49m\u001b[43m_validate_index_level\u001b[49m\u001b[43m(\u001b[49m\u001b[43mlevel\u001b[49m\u001b[43m)\u001b[49m\n\u001b[1;32m   2103\u001b[0m     \u001b[38;5;28;01mreturn\u001b[39;00m \u001b[38;5;28mself\u001b[39m\n",
      "File \u001b[0;32m/srv/conda/lib/python3.11/site-packages/pandas/core/indexes/base.py:2008\u001b[0m, in \u001b[0;36mIndex._validate_index_level\u001b[0;34m(self, level)\u001b[0m\n\u001b[1;32m   2003\u001b[0m         \u001b[38;5;28;01mraise\u001b[39;00m \u001b[38;5;167;01mIndexError\u001b[39;00m(\n\u001b[1;32m   2004\u001b[0m             \u001b[38;5;124m\"\u001b[39m\u001b[38;5;124mToo many levels: Index has only 1 level, \u001b[39m\u001b[38;5;124m\"\u001b[39m\n\u001b[1;32m   2005\u001b[0m             \u001b[38;5;124mf\u001b[39m\u001b[38;5;124m\"\u001b[39m\u001b[38;5;132;01m{\u001b[39;00mlevel\u001b[38;5;132;01m}\u001b[39;00m\u001b[38;5;124m is not a valid level number\u001b[39m\u001b[38;5;124m\"\u001b[39m\n\u001b[1;32m   2006\u001b[0m         )\n\u001b[1;32m   2007\u001b[0m     \u001b[38;5;28;01mif\u001b[39;00m level \u001b[38;5;241m>\u001b[39m \u001b[38;5;241m0\u001b[39m:\n\u001b[0;32m-> 2008\u001b[0m         \u001b[38;5;28;01mraise\u001b[39;00m \u001b[38;5;167;01mIndexError\u001b[39;00m(\n\u001b[1;32m   2009\u001b[0m             \u001b[38;5;124mf\u001b[39m\u001b[38;5;124m\"\u001b[39m\u001b[38;5;124mToo many levels: Index has only 1 level, not \u001b[39m\u001b[38;5;132;01m{\u001b[39;00mlevel\u001b[38;5;250m \u001b[39m\u001b[38;5;241m+\u001b[39m\u001b[38;5;250m \u001b[39m\u001b[38;5;241m1\u001b[39m\u001b[38;5;132;01m}\u001b[39;00m\u001b[38;5;124m\"\u001b[39m\n\u001b[1;32m   2010\u001b[0m         )\n\u001b[1;32m   2011\u001b[0m \u001b[38;5;28;01melif\u001b[39;00m level \u001b[38;5;241m!=\u001b[39m \u001b[38;5;28mself\u001b[39m\u001b[38;5;241m.\u001b[39mname:\n\u001b[1;32m   2012\u001b[0m     \u001b[38;5;28;01mraise\u001b[39;00m \u001b[38;5;167;01mKeyError\u001b[39;00m(\n\u001b[1;32m   2013\u001b[0m         \u001b[38;5;124mf\u001b[39m\u001b[38;5;124m\"\u001b[39m\u001b[38;5;124mRequested level (\u001b[39m\u001b[38;5;132;01m{\u001b[39;00mlevel\u001b[38;5;132;01m}\u001b[39;00m\u001b[38;5;124m) does not match index name (\u001b[39m\u001b[38;5;132;01m{\u001b[39;00m\u001b[38;5;28mself\u001b[39m\u001b[38;5;241m.\u001b[39mname\u001b[38;5;132;01m}\u001b[39;00m\u001b[38;5;124m)\u001b[39m\u001b[38;5;124m\"\u001b[39m\n\u001b[1;32m   2014\u001b[0m     )\n",
      "\u001b[0;31mIndexError\u001b[0m: Too many levels: Index has only 1 level, not 2"
     ]
    }
   ],
   "source": [
    "# Overlay total population growth for each country over time with crop production index over time\n",
    "\n",
    "def overlay_rural_population_growth_and_crop_index(country_name, df):\n",
    "    \"\"\"\n",
    "    Function to overlay rural population growth and crop production index for a given country.\n",
    "    \"\"\"\n",
    "    # Ensure country_name is in the correct case/format\n",
    "    country_name = country_name.strip().lower()\n",
    "\n",
    "    # Check if the country exists in the dataset\n",
    "    if country_name not in [col.lower() for col in df.columns.get_level_values(1)]:\n",
    "        print(f\"Country '{country_name}' not found in the dataset.\")\n",
    "        return\n",
    "    \n",
    "    # Extract the rural population and crop production index for the country\n",
    "    rural_population = df[('Total Rural Population', country_name)]  # Replace with actual column name for rural population\n",
    "    crop_production_index = df[('Crop Production Index', country_name)]  # Column for crop production index\n",
    "    \n",
    "    # Create a figure\n",
    "    fig, ax1 = plt.subplots(figsize=(12, 6))\n",
    "\n",
    "    # Plot the rural population growth on the left axis\n",
    "    ax1.set_xlabel(\"Year\")\n",
    "    ax1.set_ylabel(\"Rural Population Growth (%)\", color=\"tab:blue\")\n",
    "    ax1.plot(rural_population.index, rural_population, color=\"tab:blue\", label=\"Rural Population Growth\", marker=\"o\")\n",
    "    ax1.tick_params(axis='y', labelcolor=\"tab:blue\")\n",
    "    \n",
    "    # Create a second y-axis to plot the crop production index\n",
    "    ax2 = ax1.twinx()\n",
    "    ax2.set_ylabel(\"Crop Production Index (2014-2016 = 100)\", color=\"tab:red\")\n",
    "    ax2.plot(crop_production_index.index, crop_production_index, color=\"tab:red\", label=\"Crop Production Index\", marker=\"x\")\n",
    "    ax2.tick_params(axis='y', labelcolor=\"tab:red\")\n",
    "    \n",
    "    # Add a title and show the plot\n",
    "    plt.title(f\"Rural Population Growth and Crop Production Index Over Time ({country_name})\")\n",
    "    fig.tight_layout()  # Adjust layout\n",
    "    plt.show()\n",
    "\n",
    "# Example usage: Overlay for a country (e.g., \"India\")\n",
    "overlay_rural_population_growth_and_crop_index(\"India\", SA_ag)"
   ]
  },
  {
   "cell_type": "code",
   "execution_count": null,
   "id": "8f256310-b739-4e86-999b-19fc5c918076",
   "metadata": {},
   "outputs": [],
   "source": [
    "# Overlay total crop production index over time with agriculutral value of worker added"
   ]
  },
  {
   "cell_type": "code",
   "execution_count": null,
   "id": "4e2a753a-6702-42d0-a4da-a40a78501ca0",
   "metadata": {},
   "outputs": [],
   "source": [
    "# Add asymptotes for major technological advancements in the timeline (i.e. new fertiliser, etc.)"
   ]
  }
 ],
 "metadata": {
  "kernelspec": {
   "display_name": "Python 3 (ipykernel)",
   "language": "python",
   "name": "python3"
  },
  "language_info": {
   "codemirror_mode": {
    "name": "ipython",
    "version": 3
   },
   "file_extension": ".py",
   "mimetype": "text/x-python",
   "name": "python",
   "nbconvert_exporter": "python",
   "pygments_lexer": "ipython3",
   "version": "3.11.11"
  }
 },
 "nbformat": 4,
 "nbformat_minor": 5
}
